{
 "cells": [
  {
   "cell_type": "markdown",
   "metadata": {},
   "source": [
    "# py2cytoscape 0.6.0 New Features\n",
    "\n",
    "By Keiichiro Ono (kono ucsd edu)\n",
    "\n",
    "Updated on 7/14/2016\n",
    "\n",
    "## New in 0.6.0\n",
    "* Session Saving and loading API\n",
    "* Bug fixes\n",
    "* Preset layout utility method"
   ]
  },
  {
   "cell_type": "code",
   "execution_count": null,
   "metadata": {
    "collapsed": false
   },
   "outputs": [],
   "source": [
    "!python --version"
   ]
  },
  {
   "cell_type": "code",
   "execution_count": null,
   "metadata": {
    "collapsed": false
   },
   "outputs": [],
   "source": [
    "# Boilerplate: Import required packages\n",
    "from py2cytoscape.data.cyrest_client import CyRestClient\n",
    "from py2cytoscape.data.util_network import NetworkUtil as util\n",
    "import py2cytoscape.cytoscapejs as renderer\n",
    "from IPython.display import Image\n",
    "import networkx as nx\n",
    "from networkx.drawing import nx_pydot as pyd\n",
    "import igraph as ig\n",
    "import numpy as np\n",
    "\n",
    "from py2cytoscape.data.style import StyleUtil\n"
   ]
  },
  {
   "cell_type": "markdown",
   "metadata": {},
   "source": [
    "## Create client and clean up workspace"
   ]
  },
  {
   "cell_type": "code",
   "execution_count": null,
   "metadata": {
    "collapsed": false
   },
   "outputs": [],
   "source": [
    "# Create Client\n",
    "cy = CyRestClient()\n",
    "\n",
    "# Clear current session\n",
    "cy.session.delete()"
   ]
  },
  {
   "cell_type": "markdown",
   "metadata": {},
   "source": [
    "## New: Create network from NumPy *ndarray*\n",
    "\n",
    "Currently supports **undirected** graphs.\n",
    "\n",
    "## Supported data types\n",
    "\n",
    "### 1. Binary matrix (default)\n",
    "If thearay contains only integers 0 or 1, it will be handles as an ***undirected, unweighted graph***.\n",
    "\n",
    "#### How to create graph from ndarray\n",
    "Only upper half of the array will be used for graph generation.  For example this binary array:\n",
    "\n",
    "```\n",
    "0, 1, 1, 0\n",
    "0, 0, 1, 0\n",
    "0, 0, 0, 1\n",
    "0, 0, 0, 0\n",
    "```\n",
    "\n",
    "will create the graph like this:"
   ]
  },
  {
   "cell_type": "code",
   "execution_count": null,
   "metadata": {
    "collapsed": false
   },
   "outputs": [],
   "source": [
    "matrix1 = np.array([\n",
    "    [0, 1, 1, 0],\n",
    "    [0, 0, 1, 0],\n",
    "    [0, 0, 0, 1],\n",
    "    [0, 0, 0, 0]])\n",
    "\n",
    "net1 = cy.network.create_from_ndarray(matrix1, name='binary sample')\n",
    "cy.layout.apply(network=net1)\n",
    "cy.layout.fit(network=net1)"
   ]
  },
  {
   "cell_type": "code",
   "execution_count": null,
   "metadata": {
    "collapsed": false
   },
   "outputs": [],
   "source": [
    "Image(net1.get_png(height=400))"
   ]
  },
  {
   "cell_type": "markdown",
   "metadata": {},
   "source": [
    "### 2. Weights\n",
    "You can also create weighted egdes.  If the matrix contains floating point numbers, it will be handles as an ***undirected, weighted graph***.  In this case, ***numpy.nan*** represents **edge does not exists**.  Again, only upper half of matrix will be used.  "
   ]
  },
  {
   "cell_type": "code",
   "execution_count": null,
   "metadata": {
    "collapsed": false
   },
   "outputs": [],
   "source": [
    "matrix_size = 10\n",
    "weighted = np.empty((matrix_size,matrix_size,))\n",
    "weighted[:] = np.NAN\n",
    "\n",
    "row_idx = 0\n",
    "for row in weighted:\n",
    "    idx = row_idx\n",
    "    while idx < matrix_size:\n",
    "        if idx != row_idx and np.random.randint(2):\n",
    "            weighted[row_idx][idx] = np.random.randn()\n",
    "        idx +=1\n",
    "    row_idx += 1\n",
    "\n",
    "weight_min = weighted.min() \n",
    "weight_max = weighted.max() \n",
    "\n",
    "    \n",
    "net2 = cy.network.create_from_ndarray(weighted, name='weighted sample', weighted=True)\n",
    "cy.layout.apply(network=net2, name=\"kamada-kawai\")\n",
    "cy.layout.fit(network=net2)\n",
    "style_s3 = cy.style.create('Sample3')\n",
    "\n",
    "defaults = {    \n",
    "    'NODE_SIZE': 10,\n",
    "    'NODE_BORDER_WIDTH': 0,\n",
    "    'NODE_LABEL_FONT_SIZE': 24,\n",
    "}\n",
    "style_s3.update_defaults(defaults)\n",
    "\n",
    "score_to_width = StyleUtil.create_slope(min=weight_min, max=weight_max, values=(1, 5))\n",
    "style_s3.create_continuous_mapping(column='weight', vp='EDGE_WIDTH', col_type='Double', points=score_to_width)\n",
    "cy.style.apply(style=style_s3, network=net2)\n",
    "print(weighted)\n"
   ]
  },
  {
   "cell_type": "code",
   "execution_count": null,
   "metadata": {
    "collapsed": false
   },
   "outputs": [],
   "source": [
    "Image(net2.get_png(height=400))"
   ]
  },
  {
   "cell_type": "code",
   "execution_count": null,
   "metadata": {
    "collapsed": false
   },
   "outputs": [],
   "source": [
    "d1 = np.random.randint(2, size=(10, 10))\n",
    "d2 = np.ones((10,10))\n",
    "d3 = np.random.randn(100, 100)\n",
    "# for x in np.nditer(d3, op_flags=['readwrite']):\n",
    "#     if np.random.randint(2):\n",
    "#         x[...] = np.nan\n",
    "print(d3)"
   ]
  },
  {
   "cell_type": "code",
   "execution_count": null,
   "metadata": {
    "collapsed": false
   },
   "outputs": [],
   "source": [
    "cy.network.create_from_ndarray(d1, name=\"Random\")\n",
    "cy.network.create_from_ndarray(d2, name=\"Complete\")\n",
    "cy.network.create_from_ndarray(d3, name=\"Weighted\", weighted=True)"
   ]
  },
  {
   "cell_type": "markdown",
   "metadata": {},
   "source": [
    "## Creating networks with NetworkX and igraph"
   ]
  },
  {
   "cell_type": "code",
   "execution_count": null,
   "metadata": {
    "collapsed": false
   },
   "outputs": [],
   "source": [
    "# Create with NetworkX (Scale-Free graph w/100 nodes)\n",
    "g = nx.powerlaw_cluster_graph(50,4, 0.5)\n",
    "\n",
    "# Calculate some graph statistics\n",
    "deg = nx.degree(g)\n",
    "btw = nx.betweenness_centrality(g)\n",
    "nx.set_node_attributes(g, 'degree', deg)\n",
    "nx.set_node_attributes(g, 'betweenness', btw)\n",
    "\n",
    "# Create with igraph (Tree w/500 nodes)\n",
    "g2 = ig.Graph.Tree(400, 5)"
   ]
  },
  {
   "cell_type": "markdown",
   "metadata": {},
   "source": [
    "## Use 3rd party layout algorithms which does not exists in Cytoscape"
   ]
  },
  {
   "cell_type": "code",
   "execution_count": null,
   "metadata": {
    "collapsed": false
   },
   "outputs": [],
   "source": [
    "# Graphviz Layout\n",
    "n_layout = pyd.graphviz_layout(g, prog='dot')\n",
    "\n",
    "# Reingold-Tilford tree layout with a polar coordinate post-transformation\n",
    "i_layout = g2.layout(\"rt_circular\")\n",
    "i_layout.scale(200)"
   ]
  },
  {
   "cell_type": "code",
   "execution_count": null,
   "metadata": {
    "collapsed": false
   },
   "outputs": [],
   "source": [
    "g_cy = cy.network.create_from_networkx(g)\n",
    "nodes = g_cy.get_nodes()\n",
    "idmap = util.name2suid(g_cy)\n",
    "locations =[]\n",
    "\n",
    "for k in n_layout.keys():\n",
    "    v = n_layout[k]\n",
    "    locations.append([int(idmap[k]), v[0] , v[1]])\n",
    "\n",
    "cy.layout.apply_from_presets(g_cy, positions=locations)\n",
    "cy.layout.bundle_edge(g_cy)\n",
    "my_style = cy.style.create('Curved')\n",
    "cy.style.apply(style=my_style, network=g_cy)"
   ]
  },
  {
   "cell_type": "code",
   "execution_count": null,
   "metadata": {
    "collapsed": false
   },
   "outputs": [],
   "source": [
    "Image(g_cy.get_png(height=2000))"
   ]
  },
  {
   "cell_type": "code",
   "execution_count": null,
   "metadata": {
    "collapsed": false
   },
   "outputs": [],
   "source": [
    "style_for_widget = cy.style.get(my_style.get_name(), data_format='cytoscapejs')\n",
    "renderer.render(g_cy.get_first_view(), style=style_for_widget['style'], background='radial-gradient(#FFD39B 30%, #FFFFFF 105%)')"
   ]
  },
  {
   "cell_type": "code",
   "execution_count": null,
   "metadata": {
    "collapsed": false
   },
   "outputs": [],
   "source": [
    "g2_cy = cy.network.create_from_igraph(g2)\n",
    "nodes = g2_cy.get_nodes()\n",
    "idmap = util.name2suid(g2_cy)\n",
    "locations =[]\n",
    "for i, l in enumerate(i_layout):\n",
    "    locations.append([int(idmap[i]), l[0] , l[1] ])\n",
    "\n",
    "cy.layout.apply_from_presets(g2_cy, positions=locations)\n",
    "style_3 = cy.style.create('Sample3')\n",
    "cy.style.apply(style=style_3, network=g2_cy)\n",
    "cy.layout.bundle_edge(g2_cy)"
   ]
  },
  {
   "cell_type": "code",
   "execution_count": null,
   "metadata": {
    "collapsed": false
   },
   "outputs": [],
   "source": [
    "Image(g2_cy.get_png(height=2000))"
   ]
  },
  {
   "cell_type": "code",
   "execution_count": null,
   "metadata": {
    "collapsed": false
   },
   "outputs": [],
   "source": [
    "\n",
    "renderer.render(g2_cy.get_first_view(), background='radial-gradient(#FFFFFF 10%, #999999 105%)')"
   ]
  },
  {
   "cell_type": "code",
   "execution_count": null,
   "metadata": {
    "collapsed": false
   },
   "outputs": [],
   "source": [
    "# Save the session\n",
    "cy.session.save(file_name='/Users/kono/test34.cys')"
   ]
  },
  {
   "cell_type": "code",
   "execution_count": null,
   "metadata": {
    "collapsed": false
   },
   "outputs": [],
   "source": [
    "cy.session.open(file_name='/Users/kono/test34.cys')"
   ]
  }
 ],
 "metadata": {
  "anaconda-cloud": {},
  "kernelspec": {
   "display_name": "Python [Root]",
   "language": "python",
   "name": "Python [Root]"
  },
  "language_info": {
   "codemirror_mode": {
    "name": "ipython",
    "version": 3
   },
   "file_extension": ".py",
   "mimetype": "text/x-python",
   "name": "python",
   "nbconvert_exporter": "python",
   "pygments_lexer": "ipython3",
   "version": "3.5.2"
  }
 },
 "nbformat": 4,
 "nbformat_minor": 0
}
