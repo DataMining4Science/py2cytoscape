{
 "cells": [
  {
   "cell_type": "code",
   "execution_count": 1,
   "metadata": {
    "collapsed": false
   },
   "outputs": [
    {
     "data": {
      "application/javascript": [
       "if (window['cytoscape'] === undefined) {\n",
       "    var paths = {\n",
       "        cytoscape: 'http://cytoscape.github.io/cytoscape.js/api/cytoscape.js-latest/cytoscape.min'\n",
       "    };\n",
       "\n",
       "    require.config({\n",
       "        paths: paths\n",
       "    });\n",
       "\n",
       "    require(['cytoscape'], function (cytoscape) {\n",
       "        console.log('Loading Cytoscape.js Module...');\n",
       "        window['cytoscape'] = cytoscape;\n",
       "\n",
       "        var event = document.createEvent(\"HTMLEvents\");\n",
       "        event.initEvent(\"load_cytoscape\", true, false);\n",
       "        window.dispatchEvent(event);\n",
       "    });\n",
       "}"
      ],
      "text/plain": [
       "<IPython.core.display.Javascript object>"
      ]
     },
     "metadata": {},
     "output_type": "display_data"
    }
   ],
   "source": [
    "from py2cytoscape.data.cynetwork import CyNetwork\n",
    "from py2cytoscape.data.cyrest_client import CyRestClient\n",
    "from py2cytoscape.data.style import StyleUtil\n",
    "import py2cytoscape.util.cytoscapejs as cyjs\n",
    "import py2cytoscape.cytoscapejs as renderer\n",
    "\n",
    "import networkx as nx\n",
    "import pandas as pd\n",
    "import json"
   ]
  },
  {
   "cell_type": "markdown",
   "metadata": {},
   "source": [
    "## Basic Setup\n",
    "* Load a network from URL"
   ]
  },
  {
   "cell_type": "code",
   "execution_count": 2,
   "metadata": {
    "collapsed": true
   },
   "outputs": [],
   "source": [
    "cy = CyRestClient()\n",
    "\n",
    "# Reset session\n",
    "cy.session.delete()\n",
    "\n",
    "network1 = cy.network.create_from('http://chianti.ucsd.edu/~kono/data/galFiltered.sif')"
   ]
  },
  {
   "cell_type": "markdown",
   "metadata": {},
   "source": [
    "## Get Network View Object"
   ]
  },
  {
   "cell_type": "code",
   "execution_count": 3,
   "metadata": {
    "collapsed": false
   },
   "outputs": [
    {
     "name": "stdout",
     "output_type": "stream",
     "text": [
      "[4997]\n",
      "<py2cytoscape.data.network_view.CyNetworkView object at 0x1147b7650>\n"
     ]
    }
   ],
   "source": [
    "view_id_list = network1.get_views()\n",
    "print(view_id_list)\n",
    "\n",
    "view1 = network1.get_view(view_id_list[0], format='view')\n",
    "\n",
    "# This is a CyNetworkView object, not dictionary\n",
    "print(view1)\n",
    "\n",
    "view2 = network1.get_view(view_id_list[0], format='json')\n",
    "\n",
    "# This contains Cytoscape.js style JSON as a Python dictionary\n",
    "#print(view2)"
   ]
  },
  {
   "cell_type": "code",
   "execution_count": 4,
   "metadata": {
    "collapsed": false
   },
   "outputs": [],
   "source": [
    "# Get views as Python dictionary\n",
    "node_views_dict = view1.get_node_views_as_dict() \n",
    "edge_views_dict = view1.get_edge_views_as_dict() \n",
    "\n",
    "#print(json.dumps(node_views_dict, indent=4))\n",
    "#print(json.dumps(edge_views_dict, indent=4))"
   ]
  },
  {
   "cell_type": "code",
   "execution_count": 5,
   "metadata": {
    "collapsed": false
   },
   "outputs": [
    {
     "name": "stdout",
     "output_type": "stream",
     "text": [
      "#89D0F5\n"
     ]
    }
   ],
   "source": [
    "# Get views as NodeView/EdgeView objects\n",
    "node_views = view1.get_node_views()\n",
    "nv1 = node_views[0]\n",
    "nv1_values = nv1.get_values()\n",
    "\n",
    "#print(json.dumps(nv1_values, indent=4))\n",
    "\n",
    "# Access single value\n",
    "nv1_color = nv1.get_value('NODE_FILL_COLOR')\n",
    "print(nv1_color)"
   ]
  },
  {
   "cell_type": "markdown",
   "metadata": {},
   "source": [
    "## Directly set Visual Property values "
   ]
  },
  {
   "cell_type": "code",
   "execution_count": 6,
   "metadata": {
    "collapsed": false
   },
   "outputs": [],
   "source": [
    "node_ids = network1.get_nodes()\n",
    "\n",
    "# Generate random colors for each node\n",
    "import random\n",
    "\n",
    "def generate_random_color(node_ids):\n",
    "    new_values = {}\n",
    "    for n in node_ids:\n",
    "        r = random.randint(0, 255)\n",
    "        g = random.randint(0, 255)\n",
    "        b = random.randint(0, 255)\n",
    "        new_color = '#' + hex(r)[2:] + hex(g)[2:] + hex(b)[2:]\n",
    "        new_values[n] = new_color\n",
    "    return new_values\n",
    "\n",
    "for i in range(1,100):\n",
    "    view1.update_node_views(visual_property='NODE_FILL_COLOR', values=generate_random_color(node_ids))"
   ]
  },
  {
   "cell_type": "markdown",
   "metadata": {},
   "source": [
    "## Animation!"
   ]
  },
  {
   "cell_type": "code",
   "execution_count": 7,
   "metadata": {
    "collapsed": false
   },
   "outputs": [],
   "source": [
    "def set_value(node_ids, val):\n",
    "    new_values = {}\n",
    "    for n in node_ids:\n",
    "        new_values[n] = val\n",
    "    return new_values\n",
    "\n",
    "import math\n",
    "import time\n",
    "base_size = 30\n",
    "\n",
    "for i in range(1,200):\n",
    "    mult = i * 0.2\n",
    "    view1.update_node_views(visual_property='NODE_TRANSPARENCY', values=set_value(node_ids, 30+abs(math.sin(mult/math.pi)*255 )))\n",
    "    view1.update_node_views(visual_property='NODE_WIDTH', values=set_value(node_ids, base_size + math.sin(i/math.pi)*10 ))\n",
    "    view1.update_node_views(visual_property='NODE_HEIGHT', values=set_value(node_ids, base_size + math.sin(i/math.pi)*10 ))\n",
    "\n",
    "    time.sleep(0.03)"
   ]
  },
  {
   "cell_type": "code",
   "execution_count": 8,
   "metadata": {
    "collapsed": false
   },
   "outputs": [
    {
     "name": "stdout",
     "output_type": "stream",
     "text": [
      "{\n",
      "    \"NETWORK_DEPTH\": 0.0, \n",
      "    \"NETWORK_HEIGHT\": 400.0, \n",
      "    \"NETWORK_EDGE_SELECTION\": true, \n",
      "    \"NETWORK_BACKGROUND_PAINT\": \"#FFFFFF\", \n",
      "    \"NETWORK_CENTER_X_LOCATION\": 120.6561279296875, \n",
      "    \"NETWORK_WIDTH\": 550.0, \n",
      "    \"NETWORK_SIZE\": 550.0, \n",
      "    \"NETWORK_CENTER_Z_LOCATION\": 0.0, \n",
      "    \"NETWORK_SCALE_FACTOR\": 1.0, \n",
      "    \"NETWORK_TITLE\": \"\", \n",
      "    \"NETWORK_CENTER_Y_LOCATION\": -114.6329345703125, \n",
      "    \"NETWORK_NODE_SELECTION\": true\n",
      "}\n"
     ]
    }
   ],
   "source": [
    "network_props = view1.get_network_view_as_dict()\n",
    "print(json.dumps(network_props, indent=4))"
   ]
  },
  {
   "cell_type": "code",
   "execution_count": null,
   "metadata": {
    "collapsed": true
   },
   "outputs": [],
   "source": []
  },
  {
   "cell_type": "code",
   "execution_count": 26,
   "metadata": {
    "collapsed": false
   },
   "outputs": [
    {
     "name": "stdout",
     "output_type": "stream",
     "text": [
      "[4544, 4542, 4540, 4538, 4536, 4534, 4532, 4530, 4910, 4897, 4847, 4799, 4752, 4739, 4737, 4689, 4571, 4562]\n"
     ]
    }
   ],
   "source": [
    "from py2cytoscape.data.util_network import NetworkUtil as util\n",
    "\n",
    "name_map = util.name2suid(network1)\n",
    "center_node = name_map['YMR043W'] \n",
    "\n",
    "node_ids = network1.get_neighbours(center_node)\n",
    "adj_edges = network1.get_adjacent_edges(center_node)\n",
    "print(adj_edges)\n",
    "\n",
    "base_size = 30\n",
    "for i in range(1, 600):\n",
    "    mult = i * 0.2\n",
    "#     view1.update_node_views(visual_property='NODE_TRANSPARENCY', values=set_value(node_ids, 30+abs(math.sin(mult/math.pi)*255 )))\n",
    "    view1.update_node_views(visual_property='NODE_WIDTH', values=set_value(node_ids, base_size + math.sin(i/math.pi)*10 ))\n",
    "    view1.update_node_views(visual_property='NODE_HEIGHT', values=set_value(node_ids, base_size + math.sin(i/math.pi)*10 ))\n",
    "    # FIX CYREST!!!!\n",
    "    view1.update_edge_views(visual_property='EDGE_STROKE_UNSELECTED_PAINT', values=set_value(adj_edges, 'red'))\n",
    "    time.sleep(0.05)"
   ]
  }
 ],
 "metadata": {
  "kernelspec": {
   "display_name": "Python 2",
   "language": "python",
   "name": "python2"
  },
  "language_info": {
   "codemirror_mode": {
    "name": "ipython",
    "version": 2
   },
   "file_extension": ".py",
   "mimetype": "text/x-python",
   "name": "python",
   "nbconvert_exporter": "python",
   "pygments_lexer": "ipython2",
   "version": "2.7.10"
  }
 },
 "nbformat": 4,
 "nbformat_minor": 0
}
