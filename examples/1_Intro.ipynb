{
 "cells": [
  {
   "cell_type": "code",
   "execution_count": null,
   "metadata": {
    "collapsed": false
   },
   "outputs": [],
   "source": [
    "!python --version"
   ]
  },
  {
   "cell_type": "code",
   "execution_count": 1,
   "metadata": {
    "collapsed": false
   },
   "outputs": [],
   "source": [
    "import py2cytoscape\n",
    "from py2cytoscape.data.cyrest_client import CyRestClient\n",
    "\n",
    "cy = CyRestClient(ip='127.0.0.1', port=1234)\n",
    "\n",
    "# 現在のセッションのクリア\n",
    "cy.session.delete()"
   ]
  },
  {
   "cell_type": "code",
   "execution_count": null,
   "metadata": {
    "collapsed": true
   },
   "outputs": [],
   "source": []
  },
  {
   "cell_type": "code",
   "execution_count": null,
   "metadata": {
    "collapsed": true
   },
   "outputs": [],
   "source": [
    "import networkx as nx\n",
    "import igraph as ig\n",
    "\n",
    "g = nx.scale_free_graph(500)\n",
    "deg = nx.degree(g)\n",
    "btw = nx.betweenness_centrality(g)\n",
    "\n",
    "nx.set_node_attributes(g, 'degree', deg)\n",
    "nx.set_node_attributes(g, 'betweenness', btw)\n",
    "\n",
    "g2 = ig.Graph.GRG(100, 0.2)"
   ]
  },
  {
   "cell_type": "code",
   "execution_count": null,
   "metadata": {
    "collapsed": true
   },
   "outputs": [],
   "source": [
    "g_cy = cy.network.create_from_networkx(g)\n",
    "g2_cy = cy.network.create_from_igraph(g2)"
   ]
  },
  {
   "cell_type": "code",
   "execution_count": null,
   "metadata": {
    "collapsed": true
   },
   "outputs": [],
   "source": [
    "cy.layout.apply(name='kamada-kawai', network=g_cy)\n",
    "cy.layout.apply(name='kamada-kawai', network=g2_cy)"
   ]
  },
  {
   "cell_type": "code",
   "execution_count": null,
   "metadata": {
    "collapsed": false
   },
   "outputs": [],
   "source": [
    "# Save the session\n",
    "cy.session.save(file_name='/Users/kono/test34.cys')"
   ]
  }
 ],
 "metadata": {
  "anaconda-cloud": {},
  "kernelspec": {
   "display_name": "Python [Root]",
   "language": "python",
   "name": "Python [Root]"
  },
  "language_info": {
   "codemirror_mode": {
    "name": "ipython",
    "version": 3
   },
   "file_extension": ".py",
   "mimetype": "text/x-python",
   "name": "python",
   "nbconvert_exporter": "python",
   "pygments_lexer": "ipython3",
   "version": "3.5.2"
  }
 },
 "nbformat": 4,
 "nbformat_minor": 0
}
