{
 "cells": [
  {
   "cell_type": "markdown",
   "metadata": {},
   "source": [
    "# Introduction to _py2cytoscape_\n",
    "#### Pythonista-friendly wrapper for cyREST\n",
    "\n",
    "### What is this?\n",
    "From version 0.4.0, ___py2cytoscape___ has wrapper for [cyREST](http://apps.cytoscape.org/apps/cyrest) RESTful API.  This means you can access Cytoscape features in more _Pythonic_ way instead of calling raw REST API via HTTP.  Since [pandas](http://pandas.pydata.org/) is a standard library for data mangling/analysis in Python, this new version uses its [DataFrame](http://pandas.pydata.org/pandas-docs/stable/generated/pandas.DataFrame.html#pandas.DataFrame) as its basic data object.\n",
    "\n",
    "#### Questions or Feature Request\n",
    "Send me an email (kono at ucsd)."
   ]
  },
  {
   "cell_type": "code",
   "execution_count": 1,
   "metadata": {
    "collapsed": false
   },
   "outputs": [],
   "source": [
    "from py2cytoscape.data.cynetwork import CyNetwork\n",
    "from py2cytoscape.data.cyrest_client import CyRestClient\n",
    "import py2cytoscape.util.cytoscapejs as cyjs\n",
    "\n",
    "import networkx as nx\n",
    "import pandas as pd\n",
    "\n",
    "# Create an instance of cyREST client.  Default IP is 'localhost', and port number is 1234.\n",
    "# cy = CyRestClient() - This default constructor creates connection to http://localhost:1234/v1\n",
    "cy = CyRestClient(ip='127.0.0.1', port=1234)\n",
    "\n",
    "# Cleanup\n",
    "cy.network.delete_all()"
   ]
  },
  {
   "cell_type": "markdown",
   "metadata": {},
   "source": [
    "## Creating empty networks\n",
    "Creation will be done by the cyREST client."
   ]
  },
  {
   "cell_type": "code",
   "execution_count": 2,
   "metadata": {
    "collapsed": false
   },
   "outputs": [],
   "source": [
    "# Empty network\n",
    "empty1 = cy.network.create()\n",
    "\n",
    "# With name\n",
    "empty2 = cy.network.create(name='Created in Jupyter Notebook')\n",
    "\n",
    "# With name and collection name\n",
    "empty3 = cy.network.create(name='Also created in Jupyter', collection='New network collection')"
   ]
  },
  {
   "cell_type": "markdown",
   "metadata": {},
   "source": [
    "## Create networks from various types of data\n",
    "Currently, py2cytoscape accepts the following data as input:\n",
    "\n",
    "* Cytoscape.js\n",
    "* NetworkX\n",
    "* Pandas DataFrame\n",
    "* igraph\n",
    "* Numpy adjacency matrix (binary or weighted)\n",
    "* GraphX (TBD)"
   ]
  },
  {
   "cell_type": "code",
   "execution_count": 3,
   "metadata": {
    "collapsed": false
   },
   "outputs": [],
   "source": [
    "# Cytoscape.js JSON\n",
    "n1 = cy.network.create(data=cyjs.get_empty_network(), name='Created from Cytoscape.js JSON')\n",
    "\n",
    "# Pandas DataFrame\n",
    "df_from_sif = pd.read_csv('../tests/data/galFiltered.sif', names=['source', 'interaction', 'target'], sep=' ')\n",
    "yeast1 = cy.network.create_from_dataframe(df_from_sif, name='Yeast network created from pandas DataFrame')\n",
    "\n",
    "# NetworkX\n",
    "nx_graph  = nx.scale_free_graph(100)\n",
    "nx.set_node_attributes(nx_graph, 'Degree', nx.degree(nx_graph))\n",
    "nx.set_node_attributes(nx_graph, 'Betweenness_Centrality', nx.betweenness_centrality(nx_graph))\n",
    "scale_free100 = cy.network.create_from_networkx(nx_graph)\n",
    "\n",
    "# TODO: igraph\n",
    "# TODO: Numpy adj. martix\n",
    "# TODO: GraphX"
   ]
  },
  {
   "cell_type": "markdown",
   "metadata": {},
   "source": [
    "## Working with CyNetwork API\n",
    "___CyNetwork___ class is a simple wrapper to cyREST raw REST API.  __It does not hold the actual network data.  It's a reference to a network in current Cytoscape session__.  With CyNetwork API, you can access Cytoscape data objects in more Pythonista-friendly way."
   ]
  },
  {
   "cell_type": "code",
   "execution_count": 4,
   "metadata": {
    "collapsed": false
   },
   "outputs": [
    {
     "name": "stdout",
     "output_type": "stream",
     "text": [
      "This object references to Cytoscape network with SUID 108649\n",
      "\n",
      "And its name is: Yeast network created from pandas DataFrame\n",
      "\n",
      "SUID            108659\n",
      "id             YKR026C\n",
      "name           YKR026C\n",
      "selected         False\n",
      "shared_name    YKR026C\n",
      "dtype: object\n",
      "\n",
      "This node has name: YKR026C\n"
     ]
    }
   ],
   "source": [
    "network_suid = yeast1.get_id()\n",
    "print('This object references to Cytoscape network with SUID ' + str(network_suid) + '\\n')\n",
    "print('And its name is: ' + yeast1.get_network_value(column='name') + '\\n')\n",
    "\n",
    "nodes = yeast1.get_nodes()\n",
    "\n",
    "# Get a row in the node table as pandas Series object\n",
    "node0 = nodes[0]\n",
    "row = yeast1.get_node_value(id=node0)\n",
    "print(row)\n",
    "\n",
    "# Or, pick one cell in the table\n",
    "cell = yeast1.get_node_value(id=node0, column='name')\n",
    "print('\\nThis node has name: ' + cell) "
   ]
  },
  {
   "cell_type": "markdown",
   "metadata": {},
   "source": [
    "### Get references to existing networks\n",
    "And of course, you can grab references to existing Cytoscape networks:"
   ]
  },
  {
   "cell_type": "code",
   "execution_count": 5,
   "metadata": {
    "collapsed": false
   },
   "outputs": [
    {
     "name": "stdout",
     "output_type": "stream",
     "text": [
      "True\n",
      "Yeast network created from pandas DataFrame\n"
     ]
    }
   ],
   "source": [
    "# Create a new CyNetwork object from existing network\n",
    "network_ref1 = cy.network.create(suid=yeast1.get_id())\n",
    "\n",
    "# And they are considered as same objects.\n",
    "print(network_ref1 == yeast1)\n",
    "print(network_ref1.get_network_value(column='name'))"
   ]
  },
  {
   "cell_type": "markdown",
   "metadata": {},
   "source": [
    "----\n",
    "## Network Topology Modification\n",
    "(TBD)\n",
    "\n",
    "----"
   ]
  },
  {
   "cell_type": "markdown",
   "metadata": {},
   "source": [
    "## Tables as DataFrame\n",
    "Cytoscape has two main data types: ___Network___ and ___Table___.  Network is the graph topology, and Tables are properties for those graphs.  For simplicity, this library has access to three basic table objects:\n",
    "\n",
    "* Node Table\n",
    "* Edge Table\n",
    "* Network Table\n",
    "\n",
    "For 99% of your use cases, you can use these three to store properties.  Since [pandas](http://pandas.pydata.org/) is extremely useful to handle table data, default data type for tables is __DataFrame__.  However, you can also use other data types including:\n",
    "\n",
    "* Cytoscape.js style JSON\n",
    "* CSV\n",
    "* TSV\n",
    "* CX (TBD)"
   ]
  },
  {
   "cell_type": "code",
   "execution_count": 6,
   "metadata": {
    "collapsed": false
   },
   "outputs": [],
   "source": [
    "# Get table  from Cytoscape\n",
    "node_table = scale_free100.get_node_table()\n",
    "edge_table = scale_free100.get_edge_table()\n",
    "network_table = scale_free100.get_network_table()"
   ]
  },
  {
   "cell_type": "code",
   "execution_count": 7,
   "metadata": {
    "collapsed": false
   },
   "outputs": [
    {
     "data": {
      "text/html": [
       "<div style=\"max-height:1000px;max-width:1500px;overflow:auto;\">\n",
       "<table border=\"1\" class=\"dataframe\">\n",
       "  <thead>\n",
       "    <tr style=\"text-align: right;\">\n",
       "      <th></th>\n",
       "      <th>shared name</th>\n",
       "      <th>id</th>\n",
       "      <th>name</th>\n",
       "      <th>selected</th>\n",
       "      <th>Degree</th>\n",
       "      <th>Betweenness_Centrality</th>\n",
       "    </tr>\n",
       "    <tr>\n",
       "      <th>SUID</th>\n",
       "      <th></th>\n",
       "      <th></th>\n",
       "      <th></th>\n",
       "      <th></th>\n",
       "      <th></th>\n",
       "      <th></th>\n",
       "    </tr>\n",
       "  </thead>\n",
       "  <tbody>\n",
       "    <tr>\n",
       "      <th>110057</th>\n",
       "      <td> 0</td>\n",
       "      <td> 0</td>\n",
       "      <td> 0</td>\n",
       "      <td> False</td>\n",
       "      <td> 48</td>\n",
       "      <td> 0.053503</td>\n",
       "    </tr>\n",
       "    <tr>\n",
       "      <th>110058</th>\n",
       "      <td> 1</td>\n",
       "      <td> 1</td>\n",
       "      <td> 1</td>\n",
       "      <td> False</td>\n",
       "      <td> 28</td>\n",
       "      <td> 0.057024</td>\n",
       "    </tr>\n",
       "    <tr>\n",
       "      <th>110059</th>\n",
       "      <td> 2</td>\n",
       "      <td> 2</td>\n",
       "      <td> 2</td>\n",
       "      <td> False</td>\n",
       "      <td> 69</td>\n",
       "      <td> 0.047473</td>\n",
       "    </tr>\n",
       "    <tr>\n",
       "      <th>110060</th>\n",
       "      <td> 3</td>\n",
       "      <td> 3</td>\n",
       "      <td> 3</td>\n",
       "      <td> False</td>\n",
       "      <td> 18</td>\n",
       "      <td> 0.013674</td>\n",
       "    </tr>\n",
       "    <tr>\n",
       "      <th>110061</th>\n",
       "      <td> 4</td>\n",
       "      <td> 4</td>\n",
       "      <td> 4</td>\n",
       "      <td> False</td>\n",
       "      <td>  6</td>\n",
       "      <td> 0.002680</td>\n",
       "    </tr>\n",
       "  </tbody>\n",
       "</table>\n",
       "</div>"
      ],
      "text/plain": [
       "        shared name  id  name selected  Degree  Betweenness_Centrality\n",
       "SUID                                                                  \n",
       "110057            0   0     0    False      48                0.053503\n",
       "110058            1   1     1    False      28                0.057024\n",
       "110059            2   2     2    False      69                0.047473\n",
       "110060            3   3     3    False      18                0.013674\n",
       "110061            4   4     4    False       6                0.002680"
      ]
     },
     "execution_count": 7,
     "metadata": {},
     "output_type": "execute_result"
    }
   ],
   "source": [
    "node_table.head()"
   ]
  },
  {
   "cell_type": "code",
   "execution_count": 8,
   "metadata": {
    "collapsed": false
   },
   "outputs": [
    {
     "data": {
      "text/html": [
       "<div style=\"max-height:1000px;max-width:1500px;overflow:auto;\">\n",
       "<table border=\"1\" class=\"dataframe\">\n",
       "  <thead>\n",
       "    <tr style=\"text-align: right;\">\n",
       "      <th>SUID</th>\n",
       "      <th>110047</th>\n",
       "    </tr>\n",
       "  </thead>\n",
       "  <tbody>\n",
       "    <tr>\n",
       "      <th>shared name</th>\n",
       "      <td> directed_scale_free_graph(100,alpha=0.41,beta=...</td>\n",
       "    </tr>\n",
       "    <tr>\n",
       "      <th>name</th>\n",
       "      <td> directed_scale_free_graph(100,alpha=0.41,beta=...</td>\n",
       "    </tr>\n",
       "    <tr>\n",
       "      <th>selected</th>\n",
       "      <td>                                              True</td>\n",
       "    </tr>\n",
       "    <tr>\n",
       "      <th>__Annotations</th>\n",
       "      <td>                                               NaN</td>\n",
       "    </tr>\n",
       "  </tbody>\n",
       "</table>\n",
       "</div>"
      ],
      "text/plain": [
       "SUID                                                      110047\n",
       "shared name    directed_scale_free_graph(100,alpha=0.41,beta=...\n",
       "name           directed_scale_free_graph(100,alpha=0.41,beta=...\n",
       "selected                                                    True\n",
       "__Annotations                                                NaN"
      ]
     },
     "execution_count": 8,
     "metadata": {},
     "output_type": "execute_result"
    }
   ],
   "source": [
    "network_table.transpose().head()"
   ]
  },
  {
   "cell_type": "markdown",
   "metadata": {},
   "source": [
    "## Update Table\n",
    "Let's do something a bit more realistic.  You can update any Tables by using DataFrame objects.\n",
    "\n",
    "### 1. ID conversion with external service\n",
    "Let's use [ID Conversion web service by Uniprot](http://www.uniprot.org/help/programmatic_access) to add more information to existing yeast network in current session."
   ]
  },
  {
   "cell_type": "code",
   "execution_count": 9,
   "metadata": {
    "collapsed": false
   },
   "outputs": [],
   "source": [
    "# Small utility function to convert ID sets\n",
    "import requests\n",
    "import StringIO\n",
    "\n",
    "def uniprot_id_mapping_service(query=None, from_id=None, to_id=None):\n",
    "    # Uniprot ID Mapping service\n",
    "    url = 'http://www.uniprot.org/mapping/'\n",
    "    payload = {\n",
    "        'from': from_id,\n",
    "        'to': to_id,\n",
    "        'format':'tab',\n",
    "        'query': query\n",
    "    }\n",
    "    res = StringIO.StringIO(requests.get(url, params=payload).content)\n",
    "    df = pd.read_csv(res, sep='\\t')\n",
    "    res.close()\n",
    "    return df"
   ]
  },
  {
   "cell_type": "code",
   "execution_count": 15,
   "metadata": {
    "collapsed": false
   },
   "outputs": [
    {
     "data": {
      "text/html": [
       "<div style=\"max-height:1000px;max-width:1500px;overflow:auto;\">\n",
       "<table border=\"1\" class=\"dataframe\">\n",
       "  <thead>\n",
       "    <tr style=\"text-align: right;\">\n",
       "      <th></th>\n",
       "      <th>kegg</th>\n",
       "      <th>uniprot</th>\n",
       "      <th>sgd</th>\n",
       "      <th>entrez</th>\n",
       "      <th>name</th>\n",
       "    </tr>\n",
       "  </thead>\n",
       "  <tbody>\n",
       "    <tr>\n",
       "      <th>0</th>\n",
       "      <td> sce:YKR026C</td>\n",
       "      <td> EI2BA_YEAST</td>\n",
       "      <td> S000001734</td>\n",
       "      <td> 853896</td>\n",
       "      <td> YKR026C</td>\n",
       "    </tr>\n",
       "    <tr>\n",
       "      <th>1</th>\n",
       "      <td> sce:YGL122C</td>\n",
       "      <td>  NAB2_YEAST</td>\n",
       "      <td> S000003090</td>\n",
       "      <td> 852755</td>\n",
       "      <td> YGL122C</td>\n",
       "    </tr>\n",
       "    <tr>\n",
       "      <th>2</th>\n",
       "      <td> sce:YGR218W</td>\n",
       "      <td>  XPO1_YEAST</td>\n",
       "      <td> S000003450</td>\n",
       "      <td> 853133</td>\n",
       "      <td> YGR218W</td>\n",
       "    </tr>\n",
       "    <tr>\n",
       "      <th>3</th>\n",
       "      <td> sce:YGL097W</td>\n",
       "      <td>  RCC1_YEAST</td>\n",
       "      <td> S000003065</td>\n",
       "      <td> 852782</td>\n",
       "      <td> YGL097W</td>\n",
       "    </tr>\n",
       "    <tr>\n",
       "      <th>4</th>\n",
       "      <td> sce:YOR204W</td>\n",
       "      <td>  DED1_YEAST</td>\n",
       "      <td> S000005730</td>\n",
       "      <td> 854379</td>\n",
       "      <td> YOR204W</td>\n",
       "    </tr>\n",
       "  </tbody>\n",
       "</table>\n",
       "</div>"
      ],
      "text/plain": [
       "          kegg      uniprot         sgd  entrez     name\n",
       "0  sce:YKR026C  EI2BA_YEAST  S000001734  853896  YKR026C\n",
       "1  sce:YGL122C   NAB2_YEAST  S000003090  852755  YGL122C\n",
       "2  sce:YGR218W   XPO1_YEAST  S000003450  853133  YGR218W\n",
       "3  sce:YGL097W   RCC1_YEAST  S000003065  852782  YGL097W\n",
       "4  sce:YOR204W   DED1_YEAST  S000005730  854379  YOR204W"
      ]
     },
     "execution_count": 15,
     "metadata": {},
     "output_type": "execute_result"
    }
   ],
   "source": [
    "# Get node table from Cytoscape\n",
    "yeast_node_table = yeast1.get_node_table()\n",
    "\n",
    "# From KEGG ID to UniprotKB ID\n",
    "query1 = ' '.join(yeast_node_table['name'].map(lambda gene_id: 'sce:' + gene_id).values)\n",
    "id_map_kegg2uniprot = uniprot_id_mapping_service(query1, from_id='KEGG_ID', to_id='ID')\n",
    "id_map_kegg2uniprot.columns = ['kegg', 'uniprot']\n",
    "\n",
    "# From UniprotKB to SGD\n",
    "query2 = ' '.join(id_map_kegg2uniprot['uniprot'].values)\n",
    "id_map_uniprot2sgd = uniprot_id_mapping_service(query2, from_id='ID', to_id='SGD_ID')\n",
    "id_map_uniprot2sgd.columns = ['uniprot', 'sgd']\n",
    "\n",
    "# From UniprotKB to Entrez Gene ID\n",
    "query3 = ' '.join(id_map_kegg2uniprot['uniprot'].values)\n",
    "id_map_uniprot2ncbi = uniprot_id_mapping_service(query3, from_id='ID', to_id='P_ENTREZGENEID')\n",
    "id_map_uniprot2ncbi.columns = ['uniprot', 'entrez']\n",
    "\n",
    "# Merge them\n",
    "merged = pd.merge(id_map_kegg2uniprot, id_map_uniprot2sgd, on='uniprot')\n",
    "merged = pd.merge(merged, id_map_uniprot2ncbi, on='uniprot')\n",
    "\n",
    "# Add key column by removing prefix\n",
    "merged['name'] = merged['kegg'].map(lambda kegg_id : kegg_id[4:])\n",
    "merged.head()"
   ]
  },
  {
   "cell_type": "code",
   "execution_count": 11,
   "metadata": {
    "collapsed": false
   },
   "outputs": [
    {
     "data": {
      "text/html": [
       "<div style=\"max-height:1000px;max-width:1500px;overflow:auto;\">\n",
       "<table border=\"1\" class=\"dataframe\">\n",
       "  <thead>\n",
       "    <tr style=\"text-align: right;\">\n",
       "      <th></th>\n",
       "      <th>shared name</th>\n",
       "      <th>name</th>\n",
       "      <th>selected</th>\n",
       "      <th>id</th>\n",
       "      <th>Degree</th>\n",
       "      <th>Betweenness_Centrality</th>\n",
       "      <th>kegg</th>\n",
       "      <th>entrez</th>\n",
       "      <th>sgd</th>\n",
       "      <th>uniprot</th>\n",
       "    </tr>\n",
       "    <tr>\n",
       "      <th>SUID</th>\n",
       "      <th></th>\n",
       "      <th></th>\n",
       "      <th></th>\n",
       "      <th></th>\n",
       "      <th></th>\n",
       "      <th></th>\n",
       "      <th></th>\n",
       "      <th></th>\n",
       "      <th></th>\n",
       "      <th></th>\n",
       "    </tr>\n",
       "  </thead>\n",
       "  <tbody>\n",
       "    <tr>\n",
       "      <th>108659</th>\n",
       "      <td> YKR026C</td>\n",
       "      <td> YKR026C</td>\n",
       "      <td> False</td>\n",
       "      <td> YKR026C</td>\n",
       "      <td>NaN</td>\n",
       "      <td>NaN</td>\n",
       "      <td> sce:YKR026C</td>\n",
       "      <td> 853896</td>\n",
       "      <td> S000001734</td>\n",
       "      <td> EI2BA_YEAST</td>\n",
       "    </tr>\n",
       "    <tr>\n",
       "      <th>108660</th>\n",
       "      <td> YGL122C</td>\n",
       "      <td> YGL122C</td>\n",
       "      <td> False</td>\n",
       "      <td> YGL122C</td>\n",
       "      <td>NaN</td>\n",
       "      <td>NaN</td>\n",
       "      <td> sce:YGL122C</td>\n",
       "      <td> 852755</td>\n",
       "      <td> S000003090</td>\n",
       "      <td>  NAB2_YEAST</td>\n",
       "    </tr>\n",
       "    <tr>\n",
       "      <th>108661</th>\n",
       "      <td> YGR218W</td>\n",
       "      <td> YGR218W</td>\n",
       "      <td> False</td>\n",
       "      <td> YGR218W</td>\n",
       "      <td>NaN</td>\n",
       "      <td>NaN</td>\n",
       "      <td> sce:YGR218W</td>\n",
       "      <td> 853133</td>\n",
       "      <td> S000003450</td>\n",
       "      <td>  XPO1_YEAST</td>\n",
       "    </tr>\n",
       "    <tr>\n",
       "      <th>108662</th>\n",
       "      <td> YGL097W</td>\n",
       "      <td> YGL097W</td>\n",
       "      <td> False</td>\n",
       "      <td> YGL097W</td>\n",
       "      <td>NaN</td>\n",
       "      <td>NaN</td>\n",
       "      <td> sce:YGL097W</td>\n",
       "      <td> 852782</td>\n",
       "      <td> S000003065</td>\n",
       "      <td>  RCC1_YEAST</td>\n",
       "    </tr>\n",
       "    <tr>\n",
       "      <th>108663</th>\n",
       "      <td> YOR204W</td>\n",
       "      <td> YOR204W</td>\n",
       "      <td> False</td>\n",
       "      <td> YOR204W</td>\n",
       "      <td>NaN</td>\n",
       "      <td>NaN</td>\n",
       "      <td> sce:YOR204W</td>\n",
       "      <td> 854379</td>\n",
       "      <td> S000005730</td>\n",
       "      <td>  DED1_YEAST</td>\n",
       "    </tr>\n",
       "  </tbody>\n",
       "</table>\n",
       "</div>"
      ],
      "text/plain": [
       "       shared name     name selected       id  Degree  Betweenness_Centrality  \\\n",
       "SUID                                                                            \n",
       "108659     YKR026C  YKR026C    False  YKR026C     NaN                     NaN   \n",
       "108660     YGL122C  YGL122C    False  YGL122C     NaN                     NaN   \n",
       "108661     YGR218W  YGR218W    False  YGR218W     NaN                     NaN   \n",
       "108662     YGL097W  YGL097W    False  YGL097W     NaN                     NaN   \n",
       "108663     YOR204W  YOR204W    False  YOR204W     NaN                     NaN   \n",
       "\n",
       "               kegg  entrez         sgd      uniprot  \n",
       "SUID                                                  \n",
       "108659  sce:YKR026C  853896  S000001734  EI2BA_YEAST  \n",
       "108660  sce:YGL122C  852755  S000003090   NAB2_YEAST  \n",
       "108661  sce:YGR218W  853133  S000003450   XPO1_YEAST  \n",
       "108662  sce:YGL097W  852782  S000003065   RCC1_YEAST  \n",
       "108663  sce:YOR204W  854379  S000005730   DED1_YEAST  "
      ]
     },
     "execution_count": 11,
     "metadata": {},
     "output_type": "execute_result"
    }
   ],
   "source": [
    "# Now update existing node table with the data frame above.\n",
    "yeast1.update_node_table(merged, network_key_col='name', data_key_col='name')\n",
    "\n",
    "# Check the table is actually updated\n",
    "yeast1.get_node_table().head()"
   ]
  },
  {
   "cell_type": "markdown",
   "metadata": {},
   "source": [
    "## Create / Delete Table Data\n",
    "Currently, ___you cannot delete the table or rows___ due to the Cytoscape data model design.  However, it is easy to create / delete columns:"
   ]
  },
  {
   "cell_type": "code",
   "execution_count": 12,
   "metadata": {
    "collapsed": false
   },
   "outputs": [
    {
     "data": {
      "text/html": [
       "<div style=\"max-height:1000px;max-width:1500px;overflow:auto;\">\n",
       "<table border=\"1\" class=\"dataframe\">\n",
       "  <thead>\n",
       "    <tr style=\"text-align: right;\">\n",
       "      <th></th>\n",
       "      <th>shared name</th>\n",
       "      <th>name</th>\n",
       "      <th>selected</th>\n",
       "      <th>id</th>\n",
       "      <th>kegg</th>\n",
       "      <th>entrez</th>\n",
       "      <th>sgd</th>\n",
       "      <th>uniprot</th>\n",
       "      <th>New Empty Double Column</th>\n",
       "      <th>Empty String Col</th>\n",
       "    </tr>\n",
       "    <tr>\n",
       "      <th>SUID</th>\n",
       "      <th></th>\n",
       "      <th></th>\n",
       "      <th></th>\n",
       "      <th></th>\n",
       "      <th></th>\n",
       "      <th></th>\n",
       "      <th></th>\n",
       "      <th></th>\n",
       "      <th></th>\n",
       "      <th></th>\n",
       "    </tr>\n",
       "  </thead>\n",
       "  <tbody>\n",
       "    <tr>\n",
       "      <th>108659</th>\n",
       "      <td> YKR026C</td>\n",
       "      <td> YKR026C</td>\n",
       "      <td> False</td>\n",
       "      <td> YKR026C</td>\n",
       "      <td> sce:YKR026C</td>\n",
       "      <td> 853896</td>\n",
       "      <td> S000001734</td>\n",
       "      <td> EI2BA_YEAST</td>\n",
       "      <td>NaN</td>\n",
       "      <td>NaN</td>\n",
       "    </tr>\n",
       "    <tr>\n",
       "      <th>108660</th>\n",
       "      <td> YGL122C</td>\n",
       "      <td> YGL122C</td>\n",
       "      <td> False</td>\n",
       "      <td> YGL122C</td>\n",
       "      <td> sce:YGL122C</td>\n",
       "      <td> 852755</td>\n",
       "      <td> S000003090</td>\n",
       "      <td>  NAB2_YEAST</td>\n",
       "      <td>NaN</td>\n",
       "      <td>NaN</td>\n",
       "    </tr>\n",
       "    <tr>\n",
       "      <th>108661</th>\n",
       "      <td> YGR218W</td>\n",
       "      <td> YGR218W</td>\n",
       "      <td> False</td>\n",
       "      <td> YGR218W</td>\n",
       "      <td> sce:YGR218W</td>\n",
       "      <td> 853133</td>\n",
       "      <td> S000003450</td>\n",
       "      <td>  XPO1_YEAST</td>\n",
       "      <td>NaN</td>\n",
       "      <td>NaN</td>\n",
       "    </tr>\n",
       "    <tr>\n",
       "      <th>108662</th>\n",
       "      <td> YGL097W</td>\n",
       "      <td> YGL097W</td>\n",
       "      <td> False</td>\n",
       "      <td> YGL097W</td>\n",
       "      <td> sce:YGL097W</td>\n",
       "      <td> 852782</td>\n",
       "      <td> S000003065</td>\n",
       "      <td>  RCC1_YEAST</td>\n",
       "      <td>NaN</td>\n",
       "      <td>NaN</td>\n",
       "    </tr>\n",
       "    <tr>\n",
       "      <th>108663</th>\n",
       "      <td> YOR204W</td>\n",
       "      <td> YOR204W</td>\n",
       "      <td> False</td>\n",
       "      <td> YOR204W</td>\n",
       "      <td> sce:YOR204W</td>\n",
       "      <td> 854379</td>\n",
       "      <td> S000005730</td>\n",
       "      <td>  DED1_YEAST</td>\n",
       "      <td>NaN</td>\n",
       "      <td>NaN</td>\n",
       "    </tr>\n",
       "  </tbody>\n",
       "</table>\n",
       "</div>"
      ],
      "text/plain": [
       "       shared name     name selected       id         kegg  entrez  \\\n",
       "SUID                                                                 \n",
       "108659     YKR026C  YKR026C    False  YKR026C  sce:YKR026C  853896   \n",
       "108660     YGL122C  YGL122C    False  YGL122C  sce:YGL122C  852755   \n",
       "108661     YGR218W  YGR218W    False  YGR218W  sce:YGR218W  853133   \n",
       "108662     YGL097W  YGL097W    False  YGL097W  sce:YGL097W  852782   \n",
       "108663     YOR204W  YOR204W    False  YOR204W  sce:YOR204W  854379   \n",
       "\n",
       "               sgd      uniprot  New Empty Double Column  Empty String Col  \n",
       "SUID                                                                        \n",
       "108659  S000001734  EI2BA_YEAST                      NaN               NaN  \n",
       "108660  S000003090   NAB2_YEAST                      NaN               NaN  \n",
       "108661  S000003450   XPO1_YEAST                      NaN               NaN  \n",
       "108662  S000003065   RCC1_YEAST                      NaN               NaN  \n",
       "108663  S000005730   DED1_YEAST                      NaN               NaN  "
      ]
     },
     "execution_count": 12,
     "metadata": {},
     "output_type": "execute_result"
    }
   ],
   "source": [
    "# Delete columns\n",
    "yeast1.delete_node_table_column('Degree')\n",
    "yeast1.delete_node_table_column('Betweenness_Centrality')\n",
    "\n",
    "# Create columns\n",
    "yeast1.create_node_column(name='New Empty Double Column', data_type='Double', is_immutable=False, is_list=False)\n",
    "\n",
    "# Default is String, mutable column.\n",
    "yeast1.create_node_column(name='Empty String Col')\n",
    "\n",
    "yeast1.get_node_table().head()"
   ]
  },
  {
   "cell_type": "markdown",
   "metadata": {},
   "source": [
    "## Visual Styles\n",
    "(TBD)"
   ]
  },
  {
   "cell_type": "code",
   "execution_count": 13,
   "metadata": {
    "collapsed": true
   },
   "outputs": [],
   "source": [
    "# style1 = cy.style.create('My Style')\n",
    "# style1.create_descrete_mapping(data_type='node', column='type', visual_property='NODE_SHAPE', mapping=dict_map)"
   ]
  },
  {
   "cell_type": "markdown",
   "metadata": {},
   "source": [
    "## Algorithmic resources\n",
    "(TBD)"
   ]
  },
  {
   "cell_type": "code",
   "execution_count": 14,
   "metadata": {
    "collapsed": true
   },
   "outputs": [],
   "source": [
    "# Apply layout\n",
    "# cy.layout.apply('layout_algorithm_name', network)"
   ]
  }
 ],
 "metadata": {
  "kernelspec": {
   "display_name": "Python 2",
   "language": "python",
   "name": "python2"
  },
  "language_info": {
   "codemirror_mode": {
    "name": "ipython",
    "version": 2
   },
   "file_extension": ".py",
   "mimetype": "text/x-python",
   "name": "python",
   "nbconvert_exporter": "python",
   "pygments_lexer": "ipython2",
   "version": "2.7.9"
  }
 },
 "nbformat": 4,
 "nbformat_minor": 0
}
