{
 "cells": [
  {
   "cell_type": "markdown",
   "metadata": {},
   "source": [
    "# Introduction to _py2cytoscape_: Pythonista-friendly wrapper for cyREST\n",
    "\n",
    "![](http://cl.ly/XohP/logo300.png)\n",
    "\n",
    "<h1 align=\"center\">For</h1> \n",
    "\n",
    "![](https://www.python.org/static/community_logos/python-logo-master-v3-TM.png)\n",
    "\n",
    "by [Keiichiro Ono](http://keiono.github.io/) - University of California, San Diego [Trey Ideker Lab](http://healthsciences.ucsd.edu/som/medicine/research/labs/ideker/Pages/default.aspx)\n",
    "\n",
    "## Requirments\n",
    "* Java 8\n",
    "* Cytoscape 3.2.1+\n",
    "* cyREST 1.1.0+\n",
    "* py2cytoscape 0.4.2+\n",
    "\n",
    "----\n",
    "\n",
    "## Q. What is _py2cytoscape_?\n",
    "## A. A Python package to drive Cytoscape in pythonic way"
   ]
  },
  {
   "cell_type": "markdown",
   "metadata": {},
   "source": [
    "# In a Nutshell..."
   ]
  },
  {
   "cell_type": "code",
   "execution_count": 1,
   "metadata": {
    "collapsed": false
   },
   "outputs": [
    {
     "data": {
      "application/javascript": [
       "if (window['cytoscape'] === undefined) {\n",
       "    var paths = {\n",
       "        cytoscape: 'http://cytoscape.github.io/cytoscape.js/api/cytoscape.js-latest/cytoscape.min'\n",
       "    };\n",
       "\n",
       "    require.config({\n",
       "        paths: paths\n",
       "    });\n",
       "\n",
       "    require(['cytoscape'], function (cytoscape) {\n",
       "        console.log('Loading Cytoscape.js Module...');\n",
       "        window['cytoscape'] = cytoscape;\n",
       "\n",
       "        var event = document.createEvent(\"HTMLEvents\");\n",
       "        event.initEvent(\"load_cytoscape\", true, false);\n",
       "        window.dispatchEvent(event);\n",
       "    });\n",
       "}"
      ],
      "text/plain": [
       "<IPython.core.display.Javascript object>"
      ]
     },
     "metadata": {},
     "output_type": "display_data"
    }
   ],
   "source": [
    "from py2cytoscape.data.cynetwork import CyNetwork\n",
    "from py2cytoscape.data.cyrest_client import CyRestClient\n",
    "from py2cytoscape.data.style import StyleUtil\n",
    "import py2cytoscape.util.cytoscapejs as cyjs\n",
    "import py2cytoscape.cytoscapejs as renderer\n",
    "\n",
    "import networkx as nx\n",
    "import pandas as pd\n",
    "import json"
   ]
  },
  {
   "cell_type": "code",
   "execution_count": 2,
   "metadata": {
    "collapsed": false
   },
   "outputs": [
    {
     "data": {
      "text/html": [
       "<div>\n",
       "<table border=\"1\" class=\"dataframe\">\n",
       "  <thead>\n",
       "    <tr style=\"text-align: right;\">\n",
       "      <th></th>\n",
       "      <th>alias</th>\n",
       "      <th>annotation.DB_Object_Name</th>\n",
       "      <th>annotation.GO BIOLOGICAL_PROCESS</th>\n",
       "      <th>annotation.GO CELLULAR_COMPONENT</th>\n",
       "      <th>annotation.GO MOLECULAR_FUNCTION</th>\n",
       "      <th>label</th>\n",
       "      <th>kegg</th>\n",
       "      <th>uniprot</th>\n",
       "      <th>sgd</th>\n",
       "      <th>entrez</th>\n",
       "    </tr>\n",
       "  </thead>\n",
       "  <tbody>\n",
       "    <tr>\n",
       "      <th>YAL003W</th>\n",
       "      <td>translation elongation factor EF-1beta, EF-1 b...</td>\n",
       "      <td>EF-1 beta, translation elongation factor EF-1beta</td>\n",
       "      <td>translational elongation</td>\n",
       "      <td>eukaryotic translation elongation factor 1 com...</td>\n",
       "      <td>translation elongation factor activity</td>\n",
       "      <td>EF1B</td>\n",
       "      <td>sce:YAL003W</td>\n",
       "      <td>EF1B_YEAST</td>\n",
       "      <td>S000000003</td>\n",
       "      <td>851260</td>\n",
       "    </tr>\n",
       "    <tr>\n",
       "      <th>YAL030W</th>\n",
       "      <td>S000000028, SNC1</td>\n",
       "      <td>NaN</td>\n",
       "      <td>Golgi to plasma membrane transport, endocytosi...</td>\n",
       "      <td>Golgi trans face, SNARE complex, endosome, tra...</td>\n",
       "      <td>v-SNARE activity</td>\n",
       "      <td>SNC1</td>\n",
       "      <td>sce:YAL030W</td>\n",
       "      <td>SNC1_YEAST</td>\n",
       "      <td>S000000028</td>\n",
       "      <td>851203</td>\n",
       "    </tr>\n",
       "    <tr>\n",
       "      <th>YAL038W</th>\n",
       "      <td>CDC19, PYK1, S000000036, pyruvate kinase</td>\n",
       "      <td>pyruvate kinase</td>\n",
       "      <td>glycolysis, pyruvate metabolic process</td>\n",
       "      <td>cytosol</td>\n",
       "      <td>pyruvate kinase activity</td>\n",
       "      <td>KPYK1</td>\n",
       "      <td>sce:YAL038W</td>\n",
       "      <td>KPYK1_YEAST</td>\n",
       "      <td>S000000036</td>\n",
       "      <td>851193</td>\n",
       "    </tr>\n",
       "    <tr>\n",
       "      <th>YAL040C</th>\n",
       "      <td>CLN3, DAF1, FUN10, G1 cyclin, S000000038, WHI1</td>\n",
       "      <td>G1 cyclin</td>\n",
       "      <td>G1/S transition of mitotic cell cycle, regulat...</td>\n",
       "      <td>nucleus</td>\n",
       "      <td>cyclin-dependent protein kinase regulator acti...</td>\n",
       "      <td>CG13</td>\n",
       "      <td>sce:YAL040C</td>\n",
       "      <td>CG13_YEAST</td>\n",
       "      <td>S000000038</td>\n",
       "      <td>851191</td>\n",
       "    </tr>\n",
       "    <tr>\n",
       "      <th>YAR007C</th>\n",
       "      <td>heterotrimeric RPA (RF-A) single-stranded DNA ...</td>\n",
       "      <td>RF-A, heterotrimeric RPA (RF-A) single-strande...</td>\n",
       "      <td>DNA recombination, DNA replication, synthesis ...</td>\n",
       "      <td>DNA replication factor A complex, chromosome, ...</td>\n",
       "      <td>damaged DNA binding, single-stranded DNA binding</td>\n",
       "      <td>RFA1</td>\n",
       "      <td>sce:YAR007C</td>\n",
       "      <td>RFA1_YEAST</td>\n",
       "      <td>S000000065</td>\n",
       "      <td>851266</td>\n",
       "    </tr>\n",
       "  </tbody>\n",
       "</table>\n",
       "</div>"
      ],
      "text/plain": [
       "                                                     alias  \\\n",
       "YAL003W  translation elongation factor EF-1beta, EF-1 b...   \n",
       "YAL030W                                   S000000028, SNC1   \n",
       "YAL038W           CDC19, PYK1, S000000036, pyruvate kinase   \n",
       "YAL040C     CLN3, DAF1, FUN10, G1 cyclin, S000000038, WHI1   \n",
       "YAR007C  heterotrimeric RPA (RF-A) single-stranded DNA ...   \n",
       "\n",
       "                                 annotation.DB_Object_Name  \\\n",
       "YAL003W  EF-1 beta, translation elongation factor EF-1beta   \n",
       "YAL030W                                                NaN   \n",
       "YAL038W                                    pyruvate kinase   \n",
       "YAL040C                                          G1 cyclin   \n",
       "YAR007C  RF-A, heterotrimeric RPA (RF-A) single-strande...   \n",
       "\n",
       "                          annotation.GO BIOLOGICAL_PROCESS  \\\n",
       "YAL003W                           translational elongation   \n",
       "YAL030W  Golgi to plasma membrane transport, endocytosi...   \n",
       "YAL038W             glycolysis, pyruvate metabolic process   \n",
       "YAL040C  G1/S transition of mitotic cell cycle, regulat...   \n",
       "YAR007C  DNA recombination, DNA replication, synthesis ...   \n",
       "\n",
       "                          annotation.GO CELLULAR_COMPONENT  \\\n",
       "YAL003W  eukaryotic translation elongation factor 1 com...   \n",
       "YAL030W  Golgi trans face, SNARE complex, endosome, tra...   \n",
       "YAL038W                                            cytosol   \n",
       "YAL040C                                            nucleus   \n",
       "YAR007C  DNA replication factor A complex, chromosome, ...   \n",
       "\n",
       "                          annotation.GO MOLECULAR_FUNCTION  label  \\\n",
       "YAL003W             translation elongation factor activity   EF1B   \n",
       "YAL030W                                   v-SNARE activity   SNC1   \n",
       "YAL038W                           pyruvate kinase activity  KPYK1   \n",
       "YAL040C  cyclin-dependent protein kinase regulator acti...   CG13   \n",
       "YAR007C   damaged DNA binding, single-stranded DNA binding   RFA1   \n",
       "\n",
       "                kegg      uniprot         sgd  entrez  \n",
       "YAL003W  sce:YAL003W   EF1B_YEAST  S000000003  851260  \n",
       "YAL030W  sce:YAL030W   SNC1_YEAST  S000000028  851203  \n",
       "YAL038W  sce:YAL038W  KPYK1_YEAST  S000000036  851193  \n",
       "YAL040C  sce:YAL040C   CG13_YEAST  S000000038  851191  \n",
       "YAR007C  sce:YAR007C   RFA1_YEAST  S000000065  851266  "
      ]
     },
     "execution_count": 2,
     "metadata": {},
     "output_type": "execute_result"
    }
   ],
   "source": [
    "# !!!!!!!!!!!!!!!!! Step 0: Start Cytoscape 3 with cyREST App !!!!!!!!!!!!!!!!!!!!!!!!!!\n",
    "\n",
    "# Step 1: Create py2cytoscape client\n",
    "cy = CyRestClient()\n",
    "\n",
    "\n",
    "# Reset\n",
    "cy.session.delete()\n",
    "\n",
    "# Step 2: Load network from somewhere\n",
    "yeast_net = cy.network.create_from('../tests/data/galFiltered.sif')\n",
    "\n",
    "# Step 3: Load table as pandas' DataFrame\n",
    "table_data = pd.read_csv('sample_data_table.csv', index_col=0)\n",
    "table_data.head()"
   ]
  },
  {
   "cell_type": "code",
   "execution_count": 3,
   "metadata": {
    "collapsed": false
   },
   "outputs": [
    {
     "data": {
      "text/plain": [
       "'YPL031C'"
      ]
     },
     "execution_count": 3,
     "metadata": {},
     "output_type": "execute_result"
    }
   ],
   "source": [
    "\n",
    "table_data.index[333\n",
    "                ]"
   ]
  },
  {
   "cell_type": "code",
   "execution_count": 4,
   "metadata": {
    "collapsed": false
   },
   "outputs": [
    {
     "name": "stdout",
     "output_type": "stream",
     "text": [
      "[{\"alias\":\"translation elongation factor EF-1beta, EF-1 beta, EFB1, S000000003, TEF5\",\"annotation.DB_Object_Name\":\"EF-1 beta, translation elongation factor EF-1beta\",\"annotation.GO BIOLOGICAL_PROCESS\":\"translational elongation\",\"annotation.GO CELLULAR_COMPONENT\":\"eukaryotic translation elongation factor 1 complex, ribosome\",\"annotation.GO MOLECULAR_FUNCTION\":\"translation elongation factor activity\",\"label\":\"EF1B\",\"kegg\":\"sce:YAL003W\",\"uniprot\":\"EF1B_YEAST\",\"sgd\":\"S000000003\",\"entrez\":851260,\"name\":\"YAL003W\"},{\"alias\":\"S000000028, SNC1\",\"annotation.DB_Object_Name\":null,\"annotation.GO BIOLOGICAL_PROCESS\":\"Golgi to plasma membrane transport, endocytosis, vesicle fusion\",\"annotation.GO CELLULAR_COMPONENT\":\"Golgi trans face, SNARE complex, endosome, transport vesicle\",\"annotation.GO MOLECULAR_FUNCTION\":\"v-SNARE activity\",\"label\":\"SNC1\",\"kegg\":\"sce:YAL030W\",\"uniprot\":\"SNC1_YEAST\",\"sgd\":\"S000000028\",\"entrez\":851203,\"name\":\"YAL030W\"},{\"alias\":\"CDC19, PYK1, S000000036, pyruvate kinase\",\"annotation.DB_Object_Name\":\"pyruvate kinase\",\"annotation.GO BIOLOGICAL_PROCESS\":\"glycolysis, pyruvate metabolic process\",\"annotation.GO CELLULAR_COMPONENT\":\"cytosol\",\"annotation.GO MOLECULAR_FUNCTION\":\"pyruvate kinase activity\",\"label\":\"KPYK1\",\"kegg\":\"sce:YAL038W\",\"uniprot\":\"KPYK1_YEAST\",\"sgd\":\"S000000036\",\"entrez\":851193,\"name\":\"YAL038W\"},{\"alias\":\"CLN3, DAF1, FUN10, G1 cyclin, S000000038, WHI1\",\"annotation.DB_Object_Name\":\"G1 cyclin\",\"annotation.GO BIOLOGICAL_PROCESS\":\"G1\\/S transition of mitotic cell cycle, regulation of cell size, regulation of cyclin-dependent protein kinase activity, vacuole fusion, non-autophagic, vacuole organization and biogenesis\",\"annotation.GO CELLULAR_COMPONENT\":\"nucleus\",\"annotation.GO MOLECULAR_FUNCTION\":\"cyclin-dependent protein kinase regulator activity\",\"label\":\"CG13\",\"kegg\":\"sce:YAL040C\",\"uniprot\":\"CG13_YEAST\",\"sgd\":\"S000000038\",\"entrez\":851191,\"name\":\"YAL040C\"},{\"alias\":\"heterotrimeric RPA (RF-A) single-stranded DNA binding protein 69 kDa subunit, BUF2, FUN3, RF-A, RFA1, RPA1, S000000065\",\"annotation.DB_Object_Name\":\"RF-A, heterotrimeric RPA (RF-A) single-stranded DNA binding protein 69 kDa subunit\",\"annotation.GO BIOLOGICAL_PROCESS\":\"DNA recombination, DNA replication, synthesis of RNA primer, DNA strand elongation during DNA replication, DNA unwinding during replication, double-strand break repair via homologous recombination, nucleotide-excision repair, postreplication repair\",\"annotation.GO CELLULAR_COMPONENT\":\"DNA replication factor A complex, chromosome, telomeric region, cytoplasm, nucleus\",\"annotation.GO MOLECULAR_FUNCTION\":\"damaged DNA binding, single-stranded DNA binding\",\"label\":\"RFA1\",\"kegg\":\"sce:YAR007C\",\"uniprot\":\"RFA1_YEAST\",\"sgd\":\"S000000065\",\"entrez\":851266,\"name\":\"YAR007C\"},{\"alias\":\"AMY2, PDR3, S000000101, TPE2\",\"annotation.DB_Object_Name\":null,\"annotation.GO BIOLOGICAL_PROCESS\":\"positive regulation of transcription, DNA-dependent, regulation of transcription from RNA polymerase II promoter, response to drug\",\"annotation.GO CELLULAR_COMPONENT\":\"cytoplasm, nucleus\",\"annotation.GO MOLECULAR_FUNCTION\":\"DNA binding, transcriptional activator activity\",\"label\":\"PDR3\",\"kegg\":\"sce:YBL005W\",\"uniprot\":\"PDR3_YEAST\",\"sgd\":\"S000000101\",\"entrez\":852278,\"name\":\"YBL005W\"},{\"alias\":\"HAP3, S000000117, transcriptional activator protein of CYC1 (component of HAP2\\/HAP3 heteromer)\",\"annotation.DB_Object_Name\":\"transcriptional activator protein of CYC1 (component of HAP2\\/HAP3 heteromer)\",\"annotation.GO BIOLOGICAL_PROCESS\":\"regulation of carbohydrate metabolic process, transcription\",\"annotation.GO CELLULAR_COMPONENT\":\"CCAAT-binding factor complex, nucleus\",\"annotation.GO MOLECULAR_FUNCTION\":\"transcriptional activator activity\",\"label\":\"HAP3\",\"kegg\":\"sce:YBL021C\",\"uniprot\":\"HAP3_YEAST\",\"sgd\":\"S000000117\",\"entrez\":852260,\"name\":\"YBL021C\"},{\"alias\":\"Sm class, LSM2, S000000122, SMX5, SNP3, snRNA-associated protein\",\"annotation.DB_Object_Name\":\"snRNA-associated protein, Sm class\",\"annotation.GO BIOLOGICAL_PROCESS\":\"mRNA catabolic process, nuclear mRNA splicing, via spliceosome\",\"annotation.GO CELLULAR_COMPONENT\":\"U4\\/U6 x U5 tri-snRNP complex, nucleolus, small nucleolar ribonucleoprotein complex, snRNP U6\",\"annotation.GO MOLECULAR_FUNCTION\":\"RNA binding, RNA splicing factor activity, transesterification mechanism\",\"label\":\"LSM2\",\"kegg\":\"sce:YBL026W\",\"uniprot\":\"LSM2_YEAST\",\"sgd\":\"S000000122\",\"entrez\":852255,\"name\":\"YBL026W\"},{\"alias\":\"S000000146, SEC17\",\"annotation.DB_Object_Name\":null,\"annotation.GO BIOLOGICAL_PROCESS\":\"ER to Golgi vesicle-mediated transport, vacuole fusion, non-autophagic\",\"annotation.GO CELLULAR_COMPONENT\":\"peripheral to membrane of membrane fraction\",\"annotation.GO MOLECULAR_FUNCTION\":\"soluble NSF attachment protein activity\",\"label\":\"SEC17\",\"kegg\":\"sce:YBL050W\",\"uniprot\":\"SEC17_YEAST\",\"sgd\":\"S000000146\",\"entrez\":852230,\"name\":\"YBL050W\"},{\"alias\":\"AST1, S000000165\",\"annotation.DB_Object_Name\":null,\"annotation.GO BIOLOGICAL_PROCESS\":\"protein targeting to membrane\",\"annotation.GO CELLULAR_COMPONENT\":\"extrinsic to membrane\",\"annotation.GO MOLECULAR_FUNCTION\":\"molecular_function\",\"label\":\"AST1\",\"kegg\":\"sce:YBL069W\",\"uniprot\":\"AST1_YEAST\",\"sgd\":\"S000000165\",\"entrez\":852209,\"name\":\"YBL069W\"},{\"alias\":\"NLE3, NUP170, S000000175, nuclear pore complex subunit\",\"annotation.DB_Object_Name\":\"nuclear pore complex subunit\",\"annotation.GO BIOLOGICAL_PROCESS\":\"NLS-bearing substrate import into nucleus, chromosome segregation, mRNA export from nucleus, mRNA-binding (hnRNP) protein import into nucleus, nuclear pore organization and biogenesis, protein export from nucleus, protein import into nucleus, docking, rRNA export from nucleus, ribosomal protein import into nucleus, snRNA export from nucleus, snRNP protein import into nucleus, tRNA export from nucleus\",\"annotation.GO CELLULAR_COMPONENT\":\"nuclear pore\",\"annotation.GO MOLECULAR_FUNCTION\":\"structural molecule activity\",\"label\":\"NU170\",\"kegg\":\"sce:YBL079W\",\"uniprot\":\"NU170_YEAST\",\"sgd\":\"S000000175\",\"entrez\":852199,\"name\":\"YBL079W\"},{\"alias\":\"GAL7, S000000222, galactose-1-phosphate uridyl transferase\",\"annotation.DB_Object_Name\":\"galactose-1-phosphate uridyl transferase\",\"annotation.GO BIOLOGICAL_PROCESS\":\"galactose catabolic process\",\"annotation.GO CELLULAR_COMPONENT\":\"cytoplasm\",\"annotation.GO MOLECULAR_FUNCTION\":\"UTP:galactose-1-phosphate uridylyltransferase activity\",\"label\":\"GAL7\",\"kegg\":\"sce:YBR018C\",\"uniprot\":\"GAL7_YEAST\",\"sgd\":\"S000000222\",\"entrez\":852306,\"name\":\"YBR018C\"},{\"alias\":\"GAL10, S000000223, UDP-glucose 4-epimerase\",\"annotation.DB_Object_Name\":\"UDP-glucose 4-epimerase\",\"annotation.GO BIOLOGICAL_PROCESS\":\"galactose catabolic process\",\"annotation.GO CELLULAR_COMPONENT\":\"soluble fraction\",\"annotation.GO MOLECULAR_FUNCTION\":\"UDP-glucose 4-epimerase activity, aldose 1-epimerase activity\",\"label\":\"GAL10\",\"kegg\":\"sce:YBR019C\",\"uniprot\":\"GAL10_YEAST\",\"sgd\":\"S000000223\",\"entrez\":852307,\"name\":\"YBR019C\"},{\"alias\":\"GAL1, S000000224, galactokinase\",\"annotation.DB_Object_Name\":\"galactokinase\",\"annotation.GO BIOLOGICAL_PROCESS\":\"galactose catabolic process, galactose transport, positive regulation of transcription by galactose\",\"annotation.GO CELLULAR_COMPONENT\":\"cytoplasm\",\"annotation.GO MOLECULAR_FUNCTION\":\"galactokinase activity, transcription regulator activity\",\"label\":\"GAL1\",\"kegg\":\"sce:YBR020W\",\"uniprot\":\"GAL1_YEAST\",\"sgd\":\"S000000224\",\"entrez\":852308,\"name\":\"YBR020W\"},{\"alias\":\"AQR2, QDR3, S000000247\",\"annotation.DB_Object_Name\":null,\"annotation.GO BIOLOGICAL_PROCESS\":\"multidrug transport\",\"annotation.GO CELLULAR_COMPONENT\":\"integral to plasma membrane, plasma membrane\",\"annotation.GO MOLECULAR_FUNCTION\":\"multidrug efflux pump activity\",\"label\":\"QDR3\",\"kegg\":\"sce:YBR043C\",\"uniprot\":\"QDR3_YEAST\",\"sgd\":\"S000000247\",\"entrez\":852331,\"name\":\"YBR043C\"},{\"alias\":\"GIP1, Glc7p regulatory subunit, S000000249\",\"annotation.DB_Object_Name\":\"Glc7p regulatory subunit\",\"annotation.GO BIOLOGICAL_PROCESS\":\"regulation of phosphoprotein phosphatase activity, spore wall assembly (sensu the Fungi research community)\",\"annotation.GO CELLULAR_COMPONENT\":\"prospore membrane, protein phosphatase type 1 complex\",\"annotation.GO MOLECULAR_FUNCTION\":\"protein phosphatase 1 binding, protein phosphatase type 1 regulator activity\",\"label\":\"GIP1\",\"kegg\":\"sce:YBR045C\",\"uniprot\":\"GIP1_YEAST\",\"sgd\":\"S000000249\",\"entrez\":852334,\"name\":\"YBR045C\"},{\"alias\":\"Glc7p regulatory subunit, REG2, S000000254\",\"annotation.DB_Object_Name\":\"Glc7p regulatory subunit\",\"annotation.GO BIOLOGICAL_PROCESS\":\"negative regulation of transcription from RNA polymerase II promoter\",\"annotation.GO CELLULAR_COMPONENT\":\"protein phosphatase type 1 complex\",\"annotation.GO MOLECULAR_FUNCTION\":\"protein phosphatase type 1 regulator activity\",\"label\":\"REG2\",\"kegg\":\"sce:YBR050C\",\"uniprot\":\"REG2_YEAST\",\"sgd\":\"S000000254\",\"entrez\":852340,\"name\":\"YBR050C\"},{\"alias\":\"HSP26, S000000276\",\"annotation.DB_Object_Name\":null,\"annotation.GO BIOLOGICAL_PROCESS\":\"protein folding, response to stress\",\"annotation.GO CELLULAR_COMPONENT\":\"cytoplasm, nucleus\",\"annotation.GO MOLECULAR_FUNCTION\":\"unfolded protein binding\",\"label\":\"HSP26\",\"kegg\":\"sce:YBR072W\",\"uniprot\":\"HSP26_YEAST\",\"sgd\":\"S000000276\",\"entrez\":852364,\"name\":\"YBR072W\"},{\"alias\":\"PHO5, S000000297, acid phosphatase\",\"annotation.DB_Object_Name\":\"acid phosphatase\",\"annotation.GO BIOLOGICAL_PROCESS\":\"cellular response to phosphate starvation, phosphate metabolic process, regulation of cell size\",\"annotation.GO CELLULAR_COMPONENT\":\"cell wall (sensu the Fungi research community), periplasmic space (sensu the Fungi research community)\",\"annotation.GO MOLECULAR_FUNCTION\":\"acid phosphatase activity, nucleoside-triphosphatase activity, nucleoside-triphosphate diphosphatase activity\",\"label\":\"PPA5\",\"kegg\":\"sce:YBR093C\",\"uniprot\":\"PPA5_YEAST\",\"sgd\":\"S000000297\",\"entrez\":852390,\"name\":\"YBR093C\"},{\"alias\":\"CMD1, S000000313, calmodulin\",\"annotation.DB_Object_Name\":\"calmodulin\",\"annotation.GO BIOLOGICAL_PROCESS\":\"cell budding, cytoskeleton organization and biogenesis, endocytosis, mitosis, vacuole fusion, non-autophagic\",\"annotation.GO CELLULAR_COMPONENT\":\"bud neck, bud tip, central plaque of spindle pole body, cytoplasm, incipient bud site, mating projection tip\",\"annotation.GO MOLECULAR_FUNCTION\":\"calcium ion binding, calcium-dependent protein binding, protein binding\",\"label\":\"CALM\",\"kegg\":\"sce:YBR109C\",\"uniprot\":\"CALM_YEAST\",\"sgd\":\"S000000313\",\"entrez\":852406,\"name\":\"YBR109C\"},{\"alias\":\"CRT8, CYC8, S000000316, SSN6\",\"annotation.DB_Object_Name\":null,\"annotation.GO BIOLOGICAL_PROCESS\":\"chromatin remodeling, negative regulation of transcription, nucleosome spacing, telomere maintenance\",\"annotation.GO CELLULAR_COMPONENT\":\"nucleus\",\"annotation.GO MOLECULAR_FUNCTION\":\"general transcriptional repressor activity, transcription coactivator activity\",\"label\":\"CYC8\",\"kegg\":\"sce:YBR112C\",\"uniprot\":\"CYC8_YEAST\",\"sgd\":\"S000000316\",\"entrez\":852410,\"name\":\"YBR112C\"},{\"alias\":\" translational elongation factor EF-1 alpha, EF-1 alpha, S000000322, TEF2, eEF1A\",\"annotation.DB_Object_Name\":\"eEF1A, translational elongation factor EF-1 alpha\",\"annotation.GO BIOLOGICAL_PROCESS\":\"translational elongation\",\"annotation.GO CELLULAR_COMPONENT\":\"eukaryotic translation elongation factor 1 complex, ribosome\",\"annotation.GO MOLECULAR_FUNCTION\":\"translation elongation factor activity\",\"label\":\"EF1A\",\"kegg\":\"sce:YBR118W\",\"uniprot\":\"EF1A_YEAST\",\"sgd\":\"S000000322\",\"entrez\":852415,\"name\":\"YBR118W\"},{\"alias\":\" translational elongation factor EF-1 alpha, EF-1 alpha, S000000322, TEF2, eEF1A\",\"annotation.DB_Object_Name\":\"eEF1A, translational elongation factor EF-1 alpha\",\"annotation.GO BIOLOGICAL_PROCESS\":\"translational elongation\",\"annotation.GO CELLULAR_COMPONENT\":\"eukaryotic translation elongation factor 1 complex, ribosome\",\"annotation.GO MOLECULAR_FUNCTION\":\"translation elongation factor activity\",\"label\":\"EF1A\",\"kegg\":\"sce:YBR118W\",\"uniprot\":\"EF1A_YEAST\",\"sgd\":\"S000000322\",\"entrez\":856195,\"name\":\"YBR118W\"},{\"alias\":\" translational elongation factor EF-1 alpha, EF-1 alpha, S000000322, TEF2, eEF1A\",\"annotation.DB_Object_Name\":\"eEF1A, translational elongation factor EF-1 alpha\",\"annotation.GO BIOLOGICAL_PROCESS\":\"translational elongation\",\"annotation.GO CELLULAR_COMPONENT\":\"eukaryotic translation elongation factor 1 complex, ribosome\",\"annotation.GO MOLECULAR_FUNCTION\":\"translation elongation factor activity\",\"label\":\"EF1A\",\"kegg\":\"sce:YBR118W\",\"uniprot\":\"EF1A_YEAST\",\"sgd\":\"S000006284\",\"entrez\":852415,\"name\":\"YBR118W\"},{\"alias\":\" translational elongation factor EF-1 alpha, EF-1 alpha, S000000322, TEF2, eEF1A\",\"annotation.DB_Object_Name\":\"eEF1A, translational elongation factor EF-1 alpha\",\"annotation.GO BIOLOGICAL_PROCESS\":\"translational elongation\",\"annotation.GO CELLULAR_COMPONENT\":\"eukaryotic translation elongation factor 1 complex, ribosome\",\"annotation.GO MOLECULAR_FUNCTION\":\"translation elongation factor activity\",\"label\":\"EF1A\",\"kegg\":\"sce:YBR118W\",\"uniprot\":\"EF1A_YEAST\",\"sgd\":\"S000006284\",\"entrez\":856195,\"name\":\"YBR118W\"},{\"alias\":\"CKS1, Cdc28 protein kinase subunit, S000000339\",\"annotation.DB_Object_Name\":\"Cdc28 protein kinase subunit\",\"annotation.GO BIOLOGICAL_PROCESS\":\"regulation of progression through cell cycle, transcription\",\"annotation.GO CELLULAR_COMPONENT\":\"cytoplasm, nucleus\",\"annotation.GO MOLECULAR_FUNCTION\":\"protein kinase activator activity\",\"label\":\"CKS1\",\"kegg\":\"sce:YBR135W\",\"uniprot\":\"CKS1_YEAST\",\"sgd\":\"S000000339\",\"entrez\":852432,\"name\":\"YBR135W\"},{\"alias\":\"CNS1, S000000359\",\"annotation.DB_Object_Name\":null,\"annotation.GO BIOLOGICAL_PROCESS\":\"protein folding\",\"annotation.GO CELLULAR_COMPONENT\":\"cytoplasm\",\"annotation.GO MOLECULAR_FUNCTION\":\"Hsp70 protein binding, Hsp90 protein binding\",\"label\":\"CNS1\",\"kegg\":\"sce:YBR155W\",\"uniprot\":\"CNS1_YEAST\",\"sgd\":\"S000000359\",\"entrez\":852452,\"name\":\"YBR155W\"},{\"alias\":\"CDC28, CDK1, HSL5, S000000364, SRM5, cyclin-dependent protein kinase\",\"annotation.DB_Object_Name\":\"cyclin-dependent protein kinase\",\"annotation.GO BIOLOGICAL_PROCESS\":\"G1\\/S transition of mitotic cell cycle, G2\\/M transition of mitotic cell cycle, S phase of mitotic cell cycle, protein amino acid phosphorylation, regulation of meiosis, regulation of progression through cell cycle, transcription\",\"annotation.GO CELLULAR_COMPONENT\":\"cytoplasm, nucleus\",\"annotation.GO MOLECULAR_FUNCTION\":\"cyclin-dependent protein kinase activity\",\"label\":\"CDK1\",\"kegg\":\"sce:YBR160W\",\"uniprot\":\"CDK1_YEAST\",\"sgd\":\"S000000364\",\"entrez\":852457,\"name\":\"YBR160W\"},{\"alias\":\"HRD4, NPL4, S000000374\",\"annotation.DB_Object_Name\":null,\"annotation.GO BIOLOGICAL_PROCESS\":\"ER-associated protein catabolic process\",\"annotation.GO CELLULAR_COMPONENT\":\"endoplasmic reticulum, nuclear envelope-endoplasmic reticulum network\",\"annotation.GO MOLECULAR_FUNCTION\":\"molecular_function\",\"label\":\"NPL4\",\"kegg\":\"sce:YBR170C\",\"uniprot\":\"NPL4_YEAST\",\"sgd\":\"S000000374\",\"entrez\":852468,\"name\":\"YBR170C\"},{\"alias\":\"APG12, ATG12, S000000421\",\"annotation.DB_Object_Name\":null,\"annotation.GO BIOLOGICAL_PROCESS\":\"autophagy, protein targeting to vacuole\",\"annotation.GO CELLULAR_COMPONENT\":\"membrane fraction\",\"annotation.GO MOLECULAR_FUNCTION\":\"protein tag\",\"label\":\"ATG12\",\"kegg\":\"sce:YBR217W\",\"uniprot\":\"ATG12_YEAST\",\"sgd\":\"S000000421\",\"entrez\":852518,\"name\":\"YBR217W\"},{\"alias\":\"HIS7, S000000452, imidazole glycerol phosphate synthase\",\"annotation.DB_Object_Name\":\"imidazole glycerol phosphate synthase\",\"annotation.GO BIOLOGICAL_PROCESS\":\"histidine biosynthetic process, purine nucleoside monophosphate biosynthetic process\",\"annotation.GO CELLULAR_COMPONENT\":\"intracellular\",\"annotation.GO MOLECULAR_FUNCTION\":\"imidazoleglycerol-phosphate synthase activity\",\"label\":\"HIS5\",\"kegg\":\"sce:YBR248C\",\"uniprot\":\"HIS5_YEAST\",\"sgd\":\"S000000452\",\"entrez\":852550,\"name\":\"YBR248C\"},{\"alias\":\"CHK1, S000000478, protein kinase\",\"annotation.DB_Object_Name\":\"protein kinase\",\"annotation.GO BIOLOGICAL_PROCESS\":\"DNA damage checkpoint, protein amino acid phosphorylation\",\"annotation.GO CELLULAR_COMPONENT\":\"nucleus\",\"annotation.GO MOLECULAR_FUNCTION\":\"protein kinase activity\",\"label\":\"CHK1\",\"kegg\":\"sce:YBR274W\",\"uniprot\":\"CHK1_YEAST\",\"sgd\":\"S000000478\",\"entrez\":852577,\"name\":\"YBR274W\"},{\"alias\":\"HIS4, S000000535, histidinol dehydrogenase\",\"annotation.DB_Object_Name\":\"histidinol dehydrogenase\",\"annotation.GO BIOLOGICAL_PROCESS\":\"histidine biosynthetic process\",\"annotation.GO CELLULAR_COMPONENT\":\"intracellular\",\"annotation.GO MOLECULAR_FUNCTION\":\"histidinol dehydrogenase activity, phosphoribosyl-AMP cyclohydrolase activity, phosphoribosyl-ATP diphosphatase activity\",\"label\":\"HIS2\",\"kegg\":\"sce:YCL030C\",\"uniprot\":\"HIS2_YEAST\",\"sgd\":\"S000000535\",\"entrez\":850327,\"name\":\"YCL030C\"},{\"alias\":\"S000000537, STE50, protein kinase regulator\",\"annotation.DB_Object_Name\":\"protein kinase regulator\",\"annotation.GO BIOLOGICAL_PROCESS\":\"MAPKKK cascade during osmolarity sensing, pheromone-dependent signal transduction during conjugation with cellular fusion, response to pheromone, signal transduction during filamentous growth\",\"annotation.GO CELLULAR_COMPONENT\":\"cytoplasm\",\"annotation.GO MOLECULAR_FUNCTION\":\"SAM domain binding, protein kinase regulator activity\",\"label\":\"STE50\",\"kegg\":\"sce:YCL032W\",\"uniprot\":\"STE50_YEAST\",\"sgd\":\"S000000537\",\"entrez\":850325,\"name\":\"YCL032W\"},{\"alias\":\"GLK1, HOR3, S000000545, glucokinase\",\"annotation.DB_Object_Name\":\"glucokinase\",\"annotation.GO BIOLOGICAL_PROCESS\":\"glucose import, glucose metabolic process, glycolysis, mannose metabolic process\",\"annotation.GO CELLULAR_COMPONENT\":\"cytosol\",\"annotation.GO MOLECULAR_FUNCTION\":\"glucokinase activity\",\"label\":\"HXKG\",\"kegg\":\"sce:YCL040W\",\"uniprot\":\"HXKG_YEAST\",\"sgd\":\"S000000545\",\"entrez\":850317,\"name\":\"YCL040W\"},{\"alias\":\"ALPHA2, HMLALPHA2, S000000572\",\"annotation.DB_Object_Name\":null,\"annotation.GO BIOLOGICAL_PROCESS\":\"donor selection, regulation of transcription from RNA polymerase II promoter, regulation of transcription, mating-type specific\",\"annotation.GO CELLULAR_COMPONENT\":\"nucleus\",\"annotation.GO MOLECULAR_FUNCTION\":\"transcription corepressor activity\",\"label\":\"HMAL2\",\"kegg\":\"sce:YCL067C\",\"uniprot\":\"HMAL2_YEAST\",\"sgd\":\"S000000572\",\"entrez\":850292,\"name\":\"YCL067C\"},{\"alias\":\"ALPHA2, HMLALPHA2, S000000572\",\"annotation.DB_Object_Name\":null,\"annotation.GO BIOLOGICAL_PROCESS\":\"donor selection, regulation of transcription from RNA polymerase II promoter, regulation of transcription, mating-type specific\",\"annotation.GO CELLULAR_COMPONENT\":\"nucleus\",\"annotation.GO MOLECULAR_FUNCTION\":\"transcription corepressor activity\",\"label\":\"HMAL2\",\"kegg\":\"sce:YCL067C\",\"uniprot\":\"HMAL2_YEAST\",\"sgd\":\"S000000572\",\"entrez\":850406,\"name\":\"YCL067C\"},{\"alias\":\"ALPHA2, HMLALPHA2, S000000572\",\"annotation.DB_Object_Name\":null,\"annotation.GO BIOLOGICAL_PROCESS\":\"donor selection, regulation of transcription from RNA polymerase II promoter, regulation of transcription, mating-type specific\",\"annotation.GO CELLULAR_COMPONENT\":\"nucleus\",\"annotation.GO MOLECULAR_FUNCTION\":\"transcription corepressor activity\",\"label\":\"MTAL2\",\"kegg\":\"sce:YCL067C\",\"uniprot\":\"MTAL2_YEAST\",\"sgd\":\"S000000635\",\"entrez\":850292,\"name\":\"YCL067C\"},{\"alias\":\"ALPHA2, HMLALPHA2, S000000572\",\"annotation.DB_Object_Name\":null,\"annotation.GO BIOLOGICAL_PROCESS\":\"donor selection, regulation of transcription from RNA polymerase II promoter, regulation of transcription, mating-type specific\",\"annotation.GO CELLULAR_COMPONENT\":\"nucleus\",\"annotation.GO MOLECULAR_FUNCTION\":\"transcription corepressor activity\",\"label\":\"MTAL2\",\"kegg\":\"sce:YCL067C\",\"uniprot\":\"MTAL2_YEAST\",\"sgd\":\"S000000635\",\"entrez\":850406,\"name\":\"YCL067C\"},{\"alias\":\"3-phosphoglycerate kinase, PGK1, S000000605\",\"annotation.DB_Object_Name\":\"3-phosphoglycerate kinase\",\"annotation.GO BIOLOGICAL_PROCESS\":\"gluconeogenesis, glycolysis\",\"annotation.GO CELLULAR_COMPONENT\":\"cytoplasm, mitochondrion\",\"annotation.GO MOLECULAR_FUNCTION\":\"phosphoglycerate kinase activity\",\"label\":\"PGK\",\"kegg\":\"sce:YCR012W\",\"uniprot\":\"PGK_YEAST\",\"sgd\":\"S000000605\",\"entrez\":850370,\"name\":\"YCR012W\"},{\"alias\":\"AAR1, AER2, AMM1, CRT4, CYC9, FLK1, ROX4, S000000680, SFL2, TUP1, UMR7\",\"annotation.DB_Object_Name\":null,\"annotation.GO BIOLOGICAL_PROCESS\":\"negative regulation of transcription, nucleosome spacing\",\"annotation.GO CELLULAR_COMPONENT\":\"nucleus\",\"annotation.GO MOLECULAR_FUNCTION\":\"general transcriptional repressor activity\",\"label\":\"TUP1\",\"kegg\":\"sce:YCR084C\",\"uniprot\":\"TUP1_YEAST\",\"sgd\":\"S000000680\",\"entrez\":850445,\"name\":\"YCR084C\"},{\"alias\":\"CSM1, S000000682\",\"annotation.DB_Object_Name\":null,\"annotation.GO BIOLOGICAL_PROCESS\":\"DNA replication, homologous chromosome segregation, meiotic chromosome segregation, telomere maintenance\",\"annotation.GO CELLULAR_COMPONENT\":\"condensed nuclear chromosome kinetochore, nuclear envelope, nucleolus\",\"annotation.GO MOLECULAR_FUNCTION\":\"molecular_function\",\"label\":\"CSM1\",\"kegg\":\"sce:YCR086W\",\"uniprot\":\"CSM1_YEAST\",\"sgd\":\"S000000682\",\"entrez\":850447,\"name\":\"YCR086W\"},{\"alias\":\"HEX3, S000002171, SLX5\",\"annotation.DB_Object_Name\":null,\"annotation.GO BIOLOGICAL_PROCESS\":\"protein sumoylation, response to DNA damage stimulus, telomere maintenance\",\"annotation.GO CELLULAR_COMPONENT\":\"cellular_component\",\"annotation.GO MOLECULAR_FUNCTION\":\"molecular_function\",\"label\":\"SLX5\",\"kegg\":\"sce:YDL013W\",\"uniprot\":\"SLX5_YEAST\",\"sgd\":\"S000002171\",\"entrez\":851549,\"name\":\"YDL013W\"},{\"alias\":\"LOT3, NOP1, S000002172, U3 snoRNP protein\",\"annotation.DB_Object_Name\":\"U3 snoRNP protein\",\"annotation.GO BIOLOGICAL_PROCESS\":\"35S primary transcript processing, RNA methylation, processing of 20S pre-rRNA, rRNA modification, ribosomal large subunit assembly and maintenance, snoRNA 3'-end processing\",\"annotation.GO CELLULAR_COMPONENT\":\"nucleolus, small nucleolar ribonucleoprotein complex\",\"annotation.GO MOLECULAR_FUNCTION\":\"methyltransferase activity\",\"label\":\"FBRL\",\"kegg\":\"sce:YDL014W\",\"uniprot\":\"FBRL_YEAST\",\"sgd\":\"S000002172\",\"entrez\":851548,\"name\":\"YDL014W\"},{\"alias\":\"PRP9, RNA splicing factor, S000002188\",\"annotation.DB_Object_Name\":\"RNA splicing factor\",\"annotation.GO BIOLOGICAL_PROCESS\":\"nuclear mRNA splicing, via spliceosome\",\"annotation.GO CELLULAR_COMPONENT\":\"snRNP U2\",\"annotation.GO MOLECULAR_FUNCTION\":\"RNA binding\",\"label\":\"PRP9\",\"kegg\":\"sce:YDL030W\",\"uniprot\":\"PRP9_YEAST\",\"sgd\":\"S000002188\",\"entrez\":851531,\"name\":\"YDL030W\"},{\"alias\":\"S000002221\",\"annotation.DB_Object_Name\":null,\"annotation.GO BIOLOGICAL_PROCESS\":null,\"annotation.GO CELLULAR_COMPONENT\":\"cytoplasm, nucleus\",\"annotation.GO MOLECULAR_FUNCTION\":\"molecular_function\",\"label\":\"SYO1\",\"kegg\":\"sce:YDL063C\",\"uniprot\":\"SYO1_YEAST\",\"sgd\":\"S000002221\",\"entrez\":851497,\"name\":\"YDL063C\"},{\"alias\":\"RPL31A, RPL34, S000002233, ribosomal protein L31A (L34A) (YL28)\",\"annotation.DB_Object_Name\":\"ribosomal protein L31A (L34A) (YL28)\",\"annotation.GO BIOLOGICAL_PROCESS\":null,\"annotation.GO CELLULAR_COMPONENT\":\"cytosolic large ribosomal subunit (sensu the Eukaryota research community)\",\"annotation.GO MOLECULAR_FUNCTION\":\"structural constituent of ribosome\",\"label\":\"RL31A\",\"kegg\":\"sce:YDL075W\",\"uniprot\":\"RL31A_YEAST\",\"sgd\":\"S000002233\",\"entrez\":851484,\"name\":\"YDL075W\"},{\"alias\":\"MDH3, S000002236, malate dehydrogenase\",\"annotation.DB_Object_Name\":\"malate dehydrogenase\",\"annotation.GO BIOLOGICAL_PROCESS\":\"NADH regeneration, fatty acid beta-oxidation, glyoxylate cycle, malate metabolic process\",\"annotation.GO CELLULAR_COMPONENT\":\"peroxisomal matrix, peroxisome\",\"annotation.GO MOLECULAR_FUNCTION\":\"L-malate dehydrogenase activity\",\"label\":\"MDHP\",\"kegg\":\"sce:YDL078C\",\"uniprot\":\"MDHP_YEAST\",\"sgd\":\"S000002236\",\"entrez\":851481,\"name\":\"YDL078C\"},{\"alias\":\"RPLA1, RPP1A, S000002239, acidic ribosomal protein P1A (YP1alpha) (A1)\",\"annotation.DB_Object_Name\":\"acidic ribosomal protein P1A (YP1alpha) (A1)\",\"annotation.GO BIOLOGICAL_PROCESS\":\"telomere maintenance, translational elongation\",\"annotation.GO CELLULAR_COMPONENT\":\"cytosolic large ribosomal subunit (sensu the Eukaryota research community)\",\"annotation.GO MOLECULAR_FUNCTION\":\"structural constituent of ribosome\",\"label\":\"RLA1\",\"kegg\":\"sce:YDL081C\",\"uniprot\":\"RLA1_YEAST\",\"sgd\":\"S000002239\",\"entrez\":851478,\"name\":\"YDL081C\"},{\"alias\":\"ASM4, NUP59, S000002246, nuclear pore complex subunit\",\"annotation.DB_Object_Name\":\"nuclear pore complex subunit\",\"annotation.GO BIOLOGICAL_PROCESS\":\"NLS-bearing substrate import into nucleus, mRNA export from nucleus, mRNA-binding (hnRNP) protein import into nucleus, nuclear pore organization and biogenesis, protein export from nucleus, protein import into nucleus, docking, rRNA export from nucleus, ribosomal protein import into nucleus, snRNA export from nucleus, snRNP protein import into nucleus\",\"annotation.GO CELLULAR_COMPONENT\":\"nuclear pore\",\"annotation.GO MOLECULAR_FUNCTION\":\"structural molecule activity\",\"label\":\"NUP59\",\"kegg\":\"sce:YDL088C\",\"uniprot\":\"NUP59_YEAST\",\"sgd\":\"S000002246\",\"entrez\":851470,\"name\":\"YDL088C\"},{\"alias\":\"ATG20, CVT20, S000002271, SNX42\",\"annotation.DB_Object_Name\":null,\"annotation.GO BIOLOGICAL_PROCESS\":\"autophagy, protein targeting to vacuole, retrograde transport, endosome to Golgi\",\"annotation.GO CELLULAR_COMPONENT\":\"endosome, peripheral to membrane of membrane fraction, pre-autophagosomal structure\",\"annotation.GO MOLECULAR_FUNCTION\":\"lipid binding, phosphatidylinositol 3-phosphate binding\",\"label\":\"ATG20\",\"kegg\":\"sce:YDL113C\",\"uniprot\":\"ATG20_YEAST\",\"sgd\":\"S000002271\",\"entrez\":851445,\"name\":\"YDL113C\"},{\"alias\":\"RPL44', RPLA3, RPP1B, S000002288, ribosomal protein P1B (L44') (YP1beta) (Ax)\",\"annotation.DB_Object_Name\":\"ribosomal protein P1B (L44') (YP1beta) (Ax)\",\"annotation.GO BIOLOGICAL_PROCESS\":\"translational elongation\",\"annotation.GO CELLULAR_COMPONENT\":\"cytosolic large ribosomal subunit (sensu the Eukaryota research community)\",\"annotation.GO MOLECULAR_FUNCTION\":\"structural constituent of ribosome\",\"label\":\"RLA3\",\"kegg\":\"sce:YDL130W\",\"uniprot\":\"RLA3_YEAST\",\"sgd\":\"S000002288\",\"entrez\":851427,\"name\":\"YDL130W\"},{\"alias\":\"S000002353, SNF3, glucose sensor\",\"annotation.DB_Object_Name\":\"glucose sensor\",\"annotation.GO BIOLOGICAL_PROCESS\":\"response to glucose stimulus, signal transduction\",\"annotation.GO CELLULAR_COMPONENT\":\"plasma membrane\",\"annotation.GO MOLECULAR_FUNCTION\":\"glucose binding, glucose transporter activity, receptor activity\",\"label\":\"SNF3\",\"kegg\":\"sce:YDL194W\",\"uniprot\":\"SNF3_YEAST\",\"sgd\":\"S000002353\",\"entrez\":851333,\"name\":\"YDL194W\"},{\"alias\":\"GDH-B, GDH2, GDHB, NAD-dependent glutamate dehydrogenase, S000002374\",\"annotation.DB_Object_Name\":\"NAD-dependent glutamate dehydrogenase\",\"annotation.GO BIOLOGICAL_PROCESS\":\"nitrogen compound metabolic process\",\"annotation.GO CELLULAR_COMPONENT\":\"mitochondrion, soluble fraction\",\"annotation.GO MOLECULAR_FUNCTION\":\"glutamate dehydrogenase activity\",\"label\":\"DHE2\",\"kegg\":\"sce:YDL215C\",\"uniprot\":\"DHE2_YEAST\",\"sgd\":\"S000002374\",\"entrez\":851311,\"name\":\"YDL215C\"},{\"alias\":\"PHO13, S000002395, p-nitrophenyl phosphatase\",\"annotation.DB_Object_Name\":\"p-nitrophenyl phosphatase\",\"annotation.GO BIOLOGICAL_PROCESS\":\"histone dephosphorylation, protein amino acid dephosphorylation\",\"annotation.GO CELLULAR_COMPONENT\":\"cytoplasm, nucleus\",\"annotation.GO MOLECULAR_FUNCTION\":\"4-nitrophenylphosphatase activity, alkaline phosphatase activity\",\"label\":\"PNPP\",\"kegg\":\"sce:YDL236W\",\"uniprot\":\"PNPP_YEAST\",\"sgd\":\"S000002395\",\"entrez\":851362,\"name\":\"YDL236W\"},{\"alias\":\"GAL3, S000002416\",\"annotation.DB_Object_Name\":null,\"annotation.GO BIOLOGICAL_PROCESS\":\"galactose metabolic process, positive regulation of transcription by galactose\",\"annotation.GO CELLULAR_COMPONENT\":\"cytoplasm\",\"annotation.GO MOLECULAR_FUNCTION\":\"transcriptional activator activity\",\"label\":\"GAL3\",\"kegg\":\"sce:YDR009W\",\"uniprot\":\"GAL3_YEAST\",\"sgd\":\"S000002416\",\"entrez\":851572,\"name\":\"YDR009W\"},{\"alias\":\"PST2, S000002439\",\"annotation.DB_Object_Name\":null,\"annotation.GO BIOLOGICAL_PROCESS\":\"biological_process\",\"annotation.GO CELLULAR_COMPONENT\":\"cytoplasm, mitochondrion\",\"annotation.GO MOLECULAR_FUNCTION\":\"molecular_function\",\"label\":\"PST2\",\"kegg\":\"sce:YDR032C\",\"uniprot\":\"PST2_YEAST\",\"sgd\":\"S000002439\",\"entrez\":851596,\"name\":\"YDR032C\"},{\"alias\":\"S000002457, TPI1, triosephosphate isomerase\",\"annotation.DB_Object_Name\":\"triosephosphate isomerase\",\"annotation.GO BIOLOGICAL_PROCESS\":\"glycolysis\",\"annotation.GO CELLULAR_COMPONENT\":\"cytoplasm\",\"annotation.GO MOLECULAR_FUNCTION\":\"triose-phosphate isomerase activity\",\"label\":\"TPIS\",\"kegg\":\"sce:YDR050C\",\"uniprot\":\"TPIS_YEAST\",\"sgd\":\"S000002457\",\"entrez\":851620,\"name\":\"YDR050C\"},{\"alias\":\"S000002477\",\"annotation.DB_Object_Name\":null,\"annotation.GO BIOLOGICAL_PROCESS\":\"biological_process\",\"annotation.GO CELLULAR_COMPONENT\":\"mitochondrion\",\"annotation.GO MOLECULAR_FUNCTION\":\"molecular_function\",\"label\":\"FMP16\",\"kegg\":\"sce:YDR070C\",\"uniprot\":\"FMP16_YEAST\",\"sgd\":\"S000002477\",\"entrez\":851642,\"name\":\"YDR070C\"},{\"alias\":\"S000002507, TVP15\",\"annotation.DB_Object_Name\":null,\"annotation.GO BIOLOGICAL_PROCESS\":\"biological_process\",\"annotation.GO CELLULAR_COMPONENT\":\"COPI-coated vesicle, integral to Golgi membrane\",\"annotation.GO MOLECULAR_FUNCTION\":\"molecular_function\",\"label\":\"TVP15\",\"kegg\":\"sce:YDR100W\",\"uniprot\":\"TVP15_YEAST\",\"sgd\":\"S000002507\",\"entrez\":851677,\"name\":\"YDR100W\"},{\"alias\":\"HMD3, NUL3, S000002510, STE5\",\"annotation.DB_Object_Name\":null,\"annotation.GO BIOLOGICAL_PROCESS\":\"invasive growth (sensu the Saccharomyces research community), pheromone-dependent signal transduction during conjugation with cellular fusion\",\"annotation.GO CELLULAR_COMPONENT\":\"cytoplasm, mating projection tip, nucleus, plasma membrane\",\"annotation.GO MOLECULAR_FUNCTION\":\"MAP-kinase scaffold activity\",\"label\":\"STE5\",\"kegg\":\"sce:YDR103W\",\"uniprot\":\"STE5_YEAST\",\"sgd\":\"S000002510\",\"entrez\":851680,\"name\":\"YDR103W\"},{\"alias\":\"PAS7, PEB1, PEX7, S000002549\",\"annotation.DB_Object_Name\":null,\"annotation.GO BIOLOGICAL_PROCESS\":\"peroxisome organization and biogenesis, protein targeting to peroxisome\",\"annotation.GO CELLULAR_COMPONENT\":\"cytosol, peroxisomal matrix\",\"annotation.GO MOLECULAR_FUNCTION\":\"peroxisome targeting sequence binding, peroxisome targeting signal-2 binding\",\"label\":\"PEX7\",\"kegg\":\"sce:YDR142C\",\"uniprot\":\"PEX7_YEAST\",\"sgd\":\"S000002549\",\"entrez\":851720,\"name\":\"YDR142C\"},{\"alias\":\"S000002553, SWI5, transcriptional activator\",\"annotation.DB_Object_Name\":\"transcriptional activator\",\"annotation.GO BIOLOGICAL_PROCESS\":\"G1-specific transcription in mitotic cell cycle\",\"annotation.GO CELLULAR_COMPONENT\":\"cytoplasm, nucleus\",\"annotation.GO MOLECULAR_FUNCTION\":\"transcriptional activator activity\",\"label\":\"SWI5\",\"kegg\":\"sce:YDR146C\",\"uniprot\":\"SWI5_YEAST\",\"sgd\":\"S000002553\",\"entrez\":851724,\"name\":\"YDR146C\"},{\"alias\":\"TafII25, S000002574, TAF10, TAF23, TAF25, TFIID subunit\",\"annotation.DB_Object_Name\":\"TFIID subunit, TafII25\",\"annotation.GO BIOLOGICAL_PROCESS\":\"G1-specific transcription in mitotic cell cycle, chromatin modification, establishment and\\/or maintenance of chromatin architecture, histone acetylation, protein amino acid acetylation, transcription initiation from RNA polymerase II promoter\",\"annotation.GO CELLULAR_COMPONENT\":\"SAGA complex, SLIK (SAGA-like) complex, transcription factor TFIID complex\",\"annotation.GO MOLECULAR_FUNCTION\":\"general RNA polymerase II transcription factor activity\",\"label\":\"TAF10\",\"kegg\":\"sce:YDR167W\",\"uniprot\":\"TAF10_YEAST\",\"sgd\":\"S000002574\",\"entrez\":851745,\"name\":\"YDR167W\"},{\"alias\":\"HSP42, S000002578\",\"annotation.DB_Object_Name\":null,\"annotation.GO BIOLOGICAL_PROCESS\":\"cytoskeleton organization and biogenesis, response to stress\",\"annotation.GO CELLULAR_COMPONENT\":\"chaperonin-containing T-complex, cytoplasm, cytoskeleton\",\"annotation.GO MOLECULAR_FUNCTION\":\"unfolded protein binding\",\"label\":\"HSP42\",\"kegg\":\"sce:YDR171W\",\"uniprot\":\"HSP42_YEAST\",\"sgd\":\"S000002578\",\"entrez\":851751,\"name\":\"YDR171W\"},{\"alias\":\"HMO1, HSM2, S000002581\",\"annotation.DB_Object_Name\":null,\"annotation.GO BIOLOGICAL_PROCESS\":\"plasmid maintenance, telomere maintenance\",\"annotation.GO CELLULAR_COMPONENT\":\"cytoplasm, nuclear chromatin, nucleolus, nucleus\",\"annotation.GO MOLECULAR_FUNCTION\":\"RNA polymerase I transcription factor activity, single-stranded DNA binding\",\"label\":\"HMO1\",\"kegg\":\"sce:YDR174W\",\"uniprot\":\"HMO1_YEAST\",\"sgd\":\"S000002581\",\"entrez\":851754,\"name\":\"YDR174W\"},{\"alias\":\"ATC1, LIC4, S000002592\",\"annotation.DB_Object_Name\":null,\"annotation.GO BIOLOGICAL_PROCESS\":\"bipolar bud site selection, response to stress, telomere maintenance\",\"annotation.GO CELLULAR_COMPONENT\":\"nucleus\",\"annotation.GO MOLECULAR_FUNCTION\":\"molecular_function\",\"label\":\"LIC4\",\"kegg\":\"sce:YDR184C\",\"uniprot\":\"LIC4_YEAST\",\"sgd\":\"S000002592\",\"entrez\":851765,\"name\":\"YDR184C\"},{\"alias\":\"PAS10, PEX5, S000002652, peroxin\",\"annotation.DB_Object_Name\":\"peroxin\",\"annotation.GO BIOLOGICAL_PROCESS\":\"peroxisome organization and biogenesis, protein targeting to peroxisome\",\"annotation.GO CELLULAR_COMPONENT\":\"cytosol, peroxisome\",\"annotation.GO MOLECULAR_FUNCTION\":\"peroxisome targeting sequence binding, peroxisome targeting signal-1 binding\",\"label\":\"PEX5\",\"kegg\":\"sce:YDR244W\",\"uniprot\":\"PEX5_YEAST\",\"sgd\":\"S000002652\",\"entrez\":851831,\"name\":\"YDR244W\"},{\"alias\":\"BPC1, DGT1, HTR1, MTH1, S000002685\",\"annotation.DB_Object_Name\":null,\"annotation.GO BIOLOGICAL_PROCESS\":\"glucose transport, signal transduction\",\"annotation.GO CELLULAR_COMPONENT\":\"cellular_component\",\"annotation.GO MOLECULAR_FUNCTION\":\"molecular_function\",\"label\":\"MTH1\",\"kegg\":\"sce:YDR277C\",\"uniprot\":\"MTH1_YEAST\",\"sgd\":\"S000002685\",\"entrez\":851870,\"name\":\"YDR277C\"},{\"alias\":\"BFR2, S000002707\",\"annotation.DB_Object_Name\":null,\"annotation.GO BIOLOGICAL_PROCESS\":\"ER to Golgi vesicle-mediated transport\",\"annotation.GO CELLULAR_COMPONENT\":\"nucleolus\",\"annotation.GO MOLECULAR_FUNCTION\":\"molecular_function\",\"label\":\"BFR2\",\"kegg\":\"sce:YDR299W\",\"uniprot\":\"BFR2_YEAST\",\"sgd\":\"S000002707\",\"entrez\":851893,\"name\":\"YDR299W\"},{\"alias\":\"GIC2, S000002717\",\"annotation.DB_Object_Name\":null,\"annotation.GO BIOLOGICAL_PROCESS\":\"Rho protein signal transduction, axial bud site selection, establishment of cell polarity (sensu the Fungi research community), regulation of exit from mitosis\",\"annotation.GO CELLULAR_COMPONENT\":\"actin cap, bud tip, incipient bud site, mating projection tip\",\"annotation.GO MOLECULAR_FUNCTION\":\"small GTPase regulator activity\",\"label\":\"GIC2\",\"kegg\":\"sce:YDR309C\",\"uniprot\":\"GIC2_YEAST\",\"sgd\":\"S000002717\",\"entrez\":851904,\"name\":\"YDR309C\"},{\"alias\":\"75 kDa subunit component, S000002719, TFB1, transcription initiation factor IIb\",\"annotation.DB_Object_Name\":\"transcription initiation factor IIb, 75 kDa subunit component\",\"annotation.GO BIOLOGICAL_PROCESS\":\"negative regulation of transcription from RNA polymerase II promoter, mitotic, nucleotide-excision repair, nucleotide-excision repair, DNA duplex unwinding, transcription initiation from RNA polymerase II promoter\",\"annotation.GO CELLULAR_COMPONENT\":\"nucleotide-excision repair factor 3 complex, transcription factor TFIIH complex\",\"annotation.GO MOLECULAR_FUNCTION\":\"general RNA polymerase II transcription factor activity\",\"label\":\"TFB1\",\"kegg\":\"sce:YDR311W\",\"uniprot\":\"TFB1_YEAST\",\"sgd\":\"S000002719\",\"entrez\":851906,\"name\":\"YDR311W\"},{\"alias\":\"PEP7, S000002731, VAC1, VPL21, VPS19, VPT19\",\"annotation.DB_Object_Name\":null,\"annotation.GO BIOLOGICAL_PROCESS\":\"Golgi to vacuole transport, vesicle docking during exocytosis, vesicle fusion\",\"annotation.GO CELLULAR_COMPONENT\":\"cytoplasm, external side of endosome membrane\",\"annotation.GO MOLECULAR_FUNCTION\":\"molecular_function\",\"label\":\"PEP7\",\"kegg\":\"sce:YDR323C\",\"uniprot\":\"PEP7_YEAST\",\"sgd\":\"S000002731\",\"entrez\":851923,\"name\":\"YDR323C\"},{\"alias\":\"KAP142, MSN5, S000002743, STE21\",\"annotation.DB_Object_Name\":null,\"annotation.GO BIOLOGICAL_PROCESS\":\"protein export from nucleus\",\"annotation.GO CELLULAR_COMPONENT\":\"nucleus\",\"annotation.GO MOLECULAR_FUNCTION\":\"importin-alpha export receptor activity, protein binding\",\"label\":\"MSN5\",\"kegg\":\"sce:YDR335W\",\"uniprot\":\"MSN5_YEAST\",\"sgd\":\"S000002743\",\"entrez\":851935,\"name\":\"YDR335W\"},{\"alias\":\"S000002762, TRP4, anthranilate phosphoribosyl transferase\",\"annotation.DB_Object_Name\":\"anthranilate phosphoribosyl transferase\",\"annotation.GO BIOLOGICAL_PROCESS\":\"tryptophan biosynthetic process\",\"annotation.GO CELLULAR_COMPONENT\":\"cytoplasm, nucleus\",\"annotation.GO MOLECULAR_FUNCTION\":\"anthranilate phosphoribosyltransferase activity\",\"label\":\"TRPD\",\"kegg\":\"sce:YDR354W\",\"uniprot\":\"TRPD_YEAST\",\"sgd\":\"S000002762\",\"entrez\":851956,\"name\":\"YDR354W\"},{\"alias\":\"RPL45, RPP2B, S000002790, YPA1, ribosomal protein P2B (YP2beta) (L45)\",\"annotation.DB_Object_Name\":\"ribosomal protein P2B (YP2beta) (L45)\",\"annotation.GO BIOLOGICAL_PROCESS\":\"translational elongation\",\"annotation.GO CELLULAR_COMPONENT\":\"cytosolic large ribosomal subunit (sensu the Eukaryota research community)\",\"annotation.GO MOLECULAR_FUNCTION\":\"structural constituent of ribosome\",\"label\":\"RLA4\",\"kegg\":\"sce:YDR382W\",\"uniprot\":\"RLA4_YEAST\",\"sgd\":\"S000002790\",\"entrez\":851990,\"name\":\"YDR382W\"},{\"alias\":\"KAP108, S000002803, SXM1\",\"annotation.DB_Object_Name\":null,\"annotation.GO BIOLOGICAL_PROCESS\":\"mRNA export from nucleus, nucleocytoplasmic transport\",\"annotation.GO CELLULAR_COMPONENT\":\"nucleus\",\"annotation.GO MOLECULAR_FUNCTION\":\"protein carrier activity\",\"label\":\"SXM1\",\"kegg\":\"sce:YDR395W\",\"uniprot\":\"SXM1_YEAST\",\"sgd\":\"S000002803\",\"entrez\":852004,\"name\":\"YDR395W\"},{\"alias\":\"S000002820\",\"annotation.DB_Object_Name\":null,\"annotation.GO BIOLOGICAL_PROCESS\":\"rRNA processing\",\"annotation.GO CELLULAR_COMPONENT\":\"cytoplasm\",\"annotation.GO MOLECULAR_FUNCTION\":\"molecular_function\",\"label\":\"RRP17\",\"kegg\":\"sce:YDR412W\",\"uniprot\":\"RRP17_YEAST\",\"sgd\":\"S000002820\",\"entrez\":852021,\"name\":\"YDR412W\"},{\"alias\":\"S000002837, TIF35, translation initiation factor eIF3 subunit\",\"annotation.DB_Object_Name\":\"translation initiation factor eIF3 subunit\",\"annotation.GO BIOLOGICAL_PROCESS\":\"translational initiation\",\"annotation.GO CELLULAR_COMPONENT\":\"eukaryotic translation initiation factor 3 complex\",\"annotation.GO MOLECULAR_FUNCTION\":\"translation initiation factor activity\",\"label\":\"EIF3G\",\"kegg\":\"sce:YDR429C\",\"uniprot\":\"EIF3G_YEAST\",\"sgd\":\"S000002837\",\"entrez\":852039,\"name\":\"YDR429C\"},{\"alias\":\"MFA1, S000002869, a-factor mating pheromone precursor\",\"annotation.DB_Object_Name\":\"a-factor mating pheromone precursor\",\"annotation.GO BIOLOGICAL_PROCESS\":\"pheromone-dependent signal transduction during conjugation with cellular fusion\",\"annotation.GO CELLULAR_COMPONENT\":\"extracellular region, soluble fraction\",\"annotation.GO MOLECULAR_FUNCTION\":\"mating pheromone activity\",\"label\":\"MFA1\",\"kegg\":\"sce:YDR461W\",\"uniprot\":\"MFA1_YEAST\",\"sgd\":\"S000002869\",\"entrez\":852072,\"name\":\"YDR461W\"},{\"alias\":\"AAS3, ARG9, GCN4, S000000735, transcriptional activator of amino acid biosynthetic genes\",\"annotation.DB_Object_Name\":\"transcriptional activator of amino acid biosynthetic genes\",\"annotation.GO BIOLOGICAL_PROCESS\":\"amino acid biosynthetic process, regulation of transcription from RNA polymerase II promoter, unfolded protein response, positive regulation of target gene transcription\",\"annotation.GO CELLULAR_COMPONENT\":\"nucleus\",\"annotation.GO MOLECULAR_FUNCTION\":\"DNA binding, transcription factor activity\",\"label\":\"GCN4\",\"kegg\":\"sce:YEL009C\",\"uniprot\":\"GCN4_YEAST\",\"sgd\":\"S000000735\",\"entrez\":856709,\"name\":\"YEL009C\"},{\"alias\":\"DCP3, EDC3, LSM16, S000000741\",\"annotation.DB_Object_Name\":null,\"annotation.GO BIOLOGICAL_PROCESS\":\"deadenylation-independent decapping\",\"annotation.GO CELLULAR_COMPONENT\":\"cytoplasmic mRNA processing body\",\"annotation.GO MOLECULAR_FUNCTION\":\"molecular_function\",\"label\":\"EDC3\",\"kegg\":\"sce:YEL015W\",\"uniprot\":\"EDC3_YEAST\",\"sgd\":\"S000000741\",\"entrez\":856700,\"name\":\"YEL015W\"},{\"alias\":\"CYC7, S000000765, iso-2-cytochrome c\",\"annotation.DB_Object_Name\":\"iso-2-cytochrome c\",\"annotation.GO BIOLOGICAL_PROCESS\":\"electron transport\",\"annotation.GO CELLULAR_COMPONENT\":\"mitochondrial intermembrane space, mitochondrion\",\"annotation.GO MOLECULAR_FUNCTION\":\"electron carrier activity\",\"label\":\"CYC7\",\"kegg\":\"sce:YEL039C\",\"uniprot\":\"CYC7_YEAST\",\"sgd\":\"S000000765\",\"entrez\":856672,\"name\":\"YEL039C\"},{\"alias\":\"S000000767, YEF1\",\"annotation.DB_Object_Name\":null,\"annotation.GO BIOLOGICAL_PROCESS\":\"NADP biosynthetic process\",\"annotation.GO CELLULAR_COMPONENT\":\"cellular_component\",\"annotation.GO MOLECULAR_FUNCTION\":\"NAD+ kinase activity, NADH kinase activity\",\"label\":\"YEF1\",\"kegg\":\"sce:YEL041W\",\"uniprot\":\"YEF1_YEAST\",\"sgd\":\"S000000767\",\"entrez\":856670,\"name\":\"YEL041W\"},{\"alias\":\"GLN3, S000000842, transcriptional activator of nitrogen-regulated genes\",\"annotation.DB_Object_Name\":\"transcriptional activator of nitrogen-regulated genes\",\"annotation.GO BIOLOGICAL_PROCESS\":\"nitrogen compound metabolic process, positive regulation of transcription, positive regulation of transcription from RNA polymerase II promoter, regulation of nitrogen utilization\",\"annotation.GO CELLULAR_COMPONENT\":\"cytosol, nucleus\",\"annotation.GO MOLECULAR_FUNCTION\":\"transcription factor activity, transcriptional activator activity\",\"label\":\"GLN3\",\"kegg\":\"sce:YER040W\",\"uniprot\":\"GLN3_YEAST\",\"sgd\":\"S000000842\",\"entrez\":856763,\"name\":\"YER040W\"},{\"alias\":\"BOR1, HOM3, S000000854, SIL4, aspartate kinase (L-aspartate 4-P-transferase) (EC 2.7.2.4)\",\"annotation.DB_Object_Name\":\"aspartate kinase (L-aspartate 4-P-transferase) (EC 2.7.2.4)\",\"annotation.GO BIOLOGICAL_PROCESS\":\"homoserine biosynthetic process, methionine metabolic process, threonine metabolic process\",\"annotation.GO CELLULAR_COMPONENT\":\"cytoplasm\",\"annotation.GO MOLECULAR_FUNCTION\":\"aspartate kinase activity\",\"label\":\"AK\",\"kegg\":\"sce:YER052C\",\"uniprot\":\"AK_YEAST\",\"sgd\":\"S000000854\",\"entrez\":856778,\"name\":\"YER052C\"},{\"alias\":\"GIP2, S000000856\",\"annotation.DB_Object_Name\":null,\"annotation.GO BIOLOGICAL_PROCESS\":\"glycogen metabolic process, protein amino acid dephosphorylation\",\"annotation.GO CELLULAR_COMPONENT\":\"protein phosphatase type 1 complex\",\"annotation.GO MOLECULAR_FUNCTION\":\"protein phosphatase regulator activity\",\"label\":\"GIP2\",\"kegg\":\"sce:YER054C\",\"uniprot\":\"GIP2_YEAST\",\"sgd\":\"S000000856\",\"entrez\":856781,\"name\":\"YER054C\"},{\"alias\":\"GPP2, HOR2, S000000864\",\"annotation.DB_Object_Name\":null,\"annotation.GO BIOLOGICAL_PROCESS\":\"carbohydrate metabolic process, glycerol biosynthetic process, response to osmotic stress\",\"annotation.GO CELLULAR_COMPONENT\":\"cytoplasm, nucleus\",\"annotation.GO MOLECULAR_FUNCTION\":\"glycerol-1-phosphatase activity\",\"label\":\"GPP2\",\"kegg\":\"sce:YER062C\",\"uniprot\":\"GPP2_YEAST\",\"sgd\":\"S000000864\",\"entrez\":856791,\"name\":\"YER062C\"},{\"alias\":\"ICL1, S000000867, isocitrate lyase\",\"annotation.DB_Object_Name\":\"isocitrate lyase\",\"annotation.GO BIOLOGICAL_PROCESS\":\"glyoxylate cycle\",\"annotation.GO CELLULAR_COMPONENT\":\"cellular_component\",\"annotation.GO MOLECULAR_FUNCTION\":\"isocitrate lyase activity\",\"label\":\"ACEA\",\"kegg\":\"sce:YER065C\",\"uniprot\":\"ACEA_YEAST\",\"sgd\":\"S000000867\",\"entrez\":856794,\"name\":\"YER065C\"},{\"alias\":\"RPS24A, RPS24EA, S000000876, ribosomal protein S24A\",\"annotation.DB_Object_Name\":\"ribosomal protein S24A\",\"annotation.GO BIOLOGICAL_PROCESS\":null,\"annotation.GO CELLULAR_COMPONENT\":\"cytosolic small ribosomal subunit (sensu the Eukaryota research community), mitochondrion\",\"annotation.GO MOLECULAR_FUNCTION\":\"structural constituent of ribosome\",\"label\":\"RS24A\",\"kegg\":\"sce:YER074W\",\"uniprot\":\"RS24A_YEAST\",\"sgd\":\"S000000876\",\"entrez\":854741,\"name\":\"YER074W\"},{\"alias\":\"RPS24A, RPS24EA, S000000876, ribosomal protein S24A\",\"annotation.DB_Object_Name\":\"ribosomal protein S24A\",\"annotation.GO BIOLOGICAL_PROCESS\":null,\"annotation.GO CELLULAR_COMPONENT\":\"cytosolic small ribosomal subunit (sensu the Eukaryota research community), mitochondrion\",\"annotation.GO MOLECULAR_FUNCTION\":\"structural constituent of ribosome\",\"label\":\"RS24A\",\"kegg\":\"sce:YER074W\",\"uniprot\":\"RS24A_YEAST\",\"sgd\":\"S000000876\",\"entrez\":856805,\"name\":\"YER074W\"},{\"alias\":\"RPS24A, RPS24EA, S000000876, ribosomal protein S24A\",\"annotation.DB_Object_Name\":\"ribosomal protein S24A\",\"annotation.GO BIOLOGICAL_PROCESS\":null,\"annotation.GO CELLULAR_COMPONENT\":\"cytosolic small ribosomal subunit (sensu the Eukaryota research community), mitochondrion\",\"annotation.GO MOLECULAR_FUNCTION\":\"structural constituent of ribosome\",\"label\":\"RS24B\",\"kegg\":\"sce:YER074W\",\"uniprot\":\"RS24B_YEAST\",\"sgd\":\"S000001331\",\"entrez\":854741,\"name\":\"YER074W\"},{\"alias\":\"RPS24A, RPS24EA, S000000876, ribosomal protein S24A\",\"annotation.DB_Object_Name\":\"ribosomal protein S24A\",\"annotation.GO BIOLOGICAL_PROCESS\":null,\"annotation.GO CELLULAR_COMPONENT\":\"cytosolic small ribosomal subunit (sensu the Eukaryota research community), mitochondrion\",\"annotation.GO MOLECULAR_FUNCTION\":\"structural constituent of ribosome\",\"label\":\"RS24B\",\"kegg\":\"sce:YER074W\",\"uniprot\":\"RS24B_YEAST\",\"sgd\":\"S000001331\",\"entrez\":856805,\"name\":\"YER074W\"},{\"alias\":\"S000000881\",\"annotation.DB_Object_Name\":null,\"annotation.GO BIOLOGICAL_PROCESS\":\"biological_process\",\"annotation.GO CELLULAR_COMPONENT\":\"cytoplasm, nucleus\",\"annotation.GO MOLECULAR_FUNCTION\":\"molecular_function\",\"label\":\"YEQ9\",\"kegg\":\"sce:YER079W\",\"uniprot\":\"YEQ9_YEAST\",\"sgd\":\"S000000881\",\"entrez\":856812,\"name\":\"YER079W\"},{\"alias\":\"3-phosphoglycerate dehydrogenase, S000000883, SER3\",\"annotation.DB_Object_Name\":\"3-phosphoglycerate dehydrogenase\",\"annotation.GO BIOLOGICAL_PROCESS\":\"serine family amino acid biosynthetic process\",\"annotation.GO CELLULAR_COMPONENT\":\"cytoplasm\",\"annotation.GO MOLECULAR_FUNCTION\":\"phosphoglycerate dehydrogenase activity\",\"label\":\"SERA\",\"kegg\":\"sce:YER081W\",\"uniprot\":\"SERA_YEAST\",\"sgd\":\"S000000883\",\"entrez\":856814,\"name\":\"YER081W\"},{\"alias\":\"S000000892, TRP2, anthranilate synthase component I\",\"annotation.DB_Object_Name\":\"anthranilate synthase component I\",\"annotation.GO BIOLOGICAL_PROCESS\":\"tryptophan biosynthetic process\",\"annotation.GO CELLULAR_COMPONENT\":\"anthranilate synthase complex, cytoplasm\",\"annotation.GO MOLECULAR_FUNCTION\":\"anthranilate synthase activity\",\"label\":\"TRPE\",\"kegg\":\"sce:YER090W\",\"uniprot\":\"TRPE_YEAST\",\"sgd\":\"S000000892\",\"entrez\":856824,\"name\":\"YER090W\"},{\"alias\":\"RPS8B, S000000904, ribosomal protein S8B (S14B) (rp19) (YS9)\",\"annotation.DB_Object_Name\":\"ribosomal protein S8B (S14B) (rp19) (YS9)\",\"annotation.GO BIOLOGICAL_PROCESS\":null,\"annotation.GO CELLULAR_COMPONENT\":\"cytosolic small ribosomal subunit (sensu the Eukaryota research community)\",\"annotation.GO MOLECULAR_FUNCTION\":\"structural constituent of ribosome\",\"label\":\"RS8A\",\"kegg\":\"sce:YER102W\",\"uniprot\":\"RS8A_YEAST\",\"sgd\":\"S000000168\",\"entrez\":852206,\"name\":\"YER102W\"},{\"alias\":\"RPS8B, S000000904, ribosomal protein S8B (S14B) (rp19) (YS9)\",\"annotation.DB_Object_Name\":\"ribosomal protein S8B (S14B) (rp19) (YS9)\",\"annotation.GO BIOLOGICAL_PROCESS\":null,\"annotation.GO CELLULAR_COMPONENT\":\"cytosolic small ribosomal subunit (sensu the Eukaryota research community)\",\"annotation.GO MOLECULAR_FUNCTION\":\"structural constituent of ribosome\",\"label\":\"RS8A\",\"kegg\":\"sce:YER102W\",\"uniprot\":\"RS8A_YEAST\",\"sgd\":\"S000000168\",\"entrez\":856839,\"name\":\"YER102W\"},{\"alias\":\"RPS8B, S000000904, ribosomal protein S8B (S14B) (rp19) (YS9)\",\"annotation.DB_Object_Name\":\"ribosomal protein S8B (S14B) (rp19) (YS9)\",\"annotation.GO BIOLOGICAL_PROCESS\":null,\"annotation.GO CELLULAR_COMPONENT\":\"cytosolic small ribosomal subunit (sensu the Eukaryota research community)\",\"annotation.GO MOLECULAR_FUNCTION\":\"structural constituent of ribosome\",\"label\":\"RS8B\",\"kegg\":\"sce:YER102W\",\"uniprot\":\"RS8B_YEAST\",\"sgd\":\"S000000904\",\"entrez\":852206,\"name\":\"YER102W\"},{\"alias\":\"RPS8B, S000000904, ribosomal protein S8B (S14B) (rp19) (YS9)\",\"annotation.DB_Object_Name\":\"ribosomal protein S8B (S14B) (rp19) (YS9)\",\"annotation.GO BIOLOGICAL_PROCESS\":null,\"annotation.GO CELLULAR_COMPONENT\":\"cytosolic small ribosomal subunit (sensu the Eukaryota research community)\",\"annotation.GO MOLECULAR_FUNCTION\":\"structural constituent of ribosome\",\"label\":\"RS8B\",\"kegg\":\"sce:YER102W\",\"uniprot\":\"RS8B_YEAST\",\"sgd\":\"S000000904\",\"entrez\":856839,\"name\":\"YER102W\"},{\"alias\":\"S000000905, SSA4, YG107\",\"annotation.DB_Object_Name\":null,\"annotation.GO BIOLOGICAL_PROCESS\":\"SRP-dependent cotranslational protein targeting to membrane, translocation, protein folding, response to stress\",\"annotation.GO CELLULAR_COMPONENT\":\"cytoplasm, nucleus\",\"annotation.GO MOLECULAR_FUNCTION\":\"ATPase activity, unfolded protein binding\",\"label\":\"HSP74\",\"kegg\":\"sce:YER103W\",\"uniprot\":\"HSP74_YEAST\",\"sgd\":\"S000000905\",\"entrez\":856840,\"name\":\"YER103W\"},{\"alias\":\"KAP123, S000000912, YRB4, karyopherin beta 4\",\"annotation.DB_Object_Name\":\"karyopherin beta 4\",\"annotation.GO BIOLOGICAL_PROCESS\":\"protein import into nucleus\",\"annotation.GO CELLULAR_COMPONENT\":\"cytoplasm, nuclear pore, nucleus\",\"annotation.GO MOLECULAR_FUNCTION\":\"protein carrier activity\",\"label\":\"IMB4\",\"kegg\":\"sce:YER110C\",\"uniprot\":\"IMB4_YEAST\",\"sgd\":\"S000000912\",\"entrez\":856846,\"name\":\"YER110C\"},{\"alias\":\"ART1, S000000913, SWI4, transcription factor\",\"annotation.DB_Object_Name\":\"transcription factor\",\"annotation.GO BIOLOGICAL_PROCESS\":\"G1\\/S transition of mitotic cell cycle, transcription\",\"annotation.GO CELLULAR_COMPONENT\":\"nucleus\",\"annotation.GO MOLECULAR_FUNCTION\":\"DNA binding, transcription factor activity\",\"label\":\"SWI4\",\"kegg\":\"sce:YER111C\",\"uniprot\":\"SWI4_YEAST\",\"sgd\":\"S000000913\",\"entrez\":856847,\"name\":\"YER111C\"},{\"alias\":\"LSM4, S000000914, SDB23, USS1\",\"annotation.DB_Object_Name\":null,\"annotation.GO BIOLOGICAL_PROCESS\":\"mRNA catabolic process, nuclear mRNA splicing, via spliceosome\",\"annotation.GO CELLULAR_COMPONENT\":\"U4\\/U6 x U5 tri-snRNP complex, nucleolus, small nucleolar ribonucleoprotein complex, snRNP U6\",\"annotation.GO MOLECULAR_FUNCTION\":\"RNA binding, RNA splicing factor activity, transesterification mechanism\",\"label\":\"LSM4\",\"kegg\":\"sce:YER112W\",\"uniprot\":\"LSM4_YEAST\",\"sgd\":\"S000000914\",\"entrez\":856848,\"name\":\"YER112W\"},{\"alias\":\"S000000918, SLX8\",\"annotation.DB_Object_Name\":null,\"annotation.GO BIOLOGICAL_PROCESS\":\"protein sumoylation, response to DNA damage stimulus, telomere maintenance\",\"annotation.GO CELLULAR_COMPONENT\":\"cellular_component\",\"annotation.GO MOLECULAR_FUNCTION\":\"molecular_function\",\"label\":\"SLX8\",\"kegg\":\"sce:YER116C\",\"uniprot\":\"SLX8_YEAST\",\"sgd\":\"S000000918\",\"entrez\":856852,\"name\":\"YER116C\"},{\"alias\":\"DSE1, S000000926\",\"annotation.DB_Object_Name\":null,\"annotation.GO BIOLOGICAL_PROCESS\":\"cell wall organization and biogenesis\",\"annotation.GO CELLULAR_COMPONENT\":\"bud neck\",\"annotation.GO MOLECULAR_FUNCTION\":\"molecular_function\",\"label\":\"DSE1\",\"kegg\":\"sce:YER124C\",\"uniprot\":\"DSE1_YEAST\",\"sgd\":\"S000000926\",\"entrez\":856861,\"name\":\"YER124C\"},{\"alias\":\"CID1, DIS2, DIS2S1, GLC7, PP1, S000000935, protein phosphatase type I\",\"annotation.DB_Object_Name\":\"protein phosphatase type I\",\"annotation.GO BIOLOGICAL_PROCESS\":\"35S primary transcript processing, cell budding, cell ion homeostasis, cellular morphogenesis during vegetative growth, chromosome segregation, glycogen metabolic process, histone dephosphorylation, meiosis, mitotic spindle checkpoint, protein amino acid dephosphorylation, regulation of carbohydrate metabolic process, regulation of progression through cell cycle, response to heat, sporulation (sensu the Fungi research community), transcription termination from Pol II promoter, RNA polymerase(A) coupled, transcription termination from Pol II promoter, RNA polymerase(A)-independent\",\"annotation.GO CELLULAR_COMPONENT\":\"bud neck, mRNA cleavage and polyadenylation specificity factor complex, mating projection base, nucleolus, protein phosphatase type 1 complex, spindle pole body\",\"annotation.GO MOLECULAR_FUNCTION\":\"protein phosphatase type 1 activity\",\"label\":\"PP12\",\"kegg\":\"sce:YER133W\",\"uniprot\":\"PP12_YEAST\",\"sgd\":\"S000000935\",\"entrez\":856870,\"name\":\"YER133W\"},{\"alias\":\"DDI1, S000000945, VSM1\",\"annotation.DB_Object_Name\":null,\"annotation.GO BIOLOGICAL_PROCESS\":\"ubiquitin-dependent protein catabolic process, vesicle-mediated transport\",\"annotation.GO CELLULAR_COMPONENT\":\"plasma membrane\",\"annotation.GO MOLECULAR_FUNCTION\":\"SNARE binding\",\"label\":\"DDI1\",\"kegg\":\"sce:YER143W\",\"uniprot\":\"DDI1_YEAST\",\"sgd\":\"S000000945\",\"entrez\":856886,\"name\":\"YER143W\"},{\"alias\":\"FTR1, S000000947, iron permease\",\"annotation.DB_Object_Name\":\"iron permease\",\"annotation.GO BIOLOGICAL_PROCESS\":\"high affinity iron ion transport\",\"annotation.GO CELLULAR_COMPONENT\":\"plasma membrane\",\"annotation.GO MOLECULAR_FUNCTION\":\"iron ion transporter activity\",\"label\":\"FTR1\",\"kegg\":\"sce:YER145C\",\"uniprot\":\"FTR1_YEAST\",\"sgd\":\"S000000947\",\"entrez\":856888,\"name\":\"YER145C\"},{\"alias\":\"DMC1, ISC2, S000000981\",\"annotation.DB_Object_Name\":null,\"annotation.GO BIOLOGICAL_PROCESS\":\"meiosis, meiotic joint molecule formation, meiotic recombination\",\"annotation.GO CELLULAR_COMPONENT\":\"condensed nuclear chromosome, nucleus\",\"annotation.GO MOLECULAR_FUNCTION\":\"double-stranded DNA binding, single-stranded DNA binding\",\"label\":\"DMC1\",\"kegg\":\"sce:YER179W\",\"uniprot\":\"DMC1_YEAST\",\"sgd\":\"S000000981\",\"entrez\":856926,\"name\":\"YER179W\"},{\"alias\":\"GNA1, PAT1, S000001877, glucosamine-phosphate N-acetyltransferase\",\"annotation.DB_Object_Name\":\"glucosamine-phosphate N-acetyltransferase\",\"annotation.GO BIOLOGICAL_PROCESS\":\"UDP-N-acetylglucosamine biosynthetic process\",\"annotation.GO CELLULAR_COMPONENT\":\"cytoplasm, nucleus\",\"annotation.GO MOLECULAR_FUNCTION\":\"glucosamine 6-phosphate N-acetyltransferase activity\",\"label\":\"GNA1\",\"kegg\":\"sce:YFL017C\",\"uniprot\":\"GNA1_YEAST\",\"sgd\":\"S000001877\",\"entrez\":850529,\"name\":\"YFL017C\"},{\"alias\":\"alpha-factor pheromone receptor, G protein coupled receptor (GPCR), S000001868, STE2\",\"annotation.DB_Object_Name\":\"G protein coupled receptor (GPCR), alpha-factor pheromone receptor\",\"annotation.GO BIOLOGICAL_PROCESS\":\"cell projection biogenesis, response to pheromone during conjugation with cellular fusion\",\"annotation.GO CELLULAR_COMPONENT\":\"integral to plasma membrane\",\"annotation.GO MOLECULAR_FUNCTION\":\"mating-type alpha-factor pheromone receptor activity\",\"label\":\"STE2\",\"kegg\":\"sce:YFL026W\",\"uniprot\":\"STE2_YEAST\",\"sgd\":\"S000001868\",\"entrez\":850518,\"name\":\"YFL026W\"},{\"alias\":\"GTP-binding protein, S000001856, YP2, YPT1\",\"annotation.DB_Object_Name\":\"GTP-binding protein\",\"annotation.GO BIOLOGICAL_PROCESS\":\"ER to Golgi vesicle-mediated transport, protein complex assembly\",\"annotation.GO CELLULAR_COMPONENT\":\"Golgi membrane, endoplasmic reticulum membrane, mitochondrion\",\"annotation.GO MOLECULAR_FUNCTION\":\"GTPase activity\",\"label\":\"YPT1\",\"kegg\":\"sce:YFL038C\",\"uniprot\":\"YPT1_YEAST\",\"sgd\":\"S000001856\",\"entrez\":850505,\"name\":\"YFL038C\"},{\"alias\":\"ABY1, ACT1, END7, S000001855, actin\",\"annotation.DB_Object_Name\":\"actin\",\"annotation.GO BIOLOGICAL_PROCESS\":\"actin filament reorganization during cell cycle, budding cell isotropic bud growth, cell wall organization and biogenesis, chronological cell aging, cytokinesis, cytokinesis, contractile ring contraction, endocytosis, establishment of cell polarity (sensu the Fungi research community), establishment of mitotic spindle orientation, exocytosis, histone acetylation, mitochondrion inheritance, protein secretion, regulation of transcription from RNA polymerase II promoter, response to osmotic stress, sporulation (sensu the Fungi research community), vacuole inheritance, vesicle transport along actin filament\",\"annotation.GO CELLULAR_COMPONENT\":\"H4\\/H2A histone acetyltransferase complex, INO80 complex, SWR1 complex, actin cable, actin cortical patch, actin filament, bud neck contractile ring, histone acetyltransferase complex\",\"annotation.GO MOLECULAR_FUNCTION\":\"structural constituent of cytoskeleton\",\"label\":\"ACT\",\"kegg\":\"sce:YFL039C\",\"uniprot\":\"ACT_YEAST\",\"sgd\":\"S000001855\",\"entrez\":850504,\"name\":\"YFL039C\"},{\"alias\":\"CMK1, S000001910, calmodulin-dependent protein kinase\",\"annotation.DB_Object_Name\":\"calmodulin-dependent protein kinase\",\"annotation.GO BIOLOGICAL_PROCESS\":\"protein amino acid phosphorylation, signal transduction\",\"annotation.GO CELLULAR_COMPONENT\":\"cytoplasm\",\"annotation.GO MOLECULAR_FUNCTION\":\"calmodulin-dependent protein kinase I activity\",\"label\":\"KCC1\",\"kegg\":\"sce:YFR014C\",\"uniprot\":\"KCC1_YEAST\",\"sgd\":\"S000001910\",\"entrez\":850568,\"name\":\"YFR014C\"},{\"alias\":\"PHO4, S000001930, myc-family transcription factor\",\"annotation.DB_Object_Name\":\"myc-family transcription factor\",\"annotation.GO BIOLOGICAL_PROCESS\":\"cellular response to phosphate starvation, phosphate metabolic process\",\"annotation.GO CELLULAR_COMPONENT\":\"cytoplasm, nucleus\",\"annotation.GO MOLECULAR_FUNCTION\":\"transcription factor activity\",\"label\":\"PHO4\",\"kegg\":\"sce:YFR034C\",\"uniprot\":\"PHO4_YEAST\",\"sgd\":\"S000001930\",\"entrez\":850594,\"name\":\"YFR034C\"},{\"alias\":\"RSC8, S000001933, SWH3\",\"annotation.DB_Object_Name\":null,\"annotation.GO BIOLOGICAL_PROCESS\":\"chromatin remodeling, double-strand break repair via nonhomologous end joining\",\"annotation.GO CELLULAR_COMPONENT\":\"RSC complex, nucleus\",\"annotation.GO MOLECULAR_FUNCTION\":\"molecular_function\",\"label\":\"RSC8\",\"kegg\":\"sce:YFR037C\",\"uniprot\":\"RSC8_YEAST\",\"sgd\":\"S000001933\",\"entrez\":850598,\"name\":\"YFR037C\"},{\"alias\":\"PMA1, S000002976, plasma membrane H+-ATPase\",\"annotation.DB_Object_Name\":\"plasma membrane H+-ATPase\",\"annotation.GO BIOLOGICAL_PROCESS\":\"proton transport, regulation of pH\",\"annotation.GO CELLULAR_COMPONENT\":\"lipid raft, mitochondrion, plasma membrane\",\"annotation.GO MOLECULAR_FUNCTION\":\"hydrogen-exporting ATPase activity, phosphorylative mechanism\",\"label\":\"PMA1\",\"kegg\":\"sce:YGL008C\",\"uniprot\":\"PMA1_YEAST\",\"sgd\":\"S000002976\",\"entrez\":852876,\"name\":\"YGL008C\"},{\"alias\":\"AMY1, ANT1, BOR2, CYH3, NRA2, PDR1, S000002981, SMR2, TIL1, TPE1, TPE3, zinc finger transcription factor of the Zn(2)-Cys(6) binuclear cluster domain type\",\"annotation.DB_Object_Name\":\"zinc finger transcription factor of the Zn(2)-Cys(6) binuclear cluster domain type\",\"annotation.GO BIOLOGICAL_PROCESS\":\"regulation of transcription from RNA polymerase II promoter, response to drug\",\"annotation.GO CELLULAR_COMPONENT\":\"nucleus\",\"annotation.GO MOLECULAR_FUNCTION\":\"DNA binding, transcriptional activator activity\",\"label\":\"PDR1\",\"kegg\":\"sce:YGL013C\",\"uniprot\":\"PDR1_YEAST\",\"sgd\":\"S000002981\",\"entrez\":852871,\"name\":\"YGL013C\"},{\"alias\":\"C2H2 zinc finger protein that resembles the mammalian Egr and Wilms tumour proteins, CAT4, MIG1, S000003003, SSN1, TDS22\",\"annotation.DB_Object_Name\":\"C2H2 zinc finger protein that resembles the mammalian Egr and Wilms tumour proteins\",\"annotation.GO BIOLOGICAL_PROCESS\":\"glucose metabolic process, regulation of transcription from RNA polymerase II promoter\",\"annotation.GO CELLULAR_COMPONENT\":\"cytoplasm, nucleus\",\"annotation.GO MOLECULAR_FUNCTION\":\"specific RNA polymerase II transcription factor activity\",\"label\":\"MIG1\",\"kegg\":\"sce:YGL035C\",\"uniprot\":\"MIG1_YEAST\",\"sgd\":\"S000003003\",\"entrez\":852848,\"name\":\"YGL035C\"},{\"alias\":\"RNA15, S000003012, cleavage and polyadenylation factor CF I component involved in pre-mRNA 3'-end processing\",\"annotation.DB_Object_Name\":\"cleavage and polyadenylation factor CF I component involved in pre-mRNA 3'-end processing\",\"annotation.GO BIOLOGICAL_PROCESS\":\"mRNA cleavage, mRNA polyadenylation\",\"annotation.GO CELLULAR_COMPONENT\":\"mRNA cleavage factor complex\",\"annotation.GO MOLECULAR_FUNCTION\":\"RNA binding, protein heterodimerization activity\",\"label\":\"RNA15\",\"kegg\":\"sce:YGL044C\",\"uniprot\":\"RNA15_YEAST\",\"sgd\":\"S000003012\",\"entrez\":852838,\"name\":\"YGL044C\"},{\"alias\":\"EXA3, HSF1, MAS3, S000003041, heat shock transcription factor\",\"annotation.DB_Object_Name\":\"heat shock transcription factor\",\"annotation.GO BIOLOGICAL_PROCESS\":\"regulation of transcription from RNA polymerase II promoter, response to heat, response to stress, spindle pole body duplication\",\"annotation.GO CELLULAR_COMPONENT\":\"mitochondrion, nucleus\",\"annotation.GO MOLECULAR_FUNCTION\":\"transcription factor activity\",\"label\":\"HSF\",\"kegg\":\"sce:YGL073W\",\"uniprot\":\"HSF_YEAST\",\"sgd\":\"S000003041\",\"entrez\":852806,\"name\":\"YGL073W\"},{\"alias\":\"MTR1, PRP20, S000003065, SRM1, pheromone response pathway suppressor\",\"annotation.DB_Object_Name\":\"pheromone response pathway suppressor\",\"annotation.GO BIOLOGICAL_PROCESS\":\"rRNA export from nucleus, ribosome export from nucleus\",\"annotation.GO CELLULAR_COMPONENT\":\"nuclear chromatin, nucleus\",\"annotation.GO MOLECULAR_FUNCTION\":\"signal transducer activity\",\"label\":\"RCC1\",\"kegg\":\"sce:YGL097W\",\"uniprot\":\"RCC1_YEAST\",\"sgd\":\"S000003065\",\"entrez\":852782,\"name\":\"YGL097W\"},{\"alias\":\"MLC1, S000003074, myosin Myo2p light chain\",\"annotation.DB_Object_Name\":\"myosin Myo2p light chain\",\"annotation.GO BIOLOGICAL_PROCESS\":\"budding cell apical bud growth, budding cell isotropic bud growth, cytokinesis, cytokinesis, contractile ring formation, endocytosis, establishment of cell polarity (sensu the Fungi research community), membrane addition at site of cytokinesis, mitochondrion inheritance, vacuole inheritance, vesicle-mediated transport\",\"annotation.GO CELLULAR_COMPONENT\":\"bud neck, bud tip, vesicle\",\"annotation.GO MOLECULAR_FUNCTION\":\"microfilament motor activity, myosin II heavy chain binding\",\"label\":\"MLC1\",\"kegg\":\"sce:YGL106W\",\"uniprot\":\"MLC1_YEAST\",\"sgd\":\"S000003074\",\"entrez\":852772,\"name\":\"YGL106W\"},{\"alias\":\"CAT3, S000003083, SCI1, SNF4\",\"annotation.DB_Object_Name\":null,\"annotation.GO BIOLOGICAL_PROCESS\":\"peroxisome organization and biogenesis, regulation of transcription from RNA polymerase II promoter\",\"annotation.GO CELLULAR_COMPONENT\":\"cytoplasm, nucleus, plasma membrane\",\"annotation.GO MOLECULAR_FUNCTION\":\"protein kinase activator activity\",\"label\":\"AAKG\",\"kegg\":\"sce:YGL115W\",\"uniprot\":\"AAKG_YEAST\",\"sgd\":\"S000003083\",\"entrez\":852763,\"name\":\"YGL115W\"},{\"alias\":\"NAB2, S000003090, polyadenylated RNA binding protein\",\"annotation.DB_Object_Name\":\"polyadenylated RNA binding protein\",\"annotation.GO BIOLOGICAL_PROCESS\":\"mRNA polyadenylation, poly(A)+ mRNA export from nucleus\",\"annotation.GO CELLULAR_COMPONENT\":\"cytoplasm, nucleus\",\"annotation.GO MOLECULAR_FUNCTION\":\"poly(A) binding\",\"label\":\"NAB2\",\"kegg\":\"sce:YGL122C\",\"uniprot\":\"NAB2_YEAST\",\"sgd\":\"S000003090\",\"entrez\":852755,\"name\":\"YGL122C\"},{\"alias\":\"PCL10, S000003102\",\"annotation.DB_Object_Name\":null,\"annotation.GO BIOLOGICAL_PROCESS\":\"regulation of glycogen biosynthetic process, regulation of glycogen catabolic process\",\"annotation.GO CELLULAR_COMPONENT\":\"cyclin-dependent protein kinase holoenzyme complex\",\"annotation.GO MOLECULAR_FUNCTION\":\"cyclin-dependent protein kinase regulator activity\",\"label\":\"PCL10\",\"kegg\":\"sce:YGL134W\",\"uniprot\":\"PCL10_YEAST\",\"sgd\":\"S000003102\",\"entrez\":852743,\"name\":\"YGL134W\"},{\"alias\":\"PEX14, S000003121, peroxin\",\"annotation.DB_Object_Name\":\"peroxin\",\"annotation.GO BIOLOGICAL_PROCESS\":\"protein import into peroxisome matrix, protein targeting to peroxisome\",\"annotation.GO CELLULAR_COMPONENT\":\"peroxisomal membrane\",\"annotation.GO MOLECULAR_FUNCTION\":\"protein binding\",\"label\":\"PEX14\",\"kegg\":\"sce:YGL153W\",\"uniprot\":\"PEX14_YEAST\",\"sgd\":\"S000003121\",\"entrez\":852724,\"name\":\"YGL153W\"},{\"alias\":\"S000003129, YIP5\",\"annotation.DB_Object_Name\":null,\"annotation.GO BIOLOGICAL_PROCESS\":\"vesicle-mediated transport\",\"annotation.GO CELLULAR_COMPONENT\":\"membrane\",\"annotation.GO MOLECULAR_FUNCTION\":\"Rab GTPase binding\",\"label\":\"YIP5\",\"kegg\":\"sce:YGL161C\",\"uniprot\":\"YIP5_YEAST\",\"sgd\":\"S000003129\",\"entrez\":852715,\"name\":\"YGL161C\"},{\"alias\":\"ACE1, CUP2, S000003134, transcriptional activator\",\"annotation.DB_Object_Name\":\"transcriptional activator\",\"annotation.GO BIOLOGICAL_PROCESS\":\"response to copper ion, transcription initiation from RNA polymerase II promoter\",\"annotation.GO CELLULAR_COMPONENT\":\"nucleus\",\"annotation.GO MOLECULAR_FUNCTION\":\"ligand-regulated transcription factor activity\",\"label\":\"CUP2\",\"kegg\":\"sce:YGL166W\",\"uniprot\":\"CUP2_YEAST\",\"sgd\":\"S000003134\",\"entrez\":852710,\"name\":\"YGL166W\"},{\"alias\":\"ARO8, S000003170, aromatic amino acid aminotransferase\",\"annotation.DB_Object_Name\":\"aromatic amino acid aminotransferase\",\"annotation.GO BIOLOGICAL_PROCESS\":\"aromatic amino acid family metabolic process\",\"annotation.GO CELLULAR_COMPONENT\":\"cytoplasm\",\"annotation.GO MOLECULAR_FUNCTION\":\"aromatic-amino-acid transaminase activity\",\"label\":\"ARO8\",\"kegg\":\"sce:YGL202W\",\"uniprot\":\"ARO8_YEAST\",\"sgd\":\"S000003170\",\"entrez\":852672,\"name\":\"YGL202W\"},{\"alias\":\"S000003176, SIP2, SPM2\",\"annotation.DB_Object_Name\":null,\"annotation.GO BIOLOGICAL_PROCESS\":\"cell aging, cellular response to glucose starvation, invasive growth (sensu the Saccharomyces research community), protein amino acid phosphorylation, replicative cell aging, signal transduction\",\"annotation.GO CELLULAR_COMPONENT\":\"cytoplasm, plasma membrane\",\"annotation.GO MOLECULAR_FUNCTION\":\"AMP-activated protein kinase activity\",\"label\":\"SIP2\",\"kegg\":\"sce:YGL208W\",\"uniprot\":\"SIP2_YEAST\",\"sgd\":\"S000003176\",\"entrez\":852664,\"name\":\"YGL208W\"},{\"alias\":\"S000003198, SAP4\",\"annotation.DB_Object_Name\":null,\"annotation.GO BIOLOGICAL_PROCESS\":\"G1\\/S transition of mitotic cell cycle\",\"annotation.GO CELLULAR_COMPONENT\":\"cytoplasm, mitochondrion\",\"annotation.GO MOLECULAR_FUNCTION\":\"protein serine\\/threonine phosphatase activity\",\"label\":\"SAP4\",\"kegg\":\"sce:YGL229C\",\"uniprot\":\"SAP4_YEAST\",\"sgd\":\"S000003198\",\"entrez\":852622,\"name\":\"YGL229C\"},{\"alias\":\"HAP2, S000003206, transcriptional activator protein of CYC1 (component of HAP2\\/HAP3 heteromer)\",\"annotation.DB_Object_Name\":\"transcriptional activator protein of CYC1 (component of HAP2\\/HAP3 heteromer)\",\"annotation.GO BIOLOGICAL_PROCESS\":\"regulation of carbohydrate metabolic process, transcription\",\"annotation.GO CELLULAR_COMPONENT\":\"CCAAT-binding factor complex, nucleus\",\"annotation.GO MOLECULAR_FUNCTION\":\"transcriptional activator activity\",\"label\":\"HAP2\",\"kegg\":\"sce:YGL237C\",\"uniprot\":\"HAP2_YEAST\",\"sgd\":\"S000003206\",\"entrez\":852614,\"name\":\"YGL237C\"},{\"alias\":\"HSS7, S000003241, SEC9\",\"annotation.DB_Object_Name\":null,\"annotation.GO BIOLOGICAL_PROCESS\":\"Golgi to plasma membrane transport, vesicle fusion\",\"annotation.GO CELLULAR_COMPONENT\":\"SNARE complex, extrinsic to plasma membrane\",\"annotation.GO MOLECULAR_FUNCTION\":\"t-SNARE activity\",\"label\":\"SEC9\",\"kegg\":\"sce:YGR009C\",\"uniprot\":\"SEC9_YEAST\",\"sgd\":\"S000003241\",\"entrez\":852892,\"name\":\"YGR009C\"},{\"alias\":\"MSB2, S000003246\",\"annotation.DB_Object_Name\":null,\"annotation.GO BIOLOGICAL_PROCESS\":\"establishment of cell polarity (sensu the Fungi research community), response to osmotic stress, signal transduction during filamentous growth\",\"annotation.GO CELLULAR_COMPONENT\":\"integral to plasma membrane, site of polarized growth\",\"annotation.GO MOLECULAR_FUNCTION\":\"osmosensor activity\",\"label\":\"MSB2\",\"kegg\":\"sce:YGR014W\",\"uniprot\":\"MSB2_YEAST\",\"sgd\":\"S000003246\",\"entrez\":852897,\"name\":\"YGR014W\"},{\"alias\":\"S000003251, UGA1, gamma-aminobutyrate (GABA) transaminase (4-aminobutyrate aminotransferase)\",\"annotation.DB_Object_Name\":\"gamma-aminobutyrate (GABA) transaminase (4-aminobutyrate aminotransferase)\",\"annotation.GO BIOLOGICAL_PROCESS\":\"nitrogen utilization\",\"annotation.GO CELLULAR_COMPONENT\":\"intracellular\",\"annotation.GO MOLECULAR_FUNCTION\":\"4-aminobutyrate transaminase activity\",\"label\":\"GABAT\",\"kegg\":\"sce:YGR019W\",\"uniprot\":\"GABAT_YEAST\",\"sgd\":\"S000003251\",\"entrez\":852902,\"name\":\"YGR019W\"},{\"alias\":\"MMP37, S000003278, TAM41\",\"annotation.DB_Object_Name\":null,\"annotation.GO BIOLOGICAL_PROCESS\":\"protein import into mitochondrial matrix\",\"annotation.GO CELLULAR_COMPONENT\":\"extrinsic to mitochondrial inner membrane, mitochondrial matrix, mitochondrion\",\"annotation.GO MOLECULAR_FUNCTION\":\"molecular_function\",\"label\":\"TAM41\",\"kegg\":\"sce:YGR046W\",\"uniprot\":\"TAM41_YEAST\",\"sgd\":\"S000003278\",\"entrez\":852937,\"name\":\"YGR046W\"},{\"alias\":\"S000003280, UFD1\",\"annotation.DB_Object_Name\":null,\"annotation.GO BIOLOGICAL_PROCESS\":\"mRNA processing, protein transport, ubiquitin-dependent protein catabolic process\",\"annotation.GO CELLULAR_COMPONENT\":\"endoplasmic reticulum\",\"annotation.GO MOLECULAR_FUNCTION\":\"protein binding\",\"label\":\"UFD1\",\"kegg\":\"sce:YGR048W\",\"uniprot\":\"UFD1_YEAST\",\"sgd\":\"S000003280\",\"entrez\":852939,\"name\":\"YGR048W\"},{\"alias\":\"S000003290\",\"annotation.DB_Object_Name\":null,\"annotation.GO BIOLOGICAL_PROCESS\":\"biological_process\",\"annotation.GO CELLULAR_COMPONENT\":\"cytoplasm, nucleus\",\"annotation.GO MOLECULAR_FUNCTION\":\"molecular_function\",\"label\":\"PEF1\",\"kegg\":\"sce:YGR058W\",\"uniprot\":\"PEF1_YEAST\",\"sgd\":\"S000003290\",\"entrez\":852949,\"name\":\"YGR058W\"},{\"alias\":\"S000003306, SMD1, SPP92, Sm D1\",\"annotation.DB_Object_Name\":\"Sm D1\",\"annotation.GO BIOLOGICAL_PROCESS\":\"nuclear mRNA splicing, via spliceosome\",\"annotation.GO CELLULAR_COMPONENT\":\"U4\\/U6 x U5 tri-snRNP complex, commitment complex, snRNP U1, snRNP U5\",\"annotation.GO MOLECULAR_FUNCTION\":\"RNA splicing factor activity, transesterification mechanism, mRNA binding\",\"label\":\"SMD1\",\"kegg\":\"sce:YGR074W\",\"uniprot\":\"SMD1_YEAST\",\"sgd\":\"S000003306\",\"entrez\":852964,\"name\":\"YGR074W\"},{\"alias\":\"RPL11B, S000003317, ribosomal protein L11B (L16B) (rp39B) (YL22)\",\"annotation.DB_Object_Name\":\"ribosomal protein L11B (L16B) (rp39B) (YL22)\",\"annotation.GO BIOLOGICAL_PROCESS\":\"ribosomal large subunit assembly and maintenance\",\"annotation.GO CELLULAR_COMPONENT\":\"cytosolic large ribosomal subunit (sensu the Eukaryota research community)\",\"annotation.GO MOLECULAR_FUNCTION\":\"structural constituent of ribosome\",\"label\":\"RL11B\",\"kegg\":\"sce:YGR085C\",\"uniprot\":\"RL11B_YEAST\",\"sgd\":\"S000003317\",\"entrez\":852976,\"name\":\"YGR085C\"},{\"alias\":\"CTT1, S000003320, catalase T\",\"annotation.DB_Object_Name\":\"catalase T\",\"annotation.GO BIOLOGICAL_PROCESS\":\"response to cold, response to reactive oxygen species, response to stress\",\"annotation.GO CELLULAR_COMPONENT\":\"cytoplasm\",\"annotation.GO MOLECULAR_FUNCTION\":\"catalase activity\",\"label\":\"CATT\",\"kegg\":\"sce:YGR088W\",\"uniprot\":\"CATT_YEAST\",\"sgd\":\"S000003320\",\"entrez\":852979,\"name\":\"YGR088W\"},{\"alias\":\"B-type cyclin, CLB1, S000003340, SCB1\",\"annotation.DB_Object_Name\":\"B-type cyclin\",\"annotation.GO BIOLOGICAL_PROCESS\":\"G2\\/M transition of mitotic cell cycle, meiotic G2\\/MI transition, mitotic spindle organization and biogenesis in nucleus, regulation of cyclin-dependent protein kinase activity\",\"annotation.GO CELLULAR_COMPONENT\":\"cytoplasm, nucleus\",\"annotation.GO MOLECULAR_FUNCTION\":\"cyclin-dependent protein kinase regulator activity\",\"label\":\"CG21\",\"kegg\":\"sce:YGR108W\",\"uniprot\":\"CG21_YEAST\",\"sgd\":\"S000003340\",\"entrez\":853002,\"name\":\"YGR108W\"},{\"alias\":\"LSB1, S000003368\",\"annotation.DB_Object_Name\":null,\"annotation.GO BIOLOGICAL_PROCESS\":\"biological_process\",\"annotation.GO CELLULAR_COMPONENT\":\"cytoplasm, nucleus\",\"annotation.GO MOLECULAR_FUNCTION\":\"molecular_function\",\"label\":\"LSB1\",\"kegg\":\"sce:YGR136W\",\"uniprot\":\"LSB1_YEAST\",\"sgd\":\"S000003368\",\"entrez\":853037,\"name\":\"YGR136W\"},{\"alias\":\"S000003435\",\"annotation.DB_Object_Name\":null,\"annotation.GO BIOLOGICAL_PROCESS\":\"biological_process\",\"annotation.GO CELLULAR_COMPONENT\":\"cytoplasm, nucleus\",\"annotation.GO MOLECULAR_FUNCTION\":\"phosphoric monoester hydrolase activity, protein tyrosine phosphatase activity\",\"label\":\"YCH1\",\"kegg\":\"sce:YGR203W\",\"uniprot\":\"YCH1_YEAST\",\"sgd\":\"S000003435\",\"entrez\":853117,\"name\":\"YGR203W\"},{\"alias\":\"CRM1, KAP124, S000003450, XPO1, chromosome region maintenance protein\",\"annotation.DB_Object_Name\":\"chromosome region maintenance protein\",\"annotation.GO BIOLOGICAL_PROCESS\":\"mRNA export from nucleus, protein export from nucleus, ribosomal large subunit export from nucleus\",\"annotation.GO CELLULAR_COMPONENT\":\"nucleus\",\"annotation.GO MOLECULAR_FUNCTION\":\"protein carrier activity\",\"label\":\"XPO1\",\"kegg\":\"sce:YGR218W\",\"uniprot\":\"XPO1_YEAST\",\"sgd\":\"S000003450\",\"entrez\":853133,\"name\":\"YGR218W\"},{\"alias\":\"ENO1, HSP48, S000003486, enolase\",\"annotation.DB_Object_Name\":\"enolase\",\"annotation.GO BIOLOGICAL_PROCESS\":\"gluconeogenesis, glycolysis\",\"annotation.GO CELLULAR_COMPONENT\":\"cytoplasm, phosphopyruvate hydratase complex\",\"annotation.GO MOLECULAR_FUNCTION\":\"phosphopyruvate hydratase activity\",\"label\":\"ENO1\",\"kegg\":\"sce:YGR254W\",\"uniprot\":\"ENO1_YEAST\",\"sgd\":\"S000003486\",\"entrez\":853169,\"name\":\"YGR254W\"},{\"alias\":\"CDC70, DAC1, G protein alpha subunit, GPA1, S000001047, SCG1\",\"annotation.DB_Object_Name\":\"G protein alpha subunit\",\"annotation.GO BIOLOGICAL_PROCESS\":\"heterotrimeric G-protein complex cycle, inositol lipid-mediated signaling, pheromone-dependent signal transduction during conjugation with cellular fusion\",\"annotation.GO CELLULAR_COMPONENT\":\"endosome, heterotrimeric G-protein complex, plasma membrane\",\"annotation.GO MOLECULAR_FUNCTION\":\"GTPase activity\",\"label\":\"GPA1\",\"kegg\":\"sce:YHR005C\",\"uniprot\":\"GPA1_YEAST\",\"sgd\":\"S000001047\",\"entrez\":856394,\"name\":\"YHR005C\"},{\"alias\":\"BYC2, MPK1, S000001072, SLK2, SLT2\",\"annotation.DB_Object_Name\":null,\"annotation.GO BIOLOGICAL_PROCESS\":\"cell wall organization and biogenesis, protein amino acid phosphorylation, response to acid, signal transduction\",\"annotation.GO CELLULAR_COMPONENT\":\"bud tip, cytoplasm, nucleus\",\"annotation.GO MOLECULAR_FUNCTION\":\"MAP kinase activity\",\"label\":\"SLT2\",\"kegg\":\"sce:YHR030C\",\"uniprot\":\"SLT2_YEAST\",\"sgd\":\"S000001072\",\"entrez\":856425,\"name\":\"YHR030C\"},{\"alias\":\"CUP1, CUP1-1, S000001095, copper binding metallothionein\",\"annotation.DB_Object_Name\":\"copper binding metallothionein\",\"annotation.GO BIOLOGICAL_PROCESS\":\"response to copper ion\",\"annotation.GO CELLULAR_COMPONENT\":\"cytosol\",\"annotation.GO MOLECULAR_FUNCTION\":\"copper ion binding\",\"label\":\"MTCU1\",\"kegg\":\"sce:YHR053C\",\"uniprot\":\"MTCU1_YEAST\",\"sgd\":\"S000001095\",\"entrez\":856450,\"name\":\"YHR053C\"},{\"alias\":\"CUP1, CUP1-1, S000001095, copper binding metallothionein\",\"annotation.DB_Object_Name\":\"copper binding metallothionein\",\"annotation.GO BIOLOGICAL_PROCESS\":\"response to copper ion\",\"annotation.GO CELLULAR_COMPONENT\":\"cytosol\",\"annotation.GO MOLECULAR_FUNCTION\":\"copper ion binding\",\"label\":\"MTCU1\",\"kegg\":\"sce:YHR053C\",\"uniprot\":\"MTCU1_YEAST\",\"sgd\":\"S000001095\",\"entrez\":856452,\"name\":\"YHR053C\"},{\"alias\":\"CUP1, CUP1-1, S000001095, copper binding metallothionein\",\"annotation.DB_Object_Name\":\"copper binding metallothionein\",\"annotation.GO BIOLOGICAL_PROCESS\":\"response to copper ion\",\"annotation.GO CELLULAR_COMPONENT\":\"cytosol\",\"annotation.GO MOLECULAR_FUNCTION\":\"copper ion binding\",\"label\":\"MTCU2\",\"kegg\":\"sce:YHR053C\",\"uniprot\":\"MTCU2_YEAST\",\"sgd\":\"S000001097\",\"entrez\":856450,\"name\":\"YHR053C\"},{\"alias\":\"CUP1, CUP1-1, S000001095, copper binding metallothionein\",\"annotation.DB_Object_Name\":\"copper binding metallothionein\",\"annotation.GO BIOLOGICAL_PROCESS\":\"response to copper ion\",\"annotation.GO CELLULAR_COMPONENT\":\"cytosol\",\"annotation.GO MOLECULAR_FUNCTION\":\"copper ion binding\",\"label\":\"MTCU2\",\"kegg\":\"sce:YHR053C\",\"uniprot\":\"MTCU2_YEAST\",\"sgd\":\"S000001097\",\"entrez\":856452,\"name\":\"YHR053C\"},{\"alias\":\"CUP1, CUP1-2, S000001097, copper binding metallothionein\",\"annotation.DB_Object_Name\":\"copper binding metallothionein\",\"annotation.GO BIOLOGICAL_PROCESS\":\"response to copper ion\",\"annotation.GO CELLULAR_COMPONENT\":\"cytosol\",\"annotation.GO MOLECULAR_FUNCTION\":\"copper ion binding\",\"label\":\"MTCU1\",\"kegg\":\"sce:YHR055C\",\"uniprot\":\"MTCU1_YEAST\",\"sgd\":\"S000001095\",\"entrez\":856450,\"name\":\"YHR055C\"},{\"alias\":\"CUP1, CUP1-2, S000001097, copper binding metallothionein\",\"annotation.DB_Object_Name\":\"copper binding metallothionein\",\"annotation.GO BIOLOGICAL_PROCESS\":\"response to copper ion\",\"annotation.GO CELLULAR_COMPONENT\":\"cytosol\",\"annotation.GO MOLECULAR_FUNCTION\":\"copper ion binding\",\"label\":\"MTCU1\",\"kegg\":\"sce:YHR055C\",\"uniprot\":\"MTCU1_YEAST\",\"sgd\":\"S000001095\",\"entrez\":856452,\"name\":\"YHR055C\"},{\"alias\":\"CUP1, CUP1-2, S000001097, copper binding metallothionein\",\"annotation.DB_Object_Name\":\"copper binding metallothionein\",\"annotation.GO BIOLOGICAL_PROCESS\":\"response to copper ion\",\"annotation.GO CELLULAR_COMPONENT\":\"cytosol\",\"annotation.GO MOLECULAR_FUNCTION\":\"copper ion binding\",\"label\":\"MTCU2\",\"kegg\":\"sce:YHR055C\",\"uniprot\":\"MTCU2_YEAST\",\"sgd\":\"S000001097\",\"entrez\":856450,\"name\":\"YHR055C\"},{\"alias\":\"CUP1, CUP1-2, S000001097, copper binding metallothionein\",\"annotation.DB_Object_Name\":\"copper binding metallothionein\",\"annotation.GO BIOLOGICAL_PROCESS\":\"response to copper ion\",\"annotation.GO CELLULAR_COMPONENT\":\"cytosol\",\"annotation.GO MOLECULAR_FUNCTION\":\"copper ion binding\",\"label\":\"MTCU2\",\"kegg\":\"sce:YHR055C\",\"uniprot\":\"MTCU2_YEAST\",\"sgd\":\"S000001097\",\"entrez\":856452,\"name\":\"YHR055C\"},{\"alias\":\"PCL5, S000001113\",\"annotation.DB_Object_Name\":null,\"annotation.GO BIOLOGICAL_PROCESS\":\"cell cycle\",\"annotation.GO CELLULAR_COMPONENT\":\"cyclin-dependent protein kinase holoenzyme complex\",\"annotation.GO MOLECULAR_FUNCTION\":\"cyclin-dependent protein kinase regulator activity\",\"label\":\"PCL5\",\"kegg\":\"sce:YHR071W\",\"uniprot\":\"PCL5_YEAST\",\"sgd\":\"S000001113\",\"entrez\":856468,\"name\":\"YHR071W\"},{\"alias\":\"S000001126, STE12, transcription factor\",\"annotation.DB_Object_Name\":\"transcription factor\",\"annotation.GO BIOLOGICAL_PROCESS\":\"conjugation with cellular fusion, invasive growth (sensu the Saccharomyces research community), positive regulation of transcription from RNA polymerase II promoter by pheromones, pseudohyphal growth\",\"annotation.GO CELLULAR_COMPONENT\":\"nucleus\",\"annotation.GO MOLECULAR_FUNCTION\":\"transcription factor activity\",\"label\":\"STE12\",\"kegg\":\"sce:YHR084W\",\"uniprot\":\"STE12_YEAST\",\"sgd\":\"S000001126\",\"entrez\":856484,\"name\":\"YHR084W\"},{\"alias\":\"CHF1, DMA1, S000001157\",\"annotation.DB_Object_Name\":null,\"annotation.GO BIOLOGICAL_PROCESS\":\"establishment of mitotic spindle orientation, mitotic spindle checkpoint, septin ring assembly\",\"annotation.GO CELLULAR_COMPONENT\":\"cytoplasm\",\"annotation.GO MOLECULAR_FUNCTION\":\"molecular_function\",\"label\":\"DMA1\",\"kegg\":\"sce:YHR115C\",\"uniprot\":\"DMA1_YEAST\",\"sgd\":\"S000001157\",\"entrez\":856515,\"name\":\"YHR115C\"},{\"alias\":\"CKI2, S000001177, YCK1\",\"annotation.DB_Object_Name\":null,\"annotation.GO BIOLOGICAL_PROCESS\":\"cell morphogenesis, cytokinesis, endocytosis, protein amino acid phosphorylation, response to glucose stimulus\",\"annotation.GO CELLULAR_COMPONENT\":\"endoplasmic reticulum, mitochondrion, plasma membrane\",\"annotation.GO MOLECULAR_FUNCTION\":\"casein kinase I activity\",\"label\":\"KC11\",\"kegg\":\"sce:YHR135C\",\"uniprot\":\"KC11_YEAST\",\"sgd\":\"S000001177\",\"entrez\":856537,\"name\":\"YHR135C\"},{\"alias\":\"MAK18, RPL42B, S000001183, ribosomal protein L42B (YL27) (L41B) (YP44)\",\"annotation.DB_Object_Name\":\"ribosomal protein L42B (YL27) (L41B) (YP44)\",\"annotation.GO BIOLOGICAL_PROCESS\":null,\"annotation.GO CELLULAR_COMPONENT\":\"cytosolic large ribosomal subunit (sensu the Eukaryota research community)\",\"annotation.GO MOLECULAR_FUNCTION\":\"structural constituent of ribosome\",\"label\":\"RL44A\",\"kegg\":\"sce:YHR141C\",\"uniprot\":\"RL44A_YEAST\",\"sgd\":\"S000005106\",\"entrez\":855560,\"name\":\"YHR141C\"},{\"alias\":\"MAK18, RPL42B, S000001183, ribosomal protein L42B (YL27) (L41B) (YP44)\",\"annotation.DB_Object_Name\":\"ribosomal protein L42B (YL27) (L41B) (YP44)\",\"annotation.GO BIOLOGICAL_PROCESS\":null,\"annotation.GO CELLULAR_COMPONENT\":\"cytosolic large ribosomal subunit (sensu the Eukaryota research community)\",\"annotation.GO MOLECULAR_FUNCTION\":\"structural constituent of ribosome\",\"label\":\"RL44A\",\"kegg\":\"sce:YHR141C\",\"uniprot\":\"RL44A_YEAST\",\"sgd\":\"S000005106\",\"entrez\":856544,\"name\":\"YHR141C\"},{\"alias\":\"MAK18, RPL42B, S000001183, ribosomal protein L42B (YL27) (L41B) (YP44)\",\"annotation.DB_Object_Name\":\"ribosomal protein L42B (YL27) (L41B) (YP44)\",\"annotation.GO BIOLOGICAL_PROCESS\":null,\"annotation.GO CELLULAR_COMPONENT\":\"cytosolic large ribosomal subunit (sensu the Eukaryota research community)\",\"annotation.GO MOLECULAR_FUNCTION\":\"structural constituent of ribosome\",\"label\":\"RL44B\",\"kegg\":\"sce:YHR141C\",\"uniprot\":\"RL44B_YEAST\",\"sgd\":\"S000001183\",\"entrez\":855560,\"name\":\"YHR141C\"},{\"alias\":\"MAK18, RPL42B, S000001183, ribosomal protein L42B (YL27) (L41B) (YP44)\",\"annotation.DB_Object_Name\":\"ribosomal protein L42B (YL27) (L41B) (YP44)\",\"annotation.GO BIOLOGICAL_PROCESS\":null,\"annotation.GO CELLULAR_COMPONENT\":\"cytosolic large ribosomal subunit (sensu the Eukaryota research community)\",\"annotation.GO MOLECULAR_FUNCTION\":\"structural constituent of ribosome\",\"label\":\"RL44B\",\"kegg\":\"sce:YHR141C\",\"uniprot\":\"RL44B_YEAST\",\"sgd\":\"S000001183\",\"entrez\":856544,\"name\":\"YHR141C\"},{\"alias\":\"APG7, ATG7, CVT2, S000001214\",\"annotation.DB_Object_Name\":null,\"annotation.GO BIOLOGICAL_PROCESS\":\"C-terminal protein lipidation, autophagy, protein modification, protein targeting to vacuole\",\"annotation.GO CELLULAR_COMPONENT\":\"cytoplasm, cytosol, membrane, mitochondrion\",\"annotation.GO MOLECULAR_FUNCTION\":\"APG12 activating enzyme activity, APG8 activating enzyme activity\",\"label\":\"ATG7\",\"kegg\":\"sce:YHR171W\",\"uniprot\":\"ATG7_YEAST\",\"sgd\":\"S000001214\",\"entrez\":856576,\"name\":\"YHR171W\"},{\"alias\":\"ENO2, S000001217, enolase\",\"annotation.DB_Object_Name\":\"enolase\",\"annotation.GO BIOLOGICAL_PROCESS\":\"gluconeogenesis, glycolysis\",\"annotation.GO CELLULAR_COMPONENT\":\"phosphopyruvate hydratase complex, soluble fraction\",\"annotation.GO MOLECULAR_FUNCTION\":\"phosphopyruvate hydratase activity\",\"label\":\"ENO2\",\"kegg\":\"sce:YHR174W\",\"uniprot\":\"ENO2_YEAST\",\"sgd\":\"S000001217\",\"entrez\":856579,\"name\":\"YHR174W\"},{\"alias\":\"Old Yellow Enzyme,  isoform 2, NAPDH dehydrogenase (old yellow enzyme), OYE2, S000001222\",\"annotation.DB_Object_Name\":\"NAPDH dehydrogenase (old yellow enzyme), isoform 2, Old Yellow Enzyme\",\"annotation.GO BIOLOGICAL_PROCESS\":\"biological_process\",\"annotation.GO CELLULAR_COMPONENT\":\"cytoplasm, mitochondrion, nucleus\",\"annotation.GO MOLECULAR_FUNCTION\":\"NADPH dehydrogenase activity\",\"label\":\"OYE2\",\"kegg\":\"sce:YHR179W\",\"uniprot\":\"OYE2_YEAST\",\"sgd\":\"S000001222\",\"entrez\":856584,\"name\":\"YHR179W\"},{\"alias\":\"S000001241\",\"annotation.DB_Object_Name\":null,\"annotation.GO BIOLOGICAL_PROCESS\":\"biological_process\",\"annotation.GO CELLULAR_COMPONENT\":\"mitochondrion\",\"annotation.GO MOLECULAR_FUNCTION\":\"molecular_function\",\"label\":\"AIM18\",\"kegg\":\"sce:YHR198C\",\"uniprot\":\"AIM18_YEAST\",\"sgd\":\"S000001241\",\"entrez\":856605,\"name\":\"YHR198C\"},{\"alias\":\"BAR1, S000001277, SST1, protease\",\"annotation.DB_Object_Name\":\"protease\",\"annotation.GO BIOLOGICAL_PROCESS\":\"protein catabolic process\",\"annotation.GO CELLULAR_COMPONENT\":\"periplasmic space (sensu the Fungi research community)\",\"annotation.GO MOLECULAR_FUNCTION\":\"aspartic-type endopeptidase activity\",\"label\":\"BAR1\",\"kegg\":\"sce:YIL015W\",\"uniprot\":\"BAR1_YEAST\",\"sgd\":\"S000001277\",\"entrez\":854797,\"name\":\"YIL015W\"},{\"alias\":\"PIG2, S000001307\",\"annotation.DB_Object_Name\":null,\"annotation.GO BIOLOGICAL_PROCESS\":\"regulation of glycogen biosynthetic process\",\"annotation.GO CELLULAR_COMPONENT\":\"cytoplasm\",\"annotation.GO MOLECULAR_FUNCTION\":\"protein phosphatase type 1 regulator activity\",\"label\":\"PIG2\",\"kegg\":\"sce:YIL045W\",\"uniprot\":\"PIG2_YEAST\",\"sgd\":\"S000001307\",\"entrez\":854766,\"name\":\"YIL045W\"},{\"alias\":\"RPL34B, S000001314, ribosomal protein L34B\",\"annotation.DB_Object_Name\":\"ribosomal protein L34B\",\"annotation.GO BIOLOGICAL_PROCESS\":\"telomere maintenance\",\"annotation.GO CELLULAR_COMPONENT\":\"cytosolic large ribosomal subunit (sensu the Eukaryota research community)\",\"annotation.GO MOLECULAR_FUNCTION\":\"structural constituent of ribosome\",\"label\":\"RL34B\",\"kegg\":\"sce:YIL052C\",\"uniprot\":\"RL34B_YEAST\",\"sgd\":\"S000001314\",\"entrez\":854759,\"name\":\"YIL052C\"},{\"alias\":\" U1-70K,  U1snRNP 70K protein homolog, S000001323, SNP1, U1 70K\",\"annotation.DB_Object_Name\":\"U1 70K, U1-70K, U1snRNP 70K protein homolog\",\"annotation.GO BIOLOGICAL_PROCESS\":\"nuclear mRNA splicing, via spliceosome\",\"annotation.GO CELLULAR_COMPONENT\":\"commitment complex, snRNP U1\",\"annotation.GO MOLECULAR_FUNCTION\":\"U1 snRNA binding, mRNA binding\",\"label\":\"RU17\",\"kegg\":\"sce:YIL061C\",\"uniprot\":\"RU17_YEAST\",\"sgd\":\"S000001323\",\"entrez\":854749,\"name\":\"YIL061C\"},{\"alias\":\"RPS24B, RPS24EB, S000001331, ribosomal protein S24B\",\"annotation.DB_Object_Name\":\"ribosomal protein S24B\",\"annotation.GO BIOLOGICAL_PROCESS\":null,\"annotation.GO CELLULAR_COMPONENT\":\"cytosolic small ribosomal subunit (sensu the Eukaryota research community)\",\"annotation.GO MOLECULAR_FUNCTION\":\"structural constituent of ribosome\",\"label\":\"RS24A\",\"kegg\":\"sce:YIL069C\",\"uniprot\":\"RS24A_YEAST\",\"sgd\":\"S000000876\",\"entrez\":854741,\"name\":\"YIL069C\"},{\"alias\":\"RPS24B, RPS24EB, S000001331, ribosomal protein S24B\",\"annotation.DB_Object_Name\":\"ribosomal protein S24B\",\"annotation.GO BIOLOGICAL_PROCESS\":null,\"annotation.GO CELLULAR_COMPONENT\":\"cytosolic small ribosomal subunit (sensu the Eukaryota research community)\",\"annotation.GO MOLECULAR_FUNCTION\":\"structural constituent of ribosome\",\"label\":\"RS24A\",\"kegg\":\"sce:YIL069C\",\"uniprot\":\"RS24A_YEAST\",\"sgd\":\"S000000876\",\"entrez\":856805,\"name\":\"YIL069C\"},{\"alias\":\"RPS24B, RPS24EB, S000001331, ribosomal protein S24B\",\"annotation.DB_Object_Name\":\"ribosomal protein S24B\",\"annotation.GO BIOLOGICAL_PROCESS\":null,\"annotation.GO CELLULAR_COMPONENT\":\"cytosolic small ribosomal subunit (sensu the Eukaryota research community)\",\"annotation.GO MOLECULAR_FUNCTION\":\"structural constituent of ribosome\",\"label\":\"RS24B\",\"kegg\":\"sce:YIL069C\",\"uniprot\":\"RS24B_YEAST\",\"sgd\":\"S000001331\",\"entrez\":854741,\"name\":\"YIL069C\"},{\"alias\":\"RPS24B, RPS24EB, S000001331, ribosomal protein S24B\",\"annotation.DB_Object_Name\":\"ribosomal protein S24B\",\"annotation.GO BIOLOGICAL_PROCESS\":null,\"annotation.GO CELLULAR_COMPONENT\":\"cytosolic small ribosomal subunit (sensu the Eukaryota research community)\",\"annotation.GO MOLECULAR_FUNCTION\":\"structural constituent of ribosome\",\"label\":\"RS24B\",\"kegg\":\"sce:YIL069C\",\"uniprot\":\"RS24B_YEAST\",\"sgd\":\"S000001331\",\"entrez\":856805,\"name\":\"YIL069C\"},{\"alias\":\"MAM33, S000001332\",\"annotation.DB_Object_Name\":null,\"annotation.GO BIOLOGICAL_PROCESS\":\"aerobic respiration\",\"annotation.GO CELLULAR_COMPONENT\":\"mitochondrial matrix, mitochondrion\",\"annotation.GO MOLECULAR_FUNCTION\":\"molecular_function\",\"label\":\"MAM33\",\"kegg\":\"sce:YIL070C\",\"uniprot\":\"MAM33_YEAST\",\"sgd\":\"S000001332\",\"entrez\":854740,\"name\":\"YIL070C\"},{\"alias\":\"3-phosphoglycerate dehydrogenase, S000001336, SER33\",\"annotation.DB_Object_Name\":\"3-phosphoglycerate dehydrogenase\",\"annotation.GO BIOLOGICAL_PROCESS\":\"serine family amino acid biosynthetic process\",\"annotation.GO CELLULAR_COMPONENT\":\"cytoplasm\",\"annotation.GO MOLECULAR_FUNCTION\":\"phosphoglycerate dehydrogenase activity\",\"label\":\"SER33\",\"kegg\":\"sce:YIL074C\",\"uniprot\":\"SER33_YEAST\",\"sgd\":\"S000001336\",\"entrez\":854736,\"name\":\"YIL074C\"},{\"alias\":\"LIT2, S000001367, SLM1\",\"annotation.DB_Object_Name\":null,\"annotation.GO BIOLOGICAL_PROCESS\":\"actin cable formation, actin cytoskeleton organization and biogenesis, establishment and\\/or maintenance of actin cytoskeleton polarity, regulation of cell growth\",\"annotation.GO CELLULAR_COMPONENT\":\"TORC 2 complex, cytoplasm, mitochondrion, plasma membrane\",\"annotation.GO MOLECULAR_FUNCTION\":\"phosphoinositide binding\",\"label\":\"SLM1\",\"kegg\":\"sce:YIL105C\",\"uniprot\":\"SLM1_YEAST\",\"sgd\":\"S000001367\",\"entrez\":854701,\"name\":\"YIL105C\"},{\"alias\":\"S000001375, SDP1\",\"annotation.DB_Object_Name\":null,\"annotation.GO BIOLOGICAL_PROCESS\":\"MAPKKK cascade during cell wall biogenesis\",\"annotation.GO CELLULAR_COMPONENT\":\"cytoplasm, nucleus\",\"annotation.GO MOLECULAR_FUNCTION\":\"MAP kinase phosphatase activity\",\"label\":\"SDP1\",\"kegg\":\"sce:YIL113W\",\"uniprot\":\"SDP1_YEAST\",\"sgd\":\"S000001375\",\"entrez\":854693,\"name\":\"YIL113W\"},{\"alias\":\"RPL13, RPL16A, S000001395, ribosomal protein L16A (L21A) (rp22) (YL15)\",\"annotation.DB_Object_Name\":\"ribosomal protein L16A (L21A) (rp22) (YL15)\",\"annotation.GO BIOLOGICAL_PROCESS\":null,\"annotation.GO CELLULAR_COMPONENT\":\"cytosolic large ribosomal subunit (sensu the Eukaryota research community)\",\"annotation.GO MOLECULAR_FUNCTION\":\"RNA binding, structural constituent of ribosome\",\"label\":\"RL16A\",\"kegg\":\"sce:YIL133C\",\"uniprot\":\"RL16A_YEAST\",\"sgd\":\"S000001395\",\"entrez\":854673,\"name\":\"YIL133C\"},{\"alias\":\"DNA helicase, LOM3, RAD25, S000001405, SSL2\",\"annotation.DB_Object_Name\":\"DNA helicase\",\"annotation.GO BIOLOGICAL_PROCESS\":\"negative regulation of transcription from RNA polymerase II promoter, mitotic, nucleotide-excision repair, DNA duplex unwinding, transcription initiation from RNA polymerase II promoter\",\"annotation.GO CELLULAR_COMPONENT\":\"nucleotide-excision repair factor 3 complex, transcription factor TFIIH complex\",\"annotation.GO MOLECULAR_FUNCTION\":\"DNA helicase activity, general RNA polymerase II transcription factor activity\",\"label\":\"RAD25\",\"kegg\":\"sce:YIL143C\",\"uniprot\":\"RAD25_YEAST\",\"sgd\":\"S000001405\",\"entrez\":854663,\"name\":\"YIL143C\"},{\"alias\":\"3-oxoacyl CoA thiolase, FOX3, POT1, POX3, S000001422\",\"annotation.DB_Object_Name\":\"3-oxoacyl CoA thiolase\",\"annotation.GO BIOLOGICAL_PROCESS\":\"fatty acid beta-oxidation\",\"annotation.GO CELLULAR_COMPONENT\":\"peroxisomal matrix\",\"annotation.GO MOLECULAR_FUNCTION\":\"acetyl-CoA C-acyltransferase activity\",\"label\":\"THIK\",\"kegg\":\"sce:YIL160C\",\"uniprot\":\"THIK_YEAST\",\"sgd\":\"S000001422\",\"entrez\":854646,\"name\":\"YIL160C\"},{\"alias\":\"S000001424, SUC2, invertase (sucrose hydrolyzing enzyme)\",\"annotation.DB_Object_Name\":\"invertase (sucrose hydrolyzing enzyme)\",\"annotation.GO BIOLOGICAL_PROCESS\":\"sucrose catabolic process\",\"annotation.GO CELLULAR_COMPONENT\":\"cytoplasm, extracellular region, mitochondrion\",\"annotation.GO MOLECULAR_FUNCTION\":\"beta-fructofuranosidase activity\",\"label\":\"INV2\",\"kegg\":\"sce:YIL162W\",\"uniprot\":\"INV2_YEAST\",\"sgd\":\"S000001424\",\"entrez\":854644,\"name\":\"YIL162W\"},{\"alias\":\"YU2B'', MSL1, S000001448, U2 snRNP component, YIB9, YIB9w\",\"annotation.DB_Object_Name\":\"U2 snRNP component, YU2B''\",\"annotation.GO BIOLOGICAL_PROCESS\":\"nuclear mRNA splicing, via spliceosome\",\"annotation.GO CELLULAR_COMPONENT\":\"snRNP U2\",\"annotation.GO MOLECULAR_FUNCTION\":\"RNA binding\",\"label\":\"MSL1\",\"kegg\":\"sce:YIR009W\",\"uniprot\":\"MSL1_YEAST\",\"sgd\":\"S000001448\",\"entrez\":854826,\"name\":\"YIR009W\"},{\"alias\":\"MAD3, S000003550, spindle checkpoint complex subunit\",\"annotation.DB_Object_Name\":\"spindle checkpoint complex subunit\",\"annotation.GO BIOLOGICAL_PROCESS\":\"mitotic spindle checkpoint\",\"annotation.GO CELLULAR_COMPONENT\":\"nucleus\",\"annotation.GO MOLECULAR_FUNCTION\":\"molecular_function\",\"label\":\"MAD3\",\"kegg\":\"sce:YJL013C\",\"uniprot\":\"MAD3_YEAST\",\"sgd\":\"S000003550\",\"entrez\":853439,\"name\":\"YJL013C\"},{\"alias\":\"MAD2, S000003567, spindle checkpoint complex subunit\",\"annotation.DB_Object_Name\":\"spindle checkpoint complex subunit\",\"annotation.GO BIOLOGICAL_PROCESS\":\"chromosome decondensation, mitotic spindle checkpoint\",\"annotation.GO CELLULAR_COMPONENT\":\"condensed nuclear chromosome kinetochore, nuclear pore\",\"annotation.GO MOLECULAR_FUNCTION\":\"molecular_function\",\"label\":\"MAD2\",\"kegg\":\"sce:YJL030W\",\"uniprot\":\"MAD2_YEAST\",\"sgd\":\"S000003567\",\"entrez\":853422,\"name\":\"YJL030W\"},{\"alias\":\"ATG24, CVT13, S000003573, SNX4\",\"annotation.DB_Object_Name\":null,\"annotation.GO BIOLOGICAL_PROCESS\":\"protein targeting to vacuole\",\"annotation.GO CELLULAR_COMPONENT\":\"cytoplasm, pre-autophagosomal structure\",\"annotation.GO MOLECULAR_FUNCTION\":\"lipid binding, phosphatidylinositol 3-phosphate binding\",\"label\":\"SNX4\",\"kegg\":\"sce:YJL036W\",\"uniprot\":\"SNX4_YEAST\",\"sgd\":\"S000003573\",\"entrez\":853416,\"name\":\"YJL036W\"},{\"alias\":\"S000003625, SIP4\",\"annotation.DB_Object_Name\":null,\"annotation.GO BIOLOGICAL_PROCESS\":\"positive regulation of gluconeogenesis, regulation of transcription from RNA polymerase II promoter\",\"annotation.GO CELLULAR_COMPONENT\":\"nucleus\",\"annotation.GO MOLECULAR_FUNCTION\":\"specific RNA polymerase II transcription factor activity\",\"label\":\"SIP4\",\"kegg\":\"sce:YJL089W\",\"uniprot\":\"SIP4_YEAST\",\"sgd\":\"S000003625\",\"entrez\":853356,\"name\":\"YJL089W\"},{\"alias\":\"Cdc28p kinase inhibitor, FAR1, S000003693\",\"annotation.DB_Object_Name\":\"Cdc28p kinase inhibitor\",\"annotation.GO BIOLOGICAL_PROCESS\":\"cell cycle arrest, pheromone-dependent signal transduction during conjugation with cellular fusion\",\"annotation.GO CELLULAR_COMPONENT\":\"cytoplasm, mating projection tip, membrane, nucleus\",\"annotation.GO MOLECULAR_FUNCTION\":\"cyclin-dependent protein kinase inhibitor activity\",\"label\":\"FAR1\",\"kegg\":\"sce:YJL157C\",\"uniprot\":\"FAR1_YEAST\",\"sgd\":\"S000003693\",\"entrez\":853283,\"name\":\"YJL157C\"},{\"alias\":\"secretory glycoprotein, CCW7, HSP150, ORE1, PIR2, S000003695, heat shock protein\",\"annotation.DB_Object_Name\":\"heat shock protein, secretory glycoprotein\",\"annotation.GO BIOLOGICAL_PROCESS\":\"cell wall organization and biogenesis\",\"annotation.GO CELLULAR_COMPONENT\":\"cell wall (sensu the Fungi research community)\",\"annotation.GO MOLECULAR_FUNCTION\":\"structural constituent of cell wall\",\"label\":\"HS150\",\"kegg\":\"sce:YJL159W\",\"uniprot\":\"HS150_YEAST\",\"sgd\":\"S000003695\",\"entrez\":853281,\"name\":\"YJL159W\"},{\"alias\":\"RPS22A, RPS24, S000003726, ribosomal protein S22A (S24A) (rp50) (YS22)\",\"annotation.DB_Object_Name\":\"ribosomal protein S22A (S24A) (rp50) (YS22)\",\"annotation.GO BIOLOGICAL_PROCESS\":\"telomere maintenance\",\"annotation.GO CELLULAR_COMPONENT\":\"cytosolic small ribosomal subunit (sensu the Eukaryota research community)\",\"annotation.GO MOLECULAR_FUNCTION\":\"structural constituent of ribosome\",\"label\":\"RS22A\",\"kegg\":\"sce:YJL190C\",\"uniprot\":\"RS22A_YEAST\",\"sgd\":\"S000003726\",\"entrez\":853249,\"name\":\"YJL190C\"},{\"alias\":\"CDC6, S000003730, pre-initiation complex component\",\"annotation.DB_Object_Name\":\"pre-initiation complex component\",\"annotation.GO BIOLOGICAL_PROCESS\":\"pre-replicative complex formation\",\"annotation.GO CELLULAR_COMPONENT\":\"pre-replicative complex\",\"annotation.GO MOLECULAR_FUNCTION\":\"ATPase activity, DNA clamp loader activity, protein binding\",\"label\":\"CDC6\",\"kegg\":\"sce:YJL194W\",\"uniprot\":\"CDC6_YEAST\",\"sgd\":\"S000003730\",\"entrez\":853244,\"name\":\"YJL194W\"},{\"alias\":\"PRP21, RNA splicing factor, S000003739, SPP91\",\"annotation.DB_Object_Name\":\"RNA splicing factor\",\"annotation.GO BIOLOGICAL_PROCESS\":\"nuclear mRNA splicing, via spliceosome\",\"annotation.GO CELLULAR_COMPONENT\":\"snRNP U2\",\"annotation.GO MOLECULAR_FUNCTION\":\"RNA binding\",\"label\":\"PRP21\",\"kegg\":\"sce:YJL203W\",\"uniprot\":\"PRP21_YEAST\",\"sgd\":\"S000003739\",\"entrez\":853227,\"name\":\"YJL203W\"},{\"alias\":\"HXT9, S000003755, hexose permease\",\"annotation.DB_Object_Name\":\"hexose permease\",\"annotation.GO BIOLOGICAL_PROCESS\":\"hexose transport\",\"annotation.GO CELLULAR_COMPONENT\":\"plasma membrane\",\"annotation.GO MOLECULAR_FUNCTION\":\"fructose transporter activity, galactose transporter activity, glucose transporter activity, mannose transporter activity\",\"label\":\"HXT9\",\"kegg\":\"sce:YJL219W\",\"uniprot\":\"HXT9_YEAST\",\"sgd\":\"S000003755\",\"entrez\":853236,\"name\":\"YJL219W\"},{\"alias\":\"LSM8, S000003783, snRNP protein\",\"annotation.DB_Object_Name\":\"snRNP protein\",\"annotation.GO BIOLOGICAL_PROCESS\":\"nuclear mRNA splicing, via spliceosome\",\"annotation.GO CELLULAR_COMPONENT\":\"U4\\/U6 x U5 tri-snRNP complex, nucleus, snRNP U6\",\"annotation.GO MOLECULAR_FUNCTION\":\"RNA binding, RNA splicing factor activity, transesterification mechanism\",\"label\":\"LSM8\",\"kegg\":\"sce:YJR022W\",\"uniprot\":\"LSM8_YEAST\",\"sgd\":\"S000003783\",\"entrez\":853479,\"name\":\"YJR022W\"},{\"alias\":\"CYC1, S000003809, iso-1-cytochrome c\",\"annotation.DB_Object_Name\":\"iso-1-cytochrome c\",\"annotation.GO BIOLOGICAL_PROCESS\":\"electron transport\",\"annotation.GO CELLULAR_COMPONENT\":\"mitochondrial intermembrane space, mitochondrion\",\"annotation.GO MOLECULAR_FUNCTION\":\"electron carrier activity\",\"label\":\"CYC1\",\"kegg\":\"sce:YJR048W\",\"uniprot\":\"CYC1_YEAST\",\"sgd\":\"S000003809\",\"entrez\":853507,\"name\":\"YJR048W\"},{\"alias\":\"CBF1, CEP1, CPF1, S000003821, basic helix-loop-helix protein\",\"annotation.DB_Object_Name\":\"basic helix-loop-helix protein\",\"annotation.GO BIOLOGICAL_PROCESS\":\"chromatin assembly or disassembly, chromosome segregation, methionine biosynthetic process\",\"annotation.GO CELLULAR_COMPONENT\":\"kinetochore, mitochondrion, nucleus\",\"annotation.GO MOLECULAR_FUNCTION\":\"DNA binding, centromeric DNA binding\",\"label\":\"CBF1\",\"kegg\":\"sce:YJR060W\",\"uniprot\":\"CBF1_YEAST\",\"sgd\":\"S000003821\",\"entrez\":853523,\"name\":\"YJR060W\"},{\"alias\":\"DRR1, S000003827, TOR1\",\"annotation.DB_Object_Name\":null,\"annotation.GO BIOLOGICAL_PROCESS\":\"G1 phase of mitotic cell cycle, cell wall organization and biogenesis (sensu the Fungi research community), meiosis, mitochondrial signaling pathway, regulation of cell growth, regulation of progression through cell cycle, signal transduction\",\"annotation.GO CELLULAR_COMPONENT\":\"Golgi membrane, TORC 1 complex, endosome membrane, extrinsic to internal side of plasma membrane, plasma membrane, vacuolar membrane\",\"annotation.GO MOLECULAR_FUNCTION\":\"phosphatidylinositol 3-kinase activity, protein binding, protein kinase activity\",\"label\":\"TOR1\",\"kegg\":\"sce:YJR066W\",\"uniprot\":\"TOR1_YEAST\",\"sgd\":\"S000003827\",\"entrez\":853529,\"name\":\"YJR066W\"},{\"alias\":\"CPA2, S000003870, carbamyl phosphate synthetase\",\"annotation.DB_Object_Name\":\"carbamyl phosphate synthetase\",\"annotation.GO BIOLOGICAL_PROCESS\":\"arginine biosynthetic process\",\"annotation.GO CELLULAR_COMPONENT\":\"carbamoyl-phosphate synthase complex\",\"annotation.GO MOLECULAR_FUNCTION\":\"carbamoyl-phosphate synthase (glutamine-hydrolyzing) activity\",\"label\":\"CARB\",\"kegg\":\"sce:YJR109C\",\"uniprot\":\"CARB_YEAST\",\"sgd\":\"S000003870\",\"entrez\":853573,\"name\":\"YJR109C\"},{\"alias\":\"MET14, S000001484, adenylylsulfate kinase\",\"annotation.DB_Object_Name\":\"adenylylsulfate kinase\",\"annotation.GO BIOLOGICAL_PROCESS\":\"methionine metabolic process, sulfate assimilation\",\"annotation.GO CELLULAR_COMPONENT\":\"cytoplasm, intracellular\",\"annotation.GO MOLECULAR_FUNCTION\":\"adenylylsulfate kinase activity\",\"label\":\"KAPS\",\"kegg\":\"sce:YKL001C\",\"uniprot\":\"KAPS_YEAST\",\"sgd\":\"S000001484\",\"entrez\":853869,\"name\":\"YKL001C\"},{\"alias\":\"PRP40, S000001495, U1 snRNP protein\",\"annotation.DB_Object_Name\":\"U1 snRNP protein\",\"annotation.GO BIOLOGICAL_PROCESS\":\"nuclear mRNA splicing, via spliceosome\",\"annotation.GO CELLULAR_COMPONENT\":\"snRNP U1\",\"annotation.GO MOLECULAR_FUNCTION\":\"RNA binding\",\"label\":\"PRP40\",\"kegg\":\"sce:YKL012W\",\"uniprot\":\"PRP40_YEAST\",\"sgd\":\"S000001495\",\"entrez\":853857,\"name\":\"YKL012W\"},{\"alias\":\"S000001511, TFA1, transcription factor tfIIE large subunit\",\"annotation.DB_Object_Name\":\"transcription factor tfIIE large subunit\",\"annotation.GO BIOLOGICAL_PROCESS\":\"transcription initiation from RNA polymerase II promoter\",\"annotation.GO CELLULAR_COMPONENT\":\"mitochondrion, transcription factor TFIIE complex\",\"annotation.GO MOLECULAR_FUNCTION\":\"general RNA polymerase II transcription factor activity\",\"label\":\"T2EA\",\"kegg\":\"sce:YKL028W\",\"uniprot\":\"T2EA_YEAST\",\"sgd\":\"S000001511\",\"entrez\":853840,\"name\":\"YKL028W\"},{\"alias\":\"MUD2, S000001557\",\"annotation.DB_Object_Name\":null,\"annotation.GO BIOLOGICAL_PROCESS\":\"U2-type nuclear mRNA branch site recognition\",\"annotation.GO CELLULAR_COMPONENT\":\"commitment complex\",\"annotation.GO MOLECULAR_FUNCTION\":\"RNA splicing factor activity, transesterification mechanism, mRNA binding\",\"label\":\"MUD2\",\"kegg\":\"sce:YKL074C\",\"uniprot\":\"MUD2_YEAST\",\"sgd\":\"S000001557\",\"entrez\":853788,\"name\":\"YKL074C\"},{\"alias\":\"HSL1, NIK1, S000001584, serine-threonine kinase\",\"annotation.DB_Object_Name\":\"serine-threonine kinase\",\"annotation.GO BIOLOGICAL_PROCESS\":\"G2\\/M transition of mitotic cell cycle, cell morphogenesis checkpoint, protein amino acid phosphorylation, regulation of progression through cell cycle, septin checkpoint\",\"annotation.GO CELLULAR_COMPONENT\":\"bud neck, septin ring\",\"annotation.GO MOLECULAR_FUNCTION\":\"protein kinase activity\",\"label\":\"HSL1\",\"kegg\":\"sce:YKL101W\",\"uniprot\":\"HSL1_YEAST\",\"sgd\":\"S000001584\",\"entrez\":853760,\"name\":\"YKL101W\"},{\"alias\":\"HAP4, S000001592, transcriptional activator protein of CYC1 (component of HAP2\\/HAP3 heteromer)\",\"annotation.DB_Object_Name\":\"transcriptional activator protein of CYC1 (component of HAP2\\/HAP3 heteromer)\",\"annotation.GO BIOLOGICAL_PROCESS\":\"regulation of carbohydrate metabolic process, transcription\",\"annotation.GO CELLULAR_COMPONENT\":\"CCAAT-binding factor complex\",\"annotation.GO MOLECULAR_FUNCTION\":\"transcriptional activator activity\",\"label\":\"HAP4\",\"kegg\":\"sce:YKL109W\",\"uniprot\":\"HAP4_YEAST\",\"sgd\":\"S000001592\",\"entrez\":853751,\"name\":\"YKL109W\"},{\"alias\":\"MLP1, S000001644\",\"annotation.DB_Object_Name\":null,\"annotation.GO BIOLOGICAL_PROCESS\":\"biological_process\",\"annotation.GO CELLULAR_COMPONENT\":\"cellular_component\",\"annotation.GO MOLECULAR_FUNCTION\":\"protein kinase activity\",\"label\":\"KDX1\",\"kegg\":\"sce:YKL161C\",\"uniprot\":\"KDX1_YEAST\",\"sgd\":\"S000001644\",\"entrez\":853696,\"name\":\"YKL161C\"},{\"alias\":\"EAP1, S000001687\",\"annotation.DB_Object_Name\":null,\"annotation.GO BIOLOGICAL_PROCESS\":\"telomere maintenance\",\"annotation.GO CELLULAR_COMPONENT\":\"mRNA cap complex\",\"annotation.GO MOLECULAR_FUNCTION\":\"eukaryotic initiation factor 4E binding\",\"label\":\"EAP1\",\"kegg\":\"sce:YKL204W\",\"uniprot\":\"EAP1_YEAST\",\"sgd\":\"S000001687\",\"entrez\":853631,\"name\":\"YKL204W\"},{\"alias\":\"indole-3-phosphate, S000001694, TRP3, anthranilate synthase component II\",\"annotation.DB_Object_Name\":\"anthranilate synthase component II, indole-3-phosphate\",\"annotation.GO BIOLOGICAL_PROCESS\":\"tryptophan biosynthetic process\",\"annotation.GO CELLULAR_COMPONENT\":\"anthranilate synthase complex, cytoplasm\",\"annotation.GO MOLECULAR_FUNCTION\":\"anthranilate synthase activity, indole-3-glycerol-phosphate synthase activity\",\"label\":\"TRPG\",\"kegg\":\"sce:YKL211C\",\"uniprot\":\"TRPG_YEAST\",\"sgd\":\"S000001694\",\"entrez\":853669,\"name\":\"YKL211C\"},{\"alias\":\"AAS2, GCN3, S000001734, eIF2B 34 kDa alpha subunit\",\"annotation.DB_Object_Name\":\"eIF2B 34 kDa alpha subunit\",\"annotation.GO BIOLOGICAL_PROCESS\":\"regulation of translational initiation\",\"annotation.GO CELLULAR_COMPONENT\":\"eukaryotic translation initiation factor 2B complex, guanyl-nucleotide exchange factor complex\",\"annotation.GO MOLECULAR_FUNCTION\":\"enzyme regulator activity, guanyl-nucleotide exchange factor activity, translation initiation factor activity\",\"label\":\"EI2BA\",\"kegg\":\"sce:YKR026C\",\"uniprot\":\"EI2BA_YEAST\",\"sgd\":\"S000001734\",\"entrez\":853896,\"name\":\"YKR026C\"},{\"alias\":\"JPM2, PCK1, PPC1, S000001805, phosphoenolpyruvate carboxylkinase\",\"annotation.DB_Object_Name\":\"phosphoenolpyruvate carboxylkinase\",\"annotation.GO BIOLOGICAL_PROCESS\":\"gluconeogenesis\",\"annotation.GO CELLULAR_COMPONENT\":\"cytosol\",\"annotation.GO MOLECULAR_FUNCTION\":\"phosphoenolpyruvate carboxykinase (ATP) activity\",\"label\":\"PCKA\",\"kegg\":\"sce:YKR097W\",\"uniprot\":\"PCKA_YEAST\",\"sgd\":\"S000001805\",\"entrez\":853972,\"name\":\"YKR097W\"},{\"alias\":\"BAS1, S000001807, transcription factor\",\"annotation.DB_Object_Name\":\"transcription factor\",\"annotation.GO BIOLOGICAL_PROCESS\":\"histidine biosynthetic process, purine base biosynthetic process, transcription from RNA polymerase II promoter\",\"annotation.GO CELLULAR_COMPONENT\":\"nucleus\",\"annotation.GO MOLECULAR_FUNCTION\":\"RNA polymerase II transcription factor activity\",\"label\":\"BAS1\",\"kegg\":\"sce:YKR099W\",\"uniprot\":\"BAS1_YEAST\",\"sgd\":\"S000001807\",\"entrez\":853974,\"name\":\"YKR099W\"},{\"alias\":\"KNS1, L124, S000003942\",\"annotation.DB_Object_Name\":null,\"annotation.GO BIOLOGICAL_PROCESS\":\"protein amino acid phosphorylation\",\"annotation.GO CELLULAR_COMPONENT\":\"cellular_component\",\"annotation.GO MOLECULAR_FUNCTION\":\"protein serine\\/threonine kinase activity, protein-tyrosine kinase activity\",\"label\":\"KNS1\",\"kegg\":\"sce:YLL019C\",\"uniprot\":\"KNS1_YEAST\",\"sgd\":\"S000003942\",\"entrez\":850641,\"name\":\"YLL019C\"},{\"alias\":\"FUS6, PEA1, S000003944, SPA2\",\"annotation.DB_Object_Name\":null,\"annotation.GO BIOLOGICAL_PROCESS\":\"Rho protein signal transduction, actin filament organization, bipolar bud site selection, establishment of cell polarity (sensu the Fungi research community), pseudohyphal growth, regulation of initiation of mating projection growth, regulation of termination of mating projection growth\",\"annotation.GO CELLULAR_COMPONENT\":\"bud neck, bud tip, incipient bud site, mating projection tip, polarisome\",\"annotation.GO MOLECULAR_FUNCTION\":\"cytoskeletal regulatory protein binding\",\"label\":\"SPA2\",\"kegg\":\"sce:YLL021W\",\"uniprot\":\"SPA2_YEAST\",\"sgd\":\"S000003944\",\"entrez\":850639,\"name\":\"YLL021W\"},{\"alias\":\"S000003951, TPO1\",\"annotation.DB_Object_Name\":null,\"annotation.GO BIOLOGICAL_PROCESS\":\"polyamine transport\",\"annotation.GO CELLULAR_COMPONENT\":\"bud, plasma membrane, vacuolar membrane\",\"annotation.GO MOLECULAR_FUNCTION\":\"spermidine transporter activity, spermine transporter activity\",\"label\":\"TPO1\",\"kegg\":\"sce:YLL028W\",\"uniprot\":\"TPO1_YEAST\",\"sgd\":\"S000003951\",\"entrez\":850631,\"name\":\"YLL028W\"},{\"alias\":\"PDC1, S000004034, pyruvate decarboxylase\",\"annotation.DB_Object_Name\":\"pyruvate decarboxylase\",\"annotation.GO BIOLOGICAL_PROCESS\":\"glucose catabolic process to ethanol, pyruvate metabolic process\",\"annotation.GO CELLULAR_COMPONENT\":\"cytoplasm, nucleus\",\"annotation.GO MOLECULAR_FUNCTION\":\"pyruvate decarboxylase activity\",\"label\":\"PDC1\",\"kegg\":\"sce:YLR044C\",\"uniprot\":\"PDC1_YEAST\",\"sgd\":\"S000004034\",\"entrez\":850733,\"name\":\"YLR044C\"},{\"alias\":\"GRC5, QSR1, RPL10, S000004065, ribosomal protein L10\",\"annotation.DB_Object_Name\":\"ribosomal protein L10\",\"annotation.GO BIOLOGICAL_PROCESS\":\"ribosomal large subunit assembly and maintenance\",\"annotation.GO CELLULAR_COMPONENT\":\"cytosolic large ribosomal subunit (sensu the Eukaryota research community)\",\"annotation.GO MOLECULAR_FUNCTION\":\"structural constituent of ribosome\",\"label\":\"RL10\",\"kegg\":\"sce:YLR075W\",\"uniprot\":\"RL10_YEAST\",\"sgd\":\"S000004065\",\"entrez\":850764,\"name\":\"YLR075W\"},{\"alias\":\"GAL2, S000004071, galactose permease\",\"annotation.DB_Object_Name\":\"galactose permease\",\"annotation.GO BIOLOGICAL_PROCESS\":\"galactose metabolic process, galactose transport\",\"annotation.GO CELLULAR_COMPONENT\":\"plasma membrane\",\"annotation.GO MOLECULAR_FUNCTION\":\"galactose transporter activity, glucose transporter activity\",\"label\":\"GAL2\",\"kegg\":\"sce:YLR081W\",\"uniprot\":\"GAL2_YEAST\",\"sgd\":\"S000004071\",\"entrez\":850770,\"name\":\"YLR081W\"},{\"alias\":\"cTPxIII, AHP1, S000004099, alkyl hydroperoxide reductase\",\"annotation.DB_Object_Name\":\"alkyl hydroperoxide reductase, cTPxIII\",\"annotation.GO BIOLOGICAL_PROCESS\":\"regulation of cell redox homeostasis, response to metal ion, response to oxidative stress\",\"annotation.GO CELLULAR_COMPONENT\":\"cytoplasm\",\"annotation.GO MOLECULAR_FUNCTION\":\"thioredoxin peroxidase activity\",\"label\":\"AHP1\",\"kegg\":\"sce:YLR109W\",\"uniprot\":\"AHP1_YEAST\",\"sgd\":\"S000004099\",\"entrez\":850799,\"name\":\"YLR109W\"},{\"alias\":\"BBP, MSL5, S000004106\",\"annotation.DB_Object_Name\":\"BBP\",\"annotation.GO BIOLOGICAL_PROCESS\":\"nuclear mRNA splicing, via spliceosome\",\"annotation.GO CELLULAR_COMPONENT\":\"commitment complex\",\"annotation.GO MOLECULAR_FUNCTION\":\"RNA binding\",\"label\":\"BBP\",\"kegg\":\"sce:YLR116W\",\"uniprot\":\"BBP_YEAST\",\"sgd\":\"S000004106\",\"entrez\":850807,\"name\":\"YLR116W\"},{\"alias\":\"CLF1, NTC77, S000004107, SYF3, pre-mRNA splicing factor\",\"annotation.DB_Object_Name\":\"pre-mRNA splicing factor\",\"annotation.GO BIOLOGICAL_PROCESS\":\"DNA replication, cell cycle, cis assembly of pre-catalytic spliceosome, nuclear mRNA splicing, via spliceosome\",\"annotation.GO CELLULAR_COMPONENT\":\"chromatin\",\"annotation.GO MOLECULAR_FUNCTION\":\"protein binding\",\"label\":\"CLF1\",\"kegg\":\"sce:YLR117C\",\"uniprot\":\"CLF1_YEAST\",\"sgd\":\"S000004107\",\"entrez\":850808,\"name\":\"YLR117C\"},{\"alias\":\"PDC5, S000004124, pyruvate decarboxylase\",\"annotation.DB_Object_Name\":\"pyruvate decarboxylase\",\"annotation.GO BIOLOGICAL_PROCESS\":\"glucose catabolic process to ethanol, pyruvate metabolic process\",\"annotation.GO CELLULAR_COMPONENT\":\"cytoplasm, nucleus\",\"annotation.GO MOLECULAR_FUNCTION\":\"pyruvate decarboxylase activity\",\"label\":\"PDC5\",\"kegg\":\"sce:YLR134W\",\"uniprot\":\"PDC5_YEAST\",\"sgd\":\"S000004124\",\"entrez\":850825,\"name\":\"YLR134W\"},{\"alias\":\"ACS2, S000004143, acetyl CoA synthetase\",\"annotation.DB_Object_Name\":\"acetyl CoA synthetase\",\"annotation.GO BIOLOGICAL_PROCESS\":\"acetyl-CoA biosynthetic process, histone acetylation\",\"annotation.GO CELLULAR_COMPONENT\":\"cytosol, nucleus\",\"annotation.GO MOLECULAR_FUNCTION\":\"acetate-CoA ligase activity\",\"label\":\"ACS2\",\"kegg\":\"sce:YLR153C\",\"uniprot\":\"ACS2_YEAST\",\"sgd\":\"S000004143\",\"entrez\":850846,\"name\":\"YLR153C\"},{\"alias\":\"CBF5, S000004165, pseudouridine synthase\",\"annotation.DB_Object_Name\":\"pseudouridine synthase\",\"annotation.GO BIOLOGICAL_PROCESS\":\"35S primary transcript processing, rRNA pseudouridine synthesis\",\"annotation.GO CELLULAR_COMPONENT\":\"box H\\/ACA snoRNP complex, nucleolus\",\"annotation.GO MOLECULAR_FUNCTION\":\"pseudouridylate synthase activity\",\"label\":\"CBF5\",\"kegg\":\"sce:YLR175W\",\"uniprot\":\"CBF5_YEAST\",\"sgd\":\"S000004165\",\"entrez\":850872,\"name\":\"YLR175W\"},{\"alias\":\"PAS20, PEX13, S000004181\",\"annotation.DB_Object_Name\":null,\"annotation.GO BIOLOGICAL_PROCESS\":\"peroxisome organization and biogenesis, protein import into peroxisome matrix, protein targeting to peroxisome\",\"annotation.GO CELLULAR_COMPONENT\":\"peroxisomal membrane\",\"annotation.GO MOLECULAR_FUNCTION\":\"protein binding\",\"label\":\"PEX13\",\"kegg\":\"sce:YLR191W\",\"uniprot\":\"PEX13_YEAST\",\"sgd\":\"S000004181\",\"entrez\":850888,\"name\":\"YLR191W\"},{\"alias\":\"NOP56, S000004187, SIK1, U3 snoRNP protein\",\"annotation.DB_Object_Name\":\"U3 snoRNP protein\",\"annotation.GO BIOLOGICAL_PROCESS\":\"35S primary transcript processing, processing of 20S pre-rRNA, rRNA modification\",\"annotation.GO CELLULAR_COMPONENT\":\"box C\\/D snoRNP complex, nucleolus, nucleus, small nucleolar ribonucleoprotein complex\",\"annotation.GO MOLECULAR_FUNCTION\":\"molecular_function\",\"label\":\"NOP56\",\"kegg\":\"sce:YLR197W\",\"uniprot\":\"NOP56_YEAST\",\"sgd\":\"S000004187\",\"entrez\":850894,\"name\":\"YLR197W\"},{\"alias\":\" ferric reductase, FRE1, S000004204, cupric reductase\",\"annotation.DB_Object_Name\":\"cupric reductase, ferric reductase\",\"annotation.GO BIOLOGICAL_PROCESS\":\"copper ion import, iron ion transport\",\"annotation.GO CELLULAR_COMPONENT\":\"plasma membrane\",\"annotation.GO MOLECULAR_FUNCTION\":\"ferric-chelate reductase activity\",\"label\":\"FRE1\",\"kegg\":\"sce:YLR214W\",\"uniprot\":\"FRE1_YEAST\",\"sgd\":\"S000004204\",\"entrez\":850911,\"name\":\"YLR214W\"},{\"alias\":\"CDC42, S000004219\",\"annotation.DB_Object_Name\":null,\"annotation.GO BIOLOGICAL_PROCESS\":\"Rho protein signal transduction, budding cell apical bud growth, budding cell isotropic bud growth, establishment of cell polarity (sensu the Fungi research community), exocytosis, invasive growth (sensu the Saccharomyces research community), pheromone-dependent signal transduction during conjugation with cellular fusion, pseudohyphal growth, regulation of exit from mitosis, regulation of initiation of mating projection growth\",\"annotation.GO CELLULAR_COMPONENT\":\"bud neck, bud tip, mating projection tip, plasma membrane, soluble fraction\",\"annotation.GO MOLECULAR_FUNCTION\":\"GTPase activity, signal transducer activity\",\"label\":\"CDC42\",\"kegg\":\"sce:YLR229C\",\"uniprot\":\"CDC42_YEAST\",\"sgd\":\"S000004219\",\"entrez\":850930,\"name\":\"YLR229C\"},{\"alias\":\"Translation elongation factor 3 (EF-3), EF-3, S000004239, TEF3, YEF3\",\"annotation.DB_Object_Name\":\"EF-3, Translation elongation factor 3 (EF-3)\",\"annotation.GO BIOLOGICAL_PROCESS\":\"translational elongation\",\"annotation.GO CELLULAR_COMPONENT\":\"ribosome\",\"annotation.GO MOLECULAR_FUNCTION\":\"translation elongation factor activity\",\"label\":\"EF3A\",\"kegg\":\"sce:YLR249W\",\"uniprot\":\"EF3A_YEAST\",\"sgd\":\"S000004239\",\"entrez\":850951,\"name\":\"YLR249W\"},{\"alias\":\"CYP1, HAP1, S000004246, zinc finger transcription factor of the Zn(2)-Cys(6) binuclear cluster domain type\",\"annotation.DB_Object_Name\":\"zinc finger transcription factor of the Zn(2)-Cys(6) binuclear cluster domain type\",\"annotation.GO BIOLOGICAL_PROCESS\":\"aerobic respiration, positive regulation of transcription from RNA polymerase II promoter\",\"annotation.GO CELLULAR_COMPONENT\":\"nucleus\",\"annotation.GO MOLECULAR_FUNCTION\":\"specific RNA polymerase II transcription factor activity\",\"label\":\"HAP1\",\"kegg\":\"sce:YLR256W\",\"uniprot\":\"HAP1_YEAST\",\"sgd\":\"S000004246\",\"entrez\":850958,\"name\":\"YLR256W\"},{\"alias\":\"GSY2, S000004248, glycogen synthase (UDP-glucose-starch glucosyltransferase)\",\"annotation.DB_Object_Name\":\"glycogen synthase (UDP-glucose-starch glucosyltransferase)\",\"annotation.GO BIOLOGICAL_PROCESS\":\"glycogen biosynthetic process\",\"annotation.GO CELLULAR_COMPONENT\":\"cytoplasm\",\"annotation.GO MOLECULAR_FUNCTION\":\"glycogen (starch) synthase activity\",\"label\":\"GYS2\",\"kegg\":\"sce:YLR258W\",\"uniprot\":\"GYS2_YEAST\",\"sgd\":\"S000004248\",\"entrez\":850962,\"name\":\"YLR258W\"},{\"alias\":\"RPS28B, RPS33B, S000004254, ribosomal protein S28B (S33B) (YS27)\",\"annotation.DB_Object_Name\":\"ribosomal protein S28B (S33B) (YS27)\",\"annotation.GO BIOLOGICAL_PROCESS\":\"telomere maintenance\",\"annotation.GO CELLULAR_COMPONENT\":\"cytosolic small ribosomal subunit (sensu the Eukaryota research community)\",\"annotation.GO MOLECULAR_FUNCTION\":\"structural constituent of ribosome\",\"label\":\"RS28B\",\"kegg\":\"sce:YLR264W\",\"uniprot\":\"RS28B_YEAST\",\"sgd\":\"S000004254\",\"entrez\":850969,\"name\":\"YLR264W\"},{\"alias\":\"ECI1, S000004274, d2-Enoyl-CoA Isomerase, d3\",\"annotation.DB_Object_Name\":\"d3,d2-Enoyl-CoA Isomerase\",\"annotation.GO BIOLOGICAL_PROCESS\":\"fatty acid beta-oxidation\",\"annotation.GO CELLULAR_COMPONENT\":\"peroxisome\",\"annotation.GO MOLECULAR_FUNCTION\":\"dodecenoyl-CoA delta-isomerase activity\",\"label\":\"ECI1\",\"kegg\":\"sce:YLR284C\",\"uniprot\":\"ECI1_YEAST\",\"sgd\":\"S000004274\",\"entrez\":850990,\"name\":\"YLR284C\"},{\"alias\":\"CNR1, CST17, GSP1, GTP-binding protein, S000004284\",\"annotation.DB_Object_Name\":\"GTP-binding protein\",\"annotation.GO BIOLOGICAL_PROCESS\":\"nuclear organization and biogenesis, nucleocytoplasmic transport, rRNA processing\",\"annotation.GO CELLULAR_COMPONENT\":\"cytoplasm, nucleus\",\"annotation.GO MOLECULAR_FUNCTION\":\"GTPase activity\",\"label\":\"GSP1\",\"kegg\":\"sce:YLR293C\",\"uniprot\":\"GSP1_YEAST\",\"sgd\":\"S000004284\",\"entrez\":851000,\"name\":\"YLR293C\"},{\"alias\":\"CDC25, CDC25', CTN1, S000004301\",\"annotation.DB_Object_Name\":null,\"annotation.GO BIOLOGICAL_PROCESS\":\"Ras protein signal transduction, regulation of progression through cell cycle, replicative cell aging, traversing start control point of mitotic cell cycle\",\"annotation.GO CELLULAR_COMPONENT\":\"cytoplasm, plasma membrane\",\"annotation.GO MOLECULAR_FUNCTION\":\"Ras guanyl-nucleotide exchange factor activity\",\"label\":\"CDC25\",\"kegg\":\"sce:YLR310C\",\"uniprot\":\"CDC25_YEAST\",\"sgd\":\"S000004301\",\"entrez\":851019,\"name\":\"YLR310C\"},{\"alias\":\"AIP3, BUD6, S000004311\",\"annotation.DB_Object_Name\":null,\"annotation.GO BIOLOGICAL_PROCESS\":\"Rho protein signal transduction, actin filament organization, bipolar bud site selection, bud site selection, cytokinesis, establishment of cell polarity (sensu the Fungi research community), response to osmotic stress\",\"annotation.GO CELLULAR_COMPONENT\":\"actin cap, polarisome\",\"annotation.GO MOLECULAR_FUNCTION\":\"cytoskeletal regulatory protein binding\",\"label\":\"BUD6\",\"kegg\":\"sce:YLR319C\",\"uniprot\":\"BUD6_YEAST\",\"sgd\":\"S000004311\",\"entrez\":851029,\"name\":\"YLR319C\"},{\"alias\":\"RSC, S000004313, SFH1, chromatin remodeling complex member\",\"annotation.DB_Object_Name\":\"chromatin remodeling complex member, RSC\",\"annotation.GO BIOLOGICAL_PROCESS\":\"chromatin remodeling, double-strand break repair\",\"annotation.GO CELLULAR_COMPONENT\":\"RSC complex\",\"annotation.GO MOLECULAR_FUNCTION\":\"protein binding\",\"label\":\"SFH1\",\"kegg\":\"sce:YLR321C\",\"uniprot\":\"SFH1_YEAST\",\"sgd\":\"S000004313\",\"entrez\":851032,\"name\":\"YLR321C\"},{\"alias\":\"RPL10E, RPP0, S000004332, ribosomal protein P0 (A0) (L10E)\",\"annotation.DB_Object_Name\":\"ribosomal protein P0 (A0) (L10E)\",\"annotation.GO BIOLOGICAL_PROCESS\":\"ribosomal large subunit assembly and maintenance, translational elongation\",\"annotation.GO CELLULAR_COMPONENT\":\"cytosolic large ribosomal subunit (sensu the Eukaryota research community)\",\"annotation.GO MOLECULAR_FUNCTION\":\"structural constituent of ribosome\",\"label\":\"RLA0\",\"kegg\":\"sce:YLR340W\",\"uniprot\":\"RLA0_YEAST\",\"sgd\":\"S000004332\",\"entrez\":851052,\"name\":\"YLR340W\"},{\"alias\":\"S000004337\",\"annotation.DB_Object_Name\":null,\"annotation.GO BIOLOGICAL_PROCESS\":\"fructose 2,6-bisphosphate metabolic process, regulation of glycolysis\",\"annotation.GO CELLULAR_COMPONENT\":\"cytoplasm\",\"annotation.GO MOLECULAR_FUNCTION\":\"6-phosphofructo-2-kinase activity\",\"label\":\"YL345\",\"kegg\":\"sce:YLR345W\",\"uniprot\":\"YL345_YEAST\",\"sgd\":\"S000004337\",\"entrez\":851059,\"name\":\"YLR345W\"},{\"alias\":\"S000004354, STE11\",\"annotation.DB_Object_Name\":null,\"annotation.GO BIOLOGICAL_PROCESS\":\"invasive growth (sensu the Saccharomyces research community), pheromone-dependent signal transduction during conjugation with cellular fusion, protein amino acid phosphorylation, pseudohyphal growth\",\"annotation.GO CELLULAR_COMPONENT\":\"cytoplasm\",\"annotation.GO MOLECULAR_FUNCTION\":\"MAP kinase kinase kinase activity, SAM domain binding\",\"label\":\"STE11\",\"kegg\":\"sce:YLR362W\",\"uniprot\":\"STE11_YEAST\",\"sgd\":\"S000004354\",\"entrez\":851076,\"name\":\"YLR362W\"},{\"alias\":\"fructose-1, 6-bisphosphatase, ACN8, FBP1, FBPase-2, S000004369\",\"annotation.DB_Object_Name\":\"FBPase-2, fructose-1,6-bisphosphatase\",\"annotation.GO BIOLOGICAL_PROCESS\":\"gluconeogenesis\",\"annotation.GO CELLULAR_COMPONENT\":\"cytosol\",\"annotation.GO MOLECULAR_FUNCTION\":\"fructose-bisphosphatase activity\",\"label\":\"F16P\",\"kegg\":\"sce:YLR377C\",\"uniprot\":\"F16P_YEAST\",\"sgd\":\"S000004369\",\"entrez\":851092,\"name\":\"YLR377C\"},{\"alias\":\"IMD3, S000004424\",\"annotation.DB_Object_Name\":null,\"annotation.GO BIOLOGICAL_PROCESS\":\"GTP biosynthetic process\",\"annotation.GO CELLULAR_COMPONENT\":\"cytoplasm\",\"annotation.GO MOLECULAR_FUNCTION\":\"IMP dehydrogenase activity\",\"label\":\"IMDH3\",\"kegg\":\"sce:YLR432W\",\"uniprot\":\"IMDH3_YEAST\",\"sgd\":\"S000004424\",\"entrez\":851152,\"name\":\"YLR432W\"},{\"alias\":\"GTPase activating protein (GAP), S000004444, SST2\",\"annotation.DB_Object_Name\":\"GTPase activating protein (GAP)\",\"annotation.GO BIOLOGICAL_PROCESS\":\"adaptation to pheromone during conjugation with cellular fusion, signal transduction\",\"annotation.GO CELLULAR_COMPONENT\":\"plasma membrane\",\"annotation.GO MOLECULAR_FUNCTION\":\"GTPase activator activity\",\"label\":\"SST2\",\"kegg\":\"sce:YLR452C\",\"uniprot\":\"SST2_YEAST\",\"sgd\":\"S000004444\",\"entrez\":851173,\"name\":\"YLR452C\"},{\"alias\":\"PAR1, S000004466, SNQ3, YAP1, jun-like transcription factor\",\"annotation.DB_Object_Name\":\"jun-like transcription factor\",\"annotation.GO BIOLOGICAL_PROCESS\":\"response to arsenic, response to drug, response to heat, response to singlet oxygen, transcription\",\"annotation.GO CELLULAR_COMPONENT\":\"cytoplasm, nucleus\",\"annotation.GO MOLECULAR_FUNCTION\":\"transcription factor activity\",\"label\":\"YAP1\",\"kegg\":\"sce:YML007W\",\"uniprot\":\"YAP1_YEAST\",\"sgd\":\"S000004466\",\"entrez\":855005,\"name\":\"YML007W\"},{\"alias\":\"RP51A, RPL51A, RPS17A, S000004486, ribosomal protein S17A (rp51A)\",\"annotation.DB_Object_Name\":\"ribosomal protein S17A (rp51A)\",\"annotation.GO BIOLOGICAL_PROCESS\":\"ribosomal small subunit assembly and maintenance, telomere maintenance\",\"annotation.GO CELLULAR_COMPONENT\":\"cytosolic small ribosomal subunit (sensu the Eukaryota research community)\",\"annotation.GO MOLECULAR_FUNCTION\":\"structural constituent of ribosome\",\"label\":\"RS17A\",\"kegg\":\"sce:YML024W\",\"uniprot\":\"RS17A_YEAST\",\"sgd\":\"S000004486\",\"entrez\":854984,\"name\":\"YML024W\"},{\"alias\":\"RAD52, S000004494\",\"annotation.DB_Object_Name\":null,\"annotation.GO BIOLOGICAL_PROCESS\":\"DNA recombinase assembly, double-strand break repair via break-induced replication, double-strand break repair via single-strand annealing, double-strand break repair via synthesis-dependent strand annealing, meiotic DNA recombinase assembly, postreplication repair, telomere maintenance via recombination\",\"annotation.GO CELLULAR_COMPONENT\":\"nuclear chromosome, nucleus\",\"annotation.GO MOLECULAR_FUNCTION\":\"DNA strand annealing activity, recombinase activity\",\"label\":\"RAD52\",\"kegg\":\"sce:YML032C\",\"uniprot\":\"RAD52_YEAST\",\"sgd\":\"S000004494\",\"entrez\":854976,\"name\":\"YML032C\"},{\"alias\":\"GAL80, S000004515, transcriptional regulator\",\"annotation.DB_Object_Name\":\"transcriptional regulator\",\"annotation.GO BIOLOGICAL_PROCESS\":\"galactose metabolic process, positive regulation of transcription by galactose\",\"annotation.GO CELLULAR_COMPONENT\":\"cytoplasm, nucleus\",\"annotation.GO MOLECULAR_FUNCTION\":\"specific transcriptional repressor activity\",\"label\":\"GAL80\",\"kegg\":\"sce:YML051W\",\"uniprot\":\"GAL80_YEAST\",\"sgd\":\"S000004515\",\"entrez\":854954,\"name\":\"YML051W\"},{\"alias\":\"cytochrome b2, CYB2, L-lactate cytochrome c oxidoreductase, S000004518\",\"annotation.DB_Object_Name\":\"L-lactate cytochrome c oxidoreductase, cytochrome b2\",\"annotation.GO BIOLOGICAL_PROCESS\":\"electron transport\",\"annotation.GO CELLULAR_COMPONENT\":\"mitochondrial intermembrane space, mitochondrion\",\"annotation.GO MOLECULAR_FUNCTION\":\"L-lactate dehydrogenase (cytochrome) activity\",\"label\":\"CYB2\",\"kegg\":\"sce:YML054C\",\"uniprot\":\"CYB2_YEAST\",\"sgd\":\"S000004518\",\"entrez\":854950,\"name\":\"YML054C\"},{\"alias\":\"GTP-binding protein, S000004529, TEM1\",\"annotation.DB_Object_Name\":\"GTP-binding protein\",\"annotation.GO BIOLOGICAL_PROCESS\":\"regulation of exit from mitosis\",\"annotation.GO CELLULAR_COMPONENT\":\"spindle pole body\",\"annotation.GO MOLECULAR_FUNCTION\":\"GTPase activity, protein binding\",\"label\":\"TEM1\",\"kegg\":\"sce:YML064C\",\"uniprot\":\"TEM1_YEAST\",\"sgd\":\"S000004529\",\"entrez\":854938,\"name\":\"YML064C\"},{\"alias\":\"FPR3, NPI46, S000004539\",\"annotation.DB_Object_Name\":null,\"annotation.GO BIOLOGICAL_PROCESS\":\"meiotic recombination checkpoint\",\"annotation.GO CELLULAR_COMPONENT\":\"nucleolus\",\"annotation.GO MOLECULAR_FUNCTION\":\"peptidyl-prolyl cis-trans isomerase activity\",\"label\":\"FKBP3\",\"kegg\":\"sce:YML074C\",\"uniprot\":\"FKBP3_YEAST\",\"sgd\":\"S000004539\",\"entrez\":854901,\"name\":\"YML074C\"},{\"alias\":\" TafII65, S000004582, TAF65, TAF8, TFIID subunit\",\"annotation.DB_Object_Name\":\"TFIID subunit, TafII65\",\"annotation.GO BIOLOGICAL_PROCESS\":\"transcription from RNA polymerase II promoter\",\"annotation.GO CELLULAR_COMPONENT\":\"nucleus, transcription factor TFIID complex\",\"annotation.GO MOLECULAR_FUNCTION\":\"RNA polymerase II transcription factor activity\",\"label\":\"TAF8\",\"kegg\":\"sce:YML114C\",\"uniprot\":\"TAF8_YEAST\",\"sgd\":\"S000004582\",\"entrez\":854926,\"name\":\"YML114C\"},{\"alias\":\"PHO84, S000004592, inorganic phosphate transporter\",\"annotation.DB_Object_Name\":\"inorganic phosphate transporter\",\"annotation.GO BIOLOGICAL_PROCESS\":\"manganese ion transport, phosphate transport\",\"annotation.GO CELLULAR_COMPONENT\":\"integral to plasma membrane\",\"annotation.GO MOLECULAR_FUNCTION\":\"inorganic phosphate transporter activity, manganese ion transporter activity\",\"label\":\"PHO84\",\"kegg\":\"sce:YML123C\",\"uniprot\":\"PHO84_YEAST\",\"sgd\":\"S000004592\",\"entrez\":854916,\"name\":\"YML123C\"},{\"alias\":\" TafII48, MPT1, S000004607, TAF4, TAF48, TFIID subunit, TSG2\",\"annotation.DB_Object_Name\":\"TFIID subunit, TafII48\",\"annotation.GO BIOLOGICAL_PROCESS\":\"transcription from RNA polymerase II promoter\",\"annotation.GO CELLULAR_COMPONENT\":\"transcription factor TFIID complex\",\"annotation.GO MOLECULAR_FUNCTION\":\"RNA polymerase II transcription factor activity\",\"label\":\"TAF4\",\"kegg\":\"sce:YMR005W\",\"uniprot\":\"TAF4_YEAST\",\"sgd\":\"S000004607\",\"entrez\":855017,\"name\":\"YMR005W\"},{\"alias\":\"CUA1, MAC1, S000004623, metal-binding transcriptional activator\",\"annotation.DB_Object_Name\":\"metal-binding transcriptional activator\",\"annotation.GO BIOLOGICAL_PROCESS\":\"cadmium ion homeostasis, positive regulation of transcription from RNA polymerase II promoter, regulation of protein catabolic process\",\"annotation.GO CELLULAR_COMPONENT\":\"nucleus\",\"annotation.GO MOLECULAR_FUNCTION\":\"specific RNA polymerase II transcription factor activity\",\"label\":\"MAC1\",\"kegg\":\"sce:YMR021C\",\"uniprot\":\"MAC1_YEAST\",\"sgd\":\"S000004623\",\"entrez\":855035,\"name\":\"YMR021C\"},{\"alias\":\"FUN80, MCM1, S000004646, transcription factor\",\"annotation.DB_Object_Name\":\"transcription factor\",\"annotation.GO BIOLOGICAL_PROCESS\":\"DNA replication initiation, regulation of transcription from RNA polymerase II promoter\",\"annotation.GO CELLULAR_COMPONENT\":\"nuclear chromatin, nucleus\",\"annotation.GO MOLECULAR_FUNCTION\":\"DNA bending activity, DNA binding, DNA replication origin binding, RNA polymerase II transcription factor activity\",\"label\":\"MCM1\",\"kegg\":\"sce:YMR043W\",\"uniprot\":\"MCM1_YEAST\",\"sgd\":\"S000004646\",\"entrez\":855060,\"name\":\"YMR043W\"},{\"alias\":\"IOC4, S000004647\",\"annotation.DB_Object_Name\":null,\"annotation.GO BIOLOGICAL_PROCESS\":\"chromatin remodeling\",\"annotation.GO CELLULAR_COMPONENT\":\"ISW1 complex\",\"annotation.GO MOLECULAR_FUNCTION\":\"protein binding\",\"label\":\"IOC4\",\"kegg\":\"sce:YMR044W\",\"uniprot\":\"IOC4_YEAST\",\"sgd\":\"S000004647\",\"entrez\":855061,\"name\":\"YMR044W\"},{\"alias\":\"FET3, S000004662, multicopper oxidase\",\"annotation.DB_Object_Name\":\"multicopper oxidase\",\"annotation.GO BIOLOGICAL_PROCESS\":\"high affinity iron ion transport, response to copper ion\",\"annotation.GO CELLULAR_COMPONENT\":\"plasma membrane\",\"annotation.GO MOLECULAR_FUNCTION\":\"ferroxidase activity, iron ion transporter activity\",\"label\":\"FET3\",\"kegg\":\"sce:YMR058W\",\"uniprot\":\"FET3_YEAST\",\"sgd\":\"S000004662\",\"entrez\":855080,\"name\":\"YMR058W\"},{\"alias\":\"ILV2, S000004714, SMR1, THI1, acetolactate synthase\",\"annotation.DB_Object_Name\":\"acetolactate synthase\",\"annotation.GO BIOLOGICAL_PROCESS\":\"branched chain family amino acid biosynthetic process\",\"annotation.GO CELLULAR_COMPONENT\":\"acetolactate synthase complex, mitochondrion\",\"annotation.GO MOLECULAR_FUNCTION\":\"FAD binding, acetolactate synthase activity\",\"label\":\"ILVB\",\"kegg\":\"sce:YMR108W\",\"uniprot\":\"ILVB_YEAST\",\"sgd\":\"S000004714\",\"entrez\":855135,\"name\":\"YMR108W\"},{\"alias\":\"S000004723, SPC24, spindle pole component\",\"annotation.DB_Object_Name\":\"spindle pole component\",\"annotation.GO BIOLOGICAL_PROCESS\":\"chromosome segregation, microtubule nucleation\",\"annotation.GO CELLULAR_COMPONENT\":\"Ndc80 complex, condensed nuclear chromosome kinetochore, condensed nuclear chromosome, pericentric region\",\"annotation.GO MOLECULAR_FUNCTION\":\"structural constituent of cytoskeleton\",\"label\":\"SPC24\",\"kegg\":\"sce:YMR117C\",\"uniprot\":\"SPC24_YEAST\",\"sgd\":\"S000004723\",\"entrez\":855144,\"name\":\"YMR117C\"},{\"alias\":\"CIN4, GTP-binding protein, GTP1, S000004746, UGX1\",\"annotation.DB_Object_Name\":\"GTP-binding protein\",\"annotation.GO BIOLOGICAL_PROCESS\":\"microtubule-based process\",\"annotation.GO CELLULAR_COMPONENT\":\"cytoplasm\",\"annotation.GO MOLECULAR_FUNCTION\":\"GTP binding\",\"label\":\"CIN4\",\"kegg\":\"sce:YMR138W\",\"uniprot\":\"CIN4_YEAST\",\"sgd\":\"S000004746\",\"entrez\":855169,\"name\":\"YMR138W\"},{\"alias\":\"S000004754, TIF34, translation initiation factor eIF3 subunit\",\"annotation.DB_Object_Name\":\"translation initiation factor eIF3 subunit\",\"annotation.GO BIOLOGICAL_PROCESS\":\"translational initiation\",\"annotation.GO CELLULAR_COMPONENT\":\"eukaryotic translation initiation factor 3 complex, multi-eIF complex\",\"annotation.GO MOLECULAR_FUNCTION\":\"translation initiation factor activity\",\"label\":\"EIF3I\",\"kegg\":\"sce:YMR146C\",\"uniprot\":\"EIF3I_YEAST\",\"sgd\":\"S000004754\",\"entrez\":855177,\"name\":\"YMR146C\"},{\"alias\":\"S000004795, SSO2, t-SNARE\",\"annotation.DB_Object_Name\":\"t-SNARE\",\"annotation.GO BIOLOGICAL_PROCESS\":\"Golgi to plasma membrane transport, vesicle fusion\",\"annotation.GO CELLULAR_COMPONENT\":\"cytoplasm, endoplasmic reticulum, integral to plasma membrane\",\"annotation.GO MOLECULAR_FUNCTION\":\"t-SNARE activity\",\"label\":\"SSO2\",\"kegg\":\"sce:YMR183C\",\"uniprot\":\"SSO2_YEAST\",\"sgd\":\"S000004795\",\"entrez\":855221,\"name\":\"YMR183C\"},{\"alias\":\"HSC82, HSP90, S000004798, chaperonin\",\"annotation.DB_Object_Name\":\"chaperonin\",\"annotation.GO BIOLOGICAL_PROCESS\":\"'de novo' protein folding, proteasome assembly, protein folding, protein refolding, response to stress, telomere maintenance\",\"annotation.GO CELLULAR_COMPONENT\":\"cytoplasm, mitochondrion\",\"annotation.GO MOLECULAR_FUNCTION\":\"ATPase activity, coupled, unfolded protein binding\",\"label\":\"HSC82\",\"kegg\":\"sce:YMR186W\",\"uniprot\":\"HSC82_YEAST\",\"sgd\":\"S000004798\",\"entrez\":855224,\"name\":\"YMR186W\"},{\"alias\":\"GFD1, S000004868\",\"annotation.DB_Object_Name\":null,\"annotation.GO BIOLOGICAL_PROCESS\":\"mRNA export from nucleus\",\"annotation.GO CELLULAR_COMPONENT\":\"cytoplasm, nuclear pore\",\"annotation.GO MOLECULAR_FUNCTION\":\"molecular_function\",\"label\":\"GFD1\",\"kegg\":\"sce:YMR255W\",\"uniprot\":\"GFD1_YEAST\",\"sgd\":\"S000004868\",\"entrez\":855297,\"name\":\"YMR255W\"},{\"alias\":\"S000004905\",\"annotation.DB_Object_Name\":null,\"annotation.GO BIOLOGICAL_PROCESS\":\"biological_process\",\"annotation.GO CELLULAR_COMPONENT\":\"cytoplasm, nucleus\",\"annotation.GO MOLECULAR_FUNCTION\":\"protein kinase activity\",\"label\":\"TDA1\",\"kegg\":\"sce:YMR291W\",\"uniprot\":\"TDA1_YEAST\",\"sgd\":\"S000004905\",\"entrez\":855336,\"name\":\"YMR291W\"},{\"alias\":\"ADE4, S000004915, phosphoribosylpyrophosphate amidotransferase\",\"annotation.DB_Object_Name\":\"phosphoribosylpyrophosphate amidotransferase\",\"annotation.GO BIOLOGICAL_PROCESS\":\"'de novo' IMP biosynthetic process, purine base metabolic process, purine nucleotide biosynthetic process\",\"annotation.GO CELLULAR_COMPONENT\":\"cytoplasm\",\"annotation.GO MOLECULAR_FUNCTION\":\"amidophosphoribosyltransferase activity\",\"label\":\"PUR1\",\"kegg\":\"sce:YMR300C\",\"uniprot\":\"PUR1_YEAST\",\"sgd\":\"S000004915\",\"entrez\":855346,\"name\":\"YMR300C\"},{\"alias\":\"NIP1, S000004926, translation initiation factor eIF3 subunit\",\"annotation.DB_Object_Name\":\"translation initiation factor eIF3 subunit\",\"annotation.GO BIOLOGICAL_PROCESS\":\"translational initiation\",\"annotation.GO CELLULAR_COMPONENT\":\"cytoplasm, eukaryotic translation initiation factor 3 complex, multi-eIF complex\",\"annotation.GO MOLECULAR_FUNCTION\":\"translation initiation factor activity\",\"label\":\"EIF3C\",\"kegg\":\"sce:YMR309C\",\"uniprot\":\"EIF3C_YEAST\",\"sgd\":\"S000004926\",\"entrez\":855357,\"name\":\"YMR309C\"},{\"alias\":\"GLC8, S000004928, protein phosphatase 1 (Glc7p) regulator\",\"annotation.DB_Object_Name\":\"protein phosphatase 1 (Glc7p) regulator\",\"annotation.GO BIOLOGICAL_PROCESS\":\"chromosome segregation, glycogen biosynthetic process\",\"annotation.GO CELLULAR_COMPONENT\":\"cytoplasm, nucleus\",\"annotation.GO MOLECULAR_FUNCTION\":\"enzyme activator activity\",\"label\":\"GLC8\",\"kegg\":\"sce:YMR311C\",\"uniprot\":\"GLC8_YEAST\",\"sgd\":\"S000004928\",\"entrez\":855359,\"name\":\"YMR311C\"},{\"alias\":\"NCE103, NCE3, S000004981\",\"annotation.DB_Object_Name\":null,\"annotation.GO BIOLOGICAL_PROCESS\":\"response to oxidative stress\",\"annotation.GO CELLULAR_COMPONENT\":\"cytoplasm, nucleus\",\"annotation.GO MOLECULAR_FUNCTION\":\"carbonate dehydratase activity\",\"label\":\"CAN\",\"kegg\":\"sce:YNL036W\",\"uniprot\":\"CAN_YEAST\",\"sgd\":\"S000004981\",\"entrez\":855692,\"name\":\"YNL036W\"},{\"alias\":\"LIT1, S000004992, SLM2\",\"annotation.DB_Object_Name\":null,\"annotation.GO BIOLOGICAL_PROCESS\":\"actin cable formation, actin cytoskeleton organization and biogenesis, establishment and\\/or maintenance of actin cytoskeleton polarity, regulation of cell growth\",\"annotation.GO CELLULAR_COMPONENT\":\"TORC 2 complex, plasma membrane\",\"annotation.GO MOLECULAR_FUNCTION\":\"phosphoinositide binding\",\"label\":\"SLM2\",\"kegg\":\"sce:YNL047C\",\"uniprot\":\"SLM2_YEAST\",\"sgd\":\"S000004992\",\"entrez\":855680,\"name\":\"YNL047C\"},{\"alias\":\"S000004995\",\"annotation.DB_Object_Name\":null,\"annotation.GO BIOLOGICAL_PROCESS\":\"biological_process\",\"annotation.GO CELLULAR_COMPONENT\":\"cellular_component\",\"annotation.GO MOLECULAR_FUNCTION\":\"molecular_function\",\"label\":\"YNF0\",\"kegg\":\"sce:YNL050C\",\"uniprot\":\"YNF0_YEAST\",\"sgd\":\"S000004995\",\"entrez\":855677,\"name\":\"YNL050C\"},{\"alias\":\"RP23, RPL16B, S000005013, ribosomal protein L16B (L21B) (rp23) (YL15)\",\"annotation.DB_Object_Name\":\"ribosomal protein L16B (L21B) (rp23) (YL15)\",\"annotation.GO BIOLOGICAL_PROCESS\":null,\"annotation.GO CELLULAR_COMPONENT\":\"cytosolic large ribosomal subunit (sensu the Eukaryota research community)\",\"annotation.GO MOLECULAR_FUNCTION\":\"RNA binding, structural constituent of ribosome\",\"label\":\"RL16B\",\"kegg\":\"sce:YNL069C\",\"uniprot\":\"RL16B_YEAST\",\"sgd\":\"S000005013\",\"entrez\":855655,\"name\":\"YNL069C\"},{\"alias\":\"NST1, S000005035\",\"annotation.DB_Object_Name\":null,\"annotation.GO BIOLOGICAL_PROCESS\":\"response to salt stress\",\"annotation.GO CELLULAR_COMPONENT\":\"cytoplasm\",\"annotation.GO MOLECULAR_FUNCTION\":\"molecular_function\",\"label\":\"NST1\",\"kegg\":\"sce:YNL091W\",\"uniprot\":\"NST1_YEAST\",\"sgd\":\"S000005035\",\"entrez\":855633,\"name\":\"YNL091W\"},{\"alias\":\"CTN5, CYR3, GLC5, RAS2, S000005042, TSL7, small GTP-binding protein\",\"annotation.DB_Object_Name\":\"small GTP-binding protein\",\"annotation.GO BIOLOGICAL_PROCESS\":\"Ras protein signal transduction, adenylate cyclase activation, positive regulation of transcription by galactose, pseudohyphal growth, replicative cell aging, sporulation (sensu the Fungi research community)\",\"annotation.GO CELLULAR_COMPONENT\":\"plasma membrane\",\"annotation.GO MOLECULAR_FUNCTION\":\"GTPase activity\",\"label\":\"RAS2\",\"kegg\":\"sce:YNL098C\",\"uniprot\":\"RAS2_YEAST\",\"sgd\":\"S000005042\",\"entrez\":855625,\"name\":\"YNL098C\"},{\"alias\":\" RNA polymerases I (A) and III (C) subunit, AC19, RPC19, S000005057\",\"annotation.DB_Object_Name\":\"AC19, RNA polymerases I (A) and III (C) subunit\",\"annotation.GO BIOLOGICAL_PROCESS\":\"transcription from RNA polymerase I promoter, transcription from RNA polymerase III promoter\",\"annotation.GO CELLULAR_COMPONENT\":\"DNA-directed RNA polymerase I complex, DNA-directed RNA polymerase III complex\",\"annotation.GO MOLECULAR_FUNCTION\":\"DNA-directed RNA polymerase activity\",\"label\":\"RPAC2\",\"kegg\":\"sce:YNL113W\",\"uniprot\":\"RPAC2_YEAST\",\"sgd\":\"S000005057\",\"entrez\":855609,\"name\":\"YNL113W\"},{\"alias\":\"CHF2, DMA2, S000005060\",\"annotation.DB_Object_Name\":null,\"annotation.GO BIOLOGICAL_PROCESS\":\"establishment of mitotic spindle orientation, mitotic spindle checkpoint, septin ring assembly\",\"annotation.GO CELLULAR_COMPONENT\":\"cytoplasm\",\"annotation.GO MOLECULAR_FUNCTION\":\"molecular_function\",\"label\":\"DMA2\",\"kegg\":\"sce:YNL116W\",\"uniprot\":\"DMA2_YEAST\",\"sgd\":\"S000005060\",\"entrez\":855607,\"name\":\"YNL116W\"},{\"alias\":\"MLS1, S000005061, carbon-catabolite sensitive malate synthase\",\"annotation.DB_Object_Name\":\"carbon-catabolite sensitive malate synthase\",\"annotation.GO BIOLOGICAL_PROCESS\":\"glyoxylate cycle\",\"annotation.GO CELLULAR_COMPONENT\":\"cytoplasm, peroxisomal matrix\",\"annotation.GO MOLECULAR_FUNCTION\":\"malate synthase activity\",\"label\":\"MASY\",\"kegg\":\"sce:YNL117W\",\"uniprot\":\"MASY_YEAST\",\"sgd\":\"S000005061\",\"entrez\":855606,\"name\":\"YNL117W\"},{\"alias\":\"FKB1, FKBP12, FPR1, RBP1, S000005079\",\"annotation.DB_Object_Name\":\"FKBP12\",\"annotation.GO BIOLOGICAL_PROCESS\":\"establishment and\\/or maintenance of chromatin architecture, homoserine metabolic process\",\"annotation.GO CELLULAR_COMPONENT\":\"cytoplasm, mitochondrion, nucleus\",\"annotation.GO MOLECULAR_FUNCTION\":\"peptidyl-prolyl cis-trans isomerase activity\",\"label\":\"FKBP\",\"kegg\":\"sce:YNL135C\",\"uniprot\":\"FKBP_YEAST\",\"sgd\":\"S000005079\",\"entrez\":855587,\"name\":\"YNL135C\"},{\"alias\":\"MFA2, S000005089, a-factor mating pheromone precursor\",\"annotation.DB_Object_Name\":\"a-factor mating pheromone precursor\",\"annotation.GO BIOLOGICAL_PROCESS\":\"pheromone-dependent signal transduction during conjugation with cellular fusion\",\"annotation.GO CELLULAR_COMPONENT\":\"extracellular region\",\"annotation.GO MOLECULAR_FUNCTION\":\"mating pheromone activity\",\"label\":\"MFA2\",\"kegg\":\"sce:YNL145W\",\"uniprot\":\"MFA2_YEAST\",\"sgd\":\"S000005089\",\"entrez\":855577,\"name\":\"YNL145W\"},{\"alias\":\"S000005098, YCK2\",\"annotation.DB_Object_Name\":null,\"annotation.GO BIOLOGICAL_PROCESS\":\"cell morphogenesis, cytokinesis, endocytosis, protein amino acid phosphorylation, response to glucose stimulus\",\"annotation.GO CELLULAR_COMPONENT\":\"bud neck, mating projection, plasma membrane\",\"annotation.GO MOLECULAR_FUNCTION\":\"casein kinase I activity\",\"label\":\"KC12\",\"kegg\":\"sce:YNL154C\",\"uniprot\":\"KC12_YEAST\",\"sgd\":\"S000005098\",\"entrez\":855568,\"name\":\"YNL154C\"},{\"alias\":\"IBD2, S000005108\",\"annotation.DB_Object_Name\":null,\"annotation.GO BIOLOGICAL_PROCESS\":\"mitotic spindle checkpoint\",\"annotation.GO CELLULAR_COMPONENT\":\"nucleus\",\"annotation.GO MOLECULAR_FUNCTION\":\"molecular_function\",\"label\":\"IBD2\",\"kegg\":\"sce:YNL164C\",\"uniprot\":\"IBD2_YEAST\",\"sgd\":\"S000005108\",\"entrez\":855557,\"name\":\"YNL164C\"},{\"alias\":\"ACR1, S000005111, SKO1\",\"annotation.DB_Object_Name\":null,\"annotation.GO BIOLOGICAL_PROCESS\":\"negative regulation of transcription from RNA polymerase II promoter\",\"annotation.GO CELLULAR_COMPONENT\":\"cytosol, nucleus\",\"annotation.GO MOLECULAR_FUNCTION\":\"RNA polymerase II transcription factor activity\",\"label\":\"SKO1\",\"kegg\":\"sce:YNL167C\",\"uniprot\":\"SKO1_YEAST\",\"sgd\":\"S000005111\",\"entrez\":855554,\"name\":\"YNL167C\"},{\"alias\":\"KAP60, S000005133, SCM1, SRP1, karyopherin alpha\",\"annotation.DB_Object_Name\":\"karyopherin alpha\",\"annotation.GO BIOLOGICAL_PROCESS\":\"nucleocytoplasmic transport\",\"annotation.GO CELLULAR_COMPONENT\":\"cytoplasm, nucleus\",\"annotation.GO MOLECULAR_FUNCTION\":\"protein carrier activity\",\"label\":\"IMA1\",\"kegg\":\"sce:YNL189W\",\"uniprot\":\"IMA1_YEAST\",\"sgd\":\"S000005133\",\"entrez\":855532,\"name\":\"YNL189W\"},{\"alias\":\"GCR2, S000005143, transcription factor\",\"annotation.DB_Object_Name\":\"transcription factor\",\"annotation.GO BIOLOGICAL_PROCESS\":\"positive regulation of glycolysis, positive regulation of transcription from RNA polymerase II promoter\",\"annotation.GO CELLULAR_COMPONENT\":\"nucleus\",\"annotation.GO MOLECULAR_FUNCTION\":\"transcriptional activator activity\",\"label\":\"GCR2\",\"kegg\":\"sce:YNL199C\",\"uniprot\":\"GCR2_YEAST\",\"sgd\":\"S000005143\",\"entrez\":855522,\"name\":\"YNL199C\"},{\"alias\":\"PAS9, PEX17, S000005158, peroxin\",\"annotation.DB_Object_Name\":\"peroxin\",\"annotation.GO BIOLOGICAL_PROCESS\":\"peroxisome organization and biogenesis\",\"annotation.GO CELLULAR_COMPONENT\":\"peroxisomal membrane\",\"annotation.GO MOLECULAR_FUNCTION\":\"protein binding\",\"label\":\"PEX17\",\"kegg\":\"sce:YNL214W\",\"uniprot\":\"PEX17_YEAST\",\"sgd\":\"S000005158\",\"entrez\":855507,\"name\":\"YNL214W\"},{\"alias\":\"GRF1, RAP1, S000005160, TBA1, TUF1, repressor activator protein\",\"annotation.DB_Object_Name\":\"repressor activator protein\",\"annotation.GO BIOLOGICAL_PROCESS\":\"chromatin silencing, chromatin silencing at telomere, protection from non-homologous end joining at telomere, telomere maintenance via telomerase, transcription from RNA polymerase III promoter\",\"annotation.GO CELLULAR_COMPONENT\":\"nuclear telomere cap complex, nuclear telomeric heterochromatin, nucleus\",\"annotation.GO MOLECULAR_FUNCTION\":\"DNA binding, transcription factor activity\",\"label\":\"RAP1\",\"kegg\":\"sce:YNL216W\",\"uniprot\":\"RAP1_YEAST\",\"sgd\":\"S000005160\",\"entrez\":855505,\"name\":\"YNL216W\"},{\"alias\":\"BEL2, GAL22, MED16, RNA polymerase II holoenzyme\\/mediator subunit, RYE1, S000005180, SDI3, SIN4, SSF5, SSN4, TSF3\",\"annotation.DB_Object_Name\":\"RNA polymerase II holoenzyme\\/mediator subunit\",\"annotation.GO BIOLOGICAL_PROCESS\":\"transcription from RNA polymerase II promoter\",\"annotation.GO CELLULAR_COMPONENT\":\"mediator complex\",\"annotation.GO MOLECULAR_FUNCTION\":\"RNA polymerase II transcription mediator activity\",\"label\":\"MED16\",\"kegg\":\"sce:YNL236W\",\"uniprot\":\"MED16_YEAST\",\"sgd\":\"S000005180\",\"entrez\":855485,\"name\":\"YNL236W\"},{\"alias\":\"RP28B, RPL18B, S000005245, ribosomal protein L18B (rp28B)\",\"annotation.DB_Object_Name\":\"ribosomal protein L18B (rp28B)\",\"annotation.GO BIOLOGICAL_PROCESS\":null,\"annotation.GO CELLULAR_COMPONENT\":\"cytosolic large ribosomal subunit (sensu the Eukaryota research community)\",\"annotation.GO MOLECULAR_FUNCTION\":\"structural constituent of ribosome\",\"label\":\"RL18A\",\"kegg\":\"sce:YNL301C\",\"uniprot\":\"RL18A_YEAST\",\"sgd\":\"S000005480\",\"entrez\":854029,\"name\":\"YNL301C\"},{\"alias\":\"RP28B, RPL18B, S000005245, ribosomal protein L18B (rp28B)\",\"annotation.DB_Object_Name\":\"ribosomal protein L18B (rp28B)\",\"annotation.GO BIOLOGICAL_PROCESS\":null,\"annotation.GO CELLULAR_COMPONENT\":\"cytosolic large ribosomal subunit (sensu the Eukaryota research community)\",\"annotation.GO MOLECULAR_FUNCTION\":\"structural constituent of ribosome\",\"label\":\"RL18A\",\"kegg\":\"sce:YNL301C\",\"uniprot\":\"RL18A_YEAST\",\"sgd\":\"S000005480\",\"entrez\":855415,\"name\":\"YNL301C\"},{\"alias\":\"RP28B, RPL18B, S000005245, ribosomal protein L18B (rp28B)\",\"annotation.DB_Object_Name\":\"ribosomal protein L18B (rp28B)\",\"annotation.GO BIOLOGICAL_PROCESS\":null,\"annotation.GO CELLULAR_COMPONENT\":\"cytosolic large ribosomal subunit (sensu the Eukaryota research community)\",\"annotation.GO MOLECULAR_FUNCTION\":\"structural constituent of ribosome\",\"label\":\"RL18B\",\"kegg\":\"sce:YNL301C\",\"uniprot\":\"RL18B_YEAST\",\"sgd\":\"S000005245\",\"entrez\":854029,\"name\":\"YNL301C\"},{\"alias\":\"RP28B, RPL18B, S000005245, ribosomal protein L18B (rp28B)\",\"annotation.DB_Object_Name\":\"ribosomal protein L18B (rp28B)\",\"annotation.GO BIOLOGICAL_PROCESS\":null,\"annotation.GO CELLULAR_COMPONENT\":\"cytosolic large ribosomal subunit (sensu the Eukaryota research community)\",\"annotation.GO MOLECULAR_FUNCTION\":\"structural constituent of ribosome\",\"label\":\"RL18B\",\"kegg\":\"sce:YNL301C\",\"uniprot\":\"RL18B_YEAST\",\"sgd\":\"S000005245\",\"entrez\":855415,\"name\":\"YNL301C\"},{\"alias\":\"43.1 kDa serine\\/threonine\\/tyrosine protein kinase, MCK1, S000005251, YPK1\",\"annotation.DB_Object_Name\":\"43.1 kDa serine\\/threonine\\/tyrosine protein kinase\",\"annotation.GO BIOLOGICAL_PROCESS\":\"double-strand break repair via nonhomologous end joining, meiosis, mitotic sister chromatid segregation, protein amino acid phosphorylation, response to stress, sporulation (sensu the Fungi research community)\",\"annotation.GO CELLULAR_COMPONENT\":\"soluble fraction\",\"annotation.GO MOLECULAR_FUNCTION\":\"glycogen synthase kinase 3 activity, protein threonine\\/tyrosine kinase activity\",\"label\":\"MCK1\",\"kegg\":\"sce:YNL307C\",\"uniprot\":\"MCK1_YEAST\",\"sgd\":\"S000005251\",\"entrez\":855409,\"name\":\"YNL307C\"},{\"alias\":\"F-box protein, S000005255\",\"annotation.DB_Object_Name\":\"F-box protein\",\"annotation.GO BIOLOGICAL_PROCESS\":\"ubiquitin-dependent protein catabolic process\",\"annotation.GO CELLULAR_COMPONENT\":\"ubiquitin ligase complex\",\"annotation.GO MOLECULAR_FUNCTION\":\"protein binding\",\"label\":\"SKP2\",\"kegg\":\"sce:YNL311C\",\"uniprot\":\"SKP2_YEAST\",\"sgd\":\"S000005255\",\"entrez\":855405,\"name\":\"YNL311C\"},{\"alias\":\"BUF1, RFA2, RPA2, S000005256, replication factor RF-A subunit 2\",\"annotation.DB_Object_Name\":\"replication factor RF-A subunit 2\",\"annotation.GO BIOLOGICAL_PROCESS\":\"DNA recombination, DNA replication, synthesis of RNA primer, DNA strand elongation during DNA replication, DNA unwinding during replication, double-strand break repair via homologous recombination, nucleotide-excision repair, postreplication repair\",\"annotation.GO CELLULAR_COMPONENT\":\"DNA replication factor A complex, chromosome, telomeric region\",\"annotation.GO MOLECULAR_FUNCTION\":\"DNA binding\",\"label\":\"RFA2\",\"kegg\":\"sce:YNL312W\",\"uniprot\":\"RFA2_YEAST\",\"sgd\":\"S000005256\",\"entrez\":855404,\"name\":\"YNL312W\"},{\"alias\":\"APG3, ATG3, AUT1, S000005290\",\"annotation.DB_Object_Name\":null,\"annotation.GO BIOLOGICAL_PROCESS\":\"C-terminal protein lipidation, autophagy, protein targeting to vacuole\",\"annotation.GO CELLULAR_COMPONENT\":\"cytoplasm\",\"annotation.GO MOLECULAR_FUNCTION\":\"APG8 conjugating enzyme activity\",\"label\":\"ATG3\",\"kegg\":\"sce:YNR007C\",\"uniprot\":\"ATG3_YEAST\",\"sgd\":\"S000005290\",\"entrez\":855741,\"name\":\"YNR007C\"},{\"alias\":\"LYS13, LYS9, S000005333\",\"annotation.DB_Object_Name\":null,\"annotation.GO BIOLOGICAL_PROCESS\":\"lysine biosynthetic process via aminoadipic acid\",\"annotation.GO CELLULAR_COMPONENT\":\"cytoplasm\",\"annotation.GO MOLECULAR_FUNCTION\":\"saccharopine dehydrogenase (NADP+, L-glutamate-forming) activity\",\"label\":\"LYS9\",\"kegg\":\"sce:YNR050C\",\"uniprot\":\"LYS9_YEAST\",\"sgd\":\"S000005333\",\"entrez\":855786,\"name\":\"YNR050C\"},{\"alias\":\"NOG2, S000005336, part of a pre-60S complex\",\"annotation.DB_Object_Name\":\"part of a pre-60S complex\",\"annotation.GO BIOLOGICAL_PROCESS\":\"ribosomal large subunit export from nucleus, ribosome assembly\",\"annotation.GO CELLULAR_COMPONENT\":\"nucleolus, nucleoplasm, nucleus\",\"annotation.GO MOLECULAR_FUNCTION\":\"GTPase activity\",\"label\":\"NOG2\",\"kegg\":\"sce:YNR053C\",\"uniprot\":\"NOG2_YEAST\",\"sgd\":\"S000005336\",\"entrez\":855789,\"name\":\"YNR053C\"},{\"alias\":\"CMK2, S000005376, calmodulin-dependent protein kinase\",\"annotation.DB_Object_Name\":\"calmodulin-dependent protein kinase\",\"annotation.GO BIOLOGICAL_PROCESS\":\"protein amino acid phosphorylation, signal transduction\",\"annotation.GO CELLULAR_COMPONENT\":\"cytoplasm\",\"annotation.GO MOLECULAR_FUNCTION\":\"calcium- and calmodulin-dependent protein kinase activity\",\"label\":\"KCC2\",\"kegg\":\"sce:YOL016C\",\"uniprot\":\"KCC2_YEAST\",\"sgd\":\"S000005376\",\"entrez\":854144,\"name\":\"YOL016C\"},{\"alias\":\"positive and negative transcriptional regulator of genes involved in mating-type specialization, ABE1, GAL11, MED15, RAR3, RNA polymerase II holoenzyme complex component, S000005411, SDS4, SPT13\",\"annotation.DB_Object_Name\":\"RNA polymerase II holoenzyme complex component, positive and negative transcriptional regulator of genes involved in mating-type specialization\",\"annotation.GO BIOLOGICAL_PROCESS\":\"telomere maintenance, transcription from RNA polymerase II promoter\",\"annotation.GO CELLULAR_COMPONENT\":\"mediator complex\",\"annotation.GO MOLECULAR_FUNCTION\":\"RNA polymerase II transcription mediator activity\",\"label\":\"MED15\",\"kegg\":\"sce:YOL051W\",\"uniprot\":\"MED15_YEAST\",\"sgd\":\"S000005411\",\"entrez\":854106,\"name\":\"YOL051W\"},{\"alias\":\"ARG1, ARG10, S000005419, arginosuccinate synthetase\",\"annotation.DB_Object_Name\":\"arginosuccinate synthetase\",\"annotation.GO BIOLOGICAL_PROCESS\":\"arginine biosynthetic process, argininosuccinate metabolic process, citrulline metabolic process\",\"annotation.GO CELLULAR_COMPONENT\":\"cytosol\",\"annotation.GO MOLECULAR_FUNCTION\":\"argininosuccinate synthase activity\",\"label\":\"ASSY\",\"kegg\":\"sce:YOL058W\",\"uniprot\":\"ASSY_YEAST\",\"sgd\":\"S000005419\",\"entrez\":854096,\"name\":\"YOL058W\"},{\"alias\":\"GPD2, GPD3, S000005420, glycerol-3-phosphate dehydrogenase (NAD+)\",\"annotation.DB_Object_Name\":\"glycerol-3-phosphate dehydrogenase (NAD+)\",\"annotation.GO BIOLOGICAL_PROCESS\":\"NADH oxidation, glycerol metabolic process\",\"annotation.GO CELLULAR_COMPONENT\":\"cytosol, mitochondrion\",\"annotation.GO MOLECULAR_FUNCTION\":\"glycerol-3-phosphate dehydrogenase (NAD+) activity\",\"label\":\"GPD2\",\"kegg\":\"sce:YOL059W\",\"uniprot\":\"GPD2_YEAST\",\"sgd\":\"S000005420\",\"entrez\":854095,\"name\":\"YOL059W\"},{\"alias\":\"ADC1, ADH1, S000005446, alcohol dehydrogenase\",\"annotation.DB_Object_Name\":\"alcohol dehydrogenase\",\"annotation.GO BIOLOGICAL_PROCESS\":\"NADH oxidation, ethanol biosynthetic process during fermentation, fermentation\",\"annotation.GO CELLULAR_COMPONENT\":\"cytosol\",\"annotation.GO MOLECULAR_FUNCTION\":\"alcohol dehydrogenase activity\",\"label\":\"ADH1\",\"kegg\":\"sce:YOL086C\",\"uniprot\":\"ADH1_YEAST\",\"sgd\":\"S000005446\",\"entrez\":854068,\"name\":\"YOL086C\"},{\"alias\":\"RP28A, RPL18A, S000005480, ribosomal protein L18A (rp28A)\",\"annotation.DB_Object_Name\":\"ribosomal protein L18A (rp28A)\",\"annotation.GO BIOLOGICAL_PROCESS\":null,\"annotation.GO CELLULAR_COMPONENT\":\"cytosolic large ribosomal subunit (sensu the Eukaryota research community)\",\"annotation.GO MOLECULAR_FUNCTION\":\"structural constituent of ribosome\",\"label\":\"RL18A\",\"kegg\":\"sce:YOL120C\",\"uniprot\":\"RL18A_YEAST\",\"sgd\":\"S000005480\",\"entrez\":854029,\"name\":\"YOL120C\"},{\"alias\":\"RP28A, RPL18A, S000005480, ribosomal protein L18A (rp28A)\",\"annotation.DB_Object_Name\":\"ribosomal protein L18A (rp28A)\",\"annotation.GO BIOLOGICAL_PROCESS\":null,\"annotation.GO CELLULAR_COMPONENT\":\"cytosolic large ribosomal subunit (sensu the Eukaryota research community)\",\"annotation.GO MOLECULAR_FUNCTION\":\"structural constituent of ribosome\",\"label\":\"RL18A\",\"kegg\":\"sce:YOL120C\",\"uniprot\":\"RL18A_YEAST\",\"sgd\":\"S000005480\",\"entrez\":855415,\"name\":\"YOL120C\"},{\"alias\":\"RP28A, RPL18A, S000005480, ribosomal protein L18A (rp28A)\",\"annotation.DB_Object_Name\":\"ribosomal protein L18A (rp28A)\",\"annotation.GO BIOLOGICAL_PROCESS\":null,\"annotation.GO CELLULAR_COMPONENT\":\"cytosolic large ribosomal subunit (sensu the Eukaryota research community)\",\"annotation.GO MOLECULAR_FUNCTION\":\"structural constituent of ribosome\",\"label\":\"RL18B\",\"kegg\":\"sce:YOL120C\",\"uniprot\":\"RL18B_YEAST\",\"sgd\":\"S000005245\",\"entrez\":854029,\"name\":\"YOL120C\"},{\"alias\":\"RP28A, RPL18A, S000005480, ribosomal protein L18A (rp28A)\",\"annotation.DB_Object_Name\":\"ribosomal protein L18A (rp28A)\",\"annotation.GO BIOLOGICAL_PROCESS\":null,\"annotation.GO CELLULAR_COMPONENT\":\"cytosolic large ribosomal subunit (sensu the Eukaryota research community)\",\"annotation.GO MOLECULAR_FUNCTION\":\"structural constituent of ribosome\",\"label\":\"RL18B\",\"kegg\":\"sce:YOL120C\",\"uniprot\":\"RL18B_YEAST\",\"sgd\":\"S000005245\",\"entrez\":855415,\"name\":\"YOL120C\"},{\"alias\":\"HRP1, NAB4, NAB5, S000005483, cleavage and polyadenylation factor CF I component involved in pre-mRNA 3'-end processing\",\"annotation.DB_Object_Name\":\"cleavage and polyadenylation factor CF I component involved in pre-mRNA 3'-end processing\",\"annotation.GO BIOLOGICAL_PROCESS\":\"mRNA cleavage, mRNA polyadenylation\",\"annotation.GO CELLULAR_COMPONENT\":\"cytoplasm, mRNA cleavage factor complex, nucleus\",\"annotation.GO MOLECULAR_FUNCTION\":\"RNA binding\",\"label\":\"HRP1\",\"kegg\":\"sce:YOL123W\",\"uniprot\":\"HRP1_YEAST\",\"sgd\":\"S000005483\",\"entrez\":853997,\"name\":\"YOL123W\"},{\"alias\":\"RPL25, S000005487, ribosomal protein L25 (rpl6L) (YL25)\",\"annotation.DB_Object_Name\":\"ribosomal protein L25 (rpl6L) (YL25)\",\"annotation.GO BIOLOGICAL_PROCESS\":\"ribosomal large subunit assembly and maintenance\",\"annotation.GO CELLULAR_COMPONENT\":\"cytosolic large ribosomal subunit (sensu the Eukaryota research community)\",\"annotation.GO MOLECULAR_FUNCTION\":\"RNA binding, structural constituent of ribosome\",\"label\":\"RL25\",\"kegg\":\"sce:YOL127W\",\"uniprot\":\"RL25_YEAST\",\"sgd\":\"S000005487\",\"entrez\":853993,\"name\":\"YOL127W\"},{\"alias\":\" PFK-2, 6-phosphofructo-2-kinase, PFK27, S000005496\",\"annotation.DB_Object_Name\":\"6-phosphofructo-2-kinase, PFK-2\",\"annotation.GO BIOLOGICAL_PROCESS\":\"fructose 2,6-bisphosphate metabolic process, regulation of glycolysis\",\"annotation.GO CELLULAR_COMPONENT\":\"cytoplasm\",\"annotation.GO MOLECULAR_FUNCTION\":\"6-phosphofructo-2-kinase activity\",\"label\":\"6P22\",\"kegg\":\"sce:YOL136C\",\"uniprot\":\"6P22_YEAST\",\"sgd\":\"S000005496\",\"entrez\":853984,\"name\":\"YOL136C\"},{\"alias\":\"DCP1, S000005509\",\"annotation.DB_Object_Name\":null,\"annotation.GO BIOLOGICAL_PROCESS\":\"deadenylation-dependent decapping, mRNA catabolic process\",\"annotation.GO CELLULAR_COMPONENT\":\"cytoplasmic mRNA processing body\",\"annotation.GO MOLECULAR_FUNCTION\":\"enzyme activator activity, m7G(5')pppN diphosphatase activity, mRNA binding\",\"label\":\"DCP1\",\"kegg\":\"sce:YOL149W\",\"uniprot\":\"DCP1_YEAST\",\"sgd\":\"S000005509\",\"entrez\":854016,\"name\":\"YOL149W\"},{\"alias\":\"HXT11, LGT3, S000005516, glucose permease\",\"annotation.DB_Object_Name\":\"glucose permease\",\"annotation.GO BIOLOGICAL_PROCESS\":\"hexose transport\",\"annotation.GO CELLULAR_COMPONENT\":\"plasma membrane\",\"annotation.GO MOLECULAR_FUNCTION\":\"fructose transporter activity, galactose transporter activity, glucose transporter activity, mannose transporter activity\",\"label\":\"HXT11\",\"kegg\":\"sce:YOL156W\",\"uniprot\":\"HXT11_YEAST\",\"sgd\":\"S000005516\",\"entrez\":854009,\"name\":\"YOL156W\"},{\"alias\":\"PEP12, S000005562, VPL6, VPS6, VPT13, c-terminal TMD\",\"annotation.DB_Object_Name\":\"c-terminal TMD\",\"annotation.GO BIOLOGICAL_PROCESS\":\"Golgi to vacuole transport\",\"annotation.GO CELLULAR_COMPONENT\":\"Golgi apparatus, endosome\",\"annotation.GO MOLECULAR_FUNCTION\":\"t-SNARE activity\",\"label\":\"PEP12\",\"kegg\":\"sce:YOR036W\",\"uniprot\":\"PEP12_YEAST\",\"sgd\":\"S000005562\",\"entrez\":854201,\"name\":\"YOR036W\"},{\"alias\":\"beta' subunit, CKB2, S000005565, protein kinase CK2\",\"annotation.DB_Object_Name\":\"protein kinase CK2, beta' subunit\",\"annotation.GO BIOLOGICAL_PROCESS\":\"G1\\/S transition of mitotic cell cycle, G2\\/M transition of mitotic cell cycle, cell ion homeostasis, establishment of cell polarity (sensu the Fungi research community), flocculation via cell wall protein-carbohydrate interaction, protein amino acid phosphorylation, regulation of transcription from RNA polymerase I promoter, regulation of transcription from RNA polymerase III promoter, response to DNA damage stimulus\",\"annotation.GO CELLULAR_COMPONENT\":\"protein kinase CK2 complex\",\"annotation.GO MOLECULAR_FUNCTION\":\"protein kinase CK2 regulator activity\",\"label\":\"CSK2C\",\"kegg\":\"sce:YOR039W\",\"uniprot\":\"CSK2C_YEAST\",\"sgd\":\"S000005565\",\"entrez\":854204,\"name\":\"YOR039W\"},{\"alias\":\"S000005615, VPS12, VPS21, VPT12, YPT21, YPT51, small GTP-binding protein\",\"annotation.DB_Object_Name\":\"small GTP-binding protein\",\"annotation.GO BIOLOGICAL_PROCESS\":\"endocytosis, protein targeting to vacuole\",\"annotation.GO CELLULAR_COMPONENT\":\"late endosome, mitochondrial outer membrane, mitochondrion\",\"annotation.GO MOLECULAR_FUNCTION\":\"GTPase activity\",\"label\":\"VPS21\",\"kegg\":\"sce:YOR089C\",\"uniprot\":\"VPS21_YEAST\",\"sgd\":\"S000005615\",\"entrez\":854256,\"name\":\"YOR089C\"},{\"alias\":\"GCY, GCY1, S000005646\",\"annotation.DB_Object_Name\":null,\"annotation.GO BIOLOGICAL_PROCESS\":\"D-xylose catabolic process, arabinose catabolic process, response to salt stress\",\"annotation.GO CELLULAR_COMPONENT\":\"cytoplasm, nucleus\",\"annotation.GO MOLECULAR_FUNCTION\":\"aldo-keto reductase activity\",\"label\":\"GCY1\",\"kegg\":\"sce:YOR120W\",\"uniprot\":\"GCY1_YEAST\",\"sgd\":\"S000005646\",\"entrez\":854287,\"name\":\"YOR120W\"},{\"alias\":\"RPS28A, RPS33A, S000005693, ribosomal protein S28A (S33A) (YS27)\",\"annotation.DB_Object_Name\":\"ribosomal protein S28A (S33A) (YS27)\",\"annotation.GO BIOLOGICAL_PROCESS\":null,\"annotation.GO CELLULAR_COMPONENT\":\"cytosolic small ribosomal subunit (sensu the Eukaryota research community)\",\"annotation.GO MOLECULAR_FUNCTION\":\"structural constituent of ribosome\",\"label\":\"RS28A\",\"kegg\":\"sce:YOR167C\",\"uniprot\":\"RS28A_YEAST\",\"sgd\":\"S000005693\",\"entrez\":854338,\"name\":\"YOR167C\"},{\"alias\":\"GAC1, Glc7p regulatory subunit, S000005704\",\"annotation.DB_Object_Name\":\"Glc7p regulatory subunit\",\"annotation.GO BIOLOGICAL_PROCESS\":\"glycogen metabolic process, meiosis, mitotic spindle checkpoint, negative regulation of transcription from RNA polymerase II promoter, response to heat\",\"annotation.GO CELLULAR_COMPONENT\":\"protein phosphatase type 1 complex\",\"annotation.GO MOLECULAR_FUNCTION\":\"heat shock protein binding, protein phosphatase type 1 regulator activity, structural molecule activity\",\"label\":\"GAC1\",\"kegg\":\"sce:YOR178C\",\"uniprot\":\"GAC1_YEAST\",\"sgd\":\"S000005704\",\"entrez\":854350,\"name\":\"YOR178C\"},{\"alias\":\"HIS10, HIS3, S000005728, imidazoleglycerol-phosphate dehydratase\",\"annotation.DB_Object_Name\":\"imidazoleglycerol-phosphate dehydratase\",\"annotation.GO BIOLOGICAL_PROCESS\":\"histidine biosynthetic process\",\"annotation.GO CELLULAR_COMPONENT\":\"intracellular\",\"annotation.GO MOLECULAR_FUNCTION\":\"imidazoleglycerol-phosphate dehydratase activity\",\"label\":\"HIS7\",\"kegg\":\"sce:YOR202W\",\"uniprot\":\"HIS7_YEAST\",\"sgd\":\"S000005728\",\"entrez\":854377,\"name\":\"YOR202W\"},{\"alias\":\"DED1, S000005730, SPP81\",\"annotation.DB_Object_Name\":null,\"annotation.GO BIOLOGICAL_PROCESS\":\"RNA splicing, translational initiation\",\"annotation.GO CELLULAR_COMPONENT\":\"cytoplasm\",\"annotation.GO MOLECULAR_FUNCTION\":\"RNA helicase activity\",\"label\":\"DED1\",\"kegg\":\"sce:YOR204W\",\"uniprot\":\"DED1_YEAST\",\"sgd\":\"S000005730\",\"entrez\":854379,\"name\":\"YOR204W\"},{\"alias\":\"G protein beta subunit, HMD2, S000005738, STE4\",\"annotation.DB_Object_Name\":\"G protein beta subunit\",\"annotation.GO BIOLOGICAL_PROCESS\":\"heterotrimeric G-protein complex cycle, invasive growth (sensu the Saccharomyces research community), pheromone-dependent signal transduction during conjugation with cellular fusion\",\"annotation.GO CELLULAR_COMPONENT\":\"heterotrimeric G-protein complex, mating projection, plasma membrane\",\"annotation.GO MOLECULAR_FUNCTION\":\"signal transducer activity\",\"label\":\"GBB\",\"kegg\":\"sce:YOR212W\",\"uniprot\":\"GBB_YEAST\",\"sgd\":\"S000005738\",\"entrez\":854387,\"name\":\"YOR212W\"},{\"alias\":\"S000005741\",\"annotation.DB_Object_Name\":null,\"annotation.GO BIOLOGICAL_PROCESS\":\"biological_process\",\"annotation.GO CELLULAR_COMPONENT\":\"mitochondrion\",\"annotation.GO MOLECULAR_FUNCTION\":\"molecular_function\",\"label\":\"AIM41\",\"kegg\":\"sce:YOR215C\",\"uniprot\":\"AIM41_YEAST\",\"sgd\":\"S000005741\",\"entrez\":854390,\"name\":\"YOR215C\"},{\"alias\":\"DSE3, S000005790\",\"annotation.DB_Object_Name\":null,\"annotation.GO BIOLOGICAL_PROCESS\":\"biological_process\",\"annotation.GO CELLULAR_COMPONENT\":\"bud neck\",\"annotation.GO MOLECULAR_FUNCTION\":\"molecular_function\",\"label\":\"DSE3\",\"kegg\":\"sce:YOR264W\",\"uniprot\":\"DSE3_YEAST\",\"sgd\":\"S000005790\",\"entrez\":854437,\"name\":\"YOR264W\"},{\"alias\":\"GAM1, HAF1, S000005816, SNF2, SWI2, TYE3, transcriptional regulator\",\"annotation.DB_Object_Name\":\"transcriptional regulator\",\"annotation.GO BIOLOGICAL_PROCESS\":\"chromatin remodeling, double-strand break repair\",\"annotation.GO CELLULAR_COMPONENT\":\"SWI\\/SNF complex, chromatin remodeling complex\",\"annotation.GO MOLECULAR_FUNCTION\":\"DNA-dependent ATPase activity, general RNA polymerase II transcription factor activity\",\"label\":\"SNF2\",\"kegg\":\"sce:YOR290C\",\"uniprot\":\"SNF2_YEAST\",\"sgd\":\"S000005816\",\"entrez\":854465,\"name\":\"YOR290C\"},{\"alias\":\"CPA1, S000005829, carbamoyl phosphate synthetase\",\"annotation.DB_Object_Name\":\"carbamoyl phosphate synthetase\",\"annotation.GO BIOLOGICAL_PROCESS\":\"arginine biosynthetic process\",\"annotation.GO CELLULAR_COMPONENT\":\"carbamoyl-phosphate synthase complex\",\"annotation.GO MOLECULAR_FUNCTION\":\"carbamoyl-phosphate synthase (glutamine-hydrolyzing) activity\",\"label\":\"CARA\",\"kegg\":\"sce:YOR303W\",\"uniprot\":\"CARA_YEAST\",\"sgd\":\"S000005829\",\"entrez\":854479,\"name\":\"YOR303W\"},{\"alias\":\"NOP5, NOP58, S000005837, U3 snoRNP protein\",\"annotation.DB_Object_Name\":\"U3 snoRNP protein\",\"annotation.GO BIOLOGICAL_PROCESS\":\"35S primary transcript processing, processing of 20S pre-rRNA, rRNA modification\",\"annotation.GO CELLULAR_COMPONENT\":\"box C\\/D snoRNP complex, small nucleolar ribonucleoprotein complex\",\"annotation.GO MOLECULAR_FUNCTION\":\"molecular_function\",\"label\":\"NOP58\",\"kegg\":\"sce:YOR310C\",\"uniprot\":\"NOP58_YEAST\",\"sgd\":\"S000005837\",\"entrez\":854487,\"name\":\"YOR310C\"},{\"alias\":\"S000005842, SFG1\",\"annotation.DB_Object_Name\":null,\"annotation.GO BIOLOGICAL_PROCESS\":\"positive regulation of transcription from RNA polymerase II promoter, pseudohyphal growth\",\"annotation.GO CELLULAR_COMPONENT\":\"cytoplasm, nucleus\",\"annotation.GO MOLECULAR_FUNCTION\":\"specific RNA polymerase II transcription factor activity\",\"label\":\"SFG1\",\"kegg\":\"sce:YOR315W\",\"uniprot\":\"SFG1_YEAST\",\"sgd\":\"S000005842\",\"entrez\":854493,\"name\":\"YOR315W\"},{\"alias\":\"CDC66, MYO2, S000005853, class V myosin\",\"annotation.DB_Object_Name\":\"class V myosin\",\"annotation.GO BIOLOGICAL_PROCESS\":\"Golgi inheritance, budding cell apical bud growth, establishment of mitotic spindle orientation, membrane addition at site of cytokinesis, mitochondrion inheritance, peroxisome inheritance, unidimensional cell growth, vacuole inheritance, vesicle transport along actin filament, vesicle-mediated transport\",\"annotation.GO CELLULAR_COMPONENT\":\"actin cable, bud neck, bud tip, filamentous actin, incipient bud site, mating projection tip, myosin V complex, vacuolar membrane (sensu the Fungi research community), vesicle\",\"annotation.GO MOLECULAR_FUNCTION\":\"actin filament binding, calmodulin binding, microfilament motor activity\",\"label\":\"MYO2\",\"kegg\":\"sce:YOR326W\",\"uniprot\":\"MYO2_YEAST\",\"sgd\":\"S000005853\",\"entrez\":854504,\"name\":\"YOR326W\"},{\"alias\":\"S000005854, SNC2\",\"annotation.DB_Object_Name\":null,\"annotation.GO BIOLOGICAL_PROCESS\":\"Golgi to plasma membrane transport, endocytosis, telomere maintenance, vesicle fusion\",\"annotation.GO CELLULAR_COMPONENT\":\"Golgi trans face, endosome, transport vesicle\",\"annotation.GO MOLECULAR_FUNCTION\":\"v-SNARE activity\",\"label\":\"SNC2\",\"kegg\":\"sce:YOR327C\",\"uniprot\":\"SNC2_YEAST\",\"sgd\":\"S000005854\",\"entrez\":854505,\"name\":\"YOR327C\"},{\"alias\":\"GDS1, S000005882\",\"annotation.DB_Object_Name\":null,\"annotation.GO BIOLOGICAL_PROCESS\":\"aerobic respiration\",\"annotation.GO CELLULAR_COMPONENT\":\"cytoplasm, mitochondrion, nucleus\",\"annotation.GO MOLECULAR_FUNCTION\":\"molecular_function\",\"label\":\"GDS1\",\"kegg\":\"sce:YOR355W\",\"uniprot\":\"GDS1_YEAST\",\"sgd\":\"S000005882\",\"entrez\":854537,\"name\":\"YOR355W\"},{\"alias\":\"CDC63, DNA26, PRT1, S000005888, translation initiation factor eIF3 subunit\",\"annotation.DB_Object_Name\":\"translation initiation factor eIF3 subunit\",\"annotation.GO BIOLOGICAL_PROCESS\":\"translational initiation\",\"annotation.GO CELLULAR_COMPONENT\":\"cytoplasm, eukaryotic translation initiation factor 3 complex, multi-eIF complex\",\"annotation.GO MOLECULAR_FUNCTION\":\"translation initiation factor activity\",\"label\":\"EIF3B\",\"kegg\":\"sce:YOR361C\",\"uniprot\":\"EIF3B_YEAST\",\"sgd\":\"S000005888\",\"entrez\":854543,\"name\":\"YOR361C\"},{\"alias\":\"PRE10, S000005889, proteasome component YC1 (protease yscE subunit 1)\",\"annotation.DB_Object_Name\":\"proteasome component YC1 (protease yscE subunit 1)\",\"annotation.GO BIOLOGICAL_PROCESS\":\"ubiquitin-dependent protein catabolic process\",\"annotation.GO CELLULAR_COMPONENT\":\"proteasome core complex, alpha-subunit complex (sensu the Eukaryota research community)\",\"annotation.GO MOLECULAR_FUNCTION\":\"endopeptidase activity\",\"label\":\"PSA7\",\"kegg\":\"sce:YOR362C\",\"uniprot\":\"PSA7_YEAST\",\"sgd\":\"S000005889\",\"entrez\":854544,\"name\":\"YOR362C\"},{\"alias\":\"LDB15, PHO85, S000005952, cyclin-dependent protein kinase\",\"annotation.DB_Object_Name\":\"cyclin-dependent protein kinase\",\"annotation.GO BIOLOGICAL_PROCESS\":\"cell cycle, glycogen metabolic process, phosphate metabolic process, protein amino acid phosphorylation, telomere maintenance\",\"annotation.GO CELLULAR_COMPONENT\":\"nucleus\",\"annotation.GO MOLECULAR_FUNCTION\":\"cyclin-dependent protein kinase activity\",\"label\":\"PHO85\",\"kegg\":\"sce:YPL031C\",\"uniprot\":\"PHO85_YEAST\",\"sgd\":\"S000005952\",\"entrez\":856076,\"name\":\"YPL031C\"},{\"alias\":\"GCR1, LPF10, S000005996, trans-acting positive regulator of the enolase and glyceraldehyde-3-phosphate dehydrogenase gene families\",\"annotation.DB_Object_Name\":\"trans-acting positive regulator of the enolase and glyceraldehyde-3-phosphate dehydrogenase gene families\",\"annotation.GO BIOLOGICAL_PROCESS\":\"positive regulation of glycolysis, positive regulation of transcription from RNA polymerase II promoter\",\"annotation.GO CELLULAR_COMPONENT\":\"nucleus\",\"annotation.GO MOLECULAR_FUNCTION\":\"DNA binding, transcriptional activator activity\",\"label\":\"GCR1\",\"kegg\":\"sce:YPL075W\",\"uniprot\":\"GCR1_YEAST\",\"sgd\":\"S000005996\",\"entrez\":856030,\"name\":\"YPL075W\"},{\"alias\":\"RLM1, S000006010\",\"annotation.DB_Object_Name\":null,\"annotation.GO BIOLOGICAL_PROCESS\":\"cell wall organization and biogenesis, positive regulation of transcription from RNA polymerase II promoter, response to acid, signal transduction\",\"annotation.GO CELLULAR_COMPONENT\":\"nucleus\",\"annotation.GO MOLECULAR_FUNCTION\":\"DNA bending activity, DNA binding, transcriptional activator activity\",\"label\":\"RLM1\",\"kegg\":\"sce:YPL089C\",\"uniprot\":\"RLM1_YEAST\",\"sgd\":\"S000006010\",\"entrez\":856016,\"name\":\"YPL089C\"},{\"alias\":\"CAR1, LPH15, S000006032, arginase, cargA\",\"annotation.DB_Object_Name\":\"arginase\",\"annotation.GO BIOLOGICAL_PROCESS\":\"arginine catabolic process to ornithine\",\"annotation.GO CELLULAR_COMPONENT\":\"cytosol\",\"annotation.GO MOLECULAR_FUNCTION\":\"arginase activity, manganese ion binding, zinc ion binding\",\"label\":\"ARGI\",\"kegg\":\"sce:YPL111W\",\"uniprot\":\"ARGI_YEAST\",\"sgd\":\"S000006032\",\"entrez\":855993,\"name\":\"YPL111W\"},{\"alias\":\"LPI14, RPL1, RPL5, S000006052, ribosomal protein L5 (L1a)(YL3)\",\"annotation.DB_Object_Name\":\"ribosomal protein L5 (L1a)(YL3)\",\"annotation.GO BIOLOGICAL_PROCESS\":\"ribosomal large subunit assembly and maintenance\",\"annotation.GO CELLULAR_COMPONENT\":\"cytosolic large ribosomal subunit (sensu the Eukaryota research community)\",\"annotation.GO MOLECULAR_FUNCTION\":\"RNA binding, structural constituent of ribosome\",\"label\":\"RL5\",\"kegg\":\"sce:YPL131W\",\"uniprot\":\"RL5_YEAST\",\"sgd\":\"S000006052\",\"entrez\":855972,\"name\":\"YPL131W\"},{\"alias\":\"APG5, ATG5, S000006070\",\"annotation.DB_Object_Name\":null,\"annotation.GO BIOLOGICAL_PROCESS\":\"autophagy, protein targeting to vacuole\",\"annotation.GO CELLULAR_COMPONENT\":\"autophagic vacuole, cytosol, pre-autophagosomal structure\",\"annotation.GO MOLECULAR_FUNCTION\":\"molecular_function\",\"label\":\"ATG5\",\"kegg\":\"sce:YPL149W\",\"uniprot\":\"ATG5_YEAST\",\"sgd\":\"S000006070\",\"entrez\":855954,\"name\":\"YPL149W\"},{\"alias\":\"S000006122, YIG1\",\"annotation.DB_Object_Name\":null,\"annotation.GO BIOLOGICAL_PROCESS\":\"glycerol biosynthetic process\",\"annotation.GO CELLULAR_COMPONENT\":\"cytosol, nucleus\",\"annotation.GO MOLECULAR_FUNCTION\":\"molecular_function\",\"label\":\"YIG1\",\"kegg\":\"sce:YPL201C\",\"uniprot\":\"YIG1_YEAST\",\"sgd\":\"S000006122\",\"entrez\":855900,\"name\":\"YPL201C\"},{\"alias\":\"NIP7, S000006132\",\"annotation.DB_Object_Name\":null,\"annotation.GO BIOLOGICAL_PROCESS\":\"rRNA processing, ribosomal large subunit assembly and maintenance, ribosomal large subunit biogenesis and assembly\",\"annotation.GO CELLULAR_COMPONENT\":\"cytosolic large ribosomal subunit (sensu the Eukaryota research community), nucleolus\",\"annotation.GO MOLECULAR_FUNCTION\":\"molecular_function\",\"label\":\"NIP7\",\"kegg\":\"sce:YPL211W\",\"uniprot\":\"NIP7_YEAST\",\"sgd\":\"S000006132\",\"entrez\":855890,\"name\":\"YPL211W\"},{\"alias\":\"S000006143\",\"annotation.DB_Object_Name\":null,\"annotation.GO BIOLOGICAL_PROCESS\":\"biological_process\",\"annotation.GO CELLULAR_COMPONENT\":\"mitochondrion\",\"annotation.GO MOLECULAR_FUNCTION\":\"molecular_function\",\"label\":\"FMP40\",\"kegg\":\"sce:YPL222W\",\"uniprot\":\"FMP40_YEAST\",\"sgd\":\"S000006143\",\"entrez\":855879,\"name\":\"YPL222W\"},{\"alias\":\"HSP82, HSP90, S000006161, heat shock protein 90\",\"annotation.DB_Object_Name\":\"heat shock protein 90\",\"annotation.GO BIOLOGICAL_PROCESS\":\"'de novo' protein folding, proteasome assembly, protein refolding, response to osmotic stress, response to stress\",\"annotation.GO CELLULAR_COMPONENT\":\"cytoplasm\",\"annotation.GO MOLECULAR_FUNCTION\":\"ATPase activity, coupled, unfolded protein binding\",\"label\":\"HSP82\",\"kegg\":\"sce:YPL240C\",\"uniprot\":\"HSP82_YEAST\",\"sgd\":\"S000006161\",\"entrez\":855836,\"name\":\"YPL240C\"},{\"alias\":\"GAL4, GAL81, S000006169, zinc finger transcription factor of the Zn(2)-Cys(6) binuclear cluster domain type\",\"annotation.DB_Object_Name\":\"zinc finger transcription factor of the Zn(2)-Cys(6) binuclear cluster domain type\",\"annotation.GO BIOLOGICAL_PROCESS\":\"galactose metabolic process, positive regulation of transcription by galactose\",\"annotation.GO CELLULAR_COMPONENT\":\"nucleus\",\"annotation.GO MOLECULAR_FUNCTION\":\"transcription factor activity, transcriptional activator activity\",\"label\":\"GAL4\",\"kegg\":\"sce:YPL248C\",\"uniprot\":\"GAL4_YEAST\",\"sgd\":\"S000006169\",\"entrez\":855828,\"name\":\"YPL248C\"},{\"alias\":\" RNA polymerase I subunit, A135, RPA135, RPA2, RRN2, S000006214, SRP3\",\"annotation.DB_Object_Name\":\"A135, RNA polymerase I subunit\",\"annotation.GO BIOLOGICAL_PROCESS\":\"transcription from RNA polymerase I promoter\",\"annotation.GO CELLULAR_COMPONENT\":\"DNA-directed RNA polymerase I complex\",\"annotation.GO MOLECULAR_FUNCTION\":\"DNA-directed RNA polymerase activity\",\"label\":\"RPA2\",\"kegg\":\"sce:YPR010C\",\"uniprot\":\"RPA2_YEAST\",\"sgd\":\"S000006214\",\"entrez\":856119,\"name\":\"YPR010C\"},{\"alias\":\"GLN1, S000006239, glutamine synthetase\",\"annotation.DB_Object_Name\":\"glutamine synthetase\",\"annotation.GO BIOLOGICAL_PROCESS\":\"glutamine biosynthetic process, nitrogen compound metabolic process\",\"annotation.GO CELLULAR_COMPONENT\":\"cytoplasm\",\"annotation.GO MOLECULAR_FUNCTION\":\"glutamate-ammonia ligase activity\",\"label\":\"GLNA\",\"kegg\":\"sce:YPR035W\",\"uniprot\":\"GLNA_YEAST\",\"sgd\":\"S000006239\",\"entrez\":856147,\"name\":\"YPR035W\"},{\"alias\":\"eIF5, S000006245, SUI5, TIF5, Translation initiation factor eIF5\",\"annotation.DB_Object_Name\":\"Translation initiation factor eIF5, eIF5\",\"annotation.GO BIOLOGICAL_PROCESS\":\"mature ribosome assembly, regulation of translational initiation\",\"annotation.GO CELLULAR_COMPONENT\":\"cytosolic small ribosomal subunit (sensu the Eukaryota research community), multi-eIF complex\",\"annotation.GO MOLECULAR_FUNCTION\":\"GTPase activator activity, translation initiation factor activity\",\"label\":\"IF5\",\"kegg\":\"sce:YPR041W\",\"uniprot\":\"IF5_YEAST\",\"sgd\":\"S000006245\",\"entrez\":856154,\"name\":\"YPR041W\"},{\"alias\":\"S000006252, TAH18\",\"annotation.DB_Object_Name\":null,\"annotation.GO BIOLOGICAL_PROCESS\":\"biological_process\",\"annotation.GO CELLULAR_COMPONENT\":\"cellular_component\",\"annotation.GO MOLECULAR_FUNCTION\":\"molecular_function\",\"label\":\"NDOR1\",\"kegg\":\"sce:YPR048W\",\"uniprot\":\"NDOR1_YEAST\",\"sgd\":\"S000006252\",\"entrez\":856161,\"name\":\"YPR048W\"},{\"alias\":\"FCY1, S000006266, cytosine deaminase, yCD\",\"annotation.DB_Object_Name\":\"cytosine deaminase\",\"annotation.GO BIOLOGICAL_PROCESS\":\"cytidine metabolic process, cytosine metabolic process, pyrimidine salvage\",\"annotation.GO CELLULAR_COMPONENT\":\"cytoplasm, nucleus\",\"annotation.GO MOLECULAR_FUNCTION\":\"cytosine deaminase activity\",\"label\":\"FCY1\",\"kegg\":\"sce:YPR062W\",\"uniprot\":\"FCY1_YEAST\",\"sgd\":\"S000006266\",\"entrez\":856175,\"name\":\"YPR062W\"},{\"alias\":\"translational elongation factor EF-1 alpha, EF-1 alpha, S000006284, TEF1, eEF1A\",\"annotation.DB_Object_Name\":\"eEF1A, translational elongation factor EF-1 alpha\",\"annotation.GO BIOLOGICAL_PROCESS\":\"translational elongation\",\"annotation.GO CELLULAR_COMPONENT\":\"eukaryotic translation elongation factor 1 complex, ribosome\",\"annotation.GO MOLECULAR_FUNCTION\":\"translation elongation factor activity\",\"label\":\"EF1A\",\"kegg\":\"sce:YPR080W\",\"uniprot\":\"EF1A_YEAST\",\"sgd\":\"S000000322\",\"entrez\":852415,\"name\":\"YPR080W\"},{\"alias\":\"translational elongation factor EF-1 alpha, EF-1 alpha, S000006284, TEF1, eEF1A\",\"annotation.DB_Object_Name\":\"eEF1A, translational elongation factor EF-1 alpha\",\"annotation.GO BIOLOGICAL_PROCESS\":\"translational elongation\",\"annotation.GO CELLULAR_COMPONENT\":\"eukaryotic translation elongation factor 1 complex, ribosome\",\"annotation.GO MOLECULAR_FUNCTION\":\"translation elongation factor activity\",\"label\":\"EF1A\",\"kegg\":\"sce:YPR080W\",\"uniprot\":\"EF1A_YEAST\",\"sgd\":\"S000000322\",\"entrez\":856195,\"name\":\"YPR080W\"},{\"alias\":\"translational elongation factor EF-1 alpha, EF-1 alpha, S000006284, TEF1, eEF1A\",\"annotation.DB_Object_Name\":\"eEF1A, translational elongation factor EF-1 alpha\",\"annotation.GO BIOLOGICAL_PROCESS\":\"translational elongation\",\"annotation.GO CELLULAR_COMPONENT\":\"eukaryotic translation elongation factor 1 complex, ribosome\",\"annotation.GO MOLECULAR_FUNCTION\":\"translation elongation factor activity\",\"label\":\"EF1A\",\"kegg\":\"sce:YPR080W\",\"uniprot\":\"EF1A_YEAST\",\"sgd\":\"S000006284\",\"entrez\":852415,\"name\":\"YPR080W\"},{\"alias\":\"translational elongation factor EF-1 alpha, EF-1 alpha, S000006284, TEF1, eEF1A\",\"annotation.DB_Object_Name\":\"eEF1A, translational elongation factor EF-1 alpha\",\"annotation.GO BIOLOGICAL_PROCESS\":\"translational elongation\",\"annotation.GO CELLULAR_COMPONENT\":\"eukaryotic translation elongation factor 1 complex, ribosome\",\"annotation.GO MOLECULAR_FUNCTION\":\"translation elongation factor activity\",\"label\":\"EF1A\",\"kegg\":\"sce:YPR080W\",\"uniprot\":\"EF1A_YEAST\",\"sgd\":\"S000006284\",\"entrez\":856195,\"name\":\"YPR080W\"},{\"alias\":\"RPL11A, S000006306, ribosomal protein L11A (L16A) (rp39A) (YL22)\",\"annotation.DB_Object_Name\":\"ribosomal protein L11A (L16A) (rp39A) (YL22)\",\"annotation.GO BIOLOGICAL_PROCESS\":\"ribosomal large subunit assembly and maintenance\",\"annotation.GO CELLULAR_COMPONENT\":\"cytosolic large ribosomal subunit (sensu the Eukaryota research community)\",\"annotation.GO MOLECULAR_FUNCTION\":\"structural constituent of ribosome\",\"label\":\"RL11A\",\"kegg\":\"sce:YPR102C\",\"uniprot\":\"RL11A_YEAST\",\"sgd\":\"S000006306\",\"entrez\":856217,\"name\":\"YPR102C\"},{\"alias\":\" RNA polymerase III subunit, AC40, RPC40, RPC5, S000006314\",\"annotation.DB_Object_Name\":\"AC40, RNA polymerase III subunit\",\"annotation.GO BIOLOGICAL_PROCESS\":\"transcription from RNA polymerase I promoter, transcription from RNA polymerase III promoter\",\"annotation.GO CELLULAR_COMPONENT\":\"DNA-directed RNA polymerase I complex, DNA-directed RNA polymerase III complex\",\"annotation.GO MOLECULAR_FUNCTION\":\"DNA-directed RNA polymerase activity\",\"label\":\"RPAC1\",\"kegg\":\"sce:YPR110C\",\"uniprot\":\"RPAC1_YEAST\",\"sgd\":\"S000006314\",\"entrez\":856226,\"name\":\"YPR110C\"},{\"alias\":\"PIS1, S000006317, phosphatidylinositol synthase\",\"annotation.DB_Object_Name\":\"phosphatidylinositol synthase\",\"annotation.GO BIOLOGICAL_PROCESS\":\"cell cycle, phosphatidylinositol biosynthetic process\",\"annotation.GO CELLULAR_COMPONENT\":\"endoplasmic reticulum, microsome, mitochondrial outer membrane, mitochondrion\",\"annotation.GO MOLECULAR_FUNCTION\":\"CDP-diacylglycerol-inositol 3-phosphatidyltransferase activity\",\"label\":\"PIS\",\"kegg\":\"sce:YPR113W\",\"uniprot\":\"PIS_YEAST\",\"sgd\":\"S000006317\",\"entrez\":856229,\"name\":\"YPR113W\"},{\"alias\":\"B-type cyclin, CLB2, S000006323\",\"annotation.DB_Object_Name\":\"B-type cyclin\",\"annotation.GO BIOLOGICAL_PROCESS\":\"G2\\/M transition of mitotic cell cycle, regulation of cyclin-dependent protein kinase activity\",\"annotation.GO CELLULAR_COMPONENT\":\"bud neck, cytoplasm, nucleus, spindle, spindle pole body\",\"annotation.GO MOLECULAR_FUNCTION\":\"cyclin-dependent protein kinase regulator activity\",\"label\":\"CG22\",\"kegg\":\"sce:YPR119W\",\"uniprot\":\"CG22_YEAST\",\"sgd\":\"S000006323\",\"entrez\":856236,\"name\":\"YPR119W\"},{\"alias\":\"CTR1, S000006328, copper transport protein\",\"annotation.DB_Object_Name\":\"copper transport protein\",\"annotation.GO BIOLOGICAL_PROCESS\":\"copper ion import\",\"annotation.GO CELLULAR_COMPONENT\":\"plasma membrane\",\"annotation.GO MOLECULAR_FUNCTION\":\"copper uptake transporter activity\",\"label\":\"CTR1\",\"kegg\":\"sce:YPR124W\",\"uniprot\":\"CTR1_YEAST\",\"sgd\":\"S000006328\",\"entrez\":856241,\"name\":\"YPR124W\"},{\"alias\":\"ASN1, S000006349, asparagine synthetase\",\"annotation.DB_Object_Name\":\"asparagine synthetase\",\"annotation.GO BIOLOGICAL_PROCESS\":\"asparagine biosynthetic process\",\"annotation.GO CELLULAR_COMPONENT\":\"cytoplasm\",\"annotation.GO MOLECULAR_FUNCTION\":\"asparagine synthase (glutamine-hydrolyzing) activity\",\"label\":\"ASNS1\",\"kegg\":\"sce:YPR145W\",\"uniprot\":\"ASNS1_YEAST\",\"sgd\":\"S000006349\",\"entrez\":856268,\"name\":\"YPR145W\"},{\"alias\":\"3'phosphoadenylylsulfate reductase, MET16, S000006371\",\"annotation.DB_Object_Name\":\"3'phosphoadenylylsulfate reductase\",\"annotation.GO BIOLOGICAL_PROCESS\":\"methionine metabolic process, sulfate assimilation\",\"annotation.GO CELLULAR_COMPONENT\":\"cytoplasm, intracellular\",\"annotation.GO MOLECULAR_FUNCTION\":\"phosphoadenylyl-sulfate reductase (thioredoxin) activity\",\"label\":\"MET16\",\"kegg\":\"sce:YPR167C\",\"uniprot\":\"MET16_YEAST\",\"sgd\":\"S000006371\",\"entrez\":856296,\"name\":\"YPR167C\"}]\n"
     ]
    }
   ],
   "source": [
    "# Step 4: Merge them in Cytoscape\n",
    "yeast_net.update_node_table(df=table_data, network_key_col='name')"
   ]
  },
  {
   "cell_type": "code",
   "execution_count": null,
   "metadata": {
    "collapsed": false
   },
   "outputs": [],
   "source": [
    "# Step 5: Apply layout\n",
    "cy.layout.apply(name='force-directed', network=yeast_net)\n",
    "\n",
    "# Step 6: Create Visual Style as code (or by hand if you prefer)\n",
    "my_yeast_style = cy.style.create('GAL Style')\n",
    "\n",
    "\n",
    "basic_settings = {\n",
    "    \n",
    "    # You can set default values as key-value pairs.\n",
    "    \n",
    "    'NODE_FILL_COLOR': '#6AACB8',\n",
    "    'NODE_SIZE': 55,\n",
    "    'NODE_BORDER_WIDTH': 0,\n",
    "    'NODE_LABEL_COLOR': '#555555',\n",
    "    \n",
    "    'EDGE_WIDTH': 2,\n",
    "    'EDGE_TRANSPARENCY': 100,\n",
    "    'EDGE_STROKE_UNSELECTED_PAINT': '#333333',\n",
    "    \n",
    "    'NETWORK_BACKGROUND_PAINT': '#FFFFEA'\n",
    "}\n",
    "\n",
    "my_yeast_style.update_defaults(basic_settings)\n",
    "\n",
    "# Create some mappings\n",
    "my_yeast_style.create_passthrough_mapping(column='COMMON', vp='NODE_LABEL', col_type='String')\n",
    "\n",
    "degrees = yeast_net.get_node_column('Degree') \n",
    "color_gradient = StyleUtil.create_2_color_gradient(min=degrees.min(), max=degrees.max(), colors=('white', '#6AACB8'))\n",
    "degree_to_size = StyleUtil.create_slope(min=degrees.min(), max=degrees.max(), values=(10, 100))\n",
    "my_yeast_style.create_continuous_mapping(column='Degree', vp='NODE_FILL_COLOR', col_type='Integer', points=color_gradient)\n",
    "my_yeast_style.create_continuous_mapping(column='Degree', vp='NODE_SIZE', col_type='Integer', points=degree_to_size)\n",
    "my_yeast_style.create_continuous_mapping(column='Degree', vp='NODE_LABEL_FONT_SIZE', col_type='Integer', points=degree_to_size)\n",
    "\n",
    "cy.style.apply(my_yeast_style, yeast_net)\n",
    "\n",
    "# Step 7: (Optional) Embed as interactive Cytoscape.js widget\n",
    "yeast_net_view = yeast_net.get_first_view()\n",
    "style_for_widget = cy.style.get(my_yeast_style.get_name(), data_format='cytoscapejs')\n",
    "renderer.render(yeast_net_view, style=style_for_widget['style'], background='radial-gradient(#FFFFFF 15%, #DDDDDD 105%)')"
   ]
  },
  {
   "cell_type": "markdown",
   "metadata": {},
   "source": [
    "# Long Description\n",
    "From version 0.4.0, ___py2cytoscape___ has wrapper modules for [cyREST](http://apps.cytoscape.org/apps/cyrest) RESTful API.  This means you can access Cytoscape features in more _Pythonic_ way instead of calling raw REST API via HTTP.  \n",
    "\n",
    "\n",
    "## Features\n",
    "\n",
    "### Pandas for basic data exchange\n",
    "Since [pandas](http://pandas.pydata.org/) is a standard library for data mangling/analysis in Python, this new version uses its [DataFrame](http://pandas.pydata.org/pandas-docs/stable/generated/pandas.DataFrame.html#pandas.DataFrame) as its basic data object.\n",
    "\n",
    "### Embedded Cytoscaep.js Widget\n",
    "You can use Cytoscape.js widget to embed your final result as a part of your notebook.\n",
    "\n",
    "### Simpler Code to access Cytoscape\n",
    "cyREST provides language-agnostic RESTful API, but you need to use a lot of template code to access raw API.  Here is an example.  Both of the following do the same task, which is creating an empty network in Cytoscape.  You will notice it is significantly simpler if you use _py2cytoscape_ wrapper API.\n",
    "\n",
    "#### Raw cyREST"
   ]
  },
  {
   "cell_type": "code",
   "execution_count": null,
   "metadata": {
    "collapsed": false
   },
   "outputs": [],
   "source": [
    "# HTTP Client for Python\n",
    "import requests\n",
    "\n",
    "# Standard JSON library\n",
    "import json\n",
    "\n",
    "# Basic Setup\n",
    "PORT_NUMBER = 1234\n",
    "BASE = 'http://localhost:' + str(PORT_NUMBER) + '/v1/'\n",
    "\n",
    "# Header for posting data to the server as JSON\n",
    "HEADERS = {'Content-Type': 'application/json'}\n",
    "\n",
    "# Define dictionary of empty network\n",
    "empty_network = {\n",
    "        'data': {\n",
    "            'name': 'I\\'m empty!'\n",
    "        },\n",
    "        'elements': {\n",
    "            'nodes':[],\n",
    "            'edges':[]\n",
    "        }\n",
    "}\n",
    "\n",
    "res = requests.post(BASE + 'networks?collection=My%20Collection', data=json.dumps(empty_network), headers=HEADERS)\n",
    "new_network_id = res.json()['networkSUID']\n",
    "print('New network created with raw REST API.  Its SUID is ' + str(new_network_id))"
   ]
  },
  {
   "cell_type": "markdown",
   "metadata": {},
   "source": [
    "#### With py2cytoscape"
   ]
  },
  {
   "cell_type": "code",
   "execution_count": null,
   "metadata": {
    "collapsed": false
   },
   "outputs": [],
   "source": [
    "network = cy.network.create(name='My Network', collection='My network collection')\n",
    "print('New network created with py2cytoscape.  Its SUID is ' + str(network.get_id()))"
   ]
  },
  {
   "cell_type": "markdown",
   "metadata": {},
   "source": [
    "## Status\n",
    "\n",
    "As of 6/4/2015, this is still in alpha status and feature requests are always welcome.  If youi have questions or feature requests,  please send them to our Google Groups:\n",
    "\n",
    "* https://groups.google.com/forum/#!forum/cytoscape-discuss"
   ]
  },
  {
   "cell_type": "markdown",
   "metadata": {},
   "source": [
    "# Quick Tour of py2cytoscape Features\n",
    "\n",
    "----\n",
    "\n",
    "## Create a client object to connect to Cytoscape"
   ]
  },
  {
   "cell_type": "code",
   "execution_count": null,
   "metadata": {
    "collapsed": true
   },
   "outputs": [],
   "source": [
    "# Create an instance of cyREST client.  Default IP is 'localhost', and port number is 1234.\n",
    "# cy = CyRestClient() - This default constructor creates connection to http://localhost:1234/v1\n",
    "cy = CyRestClient(ip='127.0.0.1', port=1234)\n",
    "\n",
    "# Cleanup: Delete all existing networks and tables in current Cytoscape session\n",
    "cy.session.delete()"
   ]
  },
  {
   "cell_type": "markdown",
   "metadata": {},
   "source": [
    "## Creating empty networks"
   ]
  },
  {
   "cell_type": "code",
   "execution_count": null,
   "metadata": {
    "collapsed": true
   },
   "outputs": [],
   "source": [
    "# Empty network\n",
    "empty1 = cy.network.create()\n",
    "\n",
    "# With name\n",
    "empty2 = cy.network.create(name='Created in Jupyter Notebook')\n",
    "\n",
    "# With name and collection name\n",
    "empty3 = cy.network.create(name='Also created in Jupyter', collection='New network collection')"
   ]
  },
  {
   "cell_type": "markdown",
   "metadata": {},
   "source": [
    "## Load networks from files, URLs or web services"
   ]
  },
  {
   "cell_type": "code",
   "execution_count": null,
   "metadata": {
    "collapsed": false
   },
   "outputs": [],
   "source": [
    "# Load a single local file\n",
    "net_from_local2 = cy.network.create_from('../tests/data/galFiltered.json')\n",
    "net_from_local1 = cy.network.create_from('sample_yeast_network.xgmml', collection='My Collection')\n",
    "net_from_local2 = cy.network.create_from('../tests/data/galFiltered.gml', collection='My Collection')\n",
    "\n",
    "# Load from multiple locations\n",
    "network_locations = [\n",
    "    'sample_yeast_network.xgmml', # Local file\n",
    "    'http://chianti.ucsd.edu/cytoscape-data/galFiltered.sif', # Static file on a web server\n",
    "    'http://www.ebi.ac.uk/Tools/webservices/psicquic/intact/webservices/current/search/query/brca1?format=xml25' # or a web service\n",
    "]\n",
    "\n",
    "# This requrns Series\n",
    "networks = cy.network.create_from(network_locations)\n",
    "pd.DataFrame(networks, columns=['CyNetwork'])"
   ]
  },
  {
   "cell_type": "markdown",
   "metadata": {},
   "source": [
    "## Create networks from various types of data\n",
    "Currently, py2cytoscape accepts the following data as input:\n",
    "\n",
    "* Cytoscape.js\n",
    "* NetworkX\n",
    "* Pandas DataFrame\n",
    "\n",
    "\n",
    "* igraph (TBD)\n",
    "* Numpy adjacency matrix (binary or weighted) (TBD)\n",
    "* GraphX (TBD)"
   ]
  },
  {
   "cell_type": "code",
   "execution_count": null,
   "metadata": {
    "collapsed": false
   },
   "outputs": [],
   "source": [
    "# Cytoscape.js JSON\n",
    "n1 = cy.network.create(data=cyjs.get_empty_network(), name='Created from Cytoscape.js JSON')"
   ]
  },
  {
   "cell_type": "code",
   "execution_count": null,
   "metadata": {
    "collapsed": false
   },
   "outputs": [],
   "source": [
    "# Pandas DataFrame\n",
    "\n",
    "# Example 1: From a simple text table\n",
    "df_from_sif = pd.read_csv('../tests/data/galFiltered.sif', names=['source', 'interaction', 'target'], sep=' ')\n",
    "df_from_sif.head()"
   ]
  },
  {
   "cell_type": "code",
   "execution_count": null,
   "metadata": {
    "collapsed": false
   },
   "outputs": [],
   "source": [
    "# By default, it uses 'source' for source node column, 'target' for target node column, and 'interaction' for interaction\n",
    "yeast1 = cy.network.create_from_dataframe(df_from_sif, name='Yeast network created from pandas DataFrame')\n",
    "\n",
    "# Example 2: from more complicated table\n",
    "df_from_mitab = pd.read_csv('intact_pubid_22094256.txt', sep='\\t')\n",
    "df_from_mitab.head()"
   ]
  },
  {
   "cell_type": "code",
   "execution_count": null,
   "metadata": {
    "collapsed": true
   },
   "outputs": [],
   "source": [
    "source = df_from_mitab.columns[0]\n",
    "target = df_from_mitab.columns[1]\n",
    "interaction = 'Interaction identifier(s)'\n",
    "title='A Systematic Screen for CDK4/6 Substrates Links FOXM1 Phosphorylation to Senescence Suppression in Cancer Cells.'\n",
    "\n",
    "human1 = cy.network.create_from_dataframe(df_from_mitab, source_col=source, target_col=target, interaction_col=interaction, name=title)\n",
    "\n",
    "\n",
    "# Import edge attributes and node attributes at the same time (TBD)"
   ]
  },
  {
   "cell_type": "code",
   "execution_count": null,
   "metadata": {
    "collapsed": true
   },
   "outputs": [],
   "source": [
    "# NetworkX\n",
    "nx_graph  = nx.scale_free_graph(100)\n",
    "nx.set_node_attributes(nx_graph, 'Degree', nx.degree(nx_graph))\n",
    "nx.set_node_attributes(nx_graph, 'Betweenness_Centrality', nx.betweenness_centrality(nx_graph))\n",
    "scale_free100 = cy.network.create_from_networkx(nx_graph, collection='Generated by NetworkX')\n",
    "\n",
    "# TODO: igraph\n",
    "# TODO: Numpy adj. martix\n",
    "# TODO: GraphX"
   ]
  },
  {
   "cell_type": "markdown",
   "metadata": {},
   "source": [
    "## Get Network from Cytoscape\n",
    "\n",
    "You can get network data in the following forms:\n",
    "\n",
    "* Cytoscape.js\n",
    "* NetworkX\n",
    "* DataFrame"
   ]
  },
  {
   "cell_type": "code",
   "execution_count": null,
   "metadata": {
    "collapsed": true
   },
   "outputs": [],
   "source": [
    "# As Cytoscape.js (dict)\n",
    "yeast1_json = yeast1.to_json()\n",
    "\n",
    "# print(json.dumps(yeast1_json, indent=4))"
   ]
  },
  {
   "cell_type": "code",
   "execution_count": null,
   "metadata": {
    "collapsed": false
   },
   "outputs": [],
   "source": [
    "# As NetworkX graph object\n",
    "sf100 = scale_free100.to_networkx()\n",
    "\n",
    "num_nodes = sf100.number_of_nodes()\n",
    "num_edges = sf100.number_of_edges()\n",
    "\n",
    "print('Number of Nodes: ' + str(num_nodes))\n",
    "print('Number of Edges: ' + str(num_edges))"
   ]
  },
  {
   "cell_type": "code",
   "execution_count": null,
   "metadata": {
    "collapsed": false
   },
   "outputs": [],
   "source": [
    "# As a simple, SIF-like DataFrame\n",
    "yeast1_df = yeast1.to_dataframe()\n",
    "yeast1_df.head()"
   ]
  },
  {
   "cell_type": "markdown",
   "metadata": {},
   "source": [
    "## Working with CyNetwork API\n",
    "___CyNetwork___ class is a simple wrapper for network-related cyREST raw REST API.  __It does not hold the actual network data.  It's a reference to a network in current Cytoscape session__.  With CyNetwork API, you can access Cytoscape data objects in more Pythonista-friendly way."
   ]
  },
  {
   "cell_type": "code",
   "execution_count": null,
   "metadata": {
    "collapsed": false
   },
   "outputs": [],
   "source": [
    "network_suid = yeast1.get_id()\n",
    "print('This object references to Cytoscape network with SUID ' + str(network_suid) + '\\n')\n",
    "print('And its name is: ' + str(yeast1.get_network_value(column='name')) + '\\n')\n",
    "\n",
    "nodes = yeast1.get_nodes()\n",
    "edges = yeast1.get_edges()\n",
    "\n",
    "print('* This network has ' + str(len(nodes)) + ' nodes and ' + str(len(edges)) + ' edges\\n') \n",
    "\n",
    "# Get a row in the node table as pandas Series object\n",
    "node0 = nodes[0]\n",
    "row = yeast1.get_node_value(id=node0)\n",
    "print(row)\n",
    "\n",
    "# Or, pick one cell in the table\n",
    "cell = yeast1.get_node_value(id=node0, column='name')\n",
    "print('\\nThis node has name: ' + str(cell))"
   ]
  },
  {
   "cell_type": "markdown",
   "metadata": {},
   "source": [
    "### Get references from existing networks\n",
    "And of course, you can grab references to existing Cytoscape networks:"
   ]
  },
  {
   "cell_type": "code",
   "execution_count": null,
   "metadata": {
    "collapsed": false
   },
   "outputs": [],
   "source": [
    "# Create a new CyNetwork object from existing network\n",
    "network_ref1 = cy.network.create(suid=yeast1.get_id())\n",
    "\n",
    "# And they are considered as same objects.\n",
    "print(network_ref1 == yeast1)\n",
    "print(network_ref1.get_network_value(column='name'))"
   ]
  },
  {
   "cell_type": "markdown",
   "metadata": {},
   "source": [
    "## Tables as DataFrame\n",
    "Cytoscape has two main data types: ___Network___ and ___Table___.  Network is the graph topology, and Tables are properties for those graphs.  For simplicity, this library has access to three basic table objects:\n",
    "\n",
    "* Node Table\n",
    "* Edge Table\n",
    "* Network Table\n",
    "\n",
    "For 99% of your use cases, you can use these three to store properties.  Since [pandas](http://pandas.pydata.org/) is extremely useful to handle table data, default data type for tables is __DataFrame__.  However, you can also use other data types including:\n",
    "\n",
    "* Cytoscape.js style JSON\n",
    "* CSV\n",
    "* TSV\n",
    "* CX (TBD)"
   ]
  },
  {
   "cell_type": "code",
   "execution_count": null,
   "metadata": {
    "collapsed": false
   },
   "outputs": [],
   "source": [
    "# Get table  from Cytoscape\n",
    "node_table = scale_free100.get_node_table()\n",
    "edge_table = scale_free100.get_edge_table()\n",
    "network_table = scale_free100.get_network_table()\n",
    "node_table.head()"
   ]
  },
  {
   "cell_type": "code",
   "execution_count": null,
   "metadata": {
    "collapsed": false
   },
   "outputs": [],
   "source": [
    "network_table.transpose().head()"
   ]
  },
  {
   "cell_type": "code",
   "execution_count": null,
   "metadata": {
    "collapsed": false
   },
   "outputs": [],
   "source": [
    "names = scale_free100.get_node_column('Degree')\n",
    "print(names.head())\n",
    "\n",
    "# Node Column information.  \"name\" is the unique Index\n",
    "scale_free100.get_node_columns()"
   ]
  },
  {
   "cell_type": "markdown",
   "metadata": {},
   "source": [
    "## Edit Network Topology\n",
    "\n",
    "### Adding and deleteing nodes/edges"
   ]
  },
  {
   "cell_type": "code",
   "execution_count": null,
   "metadata": {
    "collapsed": false
   },
   "outputs": [],
   "source": [
    "# Add new nodes: Simply send the list of node names.  NAMES SHOULD BE UNIQUE!\n",
    "new_node_names = ['a', 'b', 'c']\n",
    "# Return value contains dictionary from name to SUID.\n",
    "new_nodes = scale_free100.add_nodes(new_node_names)\n",
    "\n",
    "# Add new edges\n",
    "# Send a list of tuples:  (source node SUID, target node SUID, interaction type\n",
    "new_edges = []\n",
    "new_edges.append((new_nodes['a'], new_nodes['b'], 'type1'))\n",
    "new_edges.append((new_nodes['a'], new_nodes['c'], 'type2'))\n",
    "new_edges.append((new_nodes['b'], new_nodes['c'], 'type3'))\n",
    "\n",
    "new_edge_ids = scale_free100.add_edges(new_edges)\n",
    "new_edge_ids"
   ]
  },
  {
   "cell_type": "code",
   "execution_count": null,
   "metadata": {
    "collapsed": true
   },
   "outputs": [],
   "source": [
    "# Delete node\n",
    "scale_free100.delete_node(new_nodes['a'])\n",
    "\n",
    "# Delete edge\n",
    "scale_free100.delete_edge(new_edge_ids.index[0])"
   ]
  },
  {
   "cell_type": "markdown",
   "metadata": {},
   "source": [
    "## Update Table\n",
    "Let's do something a bit more realistic.  You can update any Tables by using DataFrame objects.\n",
    "\n",
    "### 1. ID conversion with external service\n",
    "Let's use [ID Conversion web service by Uniprot](http://www.uniprot.org/help/programmatic_access) to add more information to existing yeast network in current session."
   ]
  },
  {
   "cell_type": "code",
   "execution_count": null,
   "metadata": {
    "collapsed": false
   },
   "outputs": [],
   "source": [
    "# Small utility function to convert ID sets\n",
    "import requests\n",
    "\n",
    "def uniprot_id_mapping_service(query=None, from_id=None, to_id=None):\n",
    "    # Uniprot ID Mapping service\n",
    "    url = 'http://www.uniprot.org/mapping/'\n",
    "    payload = {\n",
    "        'from': from_id,\n",
    "        'to': to_id,\n",
    "        'format':'tab',\n",
    "        'query': query\n",
    "    }\n",
    "    \n",
    "    res = requests.get(url, params=payload)\n",
    "    \n",
    "    df = pd.read_csv(res.url, sep='\\t')\n",
    "    res.close()\n",
    "    return df"
   ]
  },
  {
   "cell_type": "code",
   "execution_count": null,
   "metadata": {
    "collapsed": false
   },
   "outputs": [],
   "source": [
    "# Get node table from Cytoscape\n",
    "yeast_node_table = yeast1.get_node_table()\n",
    "\n",
    "# From KEGG ID to UniprotKB ID\n",
    "query1 = ' '.join(yeast_node_table['name'].map(lambda gene_id: 'sce:' + gene_id).values)\n",
    "id_map_kegg2uniprot = uniprot_id_mapping_service(query1, from_id='KEGG_ID', to_id='ID')\n",
    "id_map_kegg2uniprot.columns = ['kegg', 'uniprot']\n",
    "\n",
    "# From UniprotKB to SGD\n",
    "query2 = ' '.join(id_map_kegg2uniprot['uniprot'].values)\n",
    "id_map_uniprot2sgd = uniprot_id_mapping_service(query2, from_id='ID', to_id='SGD_ID')\n",
    "id_map_uniprot2sgd.columns = ['uniprot', 'sgd']\n",
    "\n",
    "# From UniprotKB to Entrez Gene ID\n",
    "query3 = ' '.join(id_map_kegg2uniprot['uniprot'].values)\n",
    "id_map_uniprot2ncbi = uniprot_id_mapping_service(query3, from_id='ID', to_id='P_ENTREZGENEID')\n",
    "id_map_uniprot2ncbi.columns = ['uniprot', 'entrez']\n",
    "\n",
    "# Merge them\n",
    "merged = pd.merge(id_map_kegg2uniprot, id_map_uniprot2sgd, on='uniprot')\n",
    "merged = pd.merge(merged, id_map_uniprot2ncbi, on='uniprot')\n",
    "\n",
    "# Add key column by removing prefix\n",
    "merged['name'] = merged['kegg'].map(lambda kegg_id : kegg_id[4:])\n",
    "merged.head()"
   ]
  },
  {
   "cell_type": "code",
   "execution_count": null,
   "metadata": {
    "collapsed": false
   },
   "outputs": [],
   "source": [
    "update_url = BASE + 'networks/' + str(yeast1.get_id()) + '/tables/defaultnode'\n",
    "print(update_url)\n",
    "\n",
    "ut = {\n",
    "    'key': 'name',\n",
    "    'dataKey': 'name',\n",
    "    'data': [\n",
    "        {\n",
    "            'name': 'YBR112C',\n",
    "            'foo': 'aaaaaaaa'\n",
    "        }\n",
    "    ]\n",
    "}\n",
    "\n",
    "requests.put(update_url, json=ut, headers=HEADERS)"
   ]
  },
  {
   "cell_type": "code",
   "execution_count": null,
   "metadata": {
    "collapsed": false
   },
   "outputs": [],
   "source": [
    "# Now update existing node table with the data frame above.\n",
    "yeast1.update_node_table(merged, network_key_col='name', data_key_col='name')\n",
    "\n",
    "# Check the table is actually updated\n",
    "yeast1.get_node_table().head()"
   ]
  },
  {
   "cell_type": "markdown",
   "metadata": {},
   "source": [
    "## Create / Delete Table Data\n",
    "Currently, ___you cannot delete the table or rows___ due to the Cytoscape data model design.  However, it is easy to create / delete columns:"
   ]
  },
  {
   "cell_type": "code",
   "execution_count": null,
   "metadata": {
    "collapsed": false
   },
   "outputs": [],
   "source": [
    "# Delete columns\n",
    "yeast1.delete_node_table_column('kegg')\n",
    "\n",
    "# Create columns\n",
    "yeast1.create_node_column(name='New Empty Double Column', data_type='Double', is_immutable=False, is_list=False)\n",
    "\n",
    "# Default is String, mutable column.\n",
    "yeast1.create_node_column(name='Empty String Col')\n",
    "\n",
    "yeast1.get_node_table().head()"
   ]
  },
  {
   "cell_type": "markdown",
   "metadata": {},
   "source": [
    "## Visual Styles\n",
    "You can also use wrapper API to access Visual Styles.\n",
    "\n",
    "Current limitations are:\n",
    "\n",
    "* You need to use unique name for the Styles\n",
    "* Need to know how to write serialized form of objects"
   ]
  },
  {
   "cell_type": "code",
   "execution_count": null,
   "metadata": {
    "collapsed": false
   },
   "outputs": [],
   "source": [
    "# Get all existing Visual Styles\n",
    "import json\n",
    "styles = cy.style.get_all()\n",
    "print(json.dumps(styles, indent=4))\n",
    "\n",
    "# Create a new style\n",
    "style1 = cy.style.create('sample_style1')\n",
    "\n",
    "# Get a reference to the existing style\n",
    "default_style = cy.style.create('default')\n",
    "\n",
    "print(style1.get_name())\n",
    "print(default_style.get_name())\n",
    "\n",
    "# Get all available Visual Properties\n",
    "print(len(cy.style.vps.get_all()))\n",
    "\n",
    "# Get  Visual Properties for each data type\n",
    "node_vps = cy.style.vps.get_node_visual_props()\n",
    "edge_vps = cy.style.vps.get_edge_visual_props()\n",
    "network_vps = cy.style.vps.get_network_visual_props()\n",
    "\n",
    "print(pd.Series(edge_vps).head())"
   ]
  },
  {
   "cell_type": "markdown",
   "metadata": {},
   "source": [
    "### Set default values\n",
    "To set default values for Visual Properties, simply pass key-value pairs as dictionary."
   ]
  },
  {
   "cell_type": "code",
   "execution_count": null,
   "metadata": {
    "collapsed": true
   },
   "outputs": [],
   "source": [
    "# Prepare key-value pair for Style defaults\n",
    "\n",
    "new_defaults = {\n",
    "    # Node defaults\n",
    "    'NODE_FILL_COLOR': '#eeeeff',\n",
    "    'NODE_SIZE': 20,\n",
    "    'NODE_BORDER_WIDTH': 0,\n",
    "    'NODE_TRANSPARENCY': 120,\n",
    "    'NODE_LABEL_COLOR': 'white',\n",
    "    \n",
    "    # Edge defaults\n",
    "    'EDGE_WIDTH': 3,\n",
    "    'EDGE_STROKE_UNSELECTED_PAINT': '#aaaaaa',\n",
    "    'EDGE_LINE_TYPE': 'LONG_DASH',\n",
    "    'EDGE_TRANSPARENCY': 120,\n",
    "    \n",
    "    # Network defaults\n",
    "    'NETWORK_BACKGROUND_PAINT': 'black'\n",
    "}\n",
    "\n",
    "# Update\n",
    "style1.update_defaults(new_defaults)\n",
    "\n",
    "# Apply the new style\n",
    "cy.style.apply(style1, yeast1)"
   ]
  },
  {
   "cell_type": "markdown",
   "metadata": {},
   "source": [
    "### Visual Mappings"
   ]
  },
  {
   "cell_type": "code",
   "execution_count": null,
   "metadata": {
    "collapsed": true
   },
   "outputs": [],
   "source": [
    "# Passthrough mapping\n",
    "style1.create_passthrough_mapping(column='name', col_type='String', vp='NODE_LABEL')\n",
    "\n",
    "# Discrete mapping: Simply prepare key-value pairs and send it\n",
    "kv_pair = {\n",
    "    'pp': 'pink',\n",
    "    'pd': 'green'\n",
    "}\n",
    "style1.create_discrete_mapping(column='interaction', \n",
    "                               col_type='String', vp='EDGE_STROKE_UNSELECTED_PAINT', mappings=kv_pair)\n",
    "\n",
    "# Continuous mapping\n",
    "points = [\n",
    "    {\n",
    "        'value': '1.0',\n",
    "        'lesser':'white',\n",
    "        'equal':'white',\n",
    "        'greater': 'white'\n",
    "    },\n",
    "    {\n",
    "        'value': '20.0',\n",
    "        'lesser':'green',\n",
    "        'equal':'green',\n",
    "        'greater': 'green'\n",
    "    }\n",
    "]\n",
    "\n",
    "minimal_style = cy.style.create('Minimal')\n",
    "minimal_style.create_continuous_mapping(column='Degree', col_type='Double', vp='NODE_FILL_COLOR', points=points)\n",
    "\n",
    "# Or, use utility for simple mapping\n",
    "simple_slope = StyleUtil.create_slope(min=1, max=20, values=(10, 60))\n",
    "minimal_style.create_continuous_mapping(column='Degree', col_type='Double', vp='NODE_SIZE', points=simple_slope)\n",
    "\n",
    "# Apply the new style\n",
    "cy.style.apply(minimal_style, scale_free100)"
   ]
  },
  {
   "cell_type": "markdown",
   "metadata": {},
   "source": [
    "## Layouts\n",
    "Currently, this supports automatic layouts with default parameters."
   ]
  },
  {
   "cell_type": "code",
   "execution_count": null,
   "metadata": {
    "collapsed": false
   },
   "outputs": [],
   "source": [
    "# Get list of available layout algorithms\n",
    "layouts = cy.layout.get_all()\n",
    "print(json.dumps(layouts, indent=4))"
   ]
  },
  {
   "cell_type": "code",
   "execution_count": null,
   "metadata": {
    "collapsed": false
   },
   "outputs": [],
   "source": [
    "# Apply layout\n",
    "cy.layout.apply(name='circular', network=yeast1)\n",
    "\n",
    "yeast1.get_views()\n",
    "yeast_view1 = yeast1.get_first_view()\n",
    "node_views = yeast_view1['elements']['nodes']\n",
    "df3 = pd.DataFrame(node_views)\n",
    "df3.head()"
   ]
  },
  {
   "cell_type": "markdown",
   "metadata": {},
   "source": [
    "## Embed Interactive Widget"
   ]
  },
  {
   "cell_type": "code",
   "execution_count": null,
   "metadata": {
    "collapsed": false
   },
   "outputs": [],
   "source": [
    "from py2cytoscape.cytoscapejs import viewer as cyjs\n",
    "cy.layout.apply(network=scale_free100)\n",
    "view1 = scale_free100.get_first_view()\n",
    "view2 = yeast1.get_first_view()\n",
    "# print(view1)\n",
    "cyjs.render(view2, 'default2', background='#efefef')"
   ]
  },
  {
   "cell_type": "code",
   "execution_count": null,
   "metadata": {
    "collapsed": false
   },
   "outputs": [],
   "source": [
    "# Use Cytoscape.js style JSON\n",
    "cyjs_style = cy.style.get(minimal_style.get_name(), data_format='cytoscapejs')\n",
    "cyjs.render(view1, style=cyjs_style['style'], background='white')"
   ]
  },
  {
   "cell_type": "code",
   "execution_count": null,
   "metadata": {
    "collapsed": true
   },
   "outputs": [],
   "source": []
  }
 ],
 "metadata": {
  "anaconda-cloud": {},
  "kernelspec": {
   "display_name": "Python [Root]",
   "language": "python",
   "name": "Python [Root]"
  },
  "language_info": {
   "codemirror_mode": {
    "name": "ipython",
    "version": 3
   },
   "file_extension": ".py",
   "mimetype": "text/x-python",
   "name": "python",
   "nbconvert_exporter": "python",
   "pygments_lexer": "ipython3",
   "version": "3.5.2"
  }
 },
 "nbformat": 4,
 "nbformat_minor": 0
}
