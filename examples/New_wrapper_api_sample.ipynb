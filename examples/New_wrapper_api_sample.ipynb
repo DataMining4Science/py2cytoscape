{
 "cells": [
  {
   "cell_type": "code",
   "execution_count": 4,
   "metadata": {
    "collapsed": true
   },
   "outputs": [],
   "source": [
    "from py2cytoscape.data.cynetwork import CyNetwork\n",
    "from py2cytoscape.data.cyrest_client import CyRestClient\n",
    "\n",
    "import pandas as pd\n",
    "\n",
    "# Create an instance of cyREST client.  You can specify the port and IP address, but it's optional.\n",
    "# Default IP is 'localhost', and port number is 1234.\n",
    "cy = CyRestClient(ip='127.0.0.1')\n",
    "\n",
    "# Delete all existing networks\n",
    "cy.network.delete_all()"
   ]
  },
  {
   "cell_type": "code",
   "execution_count": 3,
   "metadata": {
    "collapsed": false
   },
   "outputs": [],
   "source": [
    "# Create networks\n",
    "\n",
    "# Empty network\n",
    "network1 = cy.network.create()\n",
    "\n",
    "# Empty network with name\n",
    "network2 = cy.network.create(name='Created in Jupyter')\n",
    "\n",
    "# With Collection name\n",
    "network3 = cy.network.create(name='Also created in Jupyter', collection='New network collection')\n",
    "\n",
    "# is_equal\n",
    "\n",
    "# From DataFrame"
   ]
  },
  {
   "cell_type": "markdown",
   "metadata": {},
   "source": [
    "## Create networks from various types of data"
   ]
  },
  {
   "cell_type": "code",
   "execution_count": null,
   "metadata": {
    "collapsed": true
   },
   "outputs": [],
   "source": [
    "# Cytoscape.js JSON\n",
    "\n",
    "\n",
    "# Pandas DataFrame\n",
    "\n",
    "# Numpy array\n",
    "\n",
    "\n",
    "# NetworkX\n",
    "\n",
    "# igraph\n",
    "\n"
   ]
  }
 ],
 "metadata": {
  "kernelspec": {
   "display_name": "Python 2",
   "language": "python",
   "name": "python2"
  },
  "language_info": {
   "codemirror_mode": {
    "name": "ipython",
    "version": 2
   },
   "file_extension": ".py",
   "mimetype": "text/x-python",
   "name": "python",
   "nbconvert_exporter": "python",
   "pygments_lexer": "ipython2",
   "version": "2.7.9"
  }
 },
 "nbformat": 4,
 "nbformat_minor": 0
}
