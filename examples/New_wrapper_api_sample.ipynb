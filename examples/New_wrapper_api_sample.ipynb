{
 "cells": [
  {
   "cell_type": "markdown",
   "metadata": {},
   "source": [
    "# Introduction to _py2cytoscape_: Pythonista-friendly wrapper for cyREST\n",
    "\n",
    "![](http://cl.ly/XohP/logo300.png)\n",
    "\n",
    "<h1 align=\"center\">For</h1> \n",
    "\n",
    "![](https://www.python.org/static/community_logos/python-logo-master-v3-TM.png)\n",
    "\n",
    "by [Keiichiro Ono](http://keiono.github.io/) - University of California, San Diego [Trey Ideker Lab](http://healthsciences.ucsd.edu/som/medicine/research/labs/ideker/Pages/default.aspx)\n",
    "\n",
    "## Requirments\n",
    "* Java 8\n",
    "* Cytoscape 3.2.1+\n",
    "* cyREST 1.1.0+\n",
    "* py2cytoscape 0.4.2+\n",
    "\n",
    "----\n",
    "\n",
    "## Q. What is _py2cytoscape_?\n",
    "## A. A Python package to drive Cytoscape in pythonic way"
   ]
  },
  {
   "cell_type": "markdown",
   "metadata": {},
   "source": [
    "# In a Nutshell..."
   ]
  },
  {
   "cell_type": "code",
   "execution_count": 1,
   "metadata": {
    "collapsed": false
   },
   "outputs": [
    {
     "data": {
      "application/javascript": [
       "if (window['cytoscape'] === undefined) {\n",
       "    var paths = {\n",
       "        cytoscape: 'http://cytoscape.github.io/cytoscape.js/api/cytoscape.js-latest/cytoscape.min'\n",
       "    };\n",
       "\n",
       "    require.config({\n",
       "        paths: paths\n",
       "    });\n",
       "\n",
       "    require(['cytoscape'], function (cytoscape) {\n",
       "        console.log('Loading Cytoscape.js Module...');\n",
       "        window['cytoscape'] = cytoscape;\n",
       "\n",
       "        var event = document.createEvent(\"HTMLEvents\");\n",
       "        event.initEvent(\"load_cytoscape\", true, false);\n",
       "        window.dispatchEvent(event);\n",
       "    });\n",
       "}"
      ],
      "text/plain": [
       "<IPython.core.display.Javascript object>"
      ]
     },
     "metadata": {},
     "output_type": "display_data"
    }
   ],
   "source": [
    "from py2cytoscape.data.cynetwork import CyNetwork\n",
    "from py2cytoscape.data.cyrest_client import CyRestClient\n",
    "from py2cytoscape.data.style import StyleUtil\n",
    "import py2cytoscape.util.cytoscapejs as cyjs\n",
    "import py2cytoscape.cytoscapejs as renderer\n",
    "\n",
    "import networkx as nx\n",
    "import pandas as pd\n",
    "import json"
   ]
  },
  {
   "cell_type": "code",
   "execution_count": 2,
   "metadata": {
    "collapsed": false
   },
   "outputs": [
    {
     "data": {
      "text/html": [
       "<div>\n",
       "<table border=\"1\" class=\"dataframe\">\n",
       "  <thead>\n",
       "    <tr style=\"text-align: right;\">\n",
       "      <th></th>\n",
       "      <th>alias</th>\n",
       "      <th>annotation.DB_Object_Name</th>\n",
       "      <th>annotation.GO BIOLOGICAL_PROCESS</th>\n",
       "      <th>annotation.GO CELLULAR_COMPONENT</th>\n",
       "      <th>annotation.GO MOLECULAR_FUNCTION</th>\n",
       "      <th>label</th>\n",
       "      <th>kegg</th>\n",
       "      <th>uniprot</th>\n",
       "      <th>sgd</th>\n",
       "      <th>entrez</th>\n",
       "    </tr>\n",
       "  </thead>\n",
       "  <tbody>\n",
       "    <tr>\n",
       "      <th>YAL003W</th>\n",
       "      <td>translation elongation factor EF-1beta, EF-1 b...</td>\n",
       "      <td>EF-1 beta, translation elongation factor EF-1beta</td>\n",
       "      <td>translational elongation</td>\n",
       "      <td>eukaryotic translation elongation factor 1 com...</td>\n",
       "      <td>translation elongation factor activity</td>\n",
       "      <td>EF1B</td>\n",
       "      <td>sce:YAL003W</td>\n",
       "      <td>EF1B_YEAST</td>\n",
       "      <td>S000000003</td>\n",
       "      <td>851260</td>\n",
       "    </tr>\n",
       "    <tr>\n",
       "      <th>YAL030W</th>\n",
       "      <td>S000000028, SNC1</td>\n",
       "      <td>NaN</td>\n",
       "      <td>Golgi to plasma membrane transport, endocytosi...</td>\n",
       "      <td>Golgi trans face, SNARE complex, endosome, tra...</td>\n",
       "      <td>v-SNARE activity</td>\n",
       "      <td>SNC1</td>\n",
       "      <td>sce:YAL030W</td>\n",
       "      <td>SNC1_YEAST</td>\n",
       "      <td>S000000028</td>\n",
       "      <td>851203</td>\n",
       "    </tr>\n",
       "    <tr>\n",
       "      <th>YAL038W</th>\n",
       "      <td>CDC19, PYK1, S000000036, pyruvate kinase</td>\n",
       "      <td>pyruvate kinase</td>\n",
       "      <td>glycolysis, pyruvate metabolic process</td>\n",
       "      <td>cytosol</td>\n",
       "      <td>pyruvate kinase activity</td>\n",
       "      <td>KPYK1</td>\n",
       "      <td>sce:YAL038W</td>\n",
       "      <td>KPYK1_YEAST</td>\n",
       "      <td>S000000036</td>\n",
       "      <td>851193</td>\n",
       "    </tr>\n",
       "    <tr>\n",
       "      <th>YAL040C</th>\n",
       "      <td>CLN3, DAF1, FUN10, G1 cyclin, S000000038, WHI1</td>\n",
       "      <td>G1 cyclin</td>\n",
       "      <td>G1/S transition of mitotic cell cycle, regulat...</td>\n",
       "      <td>nucleus</td>\n",
       "      <td>cyclin-dependent protein kinase regulator acti...</td>\n",
       "      <td>CG13</td>\n",
       "      <td>sce:YAL040C</td>\n",
       "      <td>CG13_YEAST</td>\n",
       "      <td>S000000038</td>\n",
       "      <td>851191</td>\n",
       "    </tr>\n",
       "    <tr>\n",
       "      <th>YAR007C</th>\n",
       "      <td>heterotrimeric RPA (RF-A) single-stranded DNA ...</td>\n",
       "      <td>RF-A, heterotrimeric RPA (RF-A) single-strande...</td>\n",
       "      <td>DNA recombination, DNA replication, synthesis ...</td>\n",
       "      <td>DNA replication factor A complex, chromosome, ...</td>\n",
       "      <td>damaged DNA binding, single-stranded DNA binding</td>\n",
       "      <td>RFA1</td>\n",
       "      <td>sce:YAR007C</td>\n",
       "      <td>RFA1_YEAST</td>\n",
       "      <td>S000000065</td>\n",
       "      <td>851266</td>\n",
       "    </tr>\n",
       "  </tbody>\n",
       "</table>\n",
       "</div>"
      ],
      "text/plain": [
       "                                                     alias  \\\n",
       "YAL003W  translation elongation factor EF-1beta, EF-1 b...   \n",
       "YAL030W                                   S000000028, SNC1   \n",
       "YAL038W           CDC19, PYK1, S000000036, pyruvate kinase   \n",
       "YAL040C     CLN3, DAF1, FUN10, G1 cyclin, S000000038, WHI1   \n",
       "YAR007C  heterotrimeric RPA (RF-A) single-stranded DNA ...   \n",
       "\n",
       "                                 annotation.DB_Object_Name  \\\n",
       "YAL003W  EF-1 beta, translation elongation factor EF-1beta   \n",
       "YAL030W                                                NaN   \n",
       "YAL038W                                    pyruvate kinase   \n",
       "YAL040C                                          G1 cyclin   \n",
       "YAR007C  RF-A, heterotrimeric RPA (RF-A) single-strande...   \n",
       "\n",
       "                          annotation.GO BIOLOGICAL_PROCESS  \\\n",
       "YAL003W                           translational elongation   \n",
       "YAL030W  Golgi to plasma membrane transport, endocytosi...   \n",
       "YAL038W             glycolysis, pyruvate metabolic process   \n",
       "YAL040C  G1/S transition of mitotic cell cycle, regulat...   \n",
       "YAR007C  DNA recombination, DNA replication, synthesis ...   \n",
       "\n",
       "                          annotation.GO CELLULAR_COMPONENT  \\\n",
       "YAL003W  eukaryotic translation elongation factor 1 com...   \n",
       "YAL030W  Golgi trans face, SNARE complex, endosome, tra...   \n",
       "YAL038W                                            cytosol   \n",
       "YAL040C                                            nucleus   \n",
       "YAR007C  DNA replication factor A complex, chromosome, ...   \n",
       "\n",
       "                          annotation.GO MOLECULAR_FUNCTION  label  \\\n",
       "YAL003W             translation elongation factor activity   EF1B   \n",
       "YAL030W                                   v-SNARE activity   SNC1   \n",
       "YAL038W                           pyruvate kinase activity  KPYK1   \n",
       "YAL040C  cyclin-dependent protein kinase regulator acti...   CG13   \n",
       "YAR007C   damaged DNA binding, single-stranded DNA binding   RFA1   \n",
       "\n",
       "                kegg      uniprot         sgd  entrez  \n",
       "YAL003W  sce:YAL003W   EF1B_YEAST  S000000003  851260  \n",
       "YAL030W  sce:YAL030W   SNC1_YEAST  S000000028  851203  \n",
       "YAL038W  sce:YAL038W  KPYK1_YEAST  S000000036  851193  \n",
       "YAL040C  sce:YAL040C   CG13_YEAST  S000000038  851191  \n",
       "YAR007C  sce:YAR007C   RFA1_YEAST  S000000065  851266  "
      ]
     },
     "execution_count": 2,
     "metadata": {},
     "output_type": "execute_result"
    }
   ],
   "source": [
    "# !!!!!!!!!!!!!!!!! Step 0: Start Cytoscape 3 with cyREST App !!!!!!!!!!!!!!!!!!!!!!!!!!\n",
    "\n",
    "# Step 1: Create py2cytoscape client\n",
    "cy = CyRestClient()\n",
    "\n",
    "# Step 2: Load network from somewhere\n",
    "yeast_net = cy.network.create_from('../tests/data/galFiltered.json')\n",
    "\n",
    "# Step 3: Load table as pandas' DataFrame\n",
    "table_data = pd.read_csv('sample_data_table.csv', index_col=0)\n",
    "table_data.head()"
   ]
  },
  {
   "cell_type": "code",
   "execution_count": 3,
   "metadata": {
    "collapsed": false
   },
   "outputs": [
    {
     "ename": "ValueError",
     "evalue": "invalid literal for int() with base 10: 'YAL003W'",
     "output_type": "error",
     "traceback": [
      "\u001b[0;31m---------------------------------------------------------------------------\u001b[0m",
      "\u001b[0;31mValueError\u001b[0m                                Traceback (most recent call last)",
      "\u001b[0;32m<ipython-input-3-03aef070db2e>\u001b[0m in \u001b[0;36m<module>\u001b[0;34m()\u001b[0m\n\u001b[1;32m      1\u001b[0m \u001b[0;31m# Step 4: Merge them in Cytoscape\u001b[0m\u001b[0;34m\u001b[0m\u001b[0;34m\u001b[0m\u001b[0m\n\u001b[0;32m----> 2\u001b[0;31m \u001b[0myeast_net\u001b[0m\u001b[0;34m.\u001b[0m\u001b[0mupdate_node_table\u001b[0m\u001b[0;34m(\u001b[0m\u001b[0mdf\u001b[0m\u001b[0;34m=\u001b[0m\u001b[0mtable_data\u001b[0m\u001b[0;34m,\u001b[0m \u001b[0mnetwork_key_col\u001b[0m\u001b[0;34m=\u001b[0m\u001b[0;34m'name'\u001b[0m\u001b[0;34m)\u001b[0m\u001b[0;34m\u001b[0m\u001b[0m\n\u001b[0m\u001b[1;32m      3\u001b[0m \u001b[0;34m\u001b[0m\u001b[0m\n\u001b[1;32m      4\u001b[0m \u001b[0;31m# Step 5: Apply layout\u001b[0m\u001b[0;34m\u001b[0m\u001b[0;34m\u001b[0m\u001b[0m\n\u001b[1;32m      5\u001b[0m \u001b[0mcy\u001b[0m\u001b[0;34m.\u001b[0m\u001b[0mlayout\u001b[0m\u001b[0;34m.\u001b[0m\u001b[0mapply\u001b[0m\u001b[0;34m(\u001b[0m\u001b[0mname\u001b[0m\u001b[0;34m=\u001b[0m\u001b[0;34m'force-directed'\u001b[0m\u001b[0;34m,\u001b[0m \u001b[0mnetwork\u001b[0m\u001b[0;34m=\u001b[0m\u001b[0myeast_net\u001b[0m\u001b[0;34m)\u001b[0m\u001b[0;34m\u001b[0m\u001b[0m\n",
      "\u001b[0;32m/Users/kono/anaconda/lib/python3.4/site-packages/py2cytoscape/data/cynetwork.py\u001b[0m in \u001b[0;36mupdate_node_table\u001b[0;34m(self, df, network_key_col, data_key_col)\u001b[0m\n\u001b[1;32m    209\u001b[0m     def update_node_table(self, df=None, network_key_col='name',\n\u001b[1;32m    210\u001b[0m                           data_key_col=None):\n\u001b[0;32m--> 211\u001b[0;31m         \u001b[0;32mreturn\u001b[0m \u001b[0mself\u001b[0m\u001b[0;34m.\u001b[0m\u001b[0m__update_table\u001b[0m\u001b[0;34m(\u001b[0m\u001b[0;34m'node'\u001b[0m\u001b[0;34m,\u001b[0m \u001b[0mdf\u001b[0m\u001b[0;34m=\u001b[0m\u001b[0mdf\u001b[0m\u001b[0;34m,\u001b[0m \u001b[0mnetwork_key_col\u001b[0m\u001b[0;34m=\u001b[0m\u001b[0mnetwork_key_col\u001b[0m\u001b[0;34m,\u001b[0m \u001b[0mdata_key_col\u001b[0m\u001b[0;34m=\u001b[0m\u001b[0mdata_key_col\u001b[0m\u001b[0;34m)\u001b[0m\u001b[0;34m\u001b[0m\u001b[0m\n\u001b[0m\u001b[1;32m    212\u001b[0m \u001b[0;34m\u001b[0m\u001b[0m\n\u001b[1;32m    213\u001b[0m     def __update_table(self, type, df, network_key_col='name',\n",
      "\u001b[0;32m/Users/kono/anaconda/lib/python3.4/site-packages/py2cytoscape/data/cynetwork.py\u001b[0m in \u001b[0;36m__update_table\u001b[0;34m(self, type, df, network_key_col, data_key_col)\u001b[0m\n\u001b[1;32m    228\u001b[0m         \u001b[0;32mfor\u001b[0m \u001b[0mindex\u001b[0m\u001b[0;34m,\u001b[0m \u001b[0mrow\u001b[0m \u001b[0;32min\u001b[0m \u001b[0mdf\u001b[0m\u001b[0;34m.\u001b[0m\u001b[0miterrows\u001b[0m\u001b[0;34m(\u001b[0m\u001b[0;34m)\u001b[0m\u001b[0;34m:\u001b[0m\u001b[0;34m\u001b[0m\u001b[0m\n\u001b[1;32m    229\u001b[0m             \u001b[0mentry\u001b[0m \u001b[0;34m=\u001b[0m \u001b[0;34m{\u001b[0m\u001b[0;34m}\u001b[0m\u001b[0;34m\u001b[0m\u001b[0m\n\u001b[0;32m--> 230\u001b[0;31m             \u001b[0mentry\u001b[0m\u001b[0;34m[\u001b[0m\u001b[0;34m'index'\u001b[0m\u001b[0;34m]\u001b[0m \u001b[0;34m=\u001b[0m \u001b[0mint\u001b[0m\u001b[0;34m(\u001b[0m\u001b[0mindex\u001b[0m\u001b[0;34m)\u001b[0m\u001b[0;34m\u001b[0m\u001b[0m\n\u001b[0m\u001b[1;32m    231\u001b[0m \u001b[0;34m\u001b[0m\u001b[0m\n\u001b[1;32m    232\u001b[0m             \u001b[0;32mfor\u001b[0m \u001b[0mcol\u001b[0m \u001b[0;32min\u001b[0m \u001b[0mcol_names\u001b[0m\u001b[0;34m:\u001b[0m\u001b[0;34m\u001b[0m\u001b[0m\n",
      "\u001b[0;31mValueError\u001b[0m: invalid literal for int() with base 10: 'YAL003W'"
     ]
    }
   ],
   "source": [
    "# Step 4: Merge them in Cytoscape\n",
    "yeast_net.update_node_table(df=table_data, network_key_col='name')\n",
    "\n",
    "# Step 5: Apply layout\n",
    "cy.layout.apply(name='force-directed', network=yeast_net)\n",
    "\n",
    "# Step 6: Create Visual Style as code (or by hand if you prefer)\n",
    "my_yeast_style = cy.style.create('GAL Style')\n",
    "\n",
    "\n",
    "basic_settings = {\n",
    "    \n",
    "    # You can set default values as key-value pairs.\n",
    "    \n",
    "    'NODE_FILL_COLOR': '#6AACB8',\n",
    "    'NODE_SIZE': 55,\n",
    "    'NODE_BORDER_WIDTH': 0,\n",
    "    'NODE_LABEL_COLOR': '#555555',\n",
    "    \n",
    "    'EDGE_WIDTH': 2,\n",
    "    'EDGE_TRANSPARENCY': 100,\n",
    "    'EDGE_STROKE_UNSELECTED_PAINT': '#333333',\n",
    "    \n",
    "    'NETWORK_BACKGROUND_PAINT': '#FFFFEA'\n",
    "}\n",
    "\n",
    "my_yeast_style.update_defaults(basic_settings)\n",
    "\n",
    "# Create some mappings\n",
    "my_yeast_style.create_passthrough_mapping(column='label', vp='NODE_LABEL', col_type='String')\n",
    "\n",
    "degrees = yeast_net.get_node_column('Degree') \n",
    "color_gradient = StyleUtil.create_2_color_gradient(min=degrees.min(), max=degrees.max(), colors=('white', '#6AACB8'))\n",
    "degree_to_size = StyleUtil.create_slope(min=degrees.min(), max=degrees.max(), values=(10, 100))\n",
    "my_yeast_style.create_continuous_mapping(column='Degree', vp='NODE_FILL_COLOR', col_type='Integer', points=color_gradient)\n",
    "my_yeast_style.create_continuous_mapping(column='Degree', vp='NODE_SIZE', col_type='Integer', points=degree_to_size)\n",
    "my_yeast_style.create_continuous_mapping(column='Degree', vp='NODE_LABEL_FONT_SIZE', col_type='Integer', points=degree_to_size)\n",
    "\n",
    "cy.style.apply(my_yeast_style, yeast_net)\n",
    "\n",
    "# Step 7: (Optional) Embed as interactive Cytoscape.js widget\n",
    "yeast_net_view = yeast_net.get_first_view()\n",
    "style_for_widget = cy.style.get(my_yeast_style.get_name(), data_format='cytoscapejs')\n",
    "renderer.render(yeast_net_view, style=style_for_widget['style'], background='radial-gradient(#FFFFFF 15%, #DDDDDD 105%)')"
   ]
  },
  {
   "cell_type": "markdown",
   "metadata": {},
   "source": [
    "# Long Description\n",
    "From version 0.4.0, ___py2cytoscape___ has wrapper modules for [cyREST](http://apps.cytoscape.org/apps/cyrest) RESTful API.  This means you can access Cytoscape features in more _Pythonic_ way instead of calling raw REST API via HTTP.  \n",
    "\n",
    "\n",
    "## Features\n",
    "\n",
    "### Pandas for basic data exchange\n",
    "Since [pandas](http://pandas.pydata.org/) is a standard library for data mangling/analysis in Python, this new version uses its [DataFrame](http://pandas.pydata.org/pandas-docs/stable/generated/pandas.DataFrame.html#pandas.DataFrame) as its basic data object.\n",
    "\n",
    "### Embedded Cytoscaep.js Widget\n",
    "You can use Cytoscape.js widget to embed your final result as a part of your notebook.\n",
    "\n",
    "### Simpler Code to access Cytoscape\n",
    "cyREST provides language-agnostic RESTful API, but you need to use a lot of template code to access raw API.  Here is an example.  Both of the following do the same task, which is creating an empty network in Cytoscape.  You will notice it is significantly simpler if you use _py2cytoscape_ wrapper API.\n",
    "\n",
    "#### Raw cyREST"
   ]
  },
  {
   "cell_type": "code",
   "execution_count": null,
   "metadata": {
    "collapsed": false
   },
   "outputs": [],
   "source": [
    "# HTTP Client for Python\n",
    "import requests\n",
    "\n",
    "# Standard JSON library\n",
    "import json\n",
    "\n",
    "# Basic Setup\n",
    "PORT_NUMBER = 1234\n",
    "BASE = 'http://localhost:' + str(PORT_NUMBER) + '/v1/'\n",
    "\n",
    "# Header for posting data to the server as JSON\n",
    "HEADERS = {'Content-Type': 'application/json'}\n",
    "\n",
    "# Define dictionary of empty network\n",
    "empty_network = {\n",
    "        'data': {\n",
    "            'name': 'I\\'m empty!'\n",
    "        },\n",
    "        'elements': {\n",
    "            'nodes':[],\n",
    "            'edges':[]\n",
    "        }\n",
    "}\n",
    "\n",
    "res = requests.post(BASE + 'networks?collection=My%20Collection', data=json.dumps(empty_network), headers=HEADERS)\n",
    "new_network_id = res.json()['networkSUID']\n",
    "print('New network created with raw REST API.  Its SUID is ' + str(new_network_id))"
   ]
  },
  {
   "cell_type": "markdown",
   "metadata": {},
   "source": [
    "#### With py2cytoscape"
   ]
  },
  {
   "cell_type": "code",
   "execution_count": null,
   "metadata": {
    "collapsed": false
   },
   "outputs": [],
   "source": [
    "network = cy.network.create(name='My Network', collection='My network collection')\n",
    "print('New network created with py2cytoscape.  Its SUID is ' + str(network.get_id()))"
   ]
  },
  {
   "cell_type": "markdown",
   "metadata": {},
   "source": [
    "## Status\n",
    "\n",
    "As of 6/4/2015, this is still in alpha status and feature requests are always welcome.  If youi have questions or feature requests,  please send them to our Google Groups:\n",
    "\n",
    "* https://groups.google.com/forum/#!forum/cytoscape-discuss"
   ]
  },
  {
   "cell_type": "markdown",
   "metadata": {},
   "source": [
    "# Quick Tour of py2cytoscape Features\n",
    "\n",
    "----\n",
    "\n",
    "## Create a client object to connect to Cytoscape"
   ]
  },
  {
   "cell_type": "code",
   "execution_count": null,
   "metadata": {
    "collapsed": true
   },
   "outputs": [],
   "source": [
    "# Create an instance of cyREST client.  Default IP is 'localhost', and port number is 1234.\n",
    "# cy = CyRestClient() - This default constructor creates connection to http://localhost:1234/v1\n",
    "cy = CyRestClient(ip='127.0.0.1', port=1234)\n",
    "\n",
    "# Cleanup: Delete all existing networks and tables in current Cytoscape session\n",
    "cy.session.delete()"
   ]
  },
  {
   "cell_type": "markdown",
   "metadata": {},
   "source": [
    "## Creating empty networks"
   ]
  },
  {
   "cell_type": "code",
   "execution_count": null,
   "metadata": {
    "collapsed": true
   },
   "outputs": [],
   "source": [
    "# Empty network\n",
    "empty1 = cy.network.create()\n",
    "\n",
    "# With name\n",
    "empty2 = cy.network.create(name='Created in Jupyter Notebook')\n",
    "\n",
    "# With name and collection name\n",
    "empty3 = cy.network.create(name='Also created in Jupyter', collection='New network collection')"
   ]
  },
  {
   "cell_type": "markdown",
   "metadata": {},
   "source": [
    "## Load networks from files, URLs or web services"
   ]
  },
  {
   "cell_type": "code",
   "execution_count": null,
   "metadata": {
    "collapsed": false
   },
   "outputs": [],
   "source": [
    "# Load a single local file\n",
    "net_from_local2 = cy.network.create_from('../tests/data/galFiltered.json')\n",
    "net_from_local1 = cy.network.create_from('sample_yeast_network.xgmml', collection='My Collection')\n",
    "net_from_local2 = cy.network.create_from('../tests/data/galFiltered.gml', collection='My Collection')\n",
    "\n",
    "# Load from multiple locations\n",
    "network_locations = [\n",
    "    'sample_yeast_network.xgmml', # Local file\n",
    "    'http://chianti.ucsd.edu/cytoscape-data/galFiltered.sif', # Static file on a web server\n",
    "    'http://www.ebi.ac.uk/Tools/webservices/psicquic/intact/webservices/current/search/query/brca1?format=xml25' # or a web service\n",
    "]\n",
    "\n",
    "# This requrns Series\n",
    "networks = cy.network.create_from(network_locations)\n",
    "pd.DataFrame(networks, columns=['CyNetwork'])"
   ]
  },
  {
   "cell_type": "markdown",
   "metadata": {},
   "source": [
    "## Create networks from various types of data\n",
    "Currently, py2cytoscape accepts the following data as input:\n",
    "\n",
    "* Cytoscape.js\n",
    "* NetworkX\n",
    "* Pandas DataFrame\n",
    "\n",
    "\n",
    "* igraph (TBD)\n",
    "* Numpy adjacency matrix (binary or weighted) (TBD)\n",
    "* GraphX (TBD)"
   ]
  },
  {
   "cell_type": "code",
   "execution_count": null,
   "metadata": {
    "collapsed": false
   },
   "outputs": [],
   "source": [
    "# Cytoscape.js JSON\n",
    "n1 = cy.network.create(data=cyjs.get_empty_network(), name='Created from Cytoscape.js JSON')"
   ]
  },
  {
   "cell_type": "code",
   "execution_count": null,
   "metadata": {
    "collapsed": false
   },
   "outputs": [],
   "source": [
    "# Pandas DataFrame\n",
    "\n",
    "# Example 1: From a simple text table\n",
    "df_from_sif = pd.read_csv('../tests/data/galFiltered.sif', names=['source', 'interaction', 'target'], sep=' ')\n",
    "df_from_sif.head()"
   ]
  },
  {
   "cell_type": "code",
   "execution_count": null,
   "metadata": {
    "collapsed": false
   },
   "outputs": [],
   "source": [
    "# By default, it uses 'source' for source node column, 'target' for target node column, and 'interaction' for interaction\n",
    "yeast1 = cy.network.create_from_dataframe(df_from_sif, name='Yeast network created from pandas DataFrame')\n",
    "\n",
    "# Example 2: from more complicated table\n",
    "df_from_mitab = pd.read_csv('intact_pubid_22094256.txt', sep='\\t')\n",
    "df_from_mitab.head()"
   ]
  },
  {
   "cell_type": "code",
   "execution_count": null,
   "metadata": {
    "collapsed": true
   },
   "outputs": [],
   "source": [
    "source = df_from_mitab.columns[0]\n",
    "target = df_from_mitab.columns[1]\n",
    "interaction = 'Interaction identifier(s)'\n",
    "title='A Systematic Screen for CDK4/6 Substrates Links FOXM1 Phosphorylation to Senescence Suppression in Cancer Cells.'\n",
    "\n",
    "human1 = cy.network.create_from_dataframe(df_from_mitab, source_col=source, target_col=target, interaction_col=interaction, name=title)\n",
    "\n",
    "\n",
    "# Import edge attributes and node attributes at the same time (TBD)"
   ]
  },
  {
   "cell_type": "code",
   "execution_count": null,
   "metadata": {
    "collapsed": true
   },
   "outputs": [],
   "source": [
    "# NetworkX\n",
    "nx_graph  = nx.scale_free_graph(100)\n",
    "nx.set_node_attributes(nx_graph, 'Degree', nx.degree(nx_graph))\n",
    "nx.set_node_attributes(nx_graph, 'Betweenness_Centrality', nx.betweenness_centrality(nx_graph))\n",
    "scale_free100 = cy.network.create_from_networkx(nx_graph, collection='Generated by NetworkX')\n",
    "\n",
    "# TODO: igraph\n",
    "# TODO: Numpy adj. martix\n",
    "# TODO: GraphX"
   ]
  },
  {
   "cell_type": "markdown",
   "metadata": {},
   "source": [
    "## Get Network from Cytoscape\n",
    "\n",
    "You can get network data in the following forms:\n",
    "\n",
    "* Cytoscape.js\n",
    "* NetworkX\n",
    "* DataFrame"
   ]
  },
  {
   "cell_type": "code",
   "execution_count": null,
   "metadata": {
    "collapsed": true
   },
   "outputs": [],
   "source": [
    "# As Cytoscape.js (dict)\n",
    "yeast1_json = yeast1.to_json()\n",
    "\n",
    "# print(json.dumps(yeast1_json, indent=4))"
   ]
  },
  {
   "cell_type": "code",
   "execution_count": null,
   "metadata": {
    "collapsed": false
   },
   "outputs": [],
   "source": [
    "# As NetworkX graph object\n",
    "sf100 = scale_free100.to_networkx()\n",
    "\n",
    "num_nodes = sf100.number_of_nodes()\n",
    "num_edges = sf100.number_of_edges()\n",
    "\n",
    "print('Number of Nodes: ' + str(num_nodes))\n",
    "print('Number of Edges: ' + str(num_edges))"
   ]
  },
  {
   "cell_type": "code",
   "execution_count": null,
   "metadata": {
    "collapsed": false
   },
   "outputs": [],
   "source": [
    "# As a simple, SIF-like DataFrame\n",
    "yeast1_df = yeast1.to_dataframe()\n",
    "yeast1_df.head()"
   ]
  },
  {
   "cell_type": "markdown",
   "metadata": {},
   "source": [
    "## Working with CyNetwork API\n",
    "___CyNetwork___ class is a simple wrapper for network-related cyREST raw REST API.  __It does not hold the actual network data.  It's a reference to a network in current Cytoscape session__.  With CyNetwork API, you can access Cytoscape data objects in more Pythonista-friendly way."
   ]
  },
  {
   "cell_type": "code",
   "execution_count": null,
   "metadata": {
    "collapsed": false
   },
   "outputs": [],
   "source": [
    "network_suid = yeast1.get_id()\n",
    "print('This object references to Cytoscape network with SUID ' + str(network_suid) + '\\n')\n",
    "print('And its name is: ' + str(yeast1.get_network_value(column='name')) + '\\n')\n",
    "\n",
    "nodes = yeast1.get_nodes()\n",
    "edges = yeast1.get_edges()\n",
    "\n",
    "print('* This network has ' + str(len(nodes)) + ' nodes and ' + str(len(edges)) + ' edges\\n') \n",
    "\n",
    "# Get a row in the node table as pandas Series object\n",
    "node0 = nodes[0]\n",
    "row = yeast1.get_node_value(id=node0)\n",
    "print(row)\n",
    "\n",
    "# Or, pick one cell in the table\n",
    "cell = yeast1.get_node_value(id=node0, column='name')\n",
    "print('\\nThis node has name: ' + str(cell))"
   ]
  },
  {
   "cell_type": "markdown",
   "metadata": {},
   "source": [
    "### Get references from existing networks\n",
    "And of course, you can grab references to existing Cytoscape networks:"
   ]
  },
  {
   "cell_type": "code",
   "execution_count": null,
   "metadata": {
    "collapsed": false
   },
   "outputs": [],
   "source": [
    "# Create a new CyNetwork object from existing network\n",
    "network_ref1 = cy.network.create(suid=yeast1.get_id())\n",
    "\n",
    "# And they are considered as same objects.\n",
    "print(network_ref1 == yeast1)\n",
    "print(network_ref1.get_network_value(column='name'))"
   ]
  },
  {
   "cell_type": "markdown",
   "metadata": {},
   "source": [
    "## Tables as DataFrame\n",
    "Cytoscape has two main data types: ___Network___ and ___Table___.  Network is the graph topology, and Tables are properties for those graphs.  For simplicity, this library has access to three basic table objects:\n",
    "\n",
    "* Node Table\n",
    "* Edge Table\n",
    "* Network Table\n",
    "\n",
    "For 99% of your use cases, you can use these three to store properties.  Since [pandas](http://pandas.pydata.org/) is extremely useful to handle table data, default data type for tables is __DataFrame__.  However, you can also use other data types including:\n",
    "\n",
    "* Cytoscape.js style JSON\n",
    "* CSV\n",
    "* TSV\n",
    "* CX (TBD)"
   ]
  },
  {
   "cell_type": "code",
   "execution_count": null,
   "metadata": {
    "collapsed": false
   },
   "outputs": [],
   "source": [
    "# Get table  from Cytoscape\n",
    "node_table = scale_free100.get_node_table()\n",
    "edge_table = scale_free100.get_edge_table()\n",
    "network_table = scale_free100.get_network_table()\n",
    "node_table.head()"
   ]
  },
  {
   "cell_type": "code",
   "execution_count": null,
   "metadata": {
    "collapsed": false
   },
   "outputs": [],
   "source": [
    "network_table.transpose().head()"
   ]
  },
  {
   "cell_type": "code",
   "execution_count": null,
   "metadata": {
    "collapsed": false
   },
   "outputs": [],
   "source": [
    "names = scale_free100.get_node_column('Degree')\n",
    "print(names.head())\n",
    "\n",
    "# Node Column information.  \"name\" is the unique Index\n",
    "scale_free100.get_node_columns()"
   ]
  },
  {
   "cell_type": "markdown",
   "metadata": {},
   "source": [
    "## Edit Network Topology\n",
    "\n",
    "### Adding and deleteing nodes/edges"
   ]
  },
  {
   "cell_type": "code",
   "execution_count": null,
   "metadata": {
    "collapsed": false
   },
   "outputs": [],
   "source": [
    "# Add new nodes: Simply send the list of node names.  NAMES SHOULD BE UNIQUE!\n",
    "new_node_names = ['a', 'b', 'c']\n",
    "# Return value contains dictionary from name to SUID.\n",
    "new_nodes = scale_free100.add_nodes(new_node_names)\n",
    "\n",
    "# Add new edges\n",
    "# Send a list of tuples:  (source node SUID, target node SUID, interaction type\n",
    "new_edges = []\n",
    "new_edges.append((new_nodes['a'], new_nodes['b'], 'type1'))\n",
    "new_edges.append((new_nodes['a'], new_nodes['c'], 'type2'))\n",
    "new_edges.append((new_nodes['b'], new_nodes['c'], 'type3'))\n",
    "\n",
    "new_edge_ids = scale_free100.add_edges(new_edges)\n",
    "new_edge_ids"
   ]
  },
  {
   "cell_type": "code",
   "execution_count": null,
   "metadata": {
    "collapsed": true
   },
   "outputs": [],
   "source": [
    "# Delete node\n",
    "scale_free100.delete_node(new_nodes['a'])\n",
    "\n",
    "# Delete edge\n",
    "scale_free100.delete_edge(new_edge_ids.index[0])"
   ]
  },
  {
   "cell_type": "markdown",
   "metadata": {},
   "source": [
    "## Update Table\n",
    "Let's do something a bit more realistic.  You can update any Tables by using DataFrame objects.\n",
    "\n",
    "### 1. ID conversion with external service\n",
    "Let's use [ID Conversion web service by Uniprot](http://www.uniprot.org/help/programmatic_access) to add more information to existing yeast network in current session."
   ]
  },
  {
   "cell_type": "code",
   "execution_count": null,
   "metadata": {
    "collapsed": false
   },
   "outputs": [],
   "source": [
    "# Small utility function to convert ID sets\n",
    "import requests\n",
    "\n",
    "def uniprot_id_mapping_service(query=None, from_id=None, to_id=None):\n",
    "    # Uniprot ID Mapping service\n",
    "    url = 'http://www.uniprot.org/mapping/'\n",
    "    payload = {\n",
    "        'from': from_id,\n",
    "        'to': to_id,\n",
    "        'format':'tab',\n",
    "        'query': query\n",
    "    }\n",
    "    \n",
    "    res = requests.get(url, params=payload)\n",
    "    \n",
    "    df = pd.read_csv(res.url, sep='\\t')\n",
    "    res.close()\n",
    "    return df"
   ]
  },
  {
   "cell_type": "code",
   "execution_count": null,
   "metadata": {
    "collapsed": false
   },
   "outputs": [],
   "source": [
    "# Get node table from Cytoscape\n",
    "yeast_node_table = yeast1.get_node_table()\n",
    "\n",
    "# From KEGG ID to UniprotKB ID\n",
    "query1 = ' '.join(yeast_node_table['name'].map(lambda gene_id: 'sce:' + gene_id).values)\n",
    "id_map_kegg2uniprot = uniprot_id_mapping_service(query1, from_id='KEGG_ID', to_id='ID')\n",
    "id_map_kegg2uniprot.columns = ['kegg', 'uniprot']\n",
    "\n",
    "# From UniprotKB to SGD\n",
    "query2 = ' '.join(id_map_kegg2uniprot['uniprot'].values)\n",
    "id_map_uniprot2sgd = uniprot_id_mapping_service(query2, from_id='ID', to_id='SGD_ID')\n",
    "id_map_uniprot2sgd.columns = ['uniprot', 'sgd']\n",
    "\n",
    "# From UniprotKB to Entrez Gene ID\n",
    "query3 = ' '.join(id_map_kegg2uniprot['uniprot'].values)\n",
    "id_map_uniprot2ncbi = uniprot_id_mapping_service(query3, from_id='ID', to_id='P_ENTREZGENEID')\n",
    "id_map_uniprot2ncbi.columns = ['uniprot', 'entrez']\n",
    "\n",
    "# Merge them\n",
    "merged = pd.merge(id_map_kegg2uniprot, id_map_uniprot2sgd, on='uniprot')\n",
    "merged = pd.merge(merged, id_map_uniprot2ncbi, on='uniprot')\n",
    "\n",
    "# Add key column by removing prefix\n",
    "merged['name'] = merged['kegg'].map(lambda kegg_id : kegg_id[4:])\n",
    "merged.head()"
   ]
  },
  {
   "cell_type": "code",
   "execution_count": null,
   "metadata": {
    "collapsed": false
   },
   "outputs": [],
   "source": [
    "update_url = BASE + 'networks/' + str(yeast1.get_id()) + '/tables/defaultnode'\n",
    "print(update_url)\n",
    "\n",
    "ut = {\n",
    "    'key': 'name',\n",
    "    'dataKey': 'name',\n",
    "    'data': [\n",
    "        {\n",
    "            'name': 'YBR112C',\n",
    "            'foo': 'aaaaaaaa'\n",
    "        }\n",
    "    ]\n",
    "}\n",
    "\n",
    "requests.put(update_url, json=ut, headers=HEADERS)"
   ]
  },
  {
   "cell_type": "code",
   "execution_count": null,
   "metadata": {
    "collapsed": false
   },
   "outputs": [],
   "source": [
    "# Now update existing node table with the data frame above.\n",
    "yeast1.update_node_table(merged, network_key_col='name', data_key_col='name')\n",
    "\n",
    "# Check the table is actually updated\n",
    "yeast1.get_node_table().head()"
   ]
  },
  {
   "cell_type": "markdown",
   "metadata": {},
   "source": [
    "## Create / Delete Table Data\n",
    "Currently, ___you cannot delete the table or rows___ due to the Cytoscape data model design.  However, it is easy to create / delete columns:"
   ]
  },
  {
   "cell_type": "code",
   "execution_count": null,
   "metadata": {
    "collapsed": false
   },
   "outputs": [],
   "source": [
    "# Delete columns\n",
    "yeast1.delete_node_table_column('kegg')\n",
    "\n",
    "# Create columns\n",
    "yeast1.create_node_column(name='New Empty Double Column', data_type='Double', is_immutable=False, is_list=False)\n",
    "\n",
    "# Default is String, mutable column.\n",
    "yeast1.create_node_column(name='Empty String Col')\n",
    "\n",
    "yeast1.get_node_table().head()"
   ]
  },
  {
   "cell_type": "markdown",
   "metadata": {},
   "source": [
    "## Visual Styles\n",
    "You can also use wrapper API to access Visual Styles.\n",
    "\n",
    "Current limitations are:\n",
    "\n",
    "* You need to use unique name for the Styles\n",
    "* Need to know how to write serialized form of objects"
   ]
  },
  {
   "cell_type": "code",
   "execution_count": null,
   "metadata": {
    "collapsed": false
   },
   "outputs": [],
   "source": [
    "# Get all existing Visual Styles\n",
    "import json\n",
    "styles = cy.style.get_all()\n",
    "print(json.dumps(styles, indent=4))\n",
    "\n",
    "# Create a new style\n",
    "style1 = cy.style.create('sample_style1')\n",
    "\n",
    "# Get a reference to the existing style\n",
    "default_style = cy.style.create('default')\n",
    "\n",
    "print(style1.get_name())\n",
    "print(default_style.get_name())\n",
    "\n",
    "# Get all available Visual Properties\n",
    "print(len(cy.style.vps.get_all()))\n",
    "\n",
    "# Get  Visual Properties for each data type\n",
    "node_vps = cy.style.vps.get_node_visual_props()\n",
    "edge_vps = cy.style.vps.get_edge_visual_props()\n",
    "network_vps = cy.style.vps.get_network_visual_props()\n",
    "\n",
    "print(pd.Series(edge_vps).head())"
   ]
  },
  {
   "cell_type": "markdown",
   "metadata": {},
   "source": [
    "### Set default values\n",
    "To set default values for Visual Properties, simply pass key-value pairs as dictionary."
   ]
  },
  {
   "cell_type": "code",
   "execution_count": null,
   "metadata": {
    "collapsed": true
   },
   "outputs": [],
   "source": [
    "# Prepare key-value pair for Style defaults\n",
    "\n",
    "new_defaults = {\n",
    "    # Node defaults\n",
    "    'NODE_FILL_COLOR': '#eeeeff',\n",
    "    'NODE_SIZE': 20,\n",
    "    'NODE_BORDER_WIDTH': 0,\n",
    "    'NODE_TRANSPARENCY': 120,\n",
    "    'NODE_LABEL_COLOR': 'white',\n",
    "    \n",
    "    # Edge defaults\n",
    "    'EDGE_WIDTH': 3,\n",
    "    'EDGE_STROKE_UNSELECTED_PAINT': '#aaaaaa',\n",
    "    'EDGE_LINE_TYPE': 'LONG_DASH',\n",
    "    'EDGE_TRANSPARENCY': 120,\n",
    "    \n",
    "    # Network defaults\n",
    "    'NETWORK_BACKGROUND_PAINT': 'black'\n",
    "}\n",
    "\n",
    "# Update\n",
    "style1.update_defaults(new_defaults)\n",
    "\n",
    "# Apply the new style\n",
    "cy.style.apply(style1, yeast1)"
   ]
  },
  {
   "cell_type": "markdown",
   "metadata": {},
   "source": [
    "### Visual Mappings"
   ]
  },
  {
   "cell_type": "code",
   "execution_count": null,
   "metadata": {
    "collapsed": true
   },
   "outputs": [],
   "source": [
    "# Passthrough mapping\n",
    "style1.create_passthrough_mapping(column='name', col_type='String', vp='NODE_LABEL')\n",
    "\n",
    "# Discrete mapping: Simply prepare key-value pairs and send it\n",
    "kv_pair = {\n",
    "    'pp': 'pink',\n",
    "    'pd': 'green'\n",
    "}\n",
    "style1.create_discrete_mapping(column='interaction', \n",
    "                               col_type='String', vp='EDGE_STROKE_UNSELECTED_PAINT', mappings=kv_pair)\n",
    "\n",
    "# Continuous mapping\n",
    "points = [\n",
    "    {\n",
    "        'value': '1.0',\n",
    "        'lesser':'white',\n",
    "        'equal':'white',\n",
    "        'greater': 'white'\n",
    "    },\n",
    "    {\n",
    "        'value': '20.0',\n",
    "        'lesser':'green',\n",
    "        'equal':'green',\n",
    "        'greater': 'green'\n",
    "    }\n",
    "]\n",
    "\n",
    "minimal_style = cy.style.create('Minimal')\n",
    "minimal_style.create_continuous_mapping(column='Degree', col_type='Double', vp='NODE_FILL_COLOR', points=points)\n",
    "\n",
    "# Or, use utility for simple mapping\n",
    "simple_slope = StyleUtil.create_slope(min=1, max=20, values=(10, 60))\n",
    "minimal_style.create_continuous_mapping(column='Degree', col_type='Double', vp='NODE_SIZE', points=simple_slope)\n",
    "\n",
    "# Apply the new style\n",
    "cy.style.apply(minimal_style, scale_free100)"
   ]
  },
  {
   "cell_type": "markdown",
   "metadata": {},
   "source": [
    "## Layouts\n",
    "Currently, this supports automatic layouts with default parameters."
   ]
  },
  {
   "cell_type": "code",
   "execution_count": null,
   "metadata": {
    "collapsed": false
   },
   "outputs": [],
   "source": [
    "# Get list of available layout algorithms\n",
    "layouts = cy.layout.get_all()\n",
    "print(json.dumps(layouts, indent=4))"
   ]
  },
  {
   "cell_type": "code",
   "execution_count": null,
   "metadata": {
    "collapsed": false
   },
   "outputs": [],
   "source": [
    "# Apply layout\n",
    "cy.layout.apply(name='circular', network=yeast1)\n",
    "\n",
    "yeast1.get_views()\n",
    "yeast_view1 = yeast1.get_first_view()\n",
    "node_views = yeast_view1['elements']['nodes']\n",
    "df3 = pd.DataFrame(node_views)\n",
    "df3.head()"
   ]
  },
  {
   "cell_type": "markdown",
   "metadata": {},
   "source": [
    "## Embed Interactive Widget"
   ]
  },
  {
   "cell_type": "code",
   "execution_count": null,
   "metadata": {
    "collapsed": false
   },
   "outputs": [],
   "source": [
    "from py2cytoscape.cytoscapejs import viewer as cyjs\n",
    "cy.layout.apply(network=scale_free100)\n",
    "view1 = scale_free100.get_first_view()\n",
    "view2 = yeast1.get_first_view()\n",
    "# print(view1)\n",
    "cyjs.render(view2, 'default2', background='#efefef')"
   ]
  },
  {
   "cell_type": "code",
   "execution_count": null,
   "metadata": {
    "collapsed": false
   },
   "outputs": [],
   "source": [
    "# Use Cytoscape.js style JSON\n",
    "cyjs_style = cy.style.get(minimal_style.get_name(), data_format='cytoscapejs')\n",
    "cyjs.render(view1, style=cyjs_style['style'], background='white')"
   ]
  },
  {
   "cell_type": "code",
   "execution_count": null,
   "metadata": {
    "collapsed": true
   },
   "outputs": [],
   "source": []
  }
 ],
 "metadata": {
  "kernelspec": {
   "display_name": "Python 3",
   "language": "python",
   "name": "python3"
  },
  "language_info": {
   "codemirror_mode": {
    "name": "ipython",
    "version": 3
   },
   "file_extension": ".py",
   "mimetype": "text/x-python",
   "name": "python",
   "nbconvert_exporter": "python",
   "pygments_lexer": "ipython3",
   "version": "3.4.3"
  }
 },
 "nbformat": 4,
 "nbformat_minor": 0
}
