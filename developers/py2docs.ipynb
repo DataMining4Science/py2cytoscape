{
 "cells": [
  {
   "cell_type": "code",
   "execution_count": 1,
   "metadata": {},
   "outputs": [],
   "source": [
    "import os\n",
    "import re\n",
    "import sys"
   ]
  },
  {
   "cell_type": "code",
   "execution_count": 2,
   "metadata": {},
   "outputs": [],
   "source": [
    "cyrest_folder=\"/Users/jboucas/py2cytoscape/py2cytoscape/cyrest/\"\n",
    "docs_folder=\"/Users/jboucas/py2cytoscape/docs/cyrest/\""
   ]
  },
  {
   "cell_type": "code",
   "execution_count": 3,
   "metadata": {},
   "outputs": [
    {
     "data": {
      "text/plain": [
       "['diffusion.py',\n",
       " 'vizmap.py',\n",
       " 'idmapper.py',\n",
       " 'command.py',\n",
       " 'edge.py',\n",
       " 'cybrowser.py',\n",
       " 'layout.py',\n",
       " 'session.py',\n",
       " 'view.py',\n",
       " 'network.py',\n",
       " 'group.py',\n",
       " 'table.py',\n",
       " 'node.py',\n",
       " 'commands.py']"
      ]
     },
     "execution_count": 3,
     "metadata": {},
     "output_type": "execute_result"
    }
   ],
   "source": [
    "files=os.listdir(cyrest_folder)\n",
    "no_files=[\"cyrest.py\",\"__init__.py\",'base.py']\n",
    "files=[ s for s in files if s not in no_files ]\n",
    "files=[ s for s in files if \"pyc\" not in s ]\n",
    "files"
   ]
  },
  {
   "cell_type": "code",
   "execution_count": 7,
   "metadata": {},
   "outputs": [
    {
     "name": "stdout",
     "output_type": "stream",
     "text": [
      "table.py\n",
      "table\n"
     ]
    }
   ],
   "source": [
    "for f in [\"table.py\"]:\n",
    "    print f\n",
    "    sys.stdout.flush()\n",
    "    functions={}\n",
    "    mainspace=f.split(\".\")[0]\n",
    "    print mainspace\n",
    "    with open(cyrest_folder+f, \"r\") as fin:\n",
    "        funcstring=None\n",
    "        for l in fin:\n",
    "            l_=l.rstrip(\"\\n\")\n",
    "            if (\"    def \" in l_) & (\"__\" not in l_):\n",
    "                fname=re.search('def (.*)\\(', l_)\n",
    "                fname=fname.group(1)\n",
    "                func_title=\"## ***cyclient.%s.%s***\" %(mainspace,fname)\n",
    "                #print l_\n",
    "                if \"\\\\\" not in l_:\n",
    "                    func=re.search('def (.*):', l_)\n",
    "                    func=func.group(1)\n",
    "                    func=\"**`cyclient.%s.%s`**\" %(mainspace,func)\n",
    "                    functions[fname]={'title':func_title,'func':func}\n",
    "                else:\n",
    "                    funcstring=l_.strip(\"\\\\\")\n",
    "                    \n",
    "            elif funcstring:\n",
    "                funcstring=funcstring+l_\n",
    "                if \":\" in funcstring:\n",
    "                    func=re.search('def (.*):', funcstring)\n",
    "                    func=func.group(1)\n",
    "                    \n",
    "                    funcstring=None    \n",
    "                    func=\"**`cyclient.%s.%s`**\" %(mainspace,func)\n",
    "                    functions[fname]={'title':func_title,'func':func}\n",
    "        \n",
    "    \n",
    "    with open(cyrest_folder+f, \"r\") as fin:\n",
    "        collect=False\n",
    "        doc=[]\n",
    "        function_found=False\n",
    "        for l in fin:\n",
    "            l_=l.rstrip(\"\\n\")\n",
    "            if (\"    def \" in l_) & (\"__\" not in l_):\n",
    "                fname=re.search('def (.*)\\(', l_)\n",
    "                fname=fname.group(1)\n",
    "                func_title=\"## ***cyclient.%s.%s***\" %(mainspace,fname) \n",
    "                function_found=True\n",
    "            if ('\"\"\"' in l_ ) & (len( [s for s in doc if '\"\"\"' in s ]) == 0 ) & (function_found):\n",
    "                collect=True\n",
    "            if ('\"\"\"' in l_ ) & (len([s for s in doc if '\"\"\"' in s ]) == 1  ) & (function_found):\n",
    "                functions[fname][\"docs\"]=doc\n",
    "                doc=[]\n",
    "                collect=False\n",
    "            if (collect) & (function_found):\n",
    "                doc.append( l_.rstrip(\"\\n\") )\n",
    "    \n",
    "    with open(docs_folder+f.replace(\".py\", \".md\"), \"w\") as fout:\n",
    "                     \n",
    "        for docf in functions.keys():\n",
    "\n",
    "            doc_=functions[docf][\"docs\"][1:]\n",
    "\n",
    "            collect=True\n",
    "            description=[]\n",
    "            for s in doc_:\n",
    "                if (\":param\" not in s) & (collect==True):\n",
    "                    desc=s.strip(\" \")\n",
    "                    if len(desc) > 0:\n",
    "                        description.append(desc)\n",
    "                elif \":param\" in s:\n",
    "                    collect=False\n",
    "            \n",
    "            description=\"\\n\".join(description)\n",
    "\n",
    "            params=[]\n",
    "            params_={}\n",
    "            pname=None\n",
    "            for p in doc_:\n",
    "                if \":param \" in p:\n",
    "                    pname=re.search(':param (.*):', p)\n",
    "                    pname=pname.group(1)\n",
    "                    params.append(pname)\n",
    "                    pdesc=p.split(\"%s:\"%pname)[-1].strip(\" \")\n",
    "                    params_[pname]=pdesc\n",
    "                elif pname:\n",
    "                    pdesc=params_[pname]\n",
    "                    pdesc=pdesc+\"\\n\"+p.strip(\" \")\n",
    "                    params_[pname]=pdesc\n",
    "            params_text=[]\n",
    "            for p in params:\n",
    "                text=\"* **`%s`** %s\" %(p, params_[p])\n",
    "                params_text.append(text)\n",
    "\n",
    "\n",
    "            ftitle=functions[docf][\"title\"]\n",
    "            func=functions[docf][\"func\"]\n",
    "            docs_text=ftitle+\"\\n\\n\"+func+\"\\n\\n\"+description+\"\\n\\n\"+\"\\n\".join(params_text)+\"\\n\\n___\\n\\n\"\n",
    "            docs_text=docs_text.replace(\":returns:\", \"* **`returns`**\")\n",
    "            \n",
    "            print docs_text\n",
    "        \n",
    "            fout.write(docs_text)"
   ]
  },
  {
   "cell_type": "code",
   "execution_count": null,
   "metadata": {},
   "outputs": [],
   "source": []
  }
 ],
 "metadata": {
  "kernelspec": {
   "display_name": "Python 2",
   "language": "python",
   "name": "python2"
  },
  "language_info": {
   "codemirror_mode": {
    "name": "ipython",
    "version": 2
   },
   "file_extension": ".py",
   "mimetype": "text/x-python",
   "name": "python",
   "nbconvert_exporter": "python",
   "pygments_lexer": "ipython2",
   "version": "2.7.10"
  }
 },
 "nbformat": 4,
 "nbformat_minor": 2
}
